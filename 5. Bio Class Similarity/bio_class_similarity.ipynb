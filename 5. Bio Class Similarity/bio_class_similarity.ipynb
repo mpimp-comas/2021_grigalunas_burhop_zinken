{
 "cells": [
  {
   "cell_type": "markdown",
   "metadata": {},
   "source": [
    "# Class-Based Biological Similarities\n",
    "\n",
    "Calculate class-based similarities of the Cell Painting Assay (CPA) profiles.  \n",
    "The profiles have a length of 579 features (all columns starting with `Median_`) and are compared by Distance Correlation (`scipy.spatial.distance`).  \n",
    "The Similarity is then (1 - Distance Correlation). Negative values are set to zero.  \n",
    "The Similarity is expressed in percent.  \n",
    "In addition, the Cell Painting data contains an Induction parameter, which describes the percentage of significantly changed features in the profile (i.e. the percentage of features with abs. values &ge; 3.0).  \n",
    "This parameter is used to estimate the extent to which the morphological profile is changed compared to the controls.\n",
    "\n",
    "More details can be found in the SI of the paper."
   ]
  },
  {
   "cell_type": "code",
   "execution_count": 1,
   "metadata": {
    "ExecuteTime": {
     "end_time": "2020-12-04T13:51:46.481689Z",
     "start_time": "2020-12-04T13:51:45.453758Z"
    },
    "init_cell": true
   },
   "outputs": [],
   "source": [
    "%reload_ext autoreload\n",
    "%autoreload 2\n",
    "def warn(*args, **kwargs):\n",
    "    pass  # to silence scikit-learn warnings\n",
    "\n",
    "import warnings\n",
    "warnings.filterwarnings('ignore')\n",
    "warnings.warn = warn\n",
    "\n",
    "# Stdlib Imports\n",
    "from pathlib import Path\n",
    "import sys\n",
    "import functools\n",
    "\n",
    "# Global package Imports\n",
    "import pandas as pd\n",
    "import numpy as np\n",
    "from scipy.stats import median_absolute_deviation as mad\n",
    "\n",
    "import matplotlib.pyplot as plt\n",
    "import seaborn as sns\n",
    "\n",
    "from IPython.core.interactiveshell import InteractiveShell\n",
    "InteractiveShell.ast_node_interactivity = \"all\"\n",
    "\n",
    "# Project-local Imports\n",
    "PROJECT_DIR = list(Path(\"..\").absolute().parents)[1]\n",
    "sys.path.append(str(PROJECT_DIR))\n",
    "import plt_style\n",
    "import cpa\n",
    "import utils as u\n",
    "from utils import lp"
   ]
  },
  {
   "cell_type": "code",
   "execution_count": 3,
   "metadata": {
    "ExecuteTime": {
     "end_time": "2020-12-04T13:48:47.483182Z",
     "start_time": "2020-12-04T13:48:47.456738Z"
    }
   },
   "outputs": [],
   "source": [
    "def class_sim(df, list1, list2=None):  # lists of Well_Ids\n",
    "    result = []\n",
    "    if list2 is None: # comparison within one class\n",
    "        last_index = len(list1) - 1\n",
    "    else:\n",
    "        last_index = len(list1)\n",
    "    for idx1, w_id1 in enumerate(list1[:last_index]):\n",
    "        if list2 is None:\n",
    "            for w_id2 in list1[idx1+1:]:\n",
    "                if w_id1 == w_id2: continue\n",
    "                result.append(cpa.well_id_similarity(df, w_id1, w_id2))\n",
    "        else:\n",
    "            for w_id2 in list2:\n",
    "                if w_id1 == w_id2: continue\n",
    "                result.append(cpa.well_id_similarity(df, w_id1, w_id2))\n",
    "    return result"
   ]
  },
  {
   "cell_type": "code",
   "execution_count": 4,
   "metadata": {
    "ExecuteTime": {
     "end_time": "2020-12-04T13:48:47.640026Z",
     "start_time": "2020-12-04T13:48:47.489327Z"
    }
   },
   "outputs": [
    {
     "name": "stdout",
     "output_type": "stream",
     "text": [
      "bio_class_comp_well_ids.tsv\n",
      "cell_painting_data.tsv\n",
      "chembl_26_natprot_ids_only.tsv\n",
      "chembl_np_std_np_scout_values_only.tsv\n",
      "drugbank_sample_100.tsv\n",
      "drugbank_std_np_scout_values_only.tsv\n",
      "drugbank_std_subset_np_scout_values_only.tsv\n",
      "internal_cpds_mc.tsv\n",
      "internal_cpds_old_cpd_class.tsv\n",
      "internal_cpds_std_np_scout.tsv\n",
      "internal_cpds_std_np_scout_values_only.tsv\n",
      "internal_cpds_std.tsv\n",
      "internal_cpds.tsv\n",
      "README.md\n"
     ]
    }
   ],
   "source": [
    "input_dir = \"../Input Data\"\n",
    "!ls \"$input_dir\""
   ]
  },
  {
   "cell_type": "markdown",
   "metadata": {},
   "source": [
    "## Load Well_Ids"
   ]
  },
  {
   "cell_type": "code",
   "execution_count": 5,
   "metadata": {
    "ExecuteTime": {
     "end_time": "2020-12-04T13:48:47.694544Z",
     "start_time": "2020-12-04T13:48:47.650981Z"
    },
    "scrolled": true
   },
   "outputs": [
    {
     "name": "stdout",
     "output_type": "stream",
     "text": [
      "Shape Well Ids                                    :        196 /    3  [ Well_Id, CpdClass, Group ]  \n"
     ]
    }
   ],
   "source": [
    "well_ids = pd.read_csv(f\"{input_dir}/bio_class_comp_well_ids.tsv\", sep=\"\\t\")\n",
    "lp(well_ids, \"Well Ids\")"
   ]
  },
  {
   "cell_type": "markdown",
   "metadata": {},
   "source": [
    "## Merge Cell Painting Data"
   ]
  },
  {
   "cell_type": "code",
   "execution_count": 6,
   "metadata": {
    "ExecuteTime": {
     "end_time": "2020-12-04T13:48:47.805363Z",
     "start_time": "2020-12-04T13:48:47.697109Z"
    }
   },
   "outputs": [],
   "source": [
    "cp_data = pd.read_csv(f\"{input_dir}/cell_painting_data.tsv\", sep=\"\\t\")"
   ]
  },
  {
   "cell_type": "code",
   "execution_count": 7,
   "metadata": {
    "ExecuteTime": {
     "end_time": "2020-12-04T13:48:47.842847Z",
     "start_time": "2020-12-04T13:48:47.807350Z"
    }
   },
   "outputs": [
    {
     "name": "stdout",
     "output_type": "stream",
     "text": [
      "Shape Merged CP data                              :        196 /  595  \n"
     ]
    }
   ],
   "source": [
    "df_org = pd.merge(well_ids, cp_data, on=\"Well_Id\", how=\"inner\")\n",
    "lp(df_org, \"Merged CP data\")"
   ]
  },
  {
   "cell_type": "code",
   "execution_count": null,
   "metadata": {},
   "outputs": [],
   "source": []
  },
  {
   "cell_type": "markdown",
   "metadata": {},
   "source": [
    "## Calculate Biological Class Similarities by Group"
   ]
  },
  {
   "cell_type": "code",
   "execution_count": 8,
   "metadata": {
    "ExecuteTime": {
     "end_time": "2020-12-04T13:48:47.869965Z",
     "start_time": "2020-12-04T13:48:47.846314Z"
    }
   },
   "outputs": [
    {
     "name": "stdout",
     "output_type": "stream",
     "text": [
      "['QD', 'QN', 'Sinomenine', 'Sub-classes']\n"
     ]
    }
   ],
   "source": [
    "groups = sorted(df_org[\"Group\"].unique())\n",
    "print(groups)"
   ]
  },
  {
   "cell_type": "code",
   "execution_count": null,
   "metadata": {
    "ExecuteTime": {
     "end_time": "2020-12-04T13:49:11.788756Z",
     "start_time": "2020-12-04T13:48:47.875317Z"
    }
   },
   "outputs": [],
   "source": [
    "for group in groups:\n",
    "    print(group, \":\")\n",
    "    df_tmp = df_org[df_org[\"Group\"] == group].copy()\n",
    "    cpd_classes = sorted(df_tmp[\"CpdClass\"].unique())\n",
    "    /lp \"df_tmp\"\n",
    "    series_cpd_class1 = []\n",
    "    series_cpd_class2 = []\n",
    "    series_sim = []\n",
    "    for idx1, cpd_class1 in enumerate(cpd_classes):\n",
    "        for cpd_class2 in cpd_classes[idx1:]:\n",
    "            list1 = list(df_tmp[df_tmp[\"CpdClass\"] == cpd_class1][\"Well_Id\"].values)\n",
    "            list2 = list(df_tmp[df_tmp[\"CpdClass\"] == cpd_class2][\"Well_Id\"].values)\n",
    "            sims = class_sim(df_tmp, list1, list2)\n",
    "            series_cpd_class1.extend([cpd_class1] * len(sims))\n",
    "            series_cpd_class2.extend([cpd_class2] * len(sims))\n",
    "            series_sim.extend(sims)\n",
    "\n",
    "    df_sim_inter = pd.DataFrame({\"CpdClass1\": series_cpd_class1, \"CpdClass2\": series_cpd_class2, \"BioSim\": series_sim})\n",
    "    df_sim_inter.to_csv(f\"results/biosim_inter_{group}.tsv\", sep=\"\\t\", index=False)\n",
    "    \n",
    "    df_sim_inter_grp = df_sim_inter.groupby(by=[\"CpdClass1\", \"CpdClass2\"]).agg([np.median, mad]).reset_index()\n",
    "    df_sim_inter_grp.columns = df_sim_inter_grp.columns.map('_'.join)\n",
    "    df_sim_inter_grp = df_sim_inter_grp.rename(columns={\"CpdClass1_\": \"CpdClass1\", \"CpdClass2_\": \"CpdClass2\"})\n",
    "    df_sim_inter_grp.to_csv(f\"results/biosim_inter_grp_{group}.tsv\", sep=\"\\t\", index=False)\n",
    "\n",
    "    tmp = df_sim_inter_grp.copy()\n",
    "    tmp[\"BioSim_median\"] = tmp[\"BioSim_median\"] * 100\n",
    "    tmp = tmp.pivot(\"CpdClass1\", \"CpdClass2\", \"BioSim_median\")\n",
    "    x_size = max(3, 2 + len(cpd_classes))\n",
    "    y_size = max(1.5, 0.5 + len(cpd_classes) * 0.7)\n",
    "    print(f\"Size: {x_size} / {y_size}\")\n",
    "    fs = (x_size, y_size)\n",
    "    # plt.rcParams['axes.titlesize'] = 25\n",
    "    f, ax = plt.subplots(figsize=fs)\n",
    "    hm = sns.heatmap(tmp, annot=True, fmt=\".0f\", linewidths=.5, annot_kws={\"size\": 16}, cmap=\"YlGnBu\", vmin=0.0, vmax=100.0, ax=ax)\n",
    "    hm.invert_yaxis()\n",
    "    hm.set_xticklabels(hm.get_xticklabels(), rotation=45, horizontalalignment='right')\n",
    "    hm.set_yticklabels(hm.get_yticklabels(), rotation=0)\n",
    "    hm.set_title(\"Inter-Class Biol. Sim. [%]\", pad=20)\n",
    "    fig = hm.get_figure()\n",
    "    fig.savefig(f\"plots/bio_sim_inter_{group}.png\", bbox_inches='tight');"
   ]
  },
  {
   "cell_type": "code",
   "execution_count": null,
   "metadata": {},
   "outputs": [],
   "source": []
  },
  {
   "cell_type": "code",
   "execution_count": null,
   "metadata": {},
   "outputs": [],
   "source": []
  },
  {
   "cell_type": "code",
   "execution_count": null,
   "metadata": {},
   "outputs": [],
   "source": []
  }
 ],
 "metadata": {
  "hide_input": false,
  "kernelspec": {
   "display_name": "Python 3",
   "language": "python",
   "name": "python3"
  },
  "language_info": {
   "codemirror_mode": {
    "name": "ipython",
    "version": 3
   },
   "file_extension": ".py",
   "mimetype": "text/x-python",
   "name": "python",
   "nbconvert_exporter": "python",
   "pygments_lexer": "ipython3",
   "version": "3.8.6"
  },
  "notify_time": "5",
  "toc": {
   "base_numbering": 1,
   "nav_menu": {},
   "number_sections": true,
   "sideBar": true,
   "skip_h1_title": true,
   "title_cell": "Table of Contents",
   "title_sidebar": "Contents",
   "toc_cell": false,
   "toc_position": {},
   "toc_section_display": true,
   "toc_window_display": false
  }
 },
 "nbformat": 4,
 "nbformat_minor": 4
}
