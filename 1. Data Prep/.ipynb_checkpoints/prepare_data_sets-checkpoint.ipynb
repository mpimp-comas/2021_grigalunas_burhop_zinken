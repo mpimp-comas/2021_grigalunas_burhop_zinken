{
 "cells": [
  {
   "cell_type": "markdown",
   "metadata": {},
   "source": [
    "# Prepare Data Sets\n",
    "\n",
    "Prepare the necessary reference data set.\n",
    "\n",
    "1. Natural products from ChEMBL (ChEMBL NPs)\n",
    "2. Approved and experimental drugs from DrugBank (DrugBank)\n",
    "3. Advanced Screening Collection (Enamine)"
   ]
  },
  {
   "cell_type": "code",
   "execution_count": 2,
   "metadata": {
    "ExecuteTime": {
     "end_time": "2020-12-07T16:33:49.480853Z",
     "start_time": "2020-12-07T16:33:49.456734Z"
    },
    "init_cell": true
   },
   "outputs": [],
   "source": [
    "%reload_ext autoreload\n",
    "%autoreload 2\n",
    "# def warn(*args, **kwargs):\n",
    "# warn    pass  # to silence scikit-learn warnings\n",
    "\n",
    "import warnings\n",
    "warnings.filterwarnings('ignore')\n",
    "# warnings.warn = warn\n",
    "\n",
    "# Global Imports\n",
    "# from collections import Counter\n",
    "# import glob\n",
    "from pathlib import Path\n",
    "import sys\n",
    "\n",
    "import pandas as pd\n",
    "import numpy as np\n",
    "# from pandarallel import pandarallel\n",
    "# pandarallel.initialize()\n",
    "\n",
    "# from scipy.stats import median_absolute_deviation as mad\n",
    "\n",
    "from rdkit import DataStructs\n",
    "from rdkit.Chem import AllChem as Chem\n",
    "# from rdkit.Chem import Draw\n",
    "from rdkit.Chem.Draw import IPythonConsole\n",
    "\n",
    "import matplotlib.pyplot as plt\n",
    "import seaborn as sns\n",
    "\n",
    "from IPython.core.interactiveshell import InteractiveShell\n",
    "InteractiveShell.ast_node_interactivity = \"all\"\n",
    "\n",
    "# Project-local Imports\n",
    "PROJECT_DIR = list(Path(\"..\").absolute().parents)[1]\n",
    "sys.path.append(str(PROJECT_DIR))\n",
    "import plt_style\n",
    "import utils as u\n",
    "from utils import lp\n",
    "\n",
    "Path(\"../tmp\").mkdir(exist_ok=True)"
   ]
  },
  {
   "cell_type": "markdown",
   "metadata": {},
   "source": [
    "## ChEMBL NP\n",
    "\n",
    "Two versions of ChEMBL26 were downloaded from the FTP server (http://ftp.ebi.ac.uk/pub/databases/chembl/ChEMBLdb/releases/chembl_26/) on 25-Mar-2020:\n",
    "\n",
    "* `chembl_26_postgresql.tar.gz`\n",
    "* `chembl_26.sdf.gz`\n",
    "\n",
    "The PostgreSQL database was installed locally and all entries which had (\"J. Nat. Prod\" OR \"J Nat Prod\") as the journal source were extracted with the following SQL statement:\n",
    "\n",
    "```\n",
    "sql = \"\"\"\n",
    "select distinct(md.chembl_id) as Chembl_Id\n",
    "from docs d,\n",
    "     molecule_dictionary md,\n",
    "     compound_records cr\n",
    "where md.molregno = cr.molregno\n",
    "  and cr.doc_id = d.doc_id\n",
    "  and d.journal in ('J. Nat. Prod.', 'J Nat Prod')\n",
    "\"\"\"\n",
    "```\n",
    "\n",
    "This list was saved as `chembl_26_natprot_ids_only.tsv` in the `Input Data` folder of this project and was used for filtering the ChEMBL_Ids from the SD file in the following procedure.\n",
    "\n",
    "<hr>\n",
    "\n",
    "* 40525 cpds.\n",
    "* 35026 cpds. after deglycosylation, standardization and deduplication"
   ]
  },
  {
   "cell_type": "markdown",
   "metadata": {},
   "source": [
    "### Loading\n",
    "\n",
    "Load the result of the SQL query, the ChEMBL IDs that have \"J. Nat. Prod.\" or \"J Nat Prod\" listed as journal:"
   ]
  },
  {
   "cell_type": "code",
   "execution_count": 10,
   "metadata": {
    "ExecuteTime": {
     "end_time": "2020-11-25T16:01:19.251821Z",
     "start_time": "2020-11-25T16:01:19.223209Z"
    }
   },
   "outputs": [
    {
     "name": "stdout",
     "output_type": "stream",
     "text": [
      "Length                                            :      40547\n"
     ]
    }
   ],
   "source": [
    "chembl_np_ids = set(pd.read_csv(\"../Input Data/chembl_26_natprot_ids_only.tsv\", sep=\"\\t\")[\"Chembl_Id\"].values)\n",
    "lp(chembl_np_ids)"
   ]
  },
  {
   "cell_type": "markdown",
   "metadata": {},
   "source": [
    "Load the downloaded ChEMBL 26 SD file (gzipped) and keep only the natural product IDs:"
   ]
  },
  {
   "cell_type": "code",
   "execution_count": 12,
   "metadata": {
    "ExecuteTime": {
     "end_time": "2020-11-25T16:22:31.149290Z",
     "start_time": "2020-11-25T16:11:31.637295Z"
    }
   },
   "outputs": [
    {
     "name": "stderr",
     "output_type": "stream",
     "text": [
      "RDKit ERROR: [17:15:06] Explicit valence for atom # 0 N, 4, is greater than permitted\n",
      "RDKit ERROR: [17:15:06] ERROR: Could not sanitize molecule ending on line 44486287\n",
      "RDKit WARNING: [17:18:12] WARNING: not removing hydrogen atom without neighbors\n",
      "RDKit WARNING: [17:18:34] Warning: conflicting stereochemistry at atom 10 ignored. by rule 2b.\n",
      "RDKit WARNING: [17:18:34] Warning: conflicting stereochemistry at atom 0 ignored. by rule 2b.\n",
      "RDKit WARNING: [17:18:34] Warning: conflicting stereochemistry at atom 11 ignored. by rule 2b.\n",
      "RDKit WARNING: [17:19:32] WARNING: not removing hydrogen atom without neighbors\n",
      "RDKit WARNING: [17:19:40] WARNING: not removing hydrogen atom without neighbors\n",
      "RDKit WARNING: [17:19:41] Warning: conflicting stereochemistry at atom 8 ignored. by rule 2b.\n",
      "RDKit WARNING: [17:19:46] WARNING: not removing hydrogen atom without neighbors\n",
      "RDKit WARNING: [17:21:42] WARNING: not removing hydrogen atom without neighbors\n",
      "RDKit WARNING: [17:21:42] WARNING: not removing hydrogen atom without neighbors\n",
      "RDKit WARNING: [17:21:42] WARNING: not removing hydrogen atom without neighbors\n"
     ]
    },
    {
     "name": "stdout",
     "output_type": "stream",
     "text": [
      "{'In': 1940733, 'Out': 40525, 'Fail_NoMol': 1, 'NotMerged': 1900207}\n"
     ]
    }
   ],
   "source": [
    "# Takes 10min\n",
    "chembl_np = u.read_sdf(\"/home/pahl/comas/notebooks/sdf/cpd_libs_2003/chembl_26.sdf.gz\", merge_prop=\"chembl_id\", merge_list=chembl_np_ids)"
   ]
  },
  {
   "cell_type": "code",
   "execution_count": 16,
   "metadata": {
    "ExecuteTime": {
     "end_time": "2020-11-25T17:16:46.416647Z",
     "start_time": "2020-11-25T17:16:46.391074Z"
    }
   },
   "outputs": [
    {
     "name": "stdout",
     "output_type": "stream",
     "text": [
      "Shape ChEMBL NP                                   :      40525 /    3  [ Smiles, Name, chembl_id ]  \n"
     ]
    },
    {
     "data": {
      "text/html": [
       "<div>\n",
       "<style scoped>\n",
       "    .dataframe tbody tr th:only-of-type {\n",
       "        vertical-align: middle;\n",
       "    }\n",
       "\n",
       "    .dataframe tbody tr th {\n",
       "        vertical-align: top;\n",
       "    }\n",
       "\n",
       "    .dataframe thead th {\n",
       "        text-align: right;\n",
       "    }\n",
       "</style>\n",
       "<table border=\"1\" class=\"dataframe\">\n",
       "  <thead>\n",
       "    <tr style=\"text-align: right;\">\n",
       "      <th></th>\n",
       "      <th>Smiles</th>\n",
       "      <th>Name</th>\n",
       "      <th>chembl_id</th>\n",
       "    </tr>\n",
       "  </thead>\n",
       "  <tbody>\n",
       "    <tr>\n",
       "      <th>0</th>\n",
       "      <td>CC(=O)O[C@H]1/C(C)=C\\[C@@H]2OC(=O)[C@]3(C)O[C@...</td>\n",
       "      <td>CHEMBL503865</td>\n",
       "      <td>CHEMBL503865</td>\n",
       "    </tr>\n",
       "    <tr>\n",
       "      <th>1</th>\n",
       "      <td>CO[C@H]1C[C@H](COC[C@H]2[C@@H](OC)C[C@H](O[C@H...</td>\n",
       "      <td>CHEMBL503873</td>\n",
       "      <td>CHEMBL503873</td>\n",
       "    </tr>\n",
       "    <tr>\n",
       "      <th>2</th>\n",
       "      <td>COc1ccc2c(c1OC)C(CC1(C)C=Cc3c(c4cccc(OC)c4n(C)...</td>\n",
       "      <td>CHEMBL504077</td>\n",
       "      <td>CHEMBL504077</td>\n",
       "    </tr>\n",
       "    <tr>\n",
       "      <th>3</th>\n",
       "      <td>CC(C)=C[C@H]1C[C@](C)(O)[C@@H]2[C@H]3CC[C@@H]4...</td>\n",
       "      <td>CHEMBL501665</td>\n",
       "      <td>CHEMBL501665</td>\n",
       "    </tr>\n",
       "    <tr>\n",
       "      <th>4</th>\n",
       "      <td>CCCCC[C@H]1CCCCCCCCCC(=O)O[C@@H]2[C@@H](O[C@@H...</td>\n",
       "      <td>CHEMBL501672</td>\n",
       "      <td>CHEMBL501672</td>\n",
       "    </tr>\n",
       "  </tbody>\n",
       "</table>\n",
       "</div>"
      ],
      "text/plain": [
       "                                              Smiles          Name  \\\n",
       "0  CC(=O)O[C@H]1/C(C)=C\\[C@@H]2OC(=O)[C@]3(C)O[C@...  CHEMBL503865   \n",
       "1  CO[C@H]1C[C@H](COC[C@H]2[C@@H](OC)C[C@H](O[C@H...  CHEMBL503873   \n",
       "2  COc1ccc2c(c1OC)C(CC1(C)C=Cc3c(c4cccc(OC)c4n(C)...  CHEMBL504077   \n",
       "3  CC(C)=C[C@H]1C[C@](C)(O)[C@@H]2[C@H]3CC[C@@H]4...  CHEMBL501665   \n",
       "4  CCCCC[C@H]1CCCCCCCCCC(=O)O[C@@H]2[C@@H](O[C@@H...  CHEMBL501672   \n",
       "\n",
       "      chembl_id  \n",
       "0  CHEMBL503865  \n",
       "1  CHEMBL503873  \n",
       "2  CHEMBL504077  \n",
       "3  CHEMBL501665  \n",
       "4  CHEMBL501672  "
      ]
     },
     "execution_count": 16,
     "metadata": {},
     "output_type": "execute_result"
    }
   ],
   "source": [
    "lp(chembl_np, \"ChEMBL NP\")\n",
    "chembl_np.head()"
   ]
  },
  {
   "cell_type": "markdown",
   "metadata": {},
   "source": [
    "### Initial Standardization\n",
    "\n",
    "Standardization implemented in MolVS:\n",
    "* standardization\n",
    "* remove stereo information\n",
    "* choose largest fragment"
   ]
  },
  {
   "cell_type": "code",
   "execution_count": 17,
   "metadata": {
    "ExecuteTime": {
     "end_time": "2020-11-25T17:20:37.354928Z",
     "start_time": "2020-11-25T17:17:18.953506Z"
    }
   },
   "outputs": [
    {
     "data": {
      "application/vnd.jupyter.widget-view+json": {
       "model_id": "f3483a27ae0640a293fd47c0706e775b",
       "version_major": 2,
       "version_minor": 0
      },
      "text/plain": [
       "HBox(children=(HTML(value=''), FloatProgress(value=0.0, max=40525.0), HTML(value='')))"
      ]
     },
     "metadata": {},
     "output_type": "display_data"
    },
    {
     "name": "stderr",
     "output_type": "stream",
     "text": [
      "RDKit ERROR: [17:31:36] ERROR: Explicit valence for atom # 0 N, 4, is greater than permitted\n",
      "RDKit ERROR: [18:19:29] Explicit valence for atom # 26 B, 5, is greater than permitted\n"
     ]
    },
    {
     "name": "stdout",
     "output_type": "stream",
     "text": [
      "\n"
     ]
    }
   ],
   "source": [
    "# Takes 3min\n",
    "chembl_np = u.apply_to_smiles(chembl_np, \"Smiles\", {\"Smiles_Std\": lambda x: u.standardize_mol(x, remove_stereo=True)})\n",
    "chembl_np.drop(\"Smiles\", axis=1, inplace=True)\n",
    "chembl_np = chembl_np.rename(columns={\"Smiles_Std\": \"Smiles\"})"
   ]
  },
  {
   "cell_type": "code",
   "execution_count": 18,
   "metadata": {
    "ExecuteTime": {
     "end_time": "2020-11-25T17:20:37.386599Z",
     "start_time": "2020-11-25T17:20:37.357092Z"
    }
   },
   "outputs": [
    {
     "name": "stdout",
     "output_type": "stream",
     "text": [
      "Shape ChEMBL NP                                   :      40525 /    3  [ Name, chembl_id, Smiles ]  ( NAN values in 1 col(s) )\n"
     ]
    }
   ],
   "source": [
    "lp(chembl_np, \"ChEMBL NP\")"
   ]
  },
  {
   "cell_type": "markdown",
   "metadata": {},
   "source": [
    "### Filters (MedChem, Duplicates)\n",
    "\n",
    "The data set is filtered for Isotopes, MedChemAtoms, MinHeavyAtoms and Duplicates.  \n",
    "The deduplication is performed here as well to remove as many compounds as possible at early stages of the processing.  \n",
    "The filter for MaxHeavyAtoms is deferred until after the deglycosylation."
   ]
  },
  {
   "cell_type": "code",
   "execution_count": 19,
   "metadata": {
    "ExecuteTime": {
     "end_time": "2020-11-25T17:22:36.983231Z",
     "start_time": "2020-11-25T17:20:37.389274Z"
    },
    "scrolled": true
   },
   "outputs": [
    {
     "name": "stdout",
     "output_type": "stream",
     "text": [
      "Applying filters (4)...\n"
     ]
    },
    {
     "data": {
      "application/vnd.jupyter.widget-view+json": {
       "model_id": "6ce6b25b3a1d436086931ffcfb697aa0",
       "version_major": 2,
       "version_minor": 0
      },
      "text/plain": [
       "HBox(children=(HTML(value=''), FloatProgress(value=0.0, max=40525.0), HTML(value='')))"
      ]
     },
     "metadata": {},
     "output_type": "display_data"
    },
    {
     "name": "stdout",
     "output_type": "stream",
     "text": [
      "\n",
      "Applied filter Isotopes: 40518\n"
     ]
    },
    {
     "data": {
      "application/vnd.jupyter.widget-view+json": {
       "model_id": "d07f7be0138246bebfb44b201b7f89fe",
       "version_major": 2,
       "version_minor": 0
      },
      "text/plain": [
       "HBox(children=(HTML(value=''), FloatProgress(value=0.0, max=40518.0), HTML(value='')))"
      ]
     },
     "metadata": {},
     "output_type": "display_data"
    },
    {
     "name": "stdout",
     "output_type": "stream",
     "text": [
      "\n",
      "Applied filter MedChemAtoms: 40481\n"
     ]
    },
    {
     "data": {
      "application/vnd.jupyter.widget-view+json": {
       "model_id": "80b9bc26f6384e979144ba59d72313fe",
       "version_major": 2,
       "version_minor": 0
      },
      "text/plain": [
       "HBox(children=(HTML(value=''), FloatProgress(value=0.0, max=40481.0), HTML(value='')))"
      ]
     },
     "metadata": {},
     "output_type": "display_data"
    },
    {
     "name": "stdout",
     "output_type": "stream",
     "text": [
      "\n",
      "Applied filter MinHeavyAtoms: 40478\n"
     ]
    },
    {
     "data": {
      "application/vnd.jupyter.widget-view+json": {
       "model_id": "68a6492d958b4d04a2f1309d5e6ff631",
       "version_major": 2,
       "version_minor": 0
      },
      "text/plain": [
       "HBox(children=(HTML(value=''), FloatProgress(value=0.0, max=40478.0), HTML(value='')))"
      ]
     },
     "metadata": {},
     "output_type": "display_data"
    },
    {
     "name": "stdout",
     "output_type": "stream",
     "text": [
      "\n",
      "Applied filter Duplicates: 36489\n",
      "Shape ChEMBL NP (MedChem filters)                 :      36489 /    3  [ Name, chembl_id, Smiles ]  \n"
     ]
    },
    {
     "data": {
      "text/html": [
       "<div>\n",
       "<style scoped>\n",
       "    .dataframe tbody tr th:only-of-type {\n",
       "        vertical-align: middle;\n",
       "    }\n",
       "\n",
       "    .dataframe tbody tr th {\n",
       "        vertical-align: top;\n",
       "    }\n",
       "\n",
       "    .dataframe thead th {\n",
       "        text-align: right;\n",
       "    }\n",
       "</style>\n",
       "<table border=\"1\" class=\"dataframe\">\n",
       "  <thead>\n",
       "    <tr style=\"text-align: right;\">\n",
       "      <th></th>\n",
       "      <th>Name</th>\n",
       "      <th>chembl_id</th>\n",
       "      <th>Smiles</th>\n",
       "    </tr>\n",
       "  </thead>\n",
       "  <tbody>\n",
       "    <tr>\n",
       "      <th>0</th>\n",
       "      <td>CHEMBL503865</td>\n",
       "      <td>CHEMBL503865</td>\n",
       "      <td>CC(=O)OC1C(C)=CC2OC(=O)C3(C)OC23C(OC(C)=O)C2C(...</td>\n",
       "    </tr>\n",
       "    <tr>\n",
       "      <th>1</th>\n",
       "      <td>CHEMBL503873</td>\n",
       "      <td>CHEMBL503873</td>\n",
       "      <td>COC1CC(COCC2C(C)OC(OC3CCC4(C)C(=CCC5(O)C4CC(OC...</td>\n",
       "    </tr>\n",
       "    <tr>\n",
       "      <th>2</th>\n",
       "      <td>CHEMBL504077</td>\n",
       "      <td>CHEMBL504077</td>\n",
       "      <td>COc1ccc2c(c1OC)C(CC1(C)C=Cc3c(c4cccc(OC)c4n(C)...</td>\n",
       "    </tr>\n",
       "    <tr>\n",
       "      <th>3</th>\n",
       "      <td>CHEMBL501665</td>\n",
       "      <td>CHEMBL501665</td>\n",
       "      <td>CC(C)=CC1CC(C)(O)C2C3CCC4C5(C)CCC(OC6OCC(O)C(O...</td>\n",
       "    </tr>\n",
       "    <tr>\n",
       "      <th>4</th>\n",
       "      <td>CHEMBL501672</td>\n",
       "      <td>CHEMBL501672</td>\n",
       "      <td>CCCCCC1CCCCCCCCCC(=O)OC2C(OC3OC(C)C(OC(=O)C(C)...</td>\n",
       "    </tr>\n",
       "    <tr>\n",
       "      <th>5</th>\n",
       "      <td>CHEMBL501674</td>\n",
       "      <td>CHEMBL501674</td>\n",
       "      <td>COC1C(OCC2C(C)OC(=O)C=CC(C)C(OC3OC(C)CC(O)C3O)...</td>\n",
       "    </tr>\n",
       "    <tr>\n",
       "      <th>6</th>\n",
       "      <td>CHEMBL501943</td>\n",
       "      <td>CHEMBL501943</td>\n",
       "      <td>COc1cc(C(O)C(COC(=O)C=Cc2ccc(O)cc2)Oc2c(OC)cc(...</td>\n",
       "    </tr>\n",
       "    <tr>\n",
       "      <th>7</th>\n",
       "      <td>CHEMBL501944</td>\n",
       "      <td>CHEMBL501944</td>\n",
       "      <td>COc1cc(O)c(-c2cc(-c3cc(-c4c(O)cc(O)c5c4CC(C)NC...</td>\n",
       "    </tr>\n",
       "    <tr>\n",
       "      <th>8</th>\n",
       "      <td>CHEMBL501918</td>\n",
       "      <td>CHEMBL501918</td>\n",
       "      <td>CC1COC2(CC1O)OC1CC3C4CC=C5CC(O)CC(OC6OCC(O)C(O...</td>\n",
       "    </tr>\n",
       "    <tr>\n",
       "      <th>9</th>\n",
       "      <td>CHEMBL501922</td>\n",
       "      <td>CHEMBL501922</td>\n",
       "      <td>COC(=O)CC1C(C)(C)C(OC(C)=O)C2C(=O)C1(C)C1CCC3(...</td>\n",
       "    </tr>\n",
       "  </tbody>\n",
       "</table>\n",
       "</div>"
      ],
      "text/plain": [
       "           Name     chembl_id  \\\n",
       "0  CHEMBL503865  CHEMBL503865   \n",
       "1  CHEMBL503873  CHEMBL503873   \n",
       "2  CHEMBL504077  CHEMBL504077   \n",
       "3  CHEMBL501665  CHEMBL501665   \n",
       "4  CHEMBL501672  CHEMBL501672   \n",
       "5  CHEMBL501674  CHEMBL501674   \n",
       "6  CHEMBL501943  CHEMBL501943   \n",
       "7  CHEMBL501944  CHEMBL501944   \n",
       "8  CHEMBL501918  CHEMBL501918   \n",
       "9  CHEMBL501922  CHEMBL501922   \n",
       "\n",
       "                                              Smiles  \n",
       "0  CC(=O)OC1C(C)=CC2OC(=O)C3(C)OC23C(OC(C)=O)C2C(...  \n",
       "1  COC1CC(COCC2C(C)OC(OC3CCC4(C)C(=CCC5(O)C4CC(OC...  \n",
       "2  COc1ccc2c(c1OC)C(CC1(C)C=Cc3c(c4cccc(OC)c4n(C)...  \n",
       "3  CC(C)=CC1CC(C)(O)C2C3CCC4C5(C)CCC(OC6OCC(O)C(O...  \n",
       "4  CCCCCC1CCCCCCCCCC(=O)OC2C(OC3OC(C)C(OC(=O)C(C)...  \n",
       "5  COC1C(OCC2C(C)OC(=O)C=CC(C)C(OC3OC(C)CC(O)C3O)...  \n",
       "6  COc1cc(C(O)C(COC(=O)C=Cc2ccc(O)cc2)Oc2c(OC)cc(...  \n",
       "7  COc1cc(O)c(-c2cc(-c3cc(-c4c(O)cc(O)c5c4CC(C)NC...  \n",
       "8  CC1COC2(CC1O)OC1CC3C4CC=C5CC(O)CC(OC6OCC(O)C(O...  \n",
       "9  COC(=O)CC1C(C)(C)C(OC(C)=O)C2C(=O)C1(C)C1CCC3(...  "
      ]
     },
     "execution_count": 19,
     "metadata": {},
     "output_type": "execute_result"
    }
   ],
   "source": [
    "# Takes 2min\n",
    "chembl_np = u.filter_mols(chembl_np, \"Smiles\", [\"Isotopes\", \"MedChemAtoms\", \"MinHeavyAtoms\", \"Duplicates\"])\n",
    "lp(chembl_np, \"ChEMBL NP (MedChem filters)\")\n",
    "\n",
    "chembl_np.head(10)"
   ]
  },
  {
   "cell_type": "code",
   "execution_count": 20,
   "metadata": {
    "ExecuteTime": {
     "end_time": "2020-11-25T17:22:37.129683Z",
     "start_time": "2020-11-25T17:22:36.984995Z"
    }
   },
   "outputs": [],
   "source": [
    "chembl_np.to_csv(\"../tmp/chembl_np.tsv\", sep=\"\\t\", index=False)"
   ]
  },
  {
   "cell_type": "code",
   "execution_count": null,
   "metadata": {},
   "outputs": [],
   "source": []
  },
  {
   "cell_type": "markdown",
   "metadata": {},
   "source": [
    "### Deglycosylation\n",
    "\n",
    "Deglycosylation is performed using the KNIME Sugar Remover node (CDK). KNIME v 4.2.3.  \n",
    "Here, the result of the deglycosylation is loaded again."
   ]
  },
  {
   "cell_type": "code",
   "execution_count": 2,
   "metadata": {
    "ExecuteTime": {
     "end_time": "2020-11-26T14:02:13.438380Z",
     "start_time": "2020-11-26T14:02:13.336534Z"
    },
    "scrolled": true
   },
   "outputs": [
    {
     "name": "stdout",
     "output_type": "stream",
     "text": [
      "Shape ChEMBL NP (Deglyco)                         :      34479 /    3  [ Name, chembl_id, Smiles ]  \n"
     ]
    }
   ],
   "source": [
    "chembl_np = pd.read_csv(\"../tmp/chembl_np_deglyco.tsv\", sep=\"\\t\")\n",
    "lp(chembl_np, \"ChEMBL NP (Deglyco)\")"
   ]
  },
  {
   "cell_type": "markdown",
   "metadata": {},
   "source": [
    "### Standardization\n",
    "\n",
    "Cleanup after deglycosylation:\n",
    "\n",
    "* standardization\n",
    "* choose largest fragment\n"
   ]
  },
  {
   "cell_type": "code",
   "execution_count": 3,
   "metadata": {
    "ExecuteTime": {
     "end_time": "2020-11-26T14:03:45.002565Z",
     "start_time": "2020-11-26T14:02:23.817621Z"
    }
   },
   "outputs": [
    {
     "data": {
      "application/vnd.jupyter.widget-view+json": {
       "model_id": "cb260fddb65946eba587803e3fe5fbcd",
       "version_major": 2,
       "version_minor": 0
      },
      "text/plain": [
       "HBox(children=(HTML(value=''), FloatProgress(value=0.0, max=34479.0), HTML(value='')))"
      ]
     },
     "metadata": {},
     "output_type": "display_data"
    },
    {
     "name": "stdout",
     "output_type": "stream",
     "text": [
      "\n",
      "Shape ChEMBL NP (Deglyco)                         :      34479 /    3  [ Name, chembl_id, Smiles ]  \n"
     ]
    }
   ],
   "source": [
    "# Takes 1:20min\n",
    "chembl_np_std = u.apply_to_smiles(chembl_np, \"Smiles\", {\"Smiles_Std\": u.standardize_mol})\n",
    "chembl_np_std.drop(\"Smiles\", axis=1, inplace=True)\n",
    "chembl_np_std = chembl_np_std.rename(columns={\"Smiles_Std\": \"Smiles\"})\n",
    "lp(chembl_np_std, \"ChEMBL NP (Deglyco)\")"
   ]
  },
  {
   "cell_type": "code",
   "execution_count": 4,
   "metadata": {
    "ExecuteTime": {
     "end_time": "2020-11-26T14:04:26.165162Z",
     "start_time": "2020-11-26T14:03:45.005508Z"
    }
   },
   "outputs": [
    {
     "name": "stdout",
     "output_type": "stream",
     "text": [
      "Applying filters (3)...\n"
     ]
    },
    {
     "data": {
      "application/vnd.jupyter.widget-view+json": {
       "model_id": "3815772e372a441f83679d74db5a5024",
       "version_major": 2,
       "version_minor": 0
      },
      "text/plain": [
       "HBox(children=(HTML(value=''), FloatProgress(value=0.0, max=34479.0), HTML(value='')))"
      ]
     },
     "metadata": {},
     "output_type": "display_data"
    },
    {
     "name": "stdout",
     "output_type": "stream",
     "text": [
      "\n",
      "Applied filter MinHeavyAtoms: 34158\n",
      "Applied filter MaxHeavyAtoms: 33676\n"
     ]
    },
    {
     "data": {
      "application/vnd.jupyter.widget-view+json": {
       "model_id": "5ccbd72bcbbb4ee5b5fccca3f6a23306",
       "version_major": 2,
       "version_minor": 0
      },
      "text/plain": [
       "HBox(children=(HTML(value=''), FloatProgress(value=0.0, max=33676.0), HTML(value='')))"
      ]
     },
     "metadata": {},
     "output_type": "display_data"
    },
    {
     "name": "stdout",
     "output_type": "stream",
     "text": [
      "\n",
      "Applied filter Duplicates: 30796\n",
      "Shape ChEMBL NP (Filters)                         :      30796 /    3  [ Name, chembl_id, Smiles ]  \n"
     ]
    }
   ],
   "source": [
    "chembl_np_std = u.filter_mols(chembl_np_std, \"Smiles\", [\"MinHeavyAtoms\", \"MaxHeavyAtoms\", \"Duplicates\"])\n",
    "lp(chembl_np_std, \"ChEMBL NP (Filters)\")"
   ]
  },
  {
   "cell_type": "code",
   "execution_count": null,
   "metadata": {},
   "outputs": [],
   "source": []
  },
  {
   "cell_type": "markdown",
   "metadata": {},
   "source": [
    "### Canonical Tautomer"
   ]
  },
  {
   "cell_type": "code",
   "execution_count": 5,
   "metadata": {
    "ExecuteTime": {
     "end_time": "2020-11-26T14:19:11.043734Z",
     "start_time": "2020-11-26T14:04:26.167299Z"
    },
    "scrolled": true
   },
   "outputs": [
    {
     "name": "stdout",
     "output_type": "stream",
     "text": [
      "INFO: Pandarallel will run on 6 workers.\n",
      "INFO: Pandarallel will use Memory file system to transfer data between the main process and workers.\n"
     ]
    },
    {
     "data": {
      "application/vnd.jupyter.widget-view+json": {
       "model_id": "b980f4632f464cd1ae2b3e242de2b3ce",
       "version_major": 2,
       "version_minor": 0
      },
      "text/plain": [
       "VBox(children=(HBox(children=(IntProgress(value=0, description='0.00%', max=5133), Label(value='0 / 5133'))), …"
      ]
     },
     "metadata": {},
     "output_type": "display_data"
    }
   ],
   "source": [
    "# Takes 28min\n",
    "chembl_np_std_tauto = u.apply_to_smiles(chembl_np_std, \"Smiles\", {\"Smiles_Std\": lambda x: u.standardize_mol(x, canonicalize_tautomer=True)}, parallel=True)"
   ]
  },
  {
   "cell_type": "code",
   "execution_count": 6,
   "metadata": {
    "ExecuteTime": {
     "end_time": "2020-11-26T14:19:11.075292Z",
     "start_time": "2020-11-26T14:19:11.045702Z"
    }
   },
   "outputs": [],
   "source": [
    "chembl_np_std_tauto.drop(\"Smiles\", axis=1, inplace=True)\n",
    "chembl_np_std_tauto = chembl_np_std_tauto.rename(columns={\"Smiles_Std\": \"Smiles\"})"
   ]
  },
  {
   "cell_type": "markdown",
   "metadata": {},
   "source": [
    "### Filter Duplicates\n",
    "\n",
    "Remove duplicates that might have been formed by canonicalization."
   ]
  },
  {
   "cell_type": "code",
   "execution_count": 7,
   "metadata": {
    "ExecuteTime": {
     "end_time": "2020-11-26T14:19:31.866540Z",
     "start_time": "2020-11-26T14:19:11.077287Z"
    }
   },
   "outputs": [
    {
     "name": "stdout",
     "output_type": "stream",
     "text": [
      "Applying filters (1)...\n"
     ]
    },
    {
     "data": {
      "application/vnd.jupyter.widget-view+json": {
       "model_id": "21a0cb45876b465da5af889628cbd8a6",
       "version_major": 2,
       "version_minor": 0
      },
      "text/plain": [
       "HBox(children=(HTML(value=''), FloatProgress(value=0.0, max=30796.0), HTML(value='')))"
      ]
     },
     "metadata": {},
     "output_type": "display_data"
    },
    {
     "name": "stdout",
     "output_type": "stream",
     "text": [
      "\n",
      "Applied filter Duplicates: 30655\n",
      "Shape ChEMBL NP (Filter duplicates)               :      30655 /    3  [ Name, chembl_id, Smiles ]  \n"
     ]
    },
    {
     "data": {
      "text/html": [
       "<div>\n",
       "<style scoped>\n",
       "    .dataframe tbody tr th:only-of-type {\n",
       "        vertical-align: middle;\n",
       "    }\n",
       "\n",
       "    .dataframe tbody tr th {\n",
       "        vertical-align: top;\n",
       "    }\n",
       "\n",
       "    .dataframe thead th {\n",
       "        text-align: right;\n",
       "    }\n",
       "</style>\n",
       "<table border=\"1\" class=\"dataframe\">\n",
       "  <thead>\n",
       "    <tr style=\"text-align: right;\">\n",
       "      <th></th>\n",
       "      <th>Name</th>\n",
       "      <th>chembl_id</th>\n",
       "      <th>Smiles</th>\n",
       "    </tr>\n",
       "  </thead>\n",
       "  <tbody>\n",
       "    <tr>\n",
       "      <th>0</th>\n",
       "      <td>CHEMBL503865</td>\n",
       "      <td>CHEMBL503865</td>\n",
       "      <td>CC(=O)OC1/C(C)=C\\C2OC(=O)C3(C)OC23C(OC(C)=O)C2...</td>\n",
       "    </tr>\n",
       "    <tr>\n",
       "      <th>1</th>\n",
       "      <td>CHEMBL503873</td>\n",
       "      <td>CHEMBL503873</td>\n",
       "      <td>CC(=O)C1(O)CCC2(O)C3(O)CC=C4CC(O)CCC4(C)C3CC(O...</td>\n",
       "    </tr>\n",
       "    <tr>\n",
       "      <th>2</th>\n",
       "      <td>CHEMBL504077</td>\n",
       "      <td>CHEMBL504077</td>\n",
       "      <td>COc1ccc2c(c1OC)C(CC1(C)C=Cc3c(c4cccc(OC)c4n(C)...</td>\n",
       "    </tr>\n",
       "    <tr>\n",
       "      <th>3</th>\n",
       "      <td>CHEMBL501665</td>\n",
       "      <td>CHEMBL501665</td>\n",
       "      <td>CC(C)=CC1CC(C)(O)C2C3CCC4C5(C)CCC(O)C(C)(C)C5C...</td>\n",
       "    </tr>\n",
       "    <tr>\n",
       "      <th>4</th>\n",
       "      <td>CHEMBL501672</td>\n",
       "      <td>CHEMBL501672</td>\n",
       "      <td>CCCCCC1CCCCCCCCCC(=O)OC2C(O)C(C)OC(OC3C(OC(CO)...</td>\n",
       "    </tr>\n",
       "  </tbody>\n",
       "</table>\n",
       "</div>"
      ],
      "text/plain": [
       "           Name     chembl_id  \\\n",
       "0  CHEMBL503865  CHEMBL503865   \n",
       "1  CHEMBL503873  CHEMBL503873   \n",
       "2  CHEMBL504077  CHEMBL504077   \n",
       "3  CHEMBL501665  CHEMBL501665   \n",
       "4  CHEMBL501672  CHEMBL501672   \n",
       "\n",
       "                                              Smiles  \n",
       "0  CC(=O)OC1/C(C)=C\\C2OC(=O)C3(C)OC23C(OC(C)=O)C2...  \n",
       "1  CC(=O)C1(O)CCC2(O)C3(O)CC=C4CC(O)CCC4(C)C3CC(O...  \n",
       "2  COc1ccc2c(c1OC)C(CC1(C)C=Cc3c(c4cccc(OC)c4n(C)...  \n",
       "3  CC(C)=CC1CC(C)(O)C2C3CCC4C5(C)CCC(O)C(C)(C)C5C...  \n",
       "4  CCCCCC1CCCCCCCCCC(=O)OC2C(O)C(C)OC(OC3C(OC(CO)...  "
      ]
     },
     "execution_count": 7,
     "metadata": {},
     "output_type": "execute_result"
    }
   ],
   "source": [
    "chembl_np_std_tauto = u.filter_mols(chembl_np_std_tauto, \"Smiles\", \"Duplicates\")\n",
    "lp(chembl_np_std_tauto, \"ChEMBL NP (Filter duplicates)\")\n",
    "\n",
    "chembl_np_std_tauto.head()"
   ]
  },
  {
   "cell_type": "markdown",
   "metadata": {},
   "source": [
    "### Write Data Set"
   ]
  },
  {
   "cell_type": "code",
   "execution_count": 8,
   "metadata": {
    "ExecuteTime": {
     "end_time": "2020-11-26T14:19:31.965220Z",
     "start_time": "2020-11-26T14:19:31.868386Z"
    }
   },
   "outputs": [],
   "source": [
    "chembl_np_std_tauto.to_csv(\"../tmp/chembl_np_std.tsv\", sep=\"\\t\", index=False)"
   ]
  },
  {
   "cell_type": "markdown",
   "metadata": {},
   "source": [
    "### Create Subset"
   ]
  },
  {
   "cell_type": "code",
   "execution_count": 9,
   "metadata": {
    "ExecuteTime": {
     "end_time": "2020-11-26T14:19:32.666002Z",
     "start_time": "2020-11-26T14:19:32.594334Z"
    }
   },
   "outputs": [
    {
     "name": "stdout",
     "output_type": "stream",
     "text": [
      "Shape ChEMBL NP subset                            :       5000 /    3  [ Name, chembl_id, Smiles ]  \n"
     ]
    }
   ],
   "source": [
    "chembl_np = pd.read_csv(\"../tmp/chembl_np_std.tsv\", sep=\"\\t\")\n",
    "chembl_np_subset = chembl_np.sample(n=5000, random_state=0xc0ffee)\n",
    "chembl_np_subset.to_csv(\"../tmp/chembl_np_std_subset.tsv\", sep=\"\\t\", index=False)\n",
    "lp(chembl_np_subset, \"ChEMBL NP subset\")"
   ]
  },
  {
   "cell_type": "code",
   "execution_count": null,
   "metadata": {},
   "outputs": [],
   "source": []
  },
  {
   "cell_type": "code",
   "execution_count": null,
   "metadata": {},
   "outputs": [],
   "source": []
  },
  {
   "cell_type": "markdown",
   "metadata": {},
   "source": [
    "## DrugBank\n",
    "\n",
    "Approved and experimental drugs, downloaded from DrugBank on 25-Mar-2020, v 5.1.5. (https://www.drugbank.com/)\n",
    "\n",
    "* 8479 cpds.\n",
    "* 7472 cpds. after standardization and deduplication"
   ]
  },
  {
   "cell_type": "markdown",
   "metadata": {},
   "source": [
    "### Loading\n",
    "\n",
    "Load both SD files of approved and experimental drugs."
   ]
  },
  {
   "cell_type": "code",
   "execution_count": 3,
   "metadata": {
    "ExecuteTime": {
     "end_time": "2020-11-25T20:17:30.506143Z",
     "start_time": "2020-11-25T20:17:24.551496Z"
    },
    "scrolled": true
   },
   "outputs": [
    {
     "name": "stderr",
     "output_type": "stream",
     "text": [
      "RDKit ERROR: [21:16:13] ERROR: Explicit valence for atom # 6 K, 2, is greater than permitted\n",
      "RDKit ERROR: [21:17:24] Explicit valence for atom # 7 N, 4, is greater than permitted\n",
      "RDKit ERROR: [21:17:24] ERROR: Could not sanitize molecule ending on line 19217\n",
      "RDKit ERROR: [21:17:24] ERROR: Explicit valence for atom # 7 N, 4, is greater than permitted\n",
      "RDKit ERROR: [21:17:25] Explicit valence for atom # 10 N, 4, is greater than permitted\n",
      "RDKit ERROR: [21:17:25] ERROR: Could not sanitize molecule ending on line 318021\n",
      "RDKit WARNING: [21:17:26] MRV_IMPLICIT_H SGroup on atom without aromatic bonds, 6, ignored.\n",
      "RDKit WARNING: [21:17:26] MRV_IMPLICIT_H SGroup on atom without aromatic bonds, 11, ignored.\n",
      "RDKit WARNING: [21:17:26] MRV_IMPLICIT_H SGroup on atom without aromatic bonds, 10, ignored.\n",
      "RDKit WARNING: [21:17:26] MRV_IMPLICIT_H SGroup on atom without aromatic bonds, 14, ignored.\n",
      "RDKit ERROR: [21:17:25] ERROR: Explicit valence for atom # 10 N, 4, is greater than permitted\n",
      "RDKit ERROR: [21:17:26] Explicit valence for atom # 14 Cl, 2, is greater than permitted\n",
      "RDKit ERROR: [21:17:26] ERROR: Could not sanitize molecule ending on line 405070\n",
      "RDKit ERROR: [21:17:26] ERROR: Explicit valence for atom # 14 Cl, 2, is greater than permitted\n",
      "RDKit ERROR: [21:17:26] Explicit valence for atom # 13 Cl, 5, is greater than permitted\n",
      "RDKit ERROR: [21:17:26] ERROR: Could not sanitize molecule ending on line 65139\n",
      "RDKit ERROR: [21:17:26] ERROR: Explicit valence for atom # 13 Cl, 5, is greater than permitted\n",
      "RDKit ERROR: [21:17:26] Explicit valence for atom # 39 N, 5, is greater than permitted\n",
      "RDKit ERROR: [21:17:26] ERROR: Could not sanitize molecule ending on line 103352\n",
      "RDKit ERROR: [21:17:26] ERROR: Explicit valence for atom # 39 N, 5, is greater than permitted\n",
      "RDKit ERROR: [21:17:27] Explicit valence for atom # 70 O, 3, is greater than permitted\n",
      "RDKit ERROR: [21:17:27] ERROR: Could not sanitize molecule ending on line 172093\n",
      "RDKit ERROR: [21:17:27] ERROR: Explicit valence for atom # 70 O, 3, is greater than permitted\n",
      "RDKit ERROR: [21:17:27] Explicit valence for atom # 2 O, 3, is greater than permitted\n",
      "RDKit ERROR: [21:17:27] ERROR: Could not sanitize molecule ending on line 283181\n",
      "RDKit ERROR: [21:17:27] ERROR: Explicit valence for atom # 2 O, 3, is greater than permitted\n",
      "RDKit ERROR: [21:17:27] Explicit valence for atom # 1 N, 4, is greater than permitted\n",
      "RDKit ERROR: [21:17:27] ERROR: Could not sanitize molecule ending on line 292250\n",
      "RDKit ERROR: [21:17:27] ERROR: Explicit valence for atom # 1 N, 4, is greater than permitted\n",
      "RDKit ERROR: [21:17:27] Explicit valence for atom # 1 N, 4, is greater than permitted\n",
      "RDKit ERROR: [21:17:27] ERROR: Could not sanitize molecule ending on line 344873\n",
      "RDKit ERROR: [21:17:27] ERROR: Explicit valence for atom # 1 N, 4, is greater than permitted\n",
      "RDKit ERROR: [21:17:27] Explicit valence for atom # 12 N, 4, is greater than permitted\n",
      "RDKit ERROR: [21:17:27] ERROR: Could not sanitize molecule ending on line 354611\n",
      "RDKit ERROR: [21:17:27] ERROR: Explicit valence for atom # 12 N, 4, is greater than permitted\n",
      "RDKit ERROR: [21:17:27] Explicit valence for atom # 12 N, 4, is greater than permitted\n",
      "RDKit ERROR: [21:17:27] ERROR: Could not sanitize molecule ending on line 380007\n",
      "RDKit ERROR: [21:17:27] ERROR: Explicit valence for atom # 12 N, 4, is greater than permitted\n",
      "RDKit ERROR: [21:17:27] Explicit valence for atom # 6 Be, 4, is greater than permitted\n",
      "RDKit ERROR: [21:17:27] ERROR: Could not sanitize molecule ending on line 388492\n",
      "RDKit ERROR: [21:17:27] ERROR: Explicit valence for atom # 6 Be, 4, is greater than permitted\n",
      "RDKit ERROR: [21:17:28] Explicit valence for atom # 20 N, 4, is greater than permitted\n",
      "RDKit ERROR: [21:17:28] ERROR: Could not sanitize molecule ending on line 399699\n",
      "RDKit ERROR: [21:17:28] ERROR: Explicit valence for atom # 20 N, 4, is greater than permitted\n",
      "RDKit ERROR: [21:17:29] Explicit valence for atom # 0 Be, 3, is greater than permitted\n",
      "RDKit ERROR: [21:17:29] ERROR: Could not sanitize molecule ending on line 704390\n",
      "RDKit ERROR: [21:17:29] ERROR: Explicit valence for atom # 0 Be, 3, is greater than permitted\n",
      "RDKit ERROR: [21:17:29] Explicit valence for atom # 10 N, 4, is greater than permitted\n",
      "RDKit ERROR: [21:17:29] ERROR: Could not sanitize molecule ending on line 797706\n"
     ]
    },
    {
     "name": "stdout",
     "output_type": "stream",
     "text": [
      "{'In': 8479, 'Out': 8462, 'Fail_NoMol': 17}\n",
      "Shape DrugBank                                    :       8462 /    2  [ DATABASE_ID, Smiles ]  \n"
     ]
    },
    {
     "name": "stderr",
     "output_type": "stream",
     "text": [
      "RDKit WARNING: [21:17:30] MRV_IMPLICIT_H SGroup on atom without aromatic bonds, 6, ignored.\n",
      "RDKit WARNING: [21:17:30] MRV_IMPLICIT_H SGroup on atom without aromatic bonds, 11, ignored.\n",
      "RDKit WARNING: [21:17:30] MRV_IMPLICIT_H SGroup on atom without aromatic bonds, 10, ignored.\n",
      "RDKit WARNING: [21:17:30] MRV_IMPLICIT_H SGroup on atom without aromatic bonds, 14, ignored.\n",
      "RDKit ERROR: [21:17:29] ERROR: Explicit valence for atom # 10 N, 4, is greater than permitted\n",
      "RDKit ERROR: [21:17:30] Explicit valence for atom # 14 Cl, 2, is greater than permitted\n",
      "RDKit ERROR: [21:17:30] ERROR: Could not sanitize molecule ending on line 925357\n",
      "RDKit ERROR: [21:17:30] ERROR: Explicit valence for atom # 14 Cl, 2, is greater than permitted\n",
      "RDKit ERROR: [21:17:30] Explicit valence for atom # 6 K, 2, is greater than permitted\n",
      "RDKit ERROR: [21:17:30] ERROR: Could not sanitize molecule ending on line 930170\n"
     ]
    },
    {
     "data": {
      "text/html": [
       "<div>\n",
       "<style scoped>\n",
       "    .dataframe tbody tr th:only-of-type {\n",
       "        vertical-align: middle;\n",
       "    }\n",
       "\n",
       "    .dataframe tbody tr th {\n",
       "        vertical-align: top;\n",
       "    }\n",
       "\n",
       "    .dataframe thead th {\n",
       "        text-align: right;\n",
       "    }\n",
       "</style>\n",
       "<table border=\"1\" class=\"dataframe\">\n",
       "  <thead>\n",
       "    <tr style=\"text-align: right;\">\n",
       "      <th></th>\n",
       "      <th>DATABASE_ID</th>\n",
       "      <th>Smiles</th>\n",
       "    </tr>\n",
       "  </thead>\n",
       "  <tbody>\n",
       "    <tr>\n",
       "      <th>0</th>\n",
       "      <td>DB00006</td>\n",
       "      <td>CC[C@H](C)[C@H](NC(=O)[C@H](CCC(=O)O)NC(=O)[C@...</td>\n",
       "    </tr>\n",
       "    <tr>\n",
       "      <th>1</th>\n",
       "      <td>DB00007</td>\n",
       "      <td>CCNC(=O)[C@@H]1CCCN1C(=O)[C@H](CCCNC(=N)N)NC(=...</td>\n",
       "    </tr>\n",
       "    <tr>\n",
       "      <th>2</th>\n",
       "      <td>DB00014</td>\n",
       "      <td>CC(C)C[C@H](NC(=O)[C@@H](COC(C)(C)C)NC(=O)[C@H...</td>\n",
       "    </tr>\n",
       "    <tr>\n",
       "      <th>3</th>\n",
       "      <td>DB00027</td>\n",
       "      <td>CC(C)C[C@@H](NC(=O)CNC(=O)[C@@H](NC=O)C(C)C)C(...</td>\n",
       "    </tr>\n",
       "    <tr>\n",
       "      <th>4</th>\n",
       "      <td>DB00035</td>\n",
       "      <td>N=C(N)NCCC[C@@H](NC(=O)[C@@H]1CCCN1C(=O)[C@@H]...</td>\n",
       "    </tr>\n",
       "  </tbody>\n",
       "</table>\n",
       "</div>"
      ],
      "text/plain": [
       "  DATABASE_ID                                             Smiles\n",
       "0     DB00006  CC[C@H](C)[C@H](NC(=O)[C@H](CCC(=O)O)NC(=O)[C@...\n",
       "1     DB00007  CCNC(=O)[C@@H]1CCCN1C(=O)[C@H](CCCNC(=N)N)NC(=...\n",
       "2     DB00014  CC(C)C[C@H](NC(=O)[C@@H](COC(C)(C)C)NC(=O)[C@H...\n",
       "3     DB00027  CC(C)C[C@@H](NC(=O)CNC(=O)[C@@H](NC=O)C(C)C)C(...\n",
       "4     DB00035  N=C(N)NCCC[C@@H](NC(=O)[C@@H]1CCCN1C(=O)[C@@H]..."
      ]
     },
     "execution_count": 3,
     "metadata": {},
     "output_type": "execute_result"
    }
   ],
   "source": [
    "drugbank = u.read_sdf([\"/home/pahl/comas/notebooks/sdf/drugbank/drugbank_5.1.5_appr.sdf\", \"/home/pahl/comas/notebooks/sdf/drugbank/drugbank_5.1.5_exp.sdf\"])\n",
    "drugbank =drugbank[[\"DATABASE_ID\", \"Smiles\"]]\n",
    "lp(drugbank, \"DrugBank\")\n",
    "\n",
    "drugbank.head()"
   ]
  },
  {
   "cell_type": "markdown",
   "metadata": {},
   "source": [
    "### Standardization\n",
    "\n",
    "Standardization implemented in MolVS:\n",
    "* standardization\n",
    "* remove stereo information\n",
    "* choose largest fragment\n",
    "* canonicalize tautomer"
   ]
  },
  {
   "cell_type": "code",
   "execution_count": 4,
   "metadata": {
    "ExecuteTime": {
     "end_time": "2020-11-25T20:35:12.765254Z",
     "start_time": "2020-11-25T20:18:24.461326Z"
    }
   },
   "outputs": [
    {
     "data": {
      "application/vnd.jupyter.widget-view+json": {
       "model_id": "12976fcd36734be5ab06fb89eb21f20c",
       "version_major": 2,
       "version_minor": 0
      },
      "text/plain": [
       "HBox(children=(HTML(value=''), FloatProgress(value=0.0, max=8462.0), HTML(value='')))"
      ]
     },
     "metadata": {},
     "output_type": "display_data"
    },
    {
     "name": "stderr",
     "output_type": "stream",
     "text": [
      "RDKit ERROR: [21:17:30] ERROR: Explicit valence for atom # 6 K, 2, is greater than permitted\n",
      "RDKit ERROR: [21:26:09] Can't kekulize mol.  Unkekulized atoms: 3 10\n",
      "RDKit ERROR: \n",
      "RDKit ERROR: [21:26:09] Can't kekulize mol.  Unkekulized atoms: 3 10\n",
      "RDKit ERROR: \n",
      "RDKit ERROR: [21:28:07] Explicit valence for atom # 6 B, 5, is greater than permitted\n",
      "RDKit ERROR: [21:28:56] Explicit valence for atom # 13 B, 5, is greater than permitted\n",
      "RDKit ERROR: [21:29:07] Explicit valence for atom # 16 B, 5, is greater than permitted\n",
      "RDKit ERROR: [21:30:01] Explicit valence for atom # 16 B, 5, is greater than permitted\n",
      "RDKit ERROR: [21:30:27] Explicit valence for atom # 13 B, 5, is greater than permitted\n",
      "RDKit ERROR: [21:30:39] Explicit valence for atom # 6 B, 5, is greater than permitted\n",
      "RDKit ERROR: [21:31:56] Explicit valence for atom # 6 B, 5, is greater than permitted\n",
      "RDKit ERROR: [21:34:05] Explicit valence for atom # 16 B, 5, is greater than permitted\n",
      "RDKit ERROR: [21:34:05] Explicit valence for atom # 16 B, 5, is greater than permitted\n",
      "RDKit ERROR: [21:34:10] Explicit valence for atom # 13 B, 5, is greater than permitted\n",
      "RDKit ERROR: [21:34:10] Explicit valence for atom # 13 B, 5, is greater than permitted\n",
      "RDKit ERROR: [21:34:28] Can't kekulize mol.  Unkekulized atoms: 3 5\n",
      "RDKit ERROR: \n",
      "RDKit ERROR: [21:34:28] Can't kekulize mol.  Unkekulized atoms: 3 5\n",
      "RDKit ERROR: \n"
     ]
    },
    {
     "name": "stdout",
     "output_type": "stream",
     "text": [
      "\n",
      "Shape DrugBank                                    :       8462 /    2  [ DATABASE_ID, Smiles ]  ( NAN values in 1 col(s) )\n"
     ]
    }
   ],
   "source": [
    "drugbank = u.apply_to_smiles(drugbank, \"Smiles\", {\"Smiles_Std\": lambda x: u.standardize_mol(x, remove_stereo=True, canonicalize_tautomer=True)})\n",
    "drugbank.drop(\"Smiles\", axis=1, inplace=True)\n",
    "drugbank = drugbank.rename(columns={\"Smiles_Std\": \"Smiles\"})\n",
    "lp(drugbank, \"DrugBank\")"
   ]
  },
  {
   "cell_type": "markdown",
   "metadata": {},
   "source": [
    "### Filters (Isotopes, MedChem, NumHeavyAtoms, Duplicates)\n",
    "\n",
    "The data set is filtered for Isotopes, MedChemAtoms, MinHeavyAtoms, MaxHeavyAtoms and Duplicates.  "
   ]
  },
  {
   "cell_type": "code",
   "execution_count": 5,
   "metadata": {
    "ExecuteTime": {
     "end_time": "2020-11-25T20:35:33.760472Z",
     "start_time": "2020-11-25T20:35:12.767741Z"
    }
   },
   "outputs": [
    {
     "name": "stdout",
     "output_type": "stream",
     "text": [
      "Applying filters (5)...\n"
     ]
    },
    {
     "data": {
      "application/vnd.jupyter.widget-view+json": {
       "model_id": "9f183c3ebc694a1bac43f60cf8631ba3",
       "version_major": 2,
       "version_minor": 0
      },
      "text/plain": [
       "HBox(children=(HTML(value=''), FloatProgress(value=0.0, max=8462.0), HTML(value='')))"
      ]
     },
     "metadata": {},
     "output_type": "display_data"
    },
    {
     "name": "stdout",
     "output_type": "stream",
     "text": [
      "\n",
      "Applied filter Isotopes: 8404\n"
     ]
    },
    {
     "data": {
      "application/vnd.jupyter.widget-view+json": {
       "model_id": "85837b7f2393400781a64fca461545c0",
       "version_major": 2,
       "version_minor": 0
      },
      "text/plain": [
       "HBox(children=(HTML(value=''), FloatProgress(value=0.0, max=8404.0), HTML(value='')))"
      ]
     },
     "metadata": {},
     "output_type": "display_data"
    },
    {
     "name": "stdout",
     "output_type": "stream",
     "text": [
      "\n",
      "Applied filter MedChemAtoms: 8187\n"
     ]
    },
    {
     "data": {
      "application/vnd.jupyter.widget-view+json": {
       "model_id": "4b50cce9007f41c1a77d842a836bceb5",
       "version_major": 2,
       "version_minor": 0
      },
      "text/plain": [
       "HBox(children=(HTML(value=''), FloatProgress(value=0.0, max=8187.0), HTML(value='')))"
      ]
     },
     "metadata": {},
     "output_type": "display_data"
    },
    {
     "name": "stdout",
     "output_type": "stream",
     "text": [
      "\n",
      "Applied filter MinHeavyAtoms: 8142\n",
      "Applied filter MaxHeavyAtoms: 8058\n"
     ]
    },
    {
     "data": {
      "application/vnd.jupyter.widget-view+json": {
       "model_id": "7eef602554bd4e15b8f1d40cf2ac4f68",
       "version_major": 2,
       "version_minor": 0
      },
      "text/plain": [
       "HBox(children=(HTML(value=''), FloatProgress(value=0.0, max=8058.0), HTML(value='')))"
      ]
     },
     "metadata": {},
     "output_type": "display_data"
    },
    {
     "name": "stdout",
     "output_type": "stream",
     "text": [
      "\n",
      "Applied filter Duplicates: 7472\n",
      "Shape DrugBank (MedChem filters)                  :       7472 /    2  [ DATABASE_ID, Smiles ]  \n"
     ]
    },
    {
     "data": {
      "text/html": [
       "<div>\n",
       "<style scoped>\n",
       "    .dataframe tbody tr th:only-of-type {\n",
       "        vertical-align: middle;\n",
       "    }\n",
       "\n",
       "    .dataframe tbody tr th {\n",
       "        vertical-align: top;\n",
       "    }\n",
       "\n",
       "    .dataframe thead th {\n",
       "        text-align: right;\n",
       "    }\n",
       "</style>\n",
       "<table border=\"1\" class=\"dataframe\">\n",
       "  <thead>\n",
       "    <tr style=\"text-align: right;\">\n",
       "      <th></th>\n",
       "      <th>DATABASE_ID</th>\n",
       "      <th>Smiles</th>\n",
       "    </tr>\n",
       "  </thead>\n",
       "  <tbody>\n",
       "    <tr>\n",
       "      <th>4</th>\n",
       "      <td>DB00035</td>\n",
       "      <td>N=C(N)NCCCC(NC(=O)C1CCCN1C(=O)C1CSSCCC(=O)NC(C...</td>\n",
       "    </tr>\n",
       "    <tr>\n",
       "      <th>8</th>\n",
       "      <td>DB00104</td>\n",
       "      <td>CC(O)C(CO)NC(=O)C1CSSCC(NC(=O)C(N)Cc2ccccc2)C(...</td>\n",
       "    </tr>\n",
       "    <tr>\n",
       "      <th>10</th>\n",
       "      <td>DB00114</td>\n",
       "      <td>Cc1ncc(CO[PH](=O)(=O)O)c(C=O)c1O</td>\n",
       "    </tr>\n",
       "    <tr>\n",
       "      <th>12</th>\n",
       "      <td>DB00118</td>\n",
       "      <td>C[S+](CCC(N)C(=O)[O-])CC1OC(n2cnc3c(=N)[nH]cnc...</td>\n",
       "    </tr>\n",
       "    <tr>\n",
       "      <th>13</th>\n",
       "      <td>DB00119</td>\n",
       "      <td>CC(=O)C(=O)O</td>\n",
       "    </tr>\n",
       "    <tr>\n",
       "      <th>14</th>\n",
       "      <td>DB00120</td>\n",
       "      <td>NC(Cc1ccccc1)C(=O)O</td>\n",
       "    </tr>\n",
       "    <tr>\n",
       "      <th>15</th>\n",
       "      <td>DB00121</td>\n",
       "      <td>O=C(O)CCCCC1SCC2NC(=O)NC21</td>\n",
       "    </tr>\n",
       "    <tr>\n",
       "      <th>16</th>\n",
       "      <td>DB00122</td>\n",
       "      <td>C[N+](C)(C)CCO</td>\n",
       "    </tr>\n",
       "    <tr>\n",
       "      <th>17</th>\n",
       "      <td>DB00123</td>\n",
       "      <td>NCCCCC(N)C(=O)O</td>\n",
       "    </tr>\n",
       "    <tr>\n",
       "      <th>18</th>\n",
       "      <td>DB00126</td>\n",
       "      <td>OCC(O)c1oc(O)c(O)c1O</td>\n",
       "    </tr>\n",
       "  </tbody>\n",
       "</table>\n",
       "</div>"
      ],
      "text/plain": [
       "   DATABASE_ID                                             Smiles\n",
       "4      DB00035  N=C(N)NCCCC(NC(=O)C1CCCN1C(=O)C1CSSCCC(=O)NC(C...\n",
       "8      DB00104  CC(O)C(CO)NC(=O)C1CSSCC(NC(=O)C(N)Cc2ccccc2)C(...\n",
       "10     DB00114                   Cc1ncc(CO[PH](=O)(=O)O)c(C=O)c1O\n",
       "12     DB00118  C[S+](CCC(N)C(=O)[O-])CC1OC(n2cnc3c(=N)[nH]cnc...\n",
       "13     DB00119                                       CC(=O)C(=O)O\n",
       "14     DB00120                                NC(Cc1ccccc1)C(=O)O\n",
       "15     DB00121                         O=C(O)CCCCC1SCC2NC(=O)NC21\n",
       "16     DB00122                                     C[N+](C)(C)CCO\n",
       "17     DB00123                                    NCCCCC(N)C(=O)O\n",
       "18     DB00126                               OCC(O)c1oc(O)c(O)c1O"
      ]
     },
     "execution_count": 5,
     "metadata": {},
     "output_type": "execute_result"
    }
   ],
   "source": [
    "drugbank = u.filter_mols(drugbank, \"Smiles\", [\"Isotopes\", \"MedChemAtoms\", \"MinHeavyAtoms\", \"MaxHeavyAtoms\", \"Duplicates\"])\n",
    "lp(drugbank, \"DrugBank (MedChem filters)\")\n",
    "\n",
    "drugbank.head(10)"
   ]
  },
  {
   "cell_type": "code",
   "execution_count": null,
   "metadata": {},
   "outputs": [],
   "source": []
  },
  {
   "cell_type": "markdown",
   "metadata": {},
   "source": [
    "### Write Data Set"
   ]
  },
  {
   "cell_type": "code",
   "execution_count": 8,
   "metadata": {
    "ExecuteTime": {
     "end_time": "2020-11-25T20:43:35.067583Z",
     "start_time": "2020-11-25T20:43:35.032157Z"
    }
   },
   "outputs": [
    {
     "name": "stdout",
     "output_type": "stream",
     "text": [
      "Shape DrugBank (MedChem filters)                  :       7472 /    2  [ DATABASE_ID, Smiles ]  \n"
     ]
    },
    {
     "data": {
      "text/html": [
       "<div>\n",
       "<style scoped>\n",
       "    .dataframe tbody tr th:only-of-type {\n",
       "        vertical-align: middle;\n",
       "    }\n",
       "\n",
       "    .dataframe tbody tr th {\n",
       "        vertical-align: top;\n",
       "    }\n",
       "\n",
       "    .dataframe thead th {\n",
       "        text-align: right;\n",
       "    }\n",
       "</style>\n",
       "<table border=\"1\" class=\"dataframe\">\n",
       "  <thead>\n",
       "    <tr style=\"text-align: right;\">\n",
       "      <th></th>\n",
       "      <th>DATABASE_ID</th>\n",
       "      <th>Smiles</th>\n",
       "    </tr>\n",
       "  </thead>\n",
       "  <tbody>\n",
       "    <tr>\n",
       "      <th>4</th>\n",
       "      <td>DB00035</td>\n",
       "      <td>N=C(N)NCCCC(NC(=O)C1CCCN1C(=O)C1CSSCCC(=O)NC(C...</td>\n",
       "    </tr>\n",
       "    <tr>\n",
       "      <th>8</th>\n",
       "      <td>DB00104</td>\n",
       "      <td>CC(O)C(CO)NC(=O)C1CSSCC(NC(=O)C(N)Cc2ccccc2)C(...</td>\n",
       "    </tr>\n",
       "    <tr>\n",
       "      <th>10</th>\n",
       "      <td>DB00114</td>\n",
       "      <td>Cc1ncc(CO[PH](=O)(=O)O)c(C=O)c1O</td>\n",
       "    </tr>\n",
       "    <tr>\n",
       "      <th>12</th>\n",
       "      <td>DB00118</td>\n",
       "      <td>C[S+](CCC(N)C(=O)[O-])CC1OC(n2cnc3c(=N)[nH]cnc...</td>\n",
       "    </tr>\n",
       "    <tr>\n",
       "      <th>13</th>\n",
       "      <td>DB00119</td>\n",
       "      <td>CC(=O)C(=O)O</td>\n",
       "    </tr>\n",
       "  </tbody>\n",
       "</table>\n",
       "</div>"
      ],
      "text/plain": [
       "   DATABASE_ID                                             Smiles\n",
       "4      DB00035  N=C(N)NCCCC(NC(=O)C1CCCN1C(=O)C1CSSCCC(=O)NC(C...\n",
       "8      DB00104  CC(O)C(CO)NC(=O)C1CSSCC(NC(=O)C(N)Cc2ccccc2)C(...\n",
       "10     DB00114                   Cc1ncc(CO[PH](=O)(=O)O)c(C=O)c1O\n",
       "12     DB00118  C[S+](CCC(N)C(=O)[O-])CC1OC(n2cnc3c(=N)[nH]cnc...\n",
       "13     DB00119                                       CC(=O)C(=O)O"
      ]
     },
     "execution_count": 8,
     "metadata": {},
     "output_type": "execute_result"
    }
   ],
   "source": [
    "drugbank.to_csv(\"../tmp/drugbank_std.tsv\", sep=\"\\t\", index=False)\n",
    "lp(drugbank, \"DrugBank (MedChem filters)\")\n",
    "\n",
    "drugbank.head()"
   ]
  },
  {
   "cell_type": "code",
   "execution_count": null,
   "metadata": {},
   "outputs": [],
   "source": []
  },
  {
   "cell_type": "markdown",
   "metadata": {},
   "source": [
    "### Create Subset"
   ]
  },
  {
   "cell_type": "code",
   "execution_count": 13,
   "metadata": {
    "ExecuteTime": {
     "end_time": "2020-11-26T11:36:38.889250Z",
     "start_time": "2020-11-26T11:36:38.840955Z"
    }
   },
   "outputs": [
    {
     "name": "stdout",
     "output_type": "stream",
     "text": [
      "Shape Drugbank subset                             :       5000 /    2  [ DATABASE_ID, Smiles ]  \n"
     ]
    }
   ],
   "source": [
    "drugbank = pd.read_csv(\"../tmp/drugbank_std.tsv\", sep=\"\\t\")\n",
    "drugbank_subset = drugbank.sample(n=5000, random_state=0xc0ffee)\n",
    "drugbank_subset.to_csv(\"../tmp/drugbank_std_subset.tsv\", sep=\"\\t\", index=False)\n",
    "lp(drugbank_subset, \"Drugbank subset\")"
   ]
  },
  {
   "cell_type": "code",
   "execution_count": null,
   "metadata": {},
   "outputs": [],
   "source": []
  },
  {
   "cell_type": "markdown",
   "metadata": {},
   "source": [
    "## Enamine Advanced Screening Collection\n",
    "\n",
    "* Enamine Advanced Screening Collection (527411 compounds)\n",
    "* Downloaded from [Enamine](https://enamine.net/hit-finding/compound-collections/screening-collection/advanced-collection) on 07-Dec-2020\n",
    "SD file extracted and gzipped\n",
    "Random selection of 50k, then standardized and filtered."
   ]
  },
  {
   "cell_type": "markdown",
   "metadata": {},
   "source": [
    "### Loading\n",
    "\n",
    "Load the downloaded gzipped SD file into a DataFrame"
   ]
  },
  {
   "cell_type": "code",
   "execution_count": 3,
   "metadata": {
    "ExecuteTime": {
     "end_time": "2020-12-07T16:24:25.448614Z",
     "start_time": "2020-12-07T16:20:52.568528Z"
    },
    "scrolled": true
   },
   "outputs": [
    {
     "name": "stderr",
     "output_type": "stream",
     "text": [
      "RDKit ERROR: [17:22:53] Explicit valence for atom # 7 N, 4, is greater than permitted\n",
      "RDKit ERROR: [17:22:53] ERROR: Could not sanitize molecule ending on line 24061869\n",
      "RDKit ERROR: [17:22:53] ERROR: Explicit valence for atom # 7 N, 4, is greater than permitted\n",
      "RDKit ERROR: [17:22:53] Explicit valence for atom # 7 N, 4, is greater than permitted\n",
      "RDKit ERROR: [17:22:53] ERROR: Could not sanitize molecule ending on line 24061948\n",
      "RDKit ERROR: [17:22:53] ERROR: Explicit valence for atom # 7 N, 4, is greater than permitted\n",
      "RDKit ERROR: [17:23:13] Explicit valence for atom # 7 N, 4, is greater than permitted\n",
      "RDKit ERROR: [17:23:13] ERROR: Could not sanitize molecule ending on line 28077193\n",
      "RDKit ERROR: [17:23:13] ERROR: Explicit valence for atom # 7 N, 4, is greater than permitted\n",
      "RDKit ERROR: [17:23:35] Explicit valence for atom # 7 N, 4, is greater than permitted\n",
      "RDKit ERROR: [17:23:35] ERROR: Could not sanitize molecule ending on line 32668058\n",
      "RDKit ERROR: [17:23:35] ERROR: Explicit valence for atom # 7 N, 4, is greater than permitted\n",
      "RDKit ERROR: [17:23:48] Explicit valence for atom # 7 N, 4, is greater than permitted\n",
      "RDKit ERROR: [17:23:48] ERROR: Could not sanitize molecule ending on line 35458565\n",
      "RDKit ERROR: [17:23:48] ERROR: Explicit valence for atom # 7 N, 4, is greater than permitted\n",
      "RDKit ERROR: [17:23:48] Explicit valence for atom # 12 N, 4, is greater than permitted\n",
      "RDKit ERROR: [17:23:48] ERROR: Could not sanitize molecule ending on line 35458686\n",
      "RDKit ERROR: [17:23:48] ERROR: Explicit valence for atom # 12 N, 4, is greater than permitted\n",
      "RDKit ERROR: [17:23:48] Explicit valence for atom # 15 N, 4, is greater than permitted\n",
      "RDKit ERROR: [17:23:48] ERROR: Could not sanitize molecule ending on line 35458796\n",
      "RDKit ERROR: [17:23:48] ERROR: Explicit valence for atom # 15 N, 4, is greater than permitted\n",
      "RDKit ERROR: [17:23:48] Explicit valence for atom # 8 N, 4, is greater than permitted\n",
      "RDKit ERROR: [17:23:48] ERROR: Could not sanitize molecule ending on line 35458914\n",
      "RDKit ERROR: [17:23:48] ERROR: Explicit valence for atom # 8 N, 4, is greater than permitted\n",
      "RDKit ERROR: [17:23:48] Explicit valence for atom # 28 B, 4, is greater than permitted\n",
      "RDKit ERROR: [17:23:48] ERROR: Could not sanitize molecule ending on line 35459059\n",
      "RDKit ERROR: [17:23:48] ERROR: Explicit valence for atom # 28 B, 4, is greater than permitted\n",
      "RDKit ERROR: [17:23:48] Explicit valence for atom # 20 B, 4, is greater than permitted\n",
      "RDKit ERROR: [17:23:48] ERROR: Could not sanitize molecule ending on line 35459200\n",
      "RDKit ERROR: [17:23:48] ERROR: Explicit valence for atom # 20 B, 4, is greater than permitted\n",
      "RDKit ERROR: [17:23:48] Explicit valence for atom # 30 B, 4, is greater than permitted\n",
      "RDKit ERROR: [17:23:48] ERROR: Could not sanitize molecule ending on line 35459353\n",
      "RDKit ERROR: [17:23:48] ERROR: Explicit valence for atom # 30 B, 4, is greater than permitted\n",
      "RDKit ERROR: [17:23:48] Explicit valence for atom # 15 N, 4, is greater than permitted\n",
      "RDKit ERROR: [17:23:48] ERROR: Could not sanitize molecule ending on line 35459465\n",
      "RDKit ERROR: [17:23:48] ERROR: Explicit valence for atom # 15 N, 4, is greater than permitted\n",
      "RDKit ERROR: [17:23:48] Explicit valence for atom # 20 B, 4, is greater than permitted\n",
      "RDKit ERROR: [17:23:48] ERROR: Could not sanitize molecule ending on line 35459588\n",
      "RDKit ERROR: [17:23:48] ERROR: Explicit valence for atom # 20 B, 4, is greater than permitted\n",
      "RDKit ERROR: [17:23:48] Explicit valence for atom # 6 N, 4, is greater than permitted\n",
      "RDKit ERROR: [17:23:48] ERROR: Could not sanitize molecule ending on line 35459713\n",
      "RDKit ERROR: [17:23:48] ERROR: Explicit valence for atom # 6 N, 4, is greater than permitted\n",
      "RDKit ERROR: [17:23:48] Explicit valence for atom # 20 B, 4, is greater than permitted\n",
      "RDKit ERROR: [17:23:48] ERROR: Could not sanitize molecule ending on line 35459837\n",
      "RDKit ERROR: [17:23:48] ERROR: Explicit valence for atom # 20 B, 4, is greater than permitted\n",
      "RDKit ERROR: [17:23:48] Explicit valence for atom # 20 B, 4, is greater than permitted\n",
      "RDKit ERROR: [17:23:48] ERROR: Could not sanitize molecule ending on line 35459954\n",
      "RDKit ERROR: [17:23:48] ERROR: Explicit valence for atom # 20 B, 4, is greater than permitted\n",
      "RDKit ERROR: [17:23:48] Explicit valence for atom # 20 B, 4, is greater than permitted\n",
      "RDKit ERROR: [17:23:48] ERROR: Could not sanitize molecule ending on line 35460082\n",
      "RDKit ERROR: [17:23:48] ERROR: Explicit valence for atom # 20 B, 4, is greater than permitted\n",
      "RDKit ERROR: [17:23:48] Explicit valence for atom # 20 B, 4, is greater than permitted\n",
      "RDKit ERROR: [17:23:48] ERROR: Could not sanitize molecule ending on line 35460216\n",
      "RDKit ERROR: [17:23:48] ERROR: Explicit valence for atom # 20 B, 4, is greater than permitted\n",
      "RDKit ERROR: [17:23:48] Explicit valence for atom # 14 N, 4, is greater than permitted\n",
      "RDKit ERROR: [17:23:48] ERROR: Could not sanitize molecule ending on line 35460344\n",
      "RDKit ERROR: [17:23:48] ERROR: Explicit valence for atom # 14 N, 4, is greater than permitted\n",
      "RDKit ERROR: [17:23:48] Explicit valence for atom # 14 N, 4, is greater than permitted\n",
      "RDKit ERROR: [17:23:48] ERROR: Could not sanitize molecule ending on line 35460553\n",
      "RDKit ERROR: [17:23:48] ERROR: Explicit valence for atom # 14 N, 4, is greater than permitted\n",
      "RDKit ERROR: [17:23:48] Explicit valence for atom # 19 N, 4, is greater than permitted\n",
      "RDKit ERROR: [17:23:48] ERROR: Could not sanitize molecule ending on line 35460682\n",
      "RDKit ERROR: [17:23:48] ERROR: Explicit valence for atom # 19 N, 4, is greater than permitted\n",
      "RDKit ERROR: [17:23:48] Explicit valence for atom # 19 N, 4, is greater than permitted\n",
      "RDKit ERROR: [17:23:48] ERROR: Could not sanitize molecule ending on line 35460807\n",
      "RDKit ERROR: [17:23:48] ERROR: Explicit valence for atom # 19 N, 4, is greater than permitted\n",
      "RDKit ERROR: [17:23:48] Explicit valence for atom # 6 N, 4, is greater than permitted\n",
      "RDKit ERROR: [17:23:48] ERROR: Could not sanitize molecule ending on line 35460896\n",
      "RDKit ERROR: [17:23:48] ERROR: Explicit valence for atom # 6 N, 4, is greater than permitted\n",
      "RDKit ERROR: [17:23:48] Explicit valence for atom # 14 N, 4, is greater than permitted\n",
      "RDKit ERROR: [17:23:48] ERROR: Could not sanitize molecule ending on line 35461010\n",
      "RDKit ERROR: [17:23:48] ERROR: Explicit valence for atom # 14 N, 4, is greater than permitted\n",
      "RDKit ERROR: [17:23:48] Explicit valence for atom # 1 B, 4, is greater than permitted\n",
      "RDKit ERROR: [17:23:48] ERROR: Could not sanitize molecule ending on line 35461145\n",
      "RDKit ERROR: [17:23:48] ERROR: Explicit valence for atom # 1 B, 4, is greater than permitted\n",
      "RDKit ERROR: [17:23:48] Explicit valence for atom # 11 N, 4, is greater than permitted\n",
      "RDKit ERROR: [17:23:48] ERROR: Could not sanitize molecule ending on line 35461264\n",
      "RDKit ERROR: [17:23:48] ERROR: Explicit valence for atom # 11 N, 4, is greater than permitted\n",
      "RDKit ERROR: [17:23:48] Explicit valence for atom # 13 N, 4, is greater than permitted\n",
      "RDKit ERROR: [17:23:48] ERROR: Could not sanitize molecule ending on line 35461387\n",
      "RDKit ERROR: [17:23:48] ERROR: Explicit valence for atom # 13 N, 4, is greater than permitted\n",
      "RDKit ERROR: [17:23:48] Explicit valence for atom # 11 N, 4, is greater than permitted\n",
      "RDKit ERROR: [17:23:48] ERROR: Could not sanitize molecule ending on line 35461502\n",
      "RDKit ERROR: [17:23:48] ERROR: Explicit valence for atom # 11 N, 4, is greater than permitted\n",
      "RDKit ERROR: [17:23:48] Explicit valence for atom # 11 N, 4, is greater than permitted\n",
      "RDKit ERROR: [17:23:48] ERROR: Could not sanitize molecule ending on line 35461629\n",
      "RDKit ERROR: [17:23:48] ERROR: Explicit valence for atom # 11 N, 4, is greater than permitted\n",
      "RDKit ERROR: [17:23:48] Explicit valence for atom # 11 N, 4, is greater than permitted\n",
      "RDKit ERROR: [17:23:48] ERROR: Could not sanitize molecule ending on line 35461765\n",
      "RDKit ERROR: [17:23:48] ERROR: Explicit valence for atom # 11 N, 4, is greater than permitted\n",
      "RDKit ERROR: [17:24:23] Explicit valence for atom # 9 N, 4, is greater than permitted\n",
      "RDKit ERROR: [17:24:23] ERROR: Could not sanitize molecule ending on line 42659508\n"
     ]
    },
    {
     "name": "stdout",
     "output_type": "stream",
     "text": [
      "{'In': 527411, 'Out': 527380, 'Fail_NoMol': 31}\n",
      "Shape Enamine                                     :     527380 /    2  [ idnumber, Smiles ]  \n"
     ]
    },
    {
     "data": {
      "text/html": [
       "<div>\n",
       "<style scoped>\n",
       "    .dataframe tbody tr th:only-of-type {\n",
       "        vertical-align: middle;\n",
       "    }\n",
       "\n",
       "    .dataframe tbody tr th {\n",
       "        vertical-align: top;\n",
       "    }\n",
       "\n",
       "    .dataframe thead th {\n",
       "        text-align: right;\n",
       "    }\n",
       "</style>\n",
       "<table border=\"1\" class=\"dataframe\">\n",
       "  <thead>\n",
       "    <tr style=\"text-align: right;\">\n",
       "      <th></th>\n",
       "      <th>idnumber</th>\n",
       "      <th>Smiles</th>\n",
       "    </tr>\n",
       "  </thead>\n",
       "  <tbody>\n",
       "    <tr>\n",
       "      <th>0</th>\n",
       "      <td>Z3234812272</td>\n",
       "      <td>C[C@@H](N)CN.Cl.Cl</td>\n",
       "    </tr>\n",
       "    <tr>\n",
       "      <th>1</th>\n",
       "      <td>Z1198156558</td>\n",
       "      <td>c1nncs1</td>\n",
       "    </tr>\n",
       "    <tr>\n",
       "      <th>2</th>\n",
       "      <td>Z2941405027</td>\n",
       "      <td>CC(F)CN.Cl</td>\n",
       "    </tr>\n",
       "    <tr>\n",
       "      <th>3</th>\n",
       "      <td>Z2941400887</td>\n",
       "      <td>Cl.NCC=CCl</td>\n",
       "    </tr>\n",
       "    <tr>\n",
       "      <th>4</th>\n",
       "      <td>Z1255360409</td>\n",
       "      <td>O=P(O)(O)F</td>\n",
       "    </tr>\n",
       "  </tbody>\n",
       "</table>\n",
       "</div>"
      ],
      "text/plain": [
       "      idnumber              Smiles\n",
       "0  Z3234812272  C[C@@H](N)CN.Cl.Cl\n",
       "1  Z1198156558             c1nncs1\n",
       "2  Z2941405027          CC(F)CN.Cl\n",
       "3  Z2941400887          Cl.NCC=CCl\n",
       "4  Z1255360409          O=P(O)(O)F"
      ]
     },
     "execution_count": 3,
     "metadata": {},
     "output_type": "execute_result"
    }
   ],
   "source": [
    "enamine = u.read_sdf([\"/home/pahl/comas/notebooks/sdf/enamine/enamine_adv.gz\"])\n",
    "enamine = enamine[[\"idnumber\", \"Smiles\"]]\n",
    "lp(enamine, \"Enamine\")\n",
    "\n",
    "enamine.head()"
   ]
  },
  {
   "cell_type": "markdown",
   "metadata": {},
   "source": [
    "### Create Subset\n",
    "\n",
    "A random subset of 50k cpds. is selected."
   ]
  },
  {
   "cell_type": "code",
   "execution_count": 4,
   "metadata": {
    "ExecuteTime": {
     "end_time": "2020-12-07T16:24:25.747960Z",
     "start_time": "2020-12-07T16:24:25.450277Z"
    }
   },
   "outputs": [],
   "source": [
    "enamine_subset = enamine.sample(n=50000, random_state=0xc0ffee)\n",
    "enamine_subset.to_csv(\"../tmp/enamine_subset.tsv\", sep=\"\\t\", index=False)"
   ]
  },
  {
   "cell_type": "code",
   "execution_count": 3,
   "metadata": {
    "ExecuteTime": {
     "end_time": "2020-12-07T16:34:29.793691Z",
     "start_time": "2020-12-07T16:34:29.697887Z"
    }
   },
   "outputs": [],
   "source": [
    "# enamine_subset = pd.read_csv(\"../tmp/enamine_subset.tsv\", sep=\"\\t\")"
   ]
  },
  {
   "cell_type": "markdown",
   "metadata": {},
   "source": [
    "### Standardization\n",
    "\n",
    "Standardization implemented in MolVS:\n",
    "* standardization\n",
    "* remove stereo information\n",
    "* choose largest fragment\n",
    "* canonicalize tautomer"
   ]
  },
  {
   "cell_type": "code",
   "execution_count": 4,
   "metadata": {
    "ExecuteTime": {
     "end_time": "2020-12-07T16:42:18.442131Z",
     "start_time": "2020-12-07T16:35:01.814614Z"
    }
   },
   "outputs": [
    {
     "name": "stdout",
     "output_type": "stream",
     "text": [
      "INFO: Pandarallel will run on 6 workers.\n",
      "INFO: Pandarallel will use Memory file system to transfer data between the main process and workers.\n"
     ]
    },
    {
     "data": {
      "application/vnd.jupyter.widget-view+json": {
       "model_id": "4b00dd71d6924d0ebdb3d3e3fd193f5b",
       "version_major": 2,
       "version_minor": 0
      },
      "text/plain": [
       "VBox(children=(HBox(children=(IntProgress(value=0, description='0.00%', max=8334), Label(value='0 / 8334'))), …"
      ]
     },
     "metadata": {},
     "output_type": "display_data"
    },
    {
     "name": "stderr",
     "output_type": "stream",
     "text": [
      "RDKit ERROR: [17:35:45] Explicit valence for atom # 24 B, 5, is greater than permitted\n"
     ]
    },
    {
     "name": "stdout",
     "output_type": "stream",
     "text": [
      "Shape Enamine (Std)                               :      50000 /    2  [ idnumber, Smiles ]  ( NAN values in 1 col(s) )\n"
     ]
    }
   ],
   "source": [
    "enamine_subset = u.apply_to_smiles(enamine_subset, \"Smiles\", {\"Smiles_Std\": lambda x: u.standardize_mol(x, remove_stereo=True, canonicalize_tautomer=True)}, parallel=True)\n",
    "enamine_subset.drop(\"Smiles\", axis=1, inplace=True)\n",
    "enamine_subset = enamine_subset.rename(columns={\"Smiles_Std\": \"Smiles\"})\n",
    "lp(enamine_subset, \"Enamine (Std)\")"
   ]
  },
  {
   "cell_type": "markdown",
   "metadata": {},
   "source": [
    "### Filters\n",
    "\n",
    "The data set is filtered for Isotopes, MedChemAtoms, MinHeavyAtoms, MaxHeavyAtoms and Duplicates.  "
   ]
  },
  {
   "cell_type": "code",
   "execution_count": 5,
   "metadata": {
    "ExecuteTime": {
     "end_time": "2020-12-07T16:44:06.627479Z",
     "start_time": "2020-12-07T16:42:18.443754Z"
    }
   },
   "outputs": [
    {
     "name": "stdout",
     "output_type": "stream",
     "text": [
      "Applying filters (5)...\n"
     ]
    },
    {
     "data": {
      "application/vnd.jupyter.widget-view+json": {
       "model_id": "69596fafcb384b628aa23d70c2d19f1b",
       "version_major": 2,
       "version_minor": 0
      },
      "text/plain": [
       "HBox(children=(HTML(value=''), FloatProgress(value=0.0, max=50000.0), HTML(value='')))"
      ]
     },
     "metadata": {},
     "output_type": "display_data"
    },
    {
     "name": "stdout",
     "output_type": "stream",
     "text": [
      "\n",
      "Applied filter Isotopes: 49999\n"
     ]
    },
    {
     "data": {
      "application/vnd.jupyter.widget-view+json": {
       "model_id": "8fe901a60c4744b693ff59be56f37757",
       "version_major": 2,
       "version_minor": 0
      },
      "text/plain": [
       "HBox(children=(HTML(value=''), FloatProgress(value=0.0, max=49999.0), HTML(value='')))"
      ]
     },
     "metadata": {},
     "output_type": "display_data"
    },
    {
     "name": "stdout",
     "output_type": "stream",
     "text": [
      "\n",
      "Applied filter MedChemAtoms: 49992\n"
     ]
    },
    {
     "data": {
      "application/vnd.jupyter.widget-view+json": {
       "model_id": "cc6e16bbeb03419bb3307d88a6b27e4f",
       "version_major": 2,
       "version_minor": 0
      },
      "text/plain": [
       "HBox(children=(HTML(value=''), FloatProgress(value=0.0, max=49992.0), HTML(value='')))"
      ]
     },
     "metadata": {},
     "output_type": "display_data"
    },
    {
     "name": "stdout",
     "output_type": "stream",
     "text": [
      "\n",
      "Applied filter MinHeavyAtoms: 49992\n",
      "Applied filter MaxHeavyAtoms: 49991\n"
     ]
    },
    {
     "data": {
      "application/vnd.jupyter.widget-view+json": {
       "model_id": "8d8d9adefe4e4601991d9069ce47599b",
       "version_major": 2,
       "version_minor": 0
      },
      "text/plain": [
       "HBox(children=(HTML(value=''), FloatProgress(value=0.0, max=49991.0), HTML(value='')))"
      ]
     },
     "metadata": {},
     "output_type": "display_data"
    },
    {
     "name": "stdout",
     "output_type": "stream",
     "text": [
      "\n",
      "Applied filter Duplicates: 49968\n",
      "Shape Enamine (MedChem filters)                   :      49968 /    2  [ idnumber, Smiles ]  \n"
     ]
    },
    {
     "data": {
      "text/html": [
       "<div>\n",
       "<style scoped>\n",
       "    .dataframe tbody tr th:only-of-type {\n",
       "        vertical-align: middle;\n",
       "    }\n",
       "\n",
       "    .dataframe tbody tr th {\n",
       "        vertical-align: top;\n",
       "    }\n",
       "\n",
       "    .dataframe thead th {\n",
       "        text-align: right;\n",
       "    }\n",
       "</style>\n",
       "<table border=\"1\" class=\"dataframe\">\n",
       "  <thead>\n",
       "    <tr style=\"text-align: right;\">\n",
       "      <th></th>\n",
       "      <th>idnumber</th>\n",
       "      <th>Smiles</th>\n",
       "    </tr>\n",
       "  </thead>\n",
       "  <tbody>\n",
       "    <tr>\n",
       "      <th>0</th>\n",
       "      <td>Z2970969541</td>\n",
       "      <td>CCOc1cc(N2CCN(C(N)=O)CC2)nc(C)n1</td>\n",
       "    </tr>\n",
       "    <tr>\n",
       "      <th>1</th>\n",
       "      <td>Z2391619370</td>\n",
       "      <td>O=C(CCc1ccco1)N1CCCC(O)(Cc2nc(C3CC3)no2)C1</td>\n",
       "    </tr>\n",
       "    <tr>\n",
       "      <th>2</th>\n",
       "      <td>Z1440436506</td>\n",
       "      <td>Cc1nc(CC(C)C)c(C(=O)N2CC(O)C2)s1</td>\n",
       "    </tr>\n",
       "    <tr>\n",
       "      <th>3</th>\n",
       "      <td>Z1334208338</td>\n",
       "      <td>Cc1cc(C(=O)NCCc2nnc(-c3ccccc3)o2)n(C)n1</td>\n",
       "    </tr>\n",
       "    <tr>\n",
       "      <th>4</th>\n",
       "      <td>Z1396752281</td>\n",
       "      <td>Fc1cccnc1N1CCC(N=c2ncc(Br)c[nH]2)C1</td>\n",
       "    </tr>\n",
       "    <tr>\n",
       "      <th>5</th>\n",
       "      <td>Z1759227827</td>\n",
       "      <td>COc1cc(C(=O)NCC2CC(F)CN2Cc2cnoc2C)on1</td>\n",
       "    </tr>\n",
       "    <tr>\n",
       "      <th>6</th>\n",
       "      <td>Z2755041138</td>\n",
       "      <td>CC(C)(C)OC(=O)N1CCN(C(C(=O)NCC(N)=O)C2CCCC2)CC1</td>\n",
       "    </tr>\n",
       "    <tr>\n",
       "      <th>7</th>\n",
       "      <td>Z1704446318</td>\n",
       "      <td>CC1CCN(C(O)c2cc(=O)[nH]c3ccccc23)c2c(O)cccc21</td>\n",
       "    </tr>\n",
       "    <tr>\n",
       "      <th>8</th>\n",
       "      <td>Z3484536734</td>\n",
       "      <td>O=c1[nH]c(=O)c2c(-c3ccc(OCCCN4CCCCC4)cc3)[nH]n...</td>\n",
       "    </tr>\n",
       "    <tr>\n",
       "      <th>9</th>\n",
       "      <td>Z1693137190</td>\n",
       "      <td>CCCCC(NC(=O)c1ccc(N2CCCS2(=O)=O)cc1C)C(=O)OC(C...</td>\n",
       "    </tr>\n",
       "  </tbody>\n",
       "</table>\n",
       "</div>"
      ],
      "text/plain": [
       "      idnumber                                             Smiles\n",
       "0  Z2970969541                   CCOc1cc(N2CCN(C(N)=O)CC2)nc(C)n1\n",
       "1  Z2391619370         O=C(CCc1ccco1)N1CCCC(O)(Cc2nc(C3CC3)no2)C1\n",
       "2  Z1440436506                   Cc1nc(CC(C)C)c(C(=O)N2CC(O)C2)s1\n",
       "3  Z1334208338            Cc1cc(C(=O)NCCc2nnc(-c3ccccc3)o2)n(C)n1\n",
       "4  Z1396752281                Fc1cccnc1N1CCC(N=c2ncc(Br)c[nH]2)C1\n",
       "5  Z1759227827              COc1cc(C(=O)NCC2CC(F)CN2Cc2cnoc2C)on1\n",
       "6  Z2755041138    CC(C)(C)OC(=O)N1CCN(C(C(=O)NCC(N)=O)C2CCCC2)CC1\n",
       "7  Z1704446318      CC1CCN(C(O)c2cc(=O)[nH]c3ccccc23)c2c(O)cccc21\n",
       "8  Z3484536734  O=c1[nH]c(=O)c2c(-c3ccc(OCCCN4CCCCC4)cc3)[nH]n...\n",
       "9  Z1693137190  CCCCC(NC(=O)c1ccc(N2CCCS2(=O)=O)cc1C)C(=O)OC(C..."
      ]
     },
     "execution_count": 5,
     "metadata": {},
     "output_type": "execute_result"
    }
   ],
   "source": [
    "enamine_subset = u.filter_mols(enamine_subset, \"Smiles\", [\"Isotopes\", \"MedChemAtoms\", \"MinHeavyAtoms\", \"MaxHeavyAtoms\", \"Duplicates\"])\n",
    "lp(enamine_subset, \"Enamine (MedChem filters)\")\n",
    "\n",
    "enamine_subset.head(10)"
   ]
  },
  {
   "cell_type": "code",
   "execution_count": 6,
   "metadata": {
    "ExecuteTime": {
     "end_time": "2020-12-07T16:44:06.875827Z",
     "start_time": "2020-12-07T16:44:06.629321Z"
    }
   },
   "outputs": [
    {
     "name": "stdout",
     "output_type": "stream",
     "text": [
      "Shape Enamine (filters)                           :      49968 /    2  [ idnumber, Smiles ]  \n"
     ]
    },
    {
     "data": {
      "text/html": [
       "<div>\n",
       "<style scoped>\n",
       "    .dataframe tbody tr th:only-of-type {\n",
       "        vertical-align: middle;\n",
       "    }\n",
       "\n",
       "    .dataframe tbody tr th {\n",
       "        vertical-align: top;\n",
       "    }\n",
       "\n",
       "    .dataframe thead th {\n",
       "        text-align: right;\n",
       "    }\n",
       "</style>\n",
       "<table border=\"1\" class=\"dataframe\">\n",
       "  <thead>\n",
       "    <tr style=\"text-align: right;\">\n",
       "      <th></th>\n",
       "      <th>idnumber</th>\n",
       "      <th>Smiles</th>\n",
       "    </tr>\n",
       "  </thead>\n",
       "  <tbody>\n",
       "    <tr>\n",
       "      <th>0</th>\n",
       "      <td>Z2970969541</td>\n",
       "      <td>CCOc1cc(N2CCN(C(N)=O)CC2)nc(C)n1</td>\n",
       "    </tr>\n",
       "    <tr>\n",
       "      <th>1</th>\n",
       "      <td>Z2391619370</td>\n",
       "      <td>O=C(CCc1ccco1)N1CCCC(O)(Cc2nc(C3CC3)no2)C1</td>\n",
       "    </tr>\n",
       "    <tr>\n",
       "      <th>2</th>\n",
       "      <td>Z1440436506</td>\n",
       "      <td>Cc1nc(CC(C)C)c(C(=O)N2CC(O)C2)s1</td>\n",
       "    </tr>\n",
       "    <tr>\n",
       "      <th>3</th>\n",
       "      <td>Z1334208338</td>\n",
       "      <td>Cc1cc(C(=O)NCCc2nnc(-c3ccccc3)o2)n(C)n1</td>\n",
       "    </tr>\n",
       "    <tr>\n",
       "      <th>4</th>\n",
       "      <td>Z1396752281</td>\n",
       "      <td>Fc1cccnc1N1CCC(N=c2ncc(Br)c[nH]2)C1</td>\n",
       "    </tr>\n",
       "  </tbody>\n",
       "</table>\n",
       "</div>"
      ],
      "text/plain": [
       "      idnumber                                      Smiles\n",
       "0  Z2970969541            CCOc1cc(N2CCN(C(N)=O)CC2)nc(C)n1\n",
       "1  Z2391619370  O=C(CCc1ccco1)N1CCCC(O)(Cc2nc(C3CC3)no2)C1\n",
       "2  Z1440436506            Cc1nc(CC(C)C)c(C(=O)N2CC(O)C2)s1\n",
       "3  Z1334208338     Cc1cc(C(=O)NCCc2nnc(-c3ccccc3)o2)n(C)n1\n",
       "4  Z1396752281         Fc1cccnc1N1CCC(N=c2ncc(Br)c[nH]2)C1"
      ]
     },
     "execution_count": 6,
     "metadata": {},
     "output_type": "execute_result"
    }
   ],
   "source": [
    "enamine_subset.to_csv(\"../tmp/enamine_subset_std.tsv\", sep=\"\\t\", index=False)\n",
    "enamine_subset[[\"idnumber\"]].to_csv(\"../Input Data/enamine_subset_std_ids.tsv\", sep=\"\\t\", index=False)\n",
    "lp(enamine_subset, \"Enamine (filters)\")\n"
   ]
  },
  {
   "cell_type": "code",
   "execution_count": null,
   "metadata": {},
   "outputs": [],
   "source": []
  },
  {
   "cell_type": "code",
   "execution_count": null,
   "metadata": {},
   "outputs": [],
   "source": []
  },
  {
   "cell_type": "markdown",
   "metadata": {},
   "source": [
    "## Internal Compounds\n",
    "\n",
    "Approved and experimental drugs, downloaded from DrugBank on 25-Mar-2020, v 5.1.5.\n",
    "\n",
    "* 244 individual cpds.\n",
    "* standardization, removal of stereo information and MedChem filters: `internal_cpds_mc.tsv`\n",
    "    * this data set is used for the chemical class-similarity calculations\n",
    "* deduplication, based on InChIKeys: `internal_cpds_std.tsv` (168 cpds.)\n",
    "    * analogous workflow to the reference data sets, without deglycosylation\n",
    "    * this data set is used for the NP Likeness calculations and the PCA analysis"
   ]
  },
  {
   "cell_type": "markdown",
   "metadata": {},
   "source": [
    "### Loading\n",
    "\n",
    "Load Load list of 244 compounds with their Smiles."
   ]
  },
  {
   "cell_type": "code",
   "execution_count": 3,
   "metadata": {
    "ExecuteTime": {
     "end_time": "2020-12-03T09:07:21.955350Z",
     "start_time": "2020-12-03T09:07:21.916290Z"
    },
    "scrolled": true
   },
   "outputs": [
    {
     "name": "stdout",
     "output_type": "stream",
     "text": [
      "Shape Internal compounds                          :        244 /    3  [ Compound_Id, CpdClass, Smiles ]  \n"
     ]
    },
    {
     "data": {
      "text/html": [
       "<div>\n",
       "<style scoped>\n",
       "    .dataframe tbody tr th:only-of-type {\n",
       "        vertical-align: middle;\n",
       "    }\n",
       "\n",
       "    .dataframe tbody tr th {\n",
       "        vertical-align: top;\n",
       "    }\n",
       "\n",
       "    .dataframe thead th {\n",
       "        text-align: right;\n",
       "    }\n",
       "</style>\n",
       "<table border=\"1\" class=\"dataframe\">\n",
       "  <thead>\n",
       "    <tr style=\"text-align: right;\">\n",
       "      <th></th>\n",
       "      <th>Compound_Id</th>\n",
       "      <th>CpdClass</th>\n",
       "      <th>Smiles</th>\n",
       "    </tr>\n",
       "  </thead>\n",
       "  <tbody>\n",
       "    <tr>\n",
       "      <th>0</th>\n",
       "      <td>408580</td>\n",
       "      <td>QN-C-S</td>\n",
       "      <td>COc1ccc2nccc([C@@H](O)[C@@H]3C[C@@H]4CCN3C[C@]...</td>\n",
       "    </tr>\n",
       "    <tr>\n",
       "      <th>1</th>\n",
       "      <td>408614</td>\n",
       "      <td>QN-C-S</td>\n",
       "      <td>COc1ccc2nccc([C@@H](O)[C@@H]3C[C@@H]4CCN3C[C@]...</td>\n",
       "    </tr>\n",
       "    <tr>\n",
       "      <th>2</th>\n",
       "      <td>409679</td>\n",
       "      <td>QN-C-S</td>\n",
       "      <td>COc1ccc2nccc([C@@H](O)[C@@H]3C[C@@H]4CCN3C[C@]...</td>\n",
       "    </tr>\n",
       "    <tr>\n",
       "      <th>3</th>\n",
       "      <td>408605</td>\n",
       "      <td>QN-C-S</td>\n",
       "      <td>COc1ccc2nccc([C@@H](O)[C@@H]3C[C@@H]4CCN3C[C@]...</td>\n",
       "    </tr>\n",
       "    <tr>\n",
       "      <th>4</th>\n",
       "      <td>408610</td>\n",
       "      <td>QN-C-S</td>\n",
       "      <td>COc1ccc2c(c1)O[C@]1(CC2=O)CN2CC[C@H]1C[C@H]2[C...</td>\n",
       "    </tr>\n",
       "  </tbody>\n",
       "</table>\n",
       "</div>"
      ],
      "text/plain": [
       "   Compound_Id CpdClass                                             Smiles\n",
       "0       408580   QN-C-S  COc1ccc2nccc([C@@H](O)[C@@H]3C[C@@H]4CCN3C[C@]...\n",
       "1       408614   QN-C-S  COc1ccc2nccc([C@@H](O)[C@@H]3C[C@@H]4CCN3C[C@]...\n",
       "2       409679   QN-C-S  COc1ccc2nccc([C@@H](O)[C@@H]3C[C@@H]4CCN3C[C@]...\n",
       "3       408605   QN-C-S  COc1ccc2nccc([C@@H](O)[C@@H]3C[C@@H]4CCN3C[C@]...\n",
       "4       408610   QN-C-S  COc1ccc2c(c1)O[C@]1(CC2=O)CN2CC[C@H]1C[C@H]2[C..."
      ]
     },
     "execution_count": 3,
     "metadata": {},
     "output_type": "execute_result"
    }
   ],
   "source": [
    "cpds = pd.read_csv(\"../Input Data/internal_cpds.tsv\", sep=\"\\t\")\n",
    "lp(cpds, \"Internal compounds\")\n",
    "\n",
    "cpds.head()"
   ]
  },
  {
   "cell_type": "markdown",
   "metadata": {},
   "source": [
    "### Standardization\n",
    "\n",
    "Standardization implemented in MolVS:\n",
    "* standardization\n",
    "* remove stereo information\n",
    "* choose largest fragment\n",
    "* canonicalize tautomer"
   ]
  },
  {
   "cell_type": "code",
   "execution_count": 4,
   "metadata": {
    "ExecuteTime": {
     "end_time": "2020-12-03T09:07:24.960748Z",
     "start_time": "2020-12-03T09:07:21.959144Z"
    }
   },
   "outputs": [
    {
     "data": {
      "application/vnd.jupyter.widget-view+json": {
       "model_id": "67251ebcacb84cc9b50002b3af36724a",
       "version_major": 2,
       "version_minor": 0
      },
      "text/plain": [
       "HBox(children=(HTML(value=''), FloatProgress(value=0.0, max=244.0), HTML(value='')))"
      ]
     },
     "metadata": {},
     "output_type": "display_data"
    },
    {
     "name": "stdout",
     "output_type": "stream",
     "text": [
      "\n",
      "Shape Internal compounds                          :        244 /    3  [ Compound_Id, CpdClass, Smiles ]  \n"
     ]
    }
   ],
   "source": [
    "cpds = u.apply_to_smiles(cpds, \"Smiles\", {\"Smiles_Std\": lambda x: u.standardize_mol(x, remove_stereo=True, canonicalize_tautomer=True)})\n",
    "cpds.drop(\"Smiles\", axis=1, inplace=True)\n",
    "cpds = cpds.rename(columns={\"Smiles_Std\": \"Smiles\"})\n",
    "lp(cpds, \"Internal compounds\")"
   ]
  },
  {
   "cell_type": "markdown",
   "metadata": {},
   "source": [
    "### Filters (MedChem)\n",
    "\n",
    "The data set is filtered for Isotopes, MedChemAtoms, MinHeavyAtoms, MaxHeavyAtoms.  "
   ]
  },
  {
   "cell_type": "code",
   "execution_count": 5,
   "metadata": {
    "ExecuteTime": {
     "end_time": "2020-12-03T09:07:26.045502Z",
     "start_time": "2020-12-03T09:07:24.962267Z"
    }
   },
   "outputs": [
    {
     "name": "stdout",
     "output_type": "stream",
     "text": [
      "Applying filters (4)...\n"
     ]
    },
    {
     "data": {
      "application/vnd.jupyter.widget-view+json": {
       "model_id": "b46dab28e2e4427098b8a38c507b72cb",
       "version_major": 2,
       "version_minor": 0
      },
      "text/plain": [
       "HBox(children=(HTML(value=''), FloatProgress(value=0.0, max=244.0), HTML(value='')))"
      ]
     },
     "metadata": {},
     "output_type": "display_data"
    },
    {
     "name": "stdout",
     "output_type": "stream",
     "text": [
      "\n",
      "Applied filter Isotopes: 244\n"
     ]
    },
    {
     "data": {
      "application/vnd.jupyter.widget-view+json": {
       "model_id": "cc44493c49334a16be07c09e2869f856",
       "version_major": 2,
       "version_minor": 0
      },
      "text/plain": [
       "HBox(children=(HTML(value=''), FloatProgress(value=0.0, max=244.0), HTML(value='')))"
      ]
     },
     "metadata": {},
     "output_type": "display_data"
    },
    {
     "name": "stdout",
     "output_type": "stream",
     "text": [
      "\n",
      "Applied filter MedChemAtoms: 244\n"
     ]
    },
    {
     "data": {
      "application/vnd.jupyter.widget-view+json": {
       "model_id": "98c884c26c2049dd8f5b06c8d87886cb",
       "version_major": 2,
       "version_minor": 0
      },
      "text/plain": [
       "HBox(children=(HTML(value=''), FloatProgress(value=0.0, max=244.0), HTML(value='')))"
      ]
     },
     "metadata": {},
     "output_type": "display_data"
    },
    {
     "name": "stdout",
     "output_type": "stream",
     "text": [
      "\n",
      "Applied filter MinHeavyAtoms: 244\n",
      "Applied filter MaxHeavyAtoms: 244\n",
      "Shape Internal compounds (MedChem filters)        :        244 /    3  [ Compound_Id, CpdClass, Smiles ]  \n"
     ]
    },
    {
     "data": {
      "text/html": [
       "<div>\n",
       "<style scoped>\n",
       "    .dataframe tbody tr th:only-of-type {\n",
       "        vertical-align: middle;\n",
       "    }\n",
       "\n",
       "    .dataframe tbody tr th {\n",
       "        vertical-align: top;\n",
       "    }\n",
       "\n",
       "    .dataframe thead th {\n",
       "        text-align: right;\n",
       "    }\n",
       "</style>\n",
       "<table border=\"1\" class=\"dataframe\">\n",
       "  <thead>\n",
       "    <tr style=\"text-align: right;\">\n",
       "      <th></th>\n",
       "      <th>Compound_Id</th>\n",
       "      <th>CpdClass</th>\n",
       "      <th>Smiles</th>\n",
       "    </tr>\n",
       "  </thead>\n",
       "  <tbody>\n",
       "    <tr>\n",
       "      <th>0</th>\n",
       "      <td>408580</td>\n",
       "      <td>QN-C-S</td>\n",
       "      <td>COc1ccc2nccc(C(O)C3CC4CCN3CC43CC(=O)c4ccccc4O3...</td>\n",
       "    </tr>\n",
       "    <tr>\n",
       "      <th>1</th>\n",
       "      <td>408614</td>\n",
       "      <td>QN-C-S</td>\n",
       "      <td>COc1ccc2nccc(C(O)C3CC4CCN3CC43CC(=O)c4cc(Br)cc...</td>\n",
       "    </tr>\n",
       "    <tr>\n",
       "      <th>2</th>\n",
       "      <td>409679</td>\n",
       "      <td>QN-C-S</td>\n",
       "      <td>COc1ccc2nccc(C(O)C3CC4CCN3CC43CC(=O)c4cc(Cl)cc...</td>\n",
       "    </tr>\n",
       "    <tr>\n",
       "      <th>3</th>\n",
       "      <td>408605</td>\n",
       "      <td>QN-C-S</td>\n",
       "      <td>COc1ccc2nccc(C(O)C3CC4CCN3CC43CC(=O)c4cc(F)ccc...</td>\n",
       "    </tr>\n",
       "    <tr>\n",
       "      <th>4</th>\n",
       "      <td>408610</td>\n",
       "      <td>QN-C-S</td>\n",
       "      <td>COc1ccc2c(c1)OC1(CC2=O)CN2CCC1CC2C(O)c1ccnc2cc...</td>\n",
       "    </tr>\n",
       "    <tr>\n",
       "      <th>5</th>\n",
       "      <td>408643</td>\n",
       "      <td>QN-C-S</td>\n",
       "      <td>COc1cc(OC)c2c(c1)OC1(CC2=O)CN2CCC1CC2C(O)c1ccn...</td>\n",
       "    </tr>\n",
       "    <tr>\n",
       "      <th>6</th>\n",
       "      <td>408636</td>\n",
       "      <td>QN-C-S</td>\n",
       "      <td>COc1ccc2nccc(C(O)C3CC4CCN3CC43CC(=O)c4ccc(OC)c...</td>\n",
       "    </tr>\n",
       "    <tr>\n",
       "      <th>7</th>\n",
       "      <td>408584</td>\n",
       "      <td>QN-C-S</td>\n",
       "      <td>COc1ccc2nccc(C(O)C3CC4CCN3CC43CC(=O)c4c(O)cccc...</td>\n",
       "    </tr>\n",
       "    <tr>\n",
       "      <th>8</th>\n",
       "      <td>408586</td>\n",
       "      <td>QN-C-S</td>\n",
       "      <td>COc1ccc2nccc(C(O)C3CC4CCN3CC43CC(=O)c4ccc(O)cc...</td>\n",
       "    </tr>\n",
       "    <tr>\n",
       "      <th>9</th>\n",
       "      <td>408612</td>\n",
       "      <td>QN-C-S</td>\n",
       "      <td>COc1ccc2nccc(C(O)C3CC4CCN3CC43CC(=O)c4cc(C)ccc...</td>\n",
       "    </tr>\n",
       "  </tbody>\n",
       "</table>\n",
       "</div>"
      ],
      "text/plain": [
       "   Compound_Id CpdClass                                             Smiles\n",
       "0       408580   QN-C-S  COc1ccc2nccc(C(O)C3CC4CCN3CC43CC(=O)c4ccccc4O3...\n",
       "1       408614   QN-C-S  COc1ccc2nccc(C(O)C3CC4CCN3CC43CC(=O)c4cc(Br)cc...\n",
       "2       409679   QN-C-S  COc1ccc2nccc(C(O)C3CC4CCN3CC43CC(=O)c4cc(Cl)cc...\n",
       "3       408605   QN-C-S  COc1ccc2nccc(C(O)C3CC4CCN3CC43CC(=O)c4cc(F)ccc...\n",
       "4       408610   QN-C-S  COc1ccc2c(c1)OC1(CC2=O)CN2CCC1CC2C(O)c1ccnc2cc...\n",
       "5       408643   QN-C-S  COc1cc(OC)c2c(c1)OC1(CC2=O)CN2CCC1CC2C(O)c1ccn...\n",
       "6       408636   QN-C-S  COc1ccc2nccc(C(O)C3CC4CCN3CC43CC(=O)c4ccc(OC)c...\n",
       "7       408584   QN-C-S  COc1ccc2nccc(C(O)C3CC4CCN3CC43CC(=O)c4c(O)cccc...\n",
       "8       408586   QN-C-S  COc1ccc2nccc(C(O)C3CC4CCN3CC43CC(=O)c4ccc(O)cc...\n",
       "9       408612   QN-C-S  COc1ccc2nccc(C(O)C3CC4CCN3CC43CC(=O)c4cc(C)ccc..."
      ]
     },
     "execution_count": 5,
     "metadata": {},
     "output_type": "execute_result"
    }
   ],
   "source": [
    "cpds = u.filter_mols(cpds, \"Smiles\", [\"Isotopes\", \"MedChemAtoms\", \"MinHeavyAtoms\", \"MaxHeavyAtoms\"])\n",
    "lp(cpds, \"Internal compounds (MedChem filters)\")\n",
    "\n",
    "cpds.head(10)"
   ]
  },
  {
   "cell_type": "code",
   "execution_count": 6,
   "metadata": {
    "ExecuteTime": {
     "end_time": "2020-12-03T09:07:26.088770Z",
     "start_time": "2020-12-03T09:07:26.049130Z"
    }
   },
   "outputs": [
    {
     "name": "stdout",
     "output_type": "stream",
     "text": [
      "Shape Internal compounds (MedChem filters)        :        244 /    3  [ Compound_Id, CpdClass, Smiles ]  \n"
     ]
    },
    {
     "data": {
      "text/html": [
       "<div>\n",
       "<style scoped>\n",
       "    .dataframe tbody tr th:only-of-type {\n",
       "        vertical-align: middle;\n",
       "    }\n",
       "\n",
       "    .dataframe tbody tr th {\n",
       "        vertical-align: top;\n",
       "    }\n",
       "\n",
       "    .dataframe thead th {\n",
       "        text-align: right;\n",
       "    }\n",
       "</style>\n",
       "<table border=\"1\" class=\"dataframe\">\n",
       "  <thead>\n",
       "    <tr style=\"text-align: right;\">\n",
       "      <th></th>\n",
       "      <th>Compound_Id</th>\n",
       "      <th>CpdClass</th>\n",
       "      <th>Smiles</th>\n",
       "    </tr>\n",
       "  </thead>\n",
       "  <tbody>\n",
       "    <tr>\n",
       "      <th>0</th>\n",
       "      <td>408580</td>\n",
       "      <td>QN-C-S</td>\n",
       "      <td>COc1ccc2nccc(C(O)C3CC4CCN3CC43CC(=O)c4ccccc4O3...</td>\n",
       "    </tr>\n",
       "    <tr>\n",
       "      <th>1</th>\n",
       "      <td>408614</td>\n",
       "      <td>QN-C-S</td>\n",
       "      <td>COc1ccc2nccc(C(O)C3CC4CCN3CC43CC(=O)c4cc(Br)cc...</td>\n",
       "    </tr>\n",
       "    <tr>\n",
       "      <th>2</th>\n",
       "      <td>409679</td>\n",
       "      <td>QN-C-S</td>\n",
       "      <td>COc1ccc2nccc(C(O)C3CC4CCN3CC43CC(=O)c4cc(Cl)cc...</td>\n",
       "    </tr>\n",
       "    <tr>\n",
       "      <th>3</th>\n",
       "      <td>408605</td>\n",
       "      <td>QN-C-S</td>\n",
       "      <td>COc1ccc2nccc(C(O)C3CC4CCN3CC43CC(=O)c4cc(F)ccc...</td>\n",
       "    </tr>\n",
       "    <tr>\n",
       "      <th>4</th>\n",
       "      <td>408610</td>\n",
       "      <td>QN-C-S</td>\n",
       "      <td>COc1ccc2c(c1)OC1(CC2=O)CN2CCC1CC2C(O)c1ccnc2cc...</td>\n",
       "    </tr>\n",
       "  </tbody>\n",
       "</table>\n",
       "</div>"
      ],
      "text/plain": [
       "   Compound_Id CpdClass                                             Smiles\n",
       "0       408580   QN-C-S  COc1ccc2nccc(C(O)C3CC4CCN3CC43CC(=O)c4ccccc4O3...\n",
       "1       408614   QN-C-S  COc1ccc2nccc(C(O)C3CC4CCN3CC43CC(=O)c4cc(Br)cc...\n",
       "2       409679   QN-C-S  COc1ccc2nccc(C(O)C3CC4CCN3CC43CC(=O)c4cc(Cl)cc...\n",
       "3       408605   QN-C-S  COc1ccc2nccc(C(O)C3CC4CCN3CC43CC(=O)c4cc(F)ccc...\n",
       "4       408610   QN-C-S  COc1ccc2c(c1)OC1(CC2=O)CN2CCC1CC2C(O)c1ccnc2cc..."
      ]
     },
     "execution_count": 6,
     "metadata": {},
     "output_type": "execute_result"
    }
   ],
   "source": [
    "cpds.to_csv(\"../tmp/internal_cpds_mc.tsv\", sep=\"\\t\", index=False)\n",
    "lp(cpds, \"Internal compounds (MedChem filters)\")\n",
    "\n",
    "cpds.head()"
   ]
  },
  {
   "cell_type": "code",
   "execution_count": null,
   "metadata": {},
   "outputs": [],
   "source": []
  },
  {
   "cell_type": "markdown",
   "metadata": {},
   "source": [
    "### Filters (Duplicates)\n",
    "\n",
    "The data set is filtered for Duplicates (based on InChIKeys (the stereo centers have been removed in the previous standardization step)).  \n",
    "This is done for consistency with the standardization and filtering of the reference sets.  \n",
    "This data set is used for the NP Likeness calculations and the PCA analysis."
   ]
  },
  {
   "cell_type": "code",
   "execution_count": 7,
   "metadata": {
    "ExecuteTime": {
     "end_time": "2020-12-03T09:07:26.705924Z",
     "start_time": "2020-12-03T09:07:26.090950Z"
    }
   },
   "outputs": [
    {
     "name": "stdout",
     "output_type": "stream",
     "text": [
      "Applying filters (1)...\n"
     ]
    },
    {
     "data": {
      "application/vnd.jupyter.widget-view+json": {
       "model_id": "c7673642a348411aaf4fff1cb6efd022",
       "version_major": 2,
       "version_minor": 0
      },
      "text/plain": [
       "HBox(children=(HTML(value=''), FloatProgress(value=0.0, max=244.0), HTML(value='')))"
      ]
     },
     "metadata": {},
     "output_type": "display_data"
    },
    {
     "name": "stdout",
     "output_type": "stream",
     "text": [
      "\n",
      "Applied filter Duplicates: 168\n",
      "Shape Internal compounds (Duplicates)             :        168 /    3  [ Compound_Id, CpdClass, Smiles ]  \n"
     ]
    },
    {
     "data": {
      "text/html": [
       "<div>\n",
       "<style scoped>\n",
       "    .dataframe tbody tr th:only-of-type {\n",
       "        vertical-align: middle;\n",
       "    }\n",
       "\n",
       "    .dataframe tbody tr th {\n",
       "        vertical-align: top;\n",
       "    }\n",
       "\n",
       "    .dataframe thead th {\n",
       "        text-align: right;\n",
       "    }\n",
       "</style>\n",
       "<table border=\"1\" class=\"dataframe\">\n",
       "  <thead>\n",
       "    <tr style=\"text-align: right;\">\n",
       "      <th></th>\n",
       "      <th>Compound_Id</th>\n",
       "      <th>CpdClass</th>\n",
       "      <th>Smiles</th>\n",
       "    </tr>\n",
       "  </thead>\n",
       "  <tbody>\n",
       "    <tr>\n",
       "      <th>0</th>\n",
       "      <td>408580</td>\n",
       "      <td>QN-C-S</td>\n",
       "      <td>COc1ccc2nccc(C(O)C3CC4CCN3CC43CC(=O)c4ccccc4O3...</td>\n",
       "    </tr>\n",
       "    <tr>\n",
       "      <th>1</th>\n",
       "      <td>408614</td>\n",
       "      <td>QN-C-S</td>\n",
       "      <td>COc1ccc2nccc(C(O)C3CC4CCN3CC43CC(=O)c4cc(Br)cc...</td>\n",
       "    </tr>\n",
       "    <tr>\n",
       "      <th>2</th>\n",
       "      <td>409679</td>\n",
       "      <td>QN-C-S</td>\n",
       "      <td>COc1ccc2nccc(C(O)C3CC4CCN3CC43CC(=O)c4cc(Cl)cc...</td>\n",
       "    </tr>\n",
       "    <tr>\n",
       "      <th>3</th>\n",
       "      <td>408605</td>\n",
       "      <td>QN-C-S</td>\n",
       "      <td>COc1ccc2nccc(C(O)C3CC4CCN3CC43CC(=O)c4cc(F)ccc...</td>\n",
       "    </tr>\n",
       "    <tr>\n",
       "      <th>4</th>\n",
       "      <td>408610</td>\n",
       "      <td>QN-C-S</td>\n",
       "      <td>COc1ccc2c(c1)OC1(CC2=O)CN2CCC1CC2C(O)c1ccnc2cc...</td>\n",
       "    </tr>\n",
       "    <tr>\n",
       "      <th>5</th>\n",
       "      <td>408643</td>\n",
       "      <td>QN-C-S</td>\n",
       "      <td>COc1cc(OC)c2c(c1)OC1(CC2=O)CN2CCC1CC2C(O)c1ccn...</td>\n",
       "    </tr>\n",
       "    <tr>\n",
       "      <th>6</th>\n",
       "      <td>408636</td>\n",
       "      <td>QN-C-S</td>\n",
       "      <td>COc1ccc2nccc(C(O)C3CC4CCN3CC43CC(=O)c4ccc(OC)c...</td>\n",
       "    </tr>\n",
       "    <tr>\n",
       "      <th>7</th>\n",
       "      <td>408584</td>\n",
       "      <td>QN-C-S</td>\n",
       "      <td>COc1ccc2nccc(C(O)C3CC4CCN3CC43CC(=O)c4c(O)cccc...</td>\n",
       "    </tr>\n",
       "    <tr>\n",
       "      <th>8</th>\n",
       "      <td>408586</td>\n",
       "      <td>QN-C-S</td>\n",
       "      <td>COc1ccc2nccc(C(O)C3CC4CCN3CC43CC(=O)c4ccc(O)cc...</td>\n",
       "    </tr>\n",
       "    <tr>\n",
       "      <th>9</th>\n",
       "      <td>408612</td>\n",
       "      <td>QN-C-S</td>\n",
       "      <td>COc1ccc2nccc(C(O)C3CC4CCN3CC43CC(=O)c4cc(C)ccc...</td>\n",
       "    </tr>\n",
       "  </tbody>\n",
       "</table>\n",
       "</div>"
      ],
      "text/plain": [
       "   Compound_Id CpdClass                                             Smiles\n",
       "0       408580   QN-C-S  COc1ccc2nccc(C(O)C3CC4CCN3CC43CC(=O)c4ccccc4O3...\n",
       "1       408614   QN-C-S  COc1ccc2nccc(C(O)C3CC4CCN3CC43CC(=O)c4cc(Br)cc...\n",
       "2       409679   QN-C-S  COc1ccc2nccc(C(O)C3CC4CCN3CC43CC(=O)c4cc(Cl)cc...\n",
       "3       408605   QN-C-S  COc1ccc2nccc(C(O)C3CC4CCN3CC43CC(=O)c4cc(F)ccc...\n",
       "4       408610   QN-C-S  COc1ccc2c(c1)OC1(CC2=O)CN2CCC1CC2C(O)c1ccnc2cc...\n",
       "5       408643   QN-C-S  COc1cc(OC)c2c(c1)OC1(CC2=O)CN2CCC1CC2C(O)c1ccn...\n",
       "6       408636   QN-C-S  COc1ccc2nccc(C(O)C3CC4CCN3CC43CC(=O)c4ccc(OC)c...\n",
       "7       408584   QN-C-S  COc1ccc2nccc(C(O)C3CC4CCN3CC43CC(=O)c4c(O)cccc...\n",
       "8       408586   QN-C-S  COc1ccc2nccc(C(O)C3CC4CCN3CC43CC(=O)c4ccc(O)cc...\n",
       "9       408612   QN-C-S  COc1ccc2nccc(C(O)C3CC4CCN3CC43CC(=O)c4cc(C)ccc..."
      ]
     },
     "execution_count": 7,
     "metadata": {},
     "output_type": "execute_result"
    }
   ],
   "source": [
    "cpds = u.filter_mols(cpds, \"Smiles\", [\"Duplicates\"])\n",
    "lp(cpds, \"Internal compounds (Duplicates)\")\n",
    "\n",
    "cpds.head(10)"
   ]
  },
  {
   "cell_type": "code",
   "execution_count": 8,
   "metadata": {
    "ExecuteTime": {
     "end_time": "2020-12-03T09:07:26.719965Z",
     "start_time": "2020-12-03T09:07:26.706791Z"
    }
   },
   "outputs": [
    {
     "name": "stdout",
     "output_type": "stream",
     "text": [
      "Shape Internal compounds (MedChem filters)        :        168 /    3  [ Compound_Id, CpdClass, Smiles ]  \n"
     ]
    },
    {
     "data": {
      "text/html": [
       "<div>\n",
       "<style scoped>\n",
       "    .dataframe tbody tr th:only-of-type {\n",
       "        vertical-align: middle;\n",
       "    }\n",
       "\n",
       "    .dataframe tbody tr th {\n",
       "        vertical-align: top;\n",
       "    }\n",
       "\n",
       "    .dataframe thead th {\n",
       "        text-align: right;\n",
       "    }\n",
       "</style>\n",
       "<table border=\"1\" class=\"dataframe\">\n",
       "  <thead>\n",
       "    <tr style=\"text-align: right;\">\n",
       "      <th></th>\n",
       "      <th>Compound_Id</th>\n",
       "      <th>CpdClass</th>\n",
       "      <th>Smiles</th>\n",
       "    </tr>\n",
       "  </thead>\n",
       "  <tbody>\n",
       "    <tr>\n",
       "      <th>0</th>\n",
       "      <td>408580</td>\n",
       "      <td>QN-C-S</td>\n",
       "      <td>COc1ccc2nccc(C(O)C3CC4CCN3CC43CC(=O)c4ccccc4O3...</td>\n",
       "    </tr>\n",
       "    <tr>\n",
       "      <th>1</th>\n",
       "      <td>408614</td>\n",
       "      <td>QN-C-S</td>\n",
       "      <td>COc1ccc2nccc(C(O)C3CC4CCN3CC43CC(=O)c4cc(Br)cc...</td>\n",
       "    </tr>\n",
       "    <tr>\n",
       "      <th>2</th>\n",
       "      <td>409679</td>\n",
       "      <td>QN-C-S</td>\n",
       "      <td>COc1ccc2nccc(C(O)C3CC4CCN3CC43CC(=O)c4cc(Cl)cc...</td>\n",
       "    </tr>\n",
       "    <tr>\n",
       "      <th>3</th>\n",
       "      <td>408605</td>\n",
       "      <td>QN-C-S</td>\n",
       "      <td>COc1ccc2nccc(C(O)C3CC4CCN3CC43CC(=O)c4cc(F)ccc...</td>\n",
       "    </tr>\n",
       "    <tr>\n",
       "      <th>4</th>\n",
       "      <td>408610</td>\n",
       "      <td>QN-C-S</td>\n",
       "      <td>COc1ccc2c(c1)OC1(CC2=O)CN2CCC1CC2C(O)c1ccnc2cc...</td>\n",
       "    </tr>\n",
       "  </tbody>\n",
       "</table>\n",
       "</div>"
      ],
      "text/plain": [
       "   Compound_Id CpdClass                                             Smiles\n",
       "0       408580   QN-C-S  COc1ccc2nccc(C(O)C3CC4CCN3CC43CC(=O)c4ccccc4O3...\n",
       "1       408614   QN-C-S  COc1ccc2nccc(C(O)C3CC4CCN3CC43CC(=O)c4cc(Br)cc...\n",
       "2       409679   QN-C-S  COc1ccc2nccc(C(O)C3CC4CCN3CC43CC(=O)c4cc(Cl)cc...\n",
       "3       408605   QN-C-S  COc1ccc2nccc(C(O)C3CC4CCN3CC43CC(=O)c4cc(F)ccc...\n",
       "4       408610   QN-C-S  COc1ccc2c(c1)OC1(CC2=O)CN2CCC1CC2C(O)c1ccnc2cc..."
      ]
     },
     "execution_count": 8,
     "metadata": {},
     "output_type": "execute_result"
    }
   ],
   "source": [
    "cpds.to_csv(\"../tmp/internal_cpds_std.tsv\", sep=\"\\t\", index=False)\n",
    "lp(cpds, \"Internal compounds (MedChem filters)\")\n",
    "\n",
    "cpds.head()"
   ]
  },
  {
   "cell_type": "code",
   "execution_count": 9,
   "metadata": {
    "ExecuteTime": {
     "end_time": "2020-12-03T09:07:26.969020Z",
     "start_time": "2020-12-03T09:07:26.720718Z"
    }
   },
   "outputs": [],
   "source": [
    "!cp ../tmp/internal_cpds_mc.tsv \"../Input Data/internal_cpds_mc.tsv\"\n",
    "!cp ../tmp/internal_cpds_std.tsv \"../Input Data/internal_cpds_std.tsv\""
   ]
  },
  {
   "cell_type": "code",
   "execution_count": null,
   "metadata": {},
   "outputs": [],
   "source": []
  },
  {
   "cell_type": "code",
   "execution_count": null,
   "metadata": {},
   "outputs": [],
   "source": []
  }
 ],
 "metadata": {
  "hide_input": false,
  "kernelspec": {
   "display_name": "Python 3",
   "language": "python",
   "name": "python3"
  },
  "language_info": {
   "codemirror_mode": {
    "name": "ipython",
    "version": 3
   },
   "file_extension": ".py",
   "mimetype": "text/x-python",
   "name": "python",
   "nbconvert_exporter": "python",
   "pygments_lexer": "ipython3",
   "version": "3.8.6"
  },
  "notify_time": "5",
  "toc": {
   "base_numbering": 1,
   "nav_menu": {},
   "number_sections": true,
   "sideBar": true,
   "skip_h1_title": true,
   "title_cell": "Table of Contents",
   "title_sidebar": "Contents",
   "toc_cell": false,
   "toc_position": {
    "height": "calc(100% - 180px)",
    "left": "10px",
    "top": "150px",
    "width": "317px"
   },
   "toc_section_display": true,
   "toc_window_display": true
  },
  "toc-autonumbering": true
 },
 "nbformat": 4,
 "nbformat_minor": 4
}
