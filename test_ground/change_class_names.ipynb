{
 "cells": [
  {
   "cell_type": "markdown",
   "metadata": {},
   "source": [
    "## Initialization"
   ]
  },
  {
   "cell_type": "code",
   "execution_count": 1,
   "metadata": {
    "ExecuteTime": {
     "end_time": "2020-12-03T10:51:09.539064Z",
     "start_time": "2020-12-03T10:51:09.078598Z"
    },
    "execution": {
     "iopub.execute_input": "2020-12-16T07:49:11.494588Z",
     "iopub.status.busy": "2020-12-16T07:49:11.494221Z",
     "iopub.status.idle": "2020-12-16T07:49:13.799544Z",
     "shell.execute_reply": "2020-12-16T07:49:13.798125Z",
     "shell.execute_reply.started": "2020-12-16T07:49:11.494503Z"
    }
   },
   "outputs": [],
   "source": [
    "%reload_ext autoreload\n",
    "%autoreload 2\n",
    "def warn(*args, **kwargs):\n",
    "    pass  # to silence scikit-learn warnings\n",
    "\n",
    "import warnings\n",
    "warnings.filterwarnings('ignore')\n",
    "warnings.warn = warn\n",
    "\n",
    "# Global Imports\n",
    "# from collections import Counter\n",
    "# import glob\n",
    "from pathlib import Path\n",
    "import sys\n",
    "\n",
    "import pandas as pd\n",
    "import numpy as np\n",
    "\n",
    "from IPython.core.interactiveshell import InteractiveShell\n",
    "InteractiveShell.ast_node_interactivity = \"all\"\n",
    "\n",
    "# Project-local Imports\n",
    "PROJECT_DIR = list(Path(\"..\").absolute().parents)[1]\n",
    "sys.path.append(str(PROJECT_DIR))\n",
    "import plt_style\n",
    "import utils as u\n",
    "from utils import lp"
   ]
  },
  {
   "cell_type": "code",
   "execution_count": 7,
   "metadata": {
    "ExecuteTime": {
     "end_time": "2020-12-03T11:44:13.700800Z",
     "start_time": "2020-12-03T11:44:13.679893Z"
    }
   },
   "outputs": [
    {
     "name": "stdout",
     "output_type": "stream",
     "text": [
      "Shape                                             :        201 /    3  [ Well_Id, CpdClass, Group ]  \n"
     ]
    }
   ],
   "source": [
    "# df = pd.read_csv(\"../tmp/internal_cpds_old_cpd_class.tsv\", sep=\"\\t\")\n",
    "df = pd.read_csv(\"../tmp/well_ids_old_cpd_class.tsv\", sep=\"\\t\")\n",
    "lp(df)"
   ]
  },
  {
   "cell_type": "code",
   "execution_count": 8,
   "metadata": {
    "ExecuteTime": {
     "end_time": "2020-12-03T11:44:29.936828Z",
     "start_time": "2020-12-03T11:44:29.922565Z"
    }
   },
   "outputs": [
    {
     "name": "stdout",
     "output_type": "stream",
     "text": [
      "13\n",
      "['G-I-1', 'G-I-2', 'G-THPI', 'QD-C-R', 'QD-C-S', 'QD-I', 'QN-C-R', 'QN-C-S', 'QN-I', 'S-C-R', 'S-C-S', 'S-I-closed', 'S-I-opened']\n"
     ]
    }
   ],
   "source": [
    "print(len(df[\"CpdClass\"].unique()))\n",
    "print(sorted(df[\"CpdClass\"].unique()))"
   ]
  },
  {
   "cell_type": "code",
   "execution_count": 9,
   "metadata": {
    "ExecuteTime": {
     "end_time": "2020-12-03T11:44:32.820452Z",
     "start_time": "2020-12-03T11:44:32.803580Z"
    }
   },
   "outputs": [
    {
     "data": {
      "text/plain": [
       "{'G-I-1': 'GF-I-1',\n",
       " 'G-I-2': 'GF-I-2',\n",
       " 'G-THPI': 'GF-THPI',\n",
       " 'QD-C-R': 'QD-C-R',\n",
       " 'QD-C-S': 'QD-C-S',\n",
       " 'QD-I': 'QD-I',\n",
       " 'QN-C-R': 'QN-C-R',\n",
       " 'QN-C-S': 'QN-C-S',\n",
       " 'QN-I': 'QN-I',\n",
       " 'S-C-R': 'SM-C-R',\n",
       " 'S-C-S': 'SM-C-S',\n",
       " 'S-I-closed': 'SM-I-closed',\n",
       " 'S-I-opened': 'SM-I-opened'}"
      ]
     },
     "execution_count": 9,
     "metadata": {},
     "output_type": "execute_result"
    }
   ],
   "source": [
    "clist_old = ['G-I-1', 'G-I-2',    'G-THPI',  'QD-C-R', 'QD-C-S', 'QD-I', 'QN-C-R', 'QN-C-S', 'QN-I', 'S-C-R',   'S-C-S',   'S-I-closed',  'S-I-opened']\n",
    "clist_new = ['GF-I-1',  'GF-I-2', 'GF-THPI', 'QD-C-R', 'QD-C-S', 'QD-I', 'QN-C-R', 'QN-C-S', 'QN-I', 'SM-C-R',  'SM-C-S',  'SM-I-closed', 'SM-I-opened']\n",
    "cdict = dict(zip(clist_old, clist_new))\n",
    "cdict"
   ]
  },
  {
   "cell_type": "code",
   "execution_count": null,
   "metadata": {
    "ExecuteTime": {
     "end_time": "2020-12-03T09:05:58.594597Z",
     "start_time": "2020-12-03T09:05:58.570980Z"
    }
   },
   "outputs": [],
   "source": [
    "assert(len(clist_old) == len(clist_new))"
   ]
  },
  {
   "cell_type": "code",
   "execution_count": 10,
   "metadata": {
    "ExecuteTime": {
     "end_time": "2020-12-03T11:44:44.409533Z",
     "start_time": "2020-12-03T11:44:44.394272Z"
    }
   },
   "outputs": [],
   "source": [
    "classes = list(df[\"CpdClass\"].values)\n",
    "for i, c in enumerate(classes):\n",
    "    classes[i] = cdict[c]"
   ]
  },
  {
   "cell_type": "code",
   "execution_count": 11,
   "metadata": {
    "ExecuteTime": {
     "end_time": "2020-12-03T11:44:47.045837Z",
     "start_time": "2020-12-03T11:44:47.011214Z"
    }
   },
   "outputs": [
    {
     "data": {
      "text/html": [
       "<div>\n",
       "<style scoped>\n",
       "    .dataframe tbody tr th:only-of-type {\n",
       "        vertical-align: middle;\n",
       "    }\n",
       "\n",
       "    .dataframe tbody tr th {\n",
       "        vertical-align: top;\n",
       "    }\n",
       "\n",
       "    .dataframe thead th {\n",
       "        text-align: right;\n",
       "    }\n",
       "</style>\n",
       "<table border=\"1\" class=\"dataframe\">\n",
       "  <thead>\n",
       "    <tr style=\"text-align: right;\">\n",
       "      <th></th>\n",
       "      <th>Well_Id</th>\n",
       "      <th>CpdClass</th>\n",
       "      <th>Group</th>\n",
       "      <th>CpdClassNew</th>\n",
       "    </tr>\n",
       "  </thead>\n",
       "  <tbody>\n",
       "    <tr>\n",
       "      <th>0</th>\n",
       "      <td>408584:01:06_30.00</td>\n",
       "      <td>QN-C-S</td>\n",
       "      <td>Sub-classes</td>\n",
       "      <td>QN-C-S</td>\n",
       "    </tr>\n",
       "    <tr>\n",
       "      <th>1</th>\n",
       "      <td>408636:01:06_30.00</td>\n",
       "      <td>QN-C-S</td>\n",
       "      <td>Sub-classes</td>\n",
       "      <td>QN-C-S</td>\n",
       "    </tr>\n",
       "    <tr>\n",
       "      <th>2</th>\n",
       "      <td>408641:01:04_10.00</td>\n",
       "      <td>QN-C-S</td>\n",
       "      <td>Sub-classes</td>\n",
       "      <td>QN-C-S</td>\n",
       "    </tr>\n",
       "    <tr>\n",
       "      <th>3</th>\n",
       "      <td>408616:01:05_10.00</td>\n",
       "      <td>QN-C-S</td>\n",
       "      <td>Sub-classes</td>\n",
       "      <td>QN-C-S</td>\n",
       "    </tr>\n",
       "    <tr>\n",
       "      <th>4</th>\n",
       "      <td>408612:01:05_10.00</td>\n",
       "      <td>QN-C-S</td>\n",
       "      <td>Sub-classes</td>\n",
       "      <td>QN-C-S</td>\n",
       "    </tr>\n",
       "    <tr>\n",
       "      <th>...</th>\n",
       "      <td>...</td>\n",
       "      <td>...</td>\n",
       "      <td>...</td>\n",
       "      <td>...</td>\n",
       "    </tr>\n",
       "    <tr>\n",
       "      <th>196</th>\n",
       "      <td>408299:01:09_30.00</td>\n",
       "      <td>QN-I</td>\n",
       "      <td>QN</td>\n",
       "      <td>QN-I</td>\n",
       "    </tr>\n",
       "    <tr>\n",
       "      <th>197</th>\n",
       "      <td>408302:01:05_03.00</td>\n",
       "      <td>QN-I</td>\n",
       "      <td>QN</td>\n",
       "      <td>QN-I</td>\n",
       "    </tr>\n",
       "    <tr>\n",
       "      <th>198</th>\n",
       "      <td>408291:01:09_10.00</td>\n",
       "      <td>QN-I</td>\n",
       "      <td>QN</td>\n",
       "      <td>QN-I</td>\n",
       "    </tr>\n",
       "    <tr>\n",
       "      <th>199</th>\n",
       "      <td>408803:01:05_10.00</td>\n",
       "      <td>QN-I</td>\n",
       "      <td>QN</td>\n",
       "      <td>QN-I</td>\n",
       "    </tr>\n",
       "    <tr>\n",
       "      <th>200</th>\n",
       "      <td>408311:01:08_10.00</td>\n",
       "      <td>QN-I</td>\n",
       "      <td>QN</td>\n",
       "      <td>QN-I</td>\n",
       "    </tr>\n",
       "  </tbody>\n",
       "</table>\n",
       "<p>201 rows × 4 columns</p>\n",
       "</div>"
      ],
      "text/plain": [
       "                Well_Id CpdClass        Group CpdClassNew\n",
       "0    408584:01:06_30.00   QN-C-S  Sub-classes      QN-C-S\n",
       "1    408636:01:06_30.00   QN-C-S  Sub-classes      QN-C-S\n",
       "2    408641:01:04_10.00   QN-C-S  Sub-classes      QN-C-S\n",
       "3    408616:01:05_10.00   QN-C-S  Sub-classes      QN-C-S\n",
       "4    408612:01:05_10.00   QN-C-S  Sub-classes      QN-C-S\n",
       "..                  ...      ...          ...         ...\n",
       "196  408299:01:09_30.00     QN-I           QN        QN-I\n",
       "197  408302:01:05_03.00     QN-I           QN        QN-I\n",
       "198  408291:01:09_10.00     QN-I           QN        QN-I\n",
       "199  408803:01:05_10.00     QN-I           QN        QN-I\n",
       "200  408311:01:08_10.00     QN-I           QN        QN-I\n",
       "\n",
       "[201 rows x 4 columns]"
      ]
     },
     "execution_count": 11,
     "metadata": {},
     "output_type": "execute_result"
    }
   ],
   "source": [
    "df[\"CpdClassNew\"] = classes\n",
    "df"
   ]
  },
  {
   "cell_type": "code",
   "execution_count": 12,
   "metadata": {
    "ExecuteTime": {
     "end_time": "2020-12-03T11:45:18.323542Z",
     "start_time": "2020-12-03T11:45:18.308673Z"
    }
   },
   "outputs": [],
   "source": [
    "df = df.drop(\"CpdClass\", axis=1)\n",
    "df = df.rename(columns={\"CpdClassNew\": \"CpdClass\"})"
   ]
  },
  {
   "cell_type": "code",
   "execution_count": null,
   "metadata": {
    "ExecuteTime": {
     "end_time": "2020-12-03T09:06:07.744301Z",
     "start_time": "2020-12-03T09:06:07.721703Z"
    }
   },
   "outputs": [],
   "source": [
    "# df = df[[\"Compound_Id\", \"CpdClass\", \"Smiles\"]]\n",
    "# df.to_csv(\"/home/pahl/comas/notebooks/projects/michael/code_manuscript/Input Data/internal_cpds.tsv\", sep=\"\\t\", index=False)"
   ]
  },
  {
   "cell_type": "code",
   "execution_count": 13,
   "metadata": {
    "ExecuteTime": {
     "end_time": "2020-12-03T11:45:20.608473Z",
     "start_time": "2020-12-03T11:45:20.593473Z"
    }
   },
   "outputs": [],
   "source": [
    "df = df[[\"Well_Id\", \"CpdClass\", \"Group\"]]\n",
    "df.to_csv(\"/home/pahl/comas/notebooks/projects/michael/code_manuscript/tmp/well_ids.tsv\", sep=\"\\t\", index=False)"
   ]
  },
  {
   "cell_type": "code",
   "execution_count": 2,
   "metadata": {
    "execution": {
     "iopub.execute_input": "2020-12-16T07:49:27.173306Z",
     "iopub.status.busy": "2020-12-16T07:49:27.172534Z",
     "iopub.status.idle": "2020-12-16T07:49:27.210265Z",
     "shell.execute_reply": "2020-12-16T07:49:27.209604Z",
     "shell.execute_reply.started": "2020-12-16T07:49:27.173217Z"
    }
   },
   "outputs": [
    {
     "data": {
      "text/plain": [
       "'2020.03.6'"
      ]
     },
     "execution_count": 2,
     "metadata": {},
     "output_type": "execute_result"
    }
   ],
   "source": [
    "import rdkit\n",
    "rdkit.__version__"
   ]
  },
  {
   "cell_type": "code",
   "execution_count": null,
   "metadata": {},
   "outputs": [],
   "source": []
  }
 ],
 "metadata": {
  "hide_input": false,
  "kernelspec": {
   "display_name": "Python 3",
   "language": "python",
   "name": "python3"
  },
  "language_info": {
   "codemirror_mode": {
    "name": "ipython",
    "version": 3
   },
   "file_extension": ".py",
   "mimetype": "text/x-python",
   "name": "python",
   "nbconvert_exporter": "python",
   "pygments_lexer": "ipython3",
   "version": "3.8.6"
  },
  "toc": {
   "base_numbering": 1,
   "nav_menu": {},
   "number_sections": true,
   "sideBar": true,
   "skip_h1_title": true,
   "title_cell": "Table of Contents",
   "title_sidebar": "Contents",
   "toc_cell": false,
   "toc_position": {},
   "toc_section_display": true,
   "toc_window_display": false
  }
 },
 "nbformat": 4,
 "nbformat_minor": 4
}
