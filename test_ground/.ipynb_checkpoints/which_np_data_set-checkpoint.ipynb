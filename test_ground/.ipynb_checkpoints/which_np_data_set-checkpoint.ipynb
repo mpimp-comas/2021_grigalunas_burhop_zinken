{
 "cells": [
  {
   "cell_type": "markdown",
   "metadata": {},
   "source": [
    "## Which NP Data Set\n",
    "\n",
    "Find the right NP data set. Candidates are:\n",
    "\n",
    "* [UNPD](file:///home/pahl/comas/notebooks/sdf/unpd/UNPD_sdf.sdf): 213k cpds.\n",
    "* NPs from Analyticon Discovery\n",
    "* ChEMBL NPs\n",
    "\n",
    "Also, determine the necessary standardization and the right order.\n",
    "Degylcosylation is performed with KNIME."
   ]
  },
  {
   "cell_type": "code",
   "execution_count": 3,
   "metadata": {
    "ExecuteTime": {
     "end_time": "2020-11-24T13:55:47.264763Z",
     "start_time": "2020-11-24T13:55:47.241520Z"
    },
    "init_cell": true
   },
   "outputs": [],
   "source": [
    "%reload_ext autoreload\n",
    "%autoreload 2\n",
    "# def warn(*args, **kwargs):\n",
    "# warn    pass  # to silence scikit-learn warnings\n",
    "\n",
    "import warnings\n",
    "warnings.filterwarnings('ignore')\n",
    "# warnings.warn = warn\n",
    "\n",
    "# Global Imports\n",
    "# from collections import Counter\n",
    "# import glob\n",
    "from pathlib import Path\n",
    "import sys\n",
    "\n",
    "import pandas as pd\n",
    "import numpy as np\n",
    "# from pandarallel import pandarallel\n",
    "# pandarallel.initialize()\n",
    "\n",
    "# from scipy.stats import median_absolute_deviation as mad\n",
    "\n",
    "from rdkit import DataStructs\n",
    "from rdkit.Chem import AllChem as Chem\n",
    "# from rdkit.Chem import Draw\n",
    "from rdkit.Chem.Draw import IPythonConsole\n",
    "\n",
    "from Contrib.NP_Score import npscorer\n",
    "\n",
    "import matplotlib.pyplot as plt\n",
    "import seaborn as sns\n",
    "\n",
    "from IPython.core.interactiveshell import InteractiveShell\n",
    "InteractiveShell.ast_node_interactivity = \"all\"\n",
    "\n",
    "# Project-local Imports\n",
    "PROJECT_DIR = list(Path(\"..\").absolute().parents)[1]\n",
    "sys.path.append(str(PROJECT_DIR))\n",
    "import plt_style\n",
    "import utils as u\n",
    "\n",
    "Path(\"../tmp\").mkdir(exist_ok=True)"
   ]
  },
  {
   "cell_type": "code",
   "execution_count": 4,
   "metadata": {
    "ExecuteTime": {
     "end_time": "2020-11-24T13:55:47.409941Z",
     "start_time": "2020-11-24T13:55:47.265912Z"
    },
    "init_cell": true
   },
   "outputs": [
    {
     "name": "stderr",
     "output_type": "stream",
     "text": [
      "reading NP model ...\n",
      "model in\n"
     ]
    }
   ],
   "source": [
    "fscore = npscorer.readNPModel()\n",
    "def score_np(mol):\n",
    "    return npscorer.scoreMol(mol, fscore)"
   ]
  },
  {
   "cell_type": "markdown",
   "metadata": {},
   "source": [
    "## UNPD"
   ]
  },
  {
   "cell_type": "code",
   "execution_count": null,
   "metadata": {
    "ExecuteTime": {
     "end_time": "2020-11-17T19:10:44.919973Z",
     "start_time": "2020-11-17T19:10:44.399739Z"
    }
   },
   "outputs": [],
   "source": [
    "# Takes 1:50min\n",
    "unpd = u.read_sdf(\"/home/pahl/comas/notebooks/sdf/unpd/UNPD_sdf.sdf\")\n",
    "unpd.info()"
   ]
  },
  {
   "cell_type": "code",
   "execution_count": null,
   "metadata": {
    "ExecuteTime": {
     "end_time": "2020-11-19T10:54:19.328921Z",
     "start_time": "2020-11-19T10:54:18.884324Z"
    }
   },
   "outputs": [],
   "source": [
    "# unpd.to_csv(\"../tmp/unpd.tsv\", sep=\"\\t\", index=False)\n",
    "unpd = pd.read_csv(\"../tmp/unpd.tsv\", sep=\"\\t\")\n",
    "unpd.info()"
   ]
  },
  {
   "cell_type": "code",
   "execution_count": null,
   "metadata": {},
   "outputs": [],
   "source": []
  },
  {
   "cell_type": "markdown",
   "metadata": {},
   "source": [
    "### Standardization Only\n",
    "\n",
    "#### Standardize"
   ]
  },
  {
   "cell_type": "code",
   "execution_count": null,
   "metadata": {
    "ExecuteTime": {
     "end_time": "2020-11-18T08:07:04.131225Z",
     "start_time": "2020-11-18T07:59:58.220474Z"
    }
   },
   "outputs": [],
   "source": [
    "# Takes 7min\n",
    "unpd_std = u.apply_to_smiles(unpd, \"Smiles\", \"Smiles_Std\", u.standardize_mol)"
   ]
  },
  {
   "cell_type": "code",
   "execution_count": null,
   "metadata": {
    "ExecuteTime": {
     "end_time": "2020-11-18T08:08:29.775421Z",
     "start_time": "2020-11-18T08:08:29.622855Z"
    }
   },
   "outputs": [],
   "source": [
    "unpd_std.drop(\"Smiles\", axis=1, inplace=True)\n",
    "unpd_std = unpd_std.rename(columns={\"Smiles_Std\": \"Smiles\"})\n",
    "unpd_std.to_csv(\"../tmp/unpd_std.tsv\", sep=\"\\t\", index=False)\n",
    "unpd_std.info()"
   ]
  },
  {
   "cell_type": "code",
   "execution_count": null,
   "metadata": {
    "ExecuteTime": {
     "end_time": "2020-11-18T08:09:05.031449Z",
     "start_time": "2020-11-18T08:09:05.010650Z"
    }
   },
   "outputs": [],
   "source": [
    "unpd_std.head()"
   ]
  },
  {
   "cell_type": "markdown",
   "metadata": {},
   "source": [
    "#### Add InChiKeys and Remove Duplicates"
   ]
  },
  {
   "cell_type": "code",
   "execution_count": null,
   "metadata": {
    "ExecuteTime": {
     "end_time": "2020-11-18T13:17:03.476819Z",
     "start_time": "2020-11-18T13:17:03.101939Z"
    }
   },
   "outputs": [],
   "source": [
    "unpd_std = pd.read_csv(\"../tmp/unpd_std.tsv\", sep=\"\\t\")"
   ]
  },
  {
   "cell_type": "code",
   "execution_count": null,
   "metadata": {
    "ExecuteTime": {
     "end_time": "2020-11-18T13:20:24.632602Z",
     "start_time": "2020-11-18T13:18:43.526493Z"
    }
   },
   "outputs": [],
   "source": [
    "# Takes 1:40min\n",
    "unpd_std = u.apply_to_smiles(unpd_std, \"Smiles\", \"InChiKey\", Chem.inchi.MolToInchiKey)\n",
    "unpd_std.info()"
   ]
  },
  {
   "cell_type": "code",
   "execution_count": null,
   "metadata": {
    "ExecuteTime": {
     "end_time": "2020-11-18T13:23:35.853455Z",
     "start_time": "2020-11-18T13:23:35.709709Z"
    }
   },
   "outputs": [],
   "source": [
    "unpd_std = unpd_std.drop_duplicates(subset=\"InChiKey\")\n",
    "len(unpd_std)"
   ]
  },
  {
   "cell_type": "markdown",
   "metadata": {},
   "source": [
    "#### Calculate NP-Likeness Score"
   ]
  },
  {
   "cell_type": "code",
   "execution_count": null,
   "metadata": {
    "ExecuteTime": {
     "end_time": "2020-11-18T13:25:55.689487Z",
     "start_time": "2020-11-18T13:24:39.514253Z"
    }
   },
   "outputs": [],
   "source": [
    "# Takes 1:15min\n",
    "unpd_std_np = u.apply_to_smiles(unpd_std, \"Smiles\", \"NP_Score\", score_np)\n",
    "len(unpd_std_np)"
   ]
  },
  {
   "cell_type": "code",
   "execution_count": null,
   "metadata": {
    "ExecuteTime": {
     "end_time": "2020-11-18T13:25:55.733878Z",
     "start_time": "2020-11-18T13:25:55.690805Z"
    }
   },
   "outputs": [],
   "source": [
    "unpd_std_np = unpd_std_np[~unpd_std_np[\"NP_Score\"].isnull()]\n",
    "len(unpd_std_np)"
   ]
  },
  {
   "cell_type": "code",
   "execution_count": null,
   "metadata": {
    "ExecuteTime": {
     "end_time": "2020-11-18T13:25:58.555779Z",
     "start_time": "2020-11-18T13:25:55.735866Z"
    }
   },
   "outputs": [],
   "source": [
    "unpd_std_np[\"NP_Score\"].plot.density();"
   ]
  },
  {
   "cell_type": "markdown",
   "metadata": {},
   "source": [
    "This distribution looks much better than the one from COCONUT."
   ]
  },
  {
   "cell_type": "code",
   "execution_count": null,
   "metadata": {},
   "outputs": [],
   "source": []
  },
  {
   "cell_type": "markdown",
   "metadata": {},
   "source": [
    "### Deglycosylation, then Standardization\n",
    "\n",
    "#### Loading and Initial Standardization"
   ]
  },
  {
   "cell_type": "code",
   "execution_count": null,
   "metadata": {
    "ExecuteTime": {
     "end_time": "2020-11-24T09:40:30.871088Z",
     "start_time": "2020-11-24T09:38:50.959748Z"
    }
   },
   "outputs": [],
   "source": [
    "# Takes 1:40min\n",
    "unpd = u.read_sdf(\"/home/pahl/comas/notebooks/sdf/unpd/UNPD_sdf.sdf\")\n",
    "unpd.info()"
   ]
  },
  {
   "cell_type": "code",
   "execution_count": null,
   "metadata": {
    "ExecuteTime": {
     "end_time": "2020-11-24T09:53:18.533110Z",
     "start_time": "2020-11-24T09:40:44.646921Z"
    }
   },
   "outputs": [],
   "source": [
    "# Initial standardization, before deglycosylation\n",
    "# Takes 7:50min\n",
    "unpd = u.apply_to_smiles(unpd, \"Smiles\", {\"Smiles_Std\": lambda x: u.standardize_mol(x, remove_stereo=True)})\n",
    "unpd.drop(\"Smiles\", axis=1, inplace=True)\n",
    "unpd = unpd.rename(columns={\"Smiles_Std\": \"Smiles\"})"
   ]
  },
  {
   "cell_type": "code",
   "execution_count": null,
   "metadata": {
    "ExecuteTime": {
     "end_time": "2020-11-24T10:02:20.238471Z",
     "start_time": "2020-11-24T09:53:24.070984Z"
    }
   },
   "outputs": [],
   "source": [
    "# Takes 3:30min\n",
    "unpd = u.filter_mols(unpd, \"Smiles\", [\"Isotopes\", \"MedChemAtoms\", \"MinHeavyAtoms\", \"Duplicates\"])\n",
    "unpd.info()"
   ]
  },
  {
   "cell_type": "code",
   "execution_count": null,
   "metadata": {
    "ExecuteTime": {
     "end_time": "2020-11-24T10:07:17.279889Z",
     "start_time": "2020-11-24T10:07:16.870609Z"
    }
   },
   "outputs": [],
   "source": [
    "unpd.to_csv(\"../tmp/unpd.tsv\", sep=\"\\t\", index=False)"
   ]
  },
  {
   "cell_type": "code",
   "execution_count": null,
   "metadata": {},
   "outputs": [],
   "source": []
  },
  {
   "cell_type": "markdown",
   "metadata": {},
   "source": [
    "#### Deglycosylation\n",
    "\n",
    "Deglycosylation is performed using the KNIME Sugar Remover node (CDK).  \n",
    "Here, the result of the deglycosylation is loaded again."
   ]
  },
  {
   "cell_type": "code",
   "execution_count": null,
   "metadata": {
    "ExecuteTime": {
     "end_time": "2020-11-24T10:17:08.753058Z",
     "start_time": "2020-11-24T10:17:08.487268Z"
    },
    "scrolled": true
   },
   "outputs": [],
   "source": [
    "# Reading in the output of the KNIME workflow:\n",
    "unpd = pd.read_csv(\"../tmp/unpd_deglyco.tsv\", sep=\"\\t\")\n",
    "unpd.info()"
   ]
  },
  {
   "cell_type": "code",
   "execution_count": null,
   "metadata": {
    "ExecuteTime": {
     "end_time": "2020-11-24T10:22:19.544727Z",
     "start_time": "2020-11-24T10:17:25.119091Z"
    }
   },
   "outputs": [],
   "source": [
    "# 2nd standardization and cleanup after deglycosylation\n",
    "# Takes 7min\n",
    "unpd_std = u.apply_to_smiles(unpd, \"Smiles\", {\"Smiles_Std\": u.standardize_mol})\n",
    "unpd_std.drop(\"Smiles\", axis=1, inplace=True)\n",
    "unpd_std = unpd_std.rename(columns={\"Smiles_Std\": \"Smiles\"})\n",
    "unpd_std.info()"
   ]
  },
  {
   "cell_type": "code",
   "execution_count": null,
   "metadata": {
    "ExecuteTime": {
     "end_time": "2020-11-24T10:24:55.591561Z",
     "start_time": "2020-11-24T10:22:19.546863Z"
    }
   },
   "outputs": [],
   "source": [
    "unpd_std = u.filter_mols(unpd_std, \"Smiles\", [\"MinHeavyAtoms\", \"MaxHeavyAtoms\", \"Duplicates\"])"
   ]
  },
  {
   "cell_type": "code",
   "execution_count": null,
   "metadata": {},
   "outputs": [],
   "source": []
  },
  {
   "cell_type": "markdown",
   "metadata": {},
   "source": [
    "#### Final Standardization\n",
    "\n",
    "Including tautomerization."
   ]
  },
  {
   "cell_type": "code",
   "execution_count": null,
   "metadata": {
    "ExecuteTime": {
     "end_time": "2020-11-24T11:11:01.095539Z",
     "start_time": "2020-11-24T10:26:23.703167Z"
    },
    "scrolled": true
   },
   "outputs": [],
   "source": [
    "# Takes 45min\n",
    "unpd_std_tauto = u.apply_to_smiles(unpd_std, \"Smiles\", {\"Smiles_Std\": lambda x: u.standardize_mol(x, canonicalize_tautomer=True)}, parallel=True)"
   ]
  },
  {
   "cell_type": "code",
   "execution_count": null,
   "metadata": {
    "ExecuteTime": {
     "end_time": "2020-11-24T11:11:03.033882Z",
     "start_time": "2020-11-24T11:11:02.899226Z"
    }
   },
   "outputs": [],
   "source": [
    "unpd_std_tauto.drop(\"Smiles\", axis=1, inplace=True)\n",
    "unpd_std_tauto = unpd_std_tauto.rename(columns={\"Smiles_Std\": \"Smiles\"})"
   ]
  },
  {
   "cell_type": "code",
   "execution_count": null,
   "metadata": {
    "ExecuteTime": {
     "end_time": "2020-11-24T11:12:39.808997Z",
     "start_time": "2020-11-24T11:11:03.042762Z"
    }
   },
   "outputs": [],
   "source": [
    "unpd_std_tauto = u.filter_mols(unpd_std_tauto, \"Smiles\", \"Duplicates\")"
   ]
  },
  {
   "cell_type": "code",
   "execution_count": null,
   "metadata": {
    "ExecuteTime": {
     "end_time": "2020-11-24T11:12:40.308395Z",
     "start_time": "2020-11-24T11:12:39.812402Z"
    }
   },
   "outputs": [],
   "source": [
    "unpd_std_tauto.to_csv(\"../tmp/unpd_deglyco_std_tauto.tsv\", sep=\"\\t\", index=False)\n",
    "unpd_std_tauto.info()"
   ]
  },
  {
   "cell_type": "code",
   "execution_count": null,
   "metadata": {
    "ExecuteTime": {
     "end_time": "2020-11-24T11:12:48.821168Z",
     "start_time": "2020-11-24T11:12:48.793960Z"
    },
    "scrolled": true
   },
   "outputs": [],
   "source": [
    "\n",
    "unpd_std_tauto.head()"
   ]
  },
  {
   "cell_type": "markdown",
   "metadata": {},
   "source": [
    "#### Add NP Likeness Score"
   ]
  },
  {
   "cell_type": "code",
   "execution_count": null,
   "metadata": {
    "ExecuteTime": {
     "end_time": "2020-11-24T11:14:48.161128Z",
     "start_time": "2020-11-24T11:13:34.325409Z"
    }
   },
   "outputs": [],
   "source": [
    "# Takes 1:15min\n",
    "# unpd_std_tauto = pd.read_csv(\"../tmp/unpd_deglyco_std_tauto.tsv\", sep=\"\\t\")\n",
    "unpd_std_tauto_np = u.apply_to_smiles(unpd_std_tauto, \"Smiles\", {\"NP_Score\": score_np})\n",
    "len(unpd_std_tauto_np)"
   ]
  },
  {
   "cell_type": "code",
   "execution_count": null,
   "metadata": {
    "ExecuteTime": {
     "end_time": "2020-11-24T11:18:32.132533Z",
     "start_time": "2020-11-24T11:18:31.728860Z"
    }
   },
   "outputs": [],
   "source": [
    "unpd_std_tauto_np = unpd_std_tauto_np[~unpd_std_tauto_np[\"NP_Score\"].isnull()]\n",
    "unpd_std_tauto_np.to_csv(\"../tmp/unpd_deglyco_std_tauto_np.tsv\", sep=\"\\t\", index=False)\n",
    "len(unpd_std_tauto_np)"
   ]
  },
  {
   "cell_type": "markdown",
   "metadata": {},
   "source": [
    "#### Plot Distribution"
   ]
  },
  {
   "cell_type": "code",
   "execution_count": 27,
   "metadata": {
    "ExecuteTime": {
     "end_time": "2020-11-24T13:52:44.565923Z",
     "start_time": "2020-11-24T13:52:44.356242Z"
    }
   },
   "outputs": [],
   "source": [
    "unpd_std_tauto_np = pd.read_csv(\"../tmp/unpd_deglyco_std_tauto_np.tsv\", sep=\"\\t\")"
   ]
  },
  {
   "cell_type": "code",
   "execution_count": null,
   "metadata": {
    "ExecuteTime": {
     "end_time": "2020-11-24T11:21:09.766934Z",
     "start_time": "2020-11-24T11:21:07.890188Z"
    },
    "scrolled": false
   },
   "outputs": [],
   "source": [
    "unpd_std_tauto_np[\"NP_Score\"].plot.density()\n",
    "plt.xlim(-5.0, 5.0);"
   ]
  },
  {
   "cell_type": "code",
   "execution_count": null,
   "metadata": {},
   "outputs": [],
   "source": []
  },
  {
   "cell_type": "markdown",
   "metadata": {},
   "source": [
    "#### Representative Subset"
   ]
  },
  {
   "cell_type": "code",
   "execution_count": 28,
   "metadata": {
    "ExecuteTime": {
     "end_time": "2020-11-24T13:52:59.088722Z",
     "start_time": "2020-11-24T13:52:58.907064Z"
    }
   },
   "outputs": [
    {
     "data": {
      "image/png": "[encoded data removed]",
      "text/plain": [
       "<Figure size 921.6x633.6 with 1 Axes>"
      ]
     },
     "metadata": {},
     "output_type": "display_data"
    }
   ],
   "source": [
    "unpd_sub = unpd_std_tauto_np.sample(n=5000)\n",
    "unpd_sub[\"NP_Score\"].plot.density()\n",
    "plt.xlim(-5.0, 5.0);"
   ]
  },
  {
   "cell_type": "code",
   "execution_count": null,
   "metadata": {},
   "outputs": [],
   "source": []
  },
  {
   "cell_type": "code",
   "execution_count": null,
   "metadata": {},
   "outputs": [],
   "source": []
  },
  {
   "cell_type": "markdown",
   "metadata": {},
   "source": [
    "## ChEMBL NP\n",
    "\n",
    "* 40547 cpds.\n",
    "* 30655 cpds. after deglycosylation, standardization and deduplication"
   ]
  },
  {
   "cell_type": "markdown",
   "metadata": {},
   "source": [
    "### Deglycosylation, then Standardization\n",
    "\n",
    "#### Loading and Initial Standardization"
   ]
  },
  {
   "cell_type": "code",
   "execution_count": 9,
   "metadata": {
    "ExecuteTime": {
     "end_time": "2020-11-24T12:24:30.972127Z",
     "start_time": "2020-11-24T12:24:30.868981Z"
    }
   },
   "outputs": [
    {
     "name": "stdout",
     "output_type": "stream",
     "text": [
      "<class 'pandas.core.frame.DataFrame'>\n",
      "RangeIndex: 40547 entries, 0 to 40546\n",
      "Data columns (total 2 columns):\n",
      " #   Column     Non-Null Count  Dtype \n",
      "---  ------     --------------  ----- \n",
      " 0   Chembl_Id  40547 non-null  object\n",
      " 1   Smiles     40525 non-null  object\n",
      "dtypes: object(2)\n",
      "memory usage: 633.7+ KB\n"
     ]
    }
   ],
   "source": [
    "chembl_np = pd.read_csv(\"/home/pahl/comas/notebooks/sdf/cpd_libs_2003/chembl_26_natprod_stereo.tsv\", sep=\"\\t\")[[\"Chembl_Id\", \"Smiles\"]]\n",
    "chembl_np.info()"
   ]
  },
  {
   "cell_type": "code",
   "execution_count": 10,
   "metadata": {
    "ExecuteTime": {
     "end_time": "2020-11-24T12:24:36.183254Z",
     "start_time": "2020-11-24T12:24:36.162703Z"
    }
   },
   "outputs": [
    {
     "data": {
      "text/html": [
       "<div>\n",
       "<style scoped>\n",
       "    .dataframe tbody tr th:only-of-type {\n",
       "        vertical-align: middle;\n",
       "    }\n",
       "\n",
       "    .dataframe tbody tr th {\n",
       "        vertical-align: top;\n",
       "    }\n",
       "\n",
       "    .dataframe thead th {\n",
       "        text-align: right;\n",
       "    }\n",
       "</style>\n",
       "<table border=\"1\" class=\"dataframe\">\n",
       "  <thead>\n",
       "    <tr style=\"text-align: right;\">\n",
       "      <th></th>\n",
       "      <th>Chembl_Id</th>\n",
       "      <th>Smiles</th>\n",
       "    </tr>\n",
       "  </thead>\n",
       "  <tbody>\n",
       "    <tr>\n",
       "      <th>0</th>\n",
       "      <td>CHEMBL3916495</td>\n",
       "      <td>CC[C@H](C)C(=O)O[C@H]1C[C@@H](C)[C@H](OC(C)=O)...</td>\n",
       "    </tr>\n",
       "    <tr>\n",
       "      <th>1</th>\n",
       "      <td>CHEMBL3917534</td>\n",
       "      <td>C=C(C)[C@@H](O)CC/C(C)=C/C[C@@H]1C[C@]2(CC=C(C...</td>\n",
       "    </tr>\n",
       "    <tr>\n",
       "      <th>2</th>\n",
       "      <td>CHEMBL3954218</td>\n",
       "      <td>CC(=O)O[C@H]1[C@@H]2O[C@]2([C@H](C)[C@H]2CC(C)...</td>\n",
       "    </tr>\n",
       "    <tr>\n",
       "      <th>3</th>\n",
       "      <td>CHEMBL3956388</td>\n",
       "      <td>CC(C)=CCC[C@]1(C)[C@@H](CC=C(C)C)C[C@]2(CC=C(C...</td>\n",
       "    </tr>\n",
       "    <tr>\n",
       "      <th>4</th>\n",
       "      <td>CHEMBL3953960</td>\n",
       "      <td>COc1c(Br)cc(Br)cc1Oc1c(Br)c(Br)cc(Br)c1OC</td>\n",
       "    </tr>\n",
       "  </tbody>\n",
       "</table>\n",
       "</div>"
      ],
      "text/plain": [
       "       Chembl_Id                                             Smiles\n",
       "0  CHEMBL3916495  CC[C@H](C)C(=O)O[C@H]1C[C@@H](C)[C@H](OC(C)=O)...\n",
       "1  CHEMBL3917534  C=C(C)[C@@H](O)CC/C(C)=C/C[C@@H]1C[C@]2(CC=C(C...\n",
       "2  CHEMBL3954218  CC(=O)O[C@H]1[C@@H]2O[C@]2([C@H](C)[C@H]2CC(C)...\n",
       "3  CHEMBL3956388  CC(C)=CCC[C@]1(C)[C@@H](CC=C(C)C)C[C@]2(CC=C(C...\n",
       "4  CHEMBL3953960          COc1c(Br)cc(Br)cc1Oc1c(Br)c(Br)cc(Br)c1OC"
      ]
     },
     "execution_count": 10,
     "metadata": {},
     "output_type": "execute_result"
    }
   ],
   "source": [
    "chembl_np.head()"
   ]
  },
  {
   "cell_type": "code",
   "execution_count": 11,
   "metadata": {
    "ExecuteTime": {
     "end_time": "2020-11-24T12:27:33.488297Z",
     "start_time": "2020-11-24T12:24:40.469851Z"
    }
   },
   "outputs": [
    {
     "data": {
      "application/vnd.jupyter.widget-view+json": {
       "model_id": "",
       "version_major": 2,
       "version_minor": 0
      },
      "text/plain": [
       "HBox(children=(HTML(value=''), FloatProgress(value=0.0, max=40547.0), HTML(value='')))"
      ]
     },
     "metadata": {},
     "output_type": "display_data"
    },
    {
     "name": "stderr",
     "output_type": "stream",
     "text": [
      "RDKit ERROR: [13:25:36] Explicit valence for atom # 26 B, 5, is greater than permitted\n"
     ]
    },
    {
     "name": "stdout",
     "output_type": "stream",
     "text": [
      "\n"
     ]
    }
   ],
   "source": [
    "# Initial standardization, before deglycosylation\n",
    "# Takes 2:40min\n",
    "chembl_np = u.apply_to_smiles(chembl_np, \"Smiles\", {\"Smiles_Std\": lambda x: u.standardize_mol(x, remove_stereo=True)})\n",
    "chembl_np.drop(\"Smiles\", axis=1, inplace=True)\n",
    "chembl_np = chembl_np.rename(columns={\"Smiles_Std\": \"Smiles\"})"
   ]
  },
  {
   "cell_type": "code",
   "execution_count": 12,
   "metadata": {
    "ExecuteTime": {
     "end_time": "2020-11-24T12:27:33.523357Z",
     "start_time": "2020-11-24T12:27:33.490966Z"
    }
   },
   "outputs": [
    {
     "name": "stdout",
     "output_type": "stream",
     "text": [
      "<class 'pandas.core.frame.DataFrame'>\n",
      "RangeIndex: 40547 entries, 0 to 40546\n",
      "Data columns (total 2 columns):\n",
      " #   Column     Non-Null Count  Dtype \n",
      "---  ------     --------------  ----- \n",
      " 0   Chembl_Id  40547 non-null  object\n",
      " 1   Smiles     40524 non-null  object\n",
      "dtypes: object(2)\n",
      "memory usage: 633.7+ KB\n"
     ]
    }
   ],
   "source": [
    "chembl_np.info()"
   ]
  },
  {
   "cell_type": "code",
   "execution_count": 13,
   "metadata": {
    "ExecuteTime": {
     "end_time": "2020-11-24T12:30:17.409036Z",
     "start_time": "2020-11-24T12:27:33.526762Z"
    }
   },
   "outputs": [
    {
     "name": "stdout",
     "output_type": "stream",
     "text": [
      "Applying filters (4)...\n"
     ]
    },
    {
     "data": {
      "application/vnd.jupyter.widget-view+json": {
       "model_id": "",
       "version_major": 2,
       "version_minor": 0
      },
      "text/plain": [
       "HBox(children=(HTML(value=''), FloatProgress(value=0.0, max=40547.0), HTML(value='')))"
      ]
     },
     "metadata": {},
     "output_type": "display_data"
    },
    {
     "name": "stdout",
     "output_type": "stream",
     "text": [
      "\n",
      "Applied filter Isotopes: 40518\n"
     ]
    },
    {
     "data": {
      "application/vnd.jupyter.widget-view+json": {
       "model_id": "",
       "version_major": 2,
       "version_minor": 0
      },
      "text/plain": [
       "HBox(children=(HTML(value=''), FloatProgress(value=0.0, max=40518.0), HTML(value='')))"
      ]
     },
     "metadata": {},
     "output_type": "display_data"
    },
    {
     "name": "stdout",
     "output_type": "stream",
     "text": [
      "\n",
      "Applied filter MedChemAtoms: 40481\n"
     ]
    },
    {
     "data": {
      "application/vnd.jupyter.widget-view+json": {
       "model_id": "",
       "version_major": 2,
       "version_minor": 0
      },
      "text/plain": [
       "HBox(children=(HTML(value=''), FloatProgress(value=0.0, max=40481.0), HTML(value='')))"
      ]
     },
     "metadata": {},
     "output_type": "display_data"
    },
    {
     "name": "stdout",
     "output_type": "stream",
     "text": [
      "\n",
      "Applied filter MinHeavyAtoms: 40478\n"
     ]
    },
    {
     "data": {
      "application/vnd.jupyter.widget-view+json": {
       "model_id": "",
       "version_major": 2,
       "version_minor": 0
      },
      "text/plain": [
       "HBox(children=(HTML(value=''), FloatProgress(value=0.0, max=40478.0), HTML(value='')))"
      ]
     },
     "metadata": {},
     "output_type": "display_data"
    },
    {
     "name": "stdout",
     "output_type": "stream",
     "text": [
      "\n",
      "Applied filter Duplicates: 36489\n",
      "<class 'pandas.core.frame.DataFrame'>\n",
      "Int64Index: 36489 entries, 0 to 40546\n",
      "Data columns (total 2 columns):\n",
      " #   Column     Non-Null Count  Dtype \n",
      "---  ------     --------------  ----- \n",
      " 0   Chembl_Id  36489 non-null  object\n",
      " 1   Smiles     36489 non-null  object\n",
      "dtypes: object(2)\n",
      "memory usage: 855.2+ KB\n"
     ]
    }
   ],
   "source": [
    "# Takes 2:40min\n",
    "chembl_np = u.filter_mols(chembl_np, \"Smiles\", [\"Isotopes\", \"MedChemAtoms\", \"MinHeavyAtoms\", \"Duplicates\"])\n",
    "chembl_np.info()"
   ]
  },
  {
   "cell_type": "code",
   "execution_count": 14,
   "metadata": {
    "ExecuteTime": {
     "end_time": "2020-11-24T12:30:17.440985Z",
     "start_time": "2020-11-24T12:30:17.412792Z"
    }
   },
   "outputs": [
    {
     "data": {
      "text/html": [
       "<div>\n",
       "<style scoped>\n",
       "    .dataframe tbody tr th:only-of-type {\n",
       "        vertical-align: middle;\n",
       "    }\n",
       "\n",
       "    .dataframe tbody tr th {\n",
       "        vertical-align: top;\n",
       "    }\n",
       "\n",
       "    .dataframe thead th {\n",
       "        text-align: right;\n",
       "    }\n",
       "</style>\n",
       "<table border=\"1\" class=\"dataframe\">\n",
       "  <thead>\n",
       "    <tr style=\"text-align: right;\">\n",
       "      <th></th>\n",
       "      <th>Chembl_Id</th>\n",
       "      <th>Smiles</th>\n",
       "    </tr>\n",
       "  </thead>\n",
       "  <tbody>\n",
       "    <tr>\n",
       "      <th>0</th>\n",
       "      <td>CHEMBL3916495</td>\n",
       "      <td>CCC(C)C(=O)OC1CC(C)C(OC(C)=O)C2=CC(OC(C)=O)C(C...</td>\n",
       "    </tr>\n",
       "    <tr>\n",
       "      <th>1</th>\n",
       "      <td>CHEMBL3917534</td>\n",
       "      <td>C=C(C)C(O)CCC(C)=CCC1CC2(CC=C(C)C)C(=O)C(CC=C(...</td>\n",
       "    </tr>\n",
       "    <tr>\n",
       "      <th>2</th>\n",
       "      <td>CHEMBL3954218</td>\n",
       "      <td>CC(=O)OC1C2OC2(C(C)C2CC(C)=C(C)C(=O)O2)C2(C)CC...</td>\n",
       "    </tr>\n",
       "    <tr>\n",
       "      <th>3</th>\n",
       "      <td>CHEMBL3956388</td>\n",
       "      <td>CC(C)=CCCC1(C)C(CC=C(C)C)CC2(CC=C(C)C)C(=O)C3=...</td>\n",
       "    </tr>\n",
       "    <tr>\n",
       "      <th>4</th>\n",
       "      <td>CHEMBL3953960</td>\n",
       "      <td>COc1c(Br)cc(Br)cc1Oc1c(Br)c(Br)cc(Br)c1OC</td>\n",
       "    </tr>\n",
       "    <tr>\n",
       "      <th>5</th>\n",
       "      <td>CHEMBL3955198</td>\n",
       "      <td>C=C(C)C1CCC2(C(=O)O)CCC3(C)C(CCC4C5(C)C(C(=O)O...</td>\n",
       "    </tr>\n",
       "    <tr>\n",
       "      <th>6</th>\n",
       "      <td>CHEMBL3952580</td>\n",
       "      <td>CCCCCC(=O)OCCCCC1CC2CCC3CC(C)N=C(N1)N32</td>\n",
       "    </tr>\n",
       "    <tr>\n",
       "      <th>7</th>\n",
       "      <td>CHEMBL3951609</td>\n",
       "      <td>CC1=CC(C(C)(C)C)OC(=O)C(CC(C)C)N(C)C(=O)C(C)N(...</td>\n",
       "    </tr>\n",
       "    <tr>\n",
       "      <th>8</th>\n",
       "      <td>CHEMBL3954676</td>\n",
       "      <td>C=C(C)C(CC=C(C)C)Cc1c(O)c(CC=C(C)C)c(O)c2c(=O)...</td>\n",
       "    </tr>\n",
       "    <tr>\n",
       "      <th>9</th>\n",
       "      <td>CHEMBL3952528</td>\n",
       "      <td>CC(=O)OCC12C(OC(C)=O)C=CC3C1C(C)(OC3(C)C)C(=O)...</td>\n",
       "    </tr>\n",
       "  </tbody>\n",
       "</table>\n",
       "</div>"
      ],
      "text/plain": [
       "       Chembl_Id                                             Smiles\n",
       "0  CHEMBL3916495  CCC(C)C(=O)OC1CC(C)C(OC(C)=O)C2=CC(OC(C)=O)C(C...\n",
       "1  CHEMBL3917534  C=C(C)C(O)CCC(C)=CCC1CC2(CC=C(C)C)C(=O)C(CC=C(...\n",
       "2  CHEMBL3954218  CC(=O)OC1C2OC2(C(C)C2CC(C)=C(C)C(=O)O2)C2(C)CC...\n",
       "3  CHEMBL3956388  CC(C)=CCCC1(C)C(CC=C(C)C)CC2(CC=C(C)C)C(=O)C3=...\n",
       "4  CHEMBL3953960          COc1c(Br)cc(Br)cc1Oc1c(Br)c(Br)cc(Br)c1OC\n",
       "5  CHEMBL3955198  C=C(C)C1CCC2(C(=O)O)CCC3(C)C(CCC4C5(C)C(C(=O)O...\n",
       "6  CHEMBL3952580            CCCCCC(=O)OCCCCC1CC2CCC3CC(C)N=C(N1)N32\n",
       "7  CHEMBL3951609  CC1=CC(C(C)(C)C)OC(=O)C(CC(C)C)N(C)C(=O)C(C)N(...\n",
       "8  CHEMBL3954676  C=C(C)C(CC=C(C)C)Cc1c(O)c(CC=C(C)C)c(O)c2c(=O)...\n",
       "9  CHEMBL3952528  CC(=O)OCC12C(OC(C)=O)C=CC3C1C(C)(OC3(C)C)C(=O)..."
      ]
     },
     "execution_count": 14,
     "metadata": {},
     "output_type": "execute_result"
    }
   ],
   "source": [
    "chembl_np.head(10)"
   ]
  },
  {
   "cell_type": "code",
   "execution_count": 15,
   "metadata": {
    "ExecuteTime": {
     "end_time": "2020-11-24T12:30:17.674734Z",
     "start_time": "2020-11-24T12:30:17.443431Z"
    }
   },
   "outputs": [],
   "source": [
    "chembl_np.to_csv(\"../tmp/chembl_np.tsv\", sep=\"\\t\", index=False)"
   ]
  },
  {
   "cell_type": "code",
   "execution_count": null,
   "metadata": {},
   "outputs": [],
   "source": []
  },
  {
   "cell_type": "markdown",
   "metadata": {},
   "source": [
    "#### Deglycosylation\n",
    "\n",
    "Deglycosylation is performed using the KNIME Sugar Remover node (CDK).  \n",
    "Here, the result of the deglycosylation is loaded again."
   ]
  },
  {
   "cell_type": "code",
   "execution_count": 16,
   "metadata": {
    "ExecuteTime": {
     "end_time": "2020-11-24T12:38:58.107029Z",
     "start_time": "2020-11-24T12:38:58.017797Z"
    },
    "scrolled": true
   },
   "outputs": [
    {
     "name": "stdout",
     "output_type": "stream",
     "text": [
      "<class 'pandas.core.frame.DataFrame'>\n",
      "RangeIndex: 34479 entries, 0 to 34478\n",
      "Data columns (total 2 columns):\n",
      " #   Column     Non-Null Count  Dtype \n",
      "---  ------     --------------  ----- \n",
      " 0   Chembl_Id  34479 non-null  object\n",
      " 1   Smiles     34479 non-null  object\n",
      "dtypes: object(2)\n",
      "memory usage: 538.9+ KB\n"
     ]
    }
   ],
   "source": [
    "# Reading in the output of the KNIME workflow:\n",
    "chembl_np = pd.read_csv(\"../tmp/chembl_np_deglyco.tsv\", sep=\"\\t\")\n",
    "chembl_np.info()"
   ]
  },
  {
   "cell_type": "code",
   "execution_count": 17,
   "metadata": {
    "ExecuteTime": {
     "end_time": "2020-11-24T12:40:33.652902Z",
     "start_time": "2020-11-24T12:39:13.507932Z"
    }
   },
   "outputs": [
    {
     "data": {
      "application/vnd.jupyter.widget-view+json": {
       "model_id": "",
       "version_major": 2,
       "version_minor": 0
      },
      "text/plain": [
       "HBox(children=(HTML(value=''), FloatProgress(value=0.0, max=34479.0), HTML(value='')))"
      ]
     },
     "metadata": {},
     "output_type": "display_data"
    },
    {
     "name": "stdout",
     "output_type": "stream",
     "text": [
      "\n",
      "<class 'pandas.core.frame.DataFrame'>\n",
      "RangeIndex: 34479 entries, 0 to 34478\n",
      "Data columns (total 2 columns):\n",
      " #   Column     Non-Null Count  Dtype \n",
      "---  ------     --------------  ----- \n",
      " 0   Chembl_Id  34479 non-null  object\n",
      " 1   Smiles     34479 non-null  object\n",
      "dtypes: object(2)\n",
      "memory usage: 538.9+ KB\n"
     ]
    }
   ],
   "source": [
    "# 2nd standardization and cleanup after deglycosylation\n",
    "# Takes 1:20min\n",
    "chembl_np_std = u.apply_to_smiles(chembl_np, \"Smiles\", {\"Smiles_Std\": u.standardize_mol})\n",
    "chembl_np_std.drop(\"Smiles\", axis=1, inplace=True)\n",
    "chembl_np_std = chembl_np_std.rename(columns={\"Smiles_Std\": \"Smiles\"})\n",
    "chembl_np_std.info()"
   ]
  },
  {
   "cell_type": "code",
   "execution_count": 18,
   "metadata": {
    "ExecuteTime": {
     "end_time": "2020-11-24T12:41:14.042061Z",
     "start_time": "2020-11-24T12:40:33.657644Z"
    }
   },
   "outputs": [
    {
     "name": "stdout",
     "output_type": "stream",
     "text": [
      "Applying filters (3)...\n"
     ]
    },
    {
     "data": {
      "application/vnd.jupyter.widget-view+json": {
       "model_id": "",
       "version_major": 2,
       "version_minor": 0
      },
      "text/plain": [
       "HBox(children=(HTML(value=''), FloatProgress(value=0.0, max=34479.0), HTML(value='')))"
      ]
     },
     "metadata": {},
     "output_type": "display_data"
    },
    {
     "name": "stdout",
     "output_type": "stream",
     "text": [
      "\n",
      "Applied filter MinHeavyAtoms: 34158\n",
      "Applied filter MaxHeavyAtoms: 33676\n"
     ]
    },
    {
     "data": {
      "application/vnd.jupyter.widget-view+json": {
       "model_id": "",
       "version_major": 2,
       "version_minor": 0
      },
      "text/plain": [
       "HBox(children=(HTML(value=''), FloatProgress(value=0.0, max=33676.0), HTML(value='')))"
      ]
     },
     "metadata": {},
     "output_type": "display_data"
    },
    {
     "name": "stdout",
     "output_type": "stream",
     "text": [
      "\n",
      "Applied filter Duplicates: 30796\n"
     ]
    }
   ],
   "source": [
    "chembl_np_std = u.filter_mols(chembl_np_std, \"Smiles\", [\"MinHeavyAtoms\", \"MaxHeavyAtoms\", \"Duplicates\"])"
   ]
  },
  {
   "cell_type": "code",
   "execution_count": null,
   "metadata": {},
   "outputs": [],
   "source": []
  },
  {
   "cell_type": "markdown",
   "metadata": {},
   "source": [
    "#### Final Standardization\n",
    "\n",
    "Including tautomerization."
   ]
  },
  {
   "cell_type": "code",
   "execution_count": 19,
   "metadata": {
    "ExecuteTime": {
     "end_time": "2020-11-24T12:54:59.640802Z",
     "start_time": "2020-11-24T12:41:37.406892Z"
    },
    "scrolled": true
   },
   "outputs": [
    {
     "name": "stdout",
     "output_type": "stream",
     "text": [
      "INFO: Pandarallel will run on 6 workers.\n",
      "INFO: Pandarallel will use Memory file system to transfer data between the main process and workers.\n"
     ]
    },
    {
     "data": {
      "application/vnd.jupyter.widget-view+json": {
       "model_id": "",
       "version_major": 2,
       "version_minor": 0
      },
      "text/plain": [
       "VBox(children=(HBox(children=(IntProgress(value=0, description='0.00%', max=5133), Label(value='0 / 5133'))), …"
      ]
     },
     "metadata": {},
     "output_type": "display_data"
    }
   ],
   "source": [
    "# Takes 13min\n",
    "chembl_np_std_tauto = u.apply_to_smiles(chembl_np_std, \"Smiles\", {\"Smiles_Std\": lambda x: u.standardize_mol(x, canonicalize_tautomer=True)}, parallel=True)"
   ]
  },
  {
   "cell_type": "code",
   "execution_count": 20,
   "metadata": {
    "ExecuteTime": {
     "end_time": "2020-11-24T12:54:59.671653Z",
     "start_time": "2020-11-24T12:54:59.642518Z"
    }
   },
   "outputs": [],
   "source": [
    "chembl_np_std_tauto.drop(\"Smiles\", axis=1, inplace=True)\n",
    "chembl_np_std_tauto = chembl_np_std_tauto.rename(columns={\"Smiles_Std\": \"Smiles\"})"
   ]
  },
  {
   "cell_type": "code",
   "execution_count": 21,
   "metadata": {
    "ExecuteTime": {
     "end_time": "2020-11-24T12:55:20.694657Z",
     "start_time": "2020-11-24T12:54:59.674101Z"
    }
   },
   "outputs": [
    {
     "name": "stdout",
     "output_type": "stream",
     "text": [
      "Applying filters (1)...\n"
     ]
    },
    {
     "data": {
      "application/vnd.jupyter.widget-view+json": {
       "model_id": "",
       "version_major": 2,
       "version_minor": 0
      },
      "text/plain": [
       "HBox(children=(HTML(value=''), FloatProgress(value=0.0, max=30796.0), HTML(value='')))"
      ]
     },
     "metadata": {},
     "output_type": "display_data"
    },
    {
     "name": "stdout",
     "output_type": "stream",
     "text": [
      "\n",
      "Applied filter Duplicates: 30655\n"
     ]
    }
   ],
   "source": [
    "chembl_np_std_tauto = u.filter_mols(chembl_np_std_tauto, \"Smiles\", \"Duplicates\")"
   ]
  },
  {
   "cell_type": "code",
   "execution_count": 22,
   "metadata": {
    "ExecuteTime": {
     "end_time": "2020-11-24T12:55:20.816674Z",
     "start_time": "2020-11-24T12:55:20.696441Z"
    }
   },
   "outputs": [
    {
     "name": "stdout",
     "output_type": "stream",
     "text": [
      "<class 'pandas.core.frame.DataFrame'>\n",
      "Int64Index: 30655 entries, 0 to 34478\n",
      "Data columns (total 2 columns):\n",
      " #   Column     Non-Null Count  Dtype \n",
      "---  ------     --------------  ----- \n",
      " 0   Chembl_Id  30655 non-null  object\n",
      " 1   Smiles     30655 non-null  object\n",
      "dtypes: object(2)\n",
      "memory usage: 718.5+ KB\n"
     ]
    }
   ],
   "source": [
    "chembl_np_std_tauto.to_csv(\"../tmp/chembl_np_deglyco_std_tauto.tsv\", sep=\"\\t\", index=False)\n",
    "chembl_np_std_tauto.info()"
   ]
  },
  {
   "cell_type": "code",
   "execution_count": 23,
   "metadata": {
    "ExecuteTime": {
     "end_time": "2020-11-24T12:55:20.837473Z",
     "start_time": "2020-11-24T12:55:20.818195Z"
    },
    "scrolled": true
   },
   "outputs": [
    {
     "data": {
      "text/html": [
       "<div>\n",
       "<style scoped>\n",
       "    .dataframe tbody tr th:only-of-type {\n",
       "        vertical-align: middle;\n",
       "    }\n",
       "\n",
       "    .dataframe tbody tr th {\n",
       "        vertical-align: top;\n",
       "    }\n",
       "\n",
       "    .dataframe thead th {\n",
       "        text-align: right;\n",
       "    }\n",
       "</style>\n",
       "<table border=\"1\" class=\"dataframe\">\n",
       "  <thead>\n",
       "    <tr style=\"text-align: right;\">\n",
       "      <th></th>\n",
       "      <th>Chembl_Id</th>\n",
       "      <th>Smiles</th>\n",
       "    </tr>\n",
       "  </thead>\n",
       "  <tbody>\n",
       "    <tr>\n",
       "      <th>0</th>\n",
       "      <td>CHEMBL3916495</td>\n",
       "      <td>CCC(C)C(=O)OC1CC(C)C(OC(C)=O)C2=CC(OC(C)=O)C(C...</td>\n",
       "    </tr>\n",
       "    <tr>\n",
       "      <th>1</th>\n",
       "      <td>CHEMBL3917534</td>\n",
       "      <td>C=C(C)C(O)CCC(C)=CCC1CC2(CC=C(C)C)C(=O)C(C(=O)...</td>\n",
       "    </tr>\n",
       "    <tr>\n",
       "      <th>2</th>\n",
       "      <td>CHEMBL3954218</td>\n",
       "      <td>CC(=O)OC1C2OC2(C(C)C2C=C(C)C(C)C(=O)O2)C2(C)CC...</td>\n",
       "    </tr>\n",
       "    <tr>\n",
       "      <th>3</th>\n",
       "      <td>CHEMBL3956388</td>\n",
       "      <td>CC(C)=CCCC1(C)C(CC=C(C)C)CC2(CC=C(C)C)C(=O)C3=...</td>\n",
       "    </tr>\n",
       "    <tr>\n",
       "      <th>4</th>\n",
       "      <td>CHEMBL3953960</td>\n",
       "      <td>COc1c(Br)cc(Br)cc1Oc1c(Br)c(Br)cc(Br)c1OC</td>\n",
       "    </tr>\n",
       "  </tbody>\n",
       "</table>\n",
       "</div>"
      ],
      "text/plain": [
       "       Chembl_Id                                             Smiles\n",
       "0  CHEMBL3916495  CCC(C)C(=O)OC1CC(C)C(OC(C)=O)C2=CC(OC(C)=O)C(C...\n",
       "1  CHEMBL3917534  C=C(C)C(O)CCC(C)=CCC1CC2(CC=C(C)C)C(=O)C(C(=O)...\n",
       "2  CHEMBL3954218  CC(=O)OC1C2OC2(C(C)C2C=C(C)C(C)C(=O)O2)C2(C)CC...\n",
       "3  CHEMBL3956388  CC(C)=CCCC1(C)C(CC=C(C)C)CC2(CC=C(C)C)C(=O)C3=...\n",
       "4  CHEMBL3953960          COc1c(Br)cc(Br)cc1Oc1c(Br)c(Br)cc(Br)c1OC"
      ]
     },
     "execution_count": 23,
     "metadata": {},
     "output_type": "execute_result"
    }
   ],
   "source": [
    "chembl_np_std_tauto.head()"
   ]
  },
  {
   "cell_type": "markdown",
   "metadata": {},
   "source": [
    "#### Add NP Likeness Score"
   ]
  },
  {
   "cell_type": "code",
   "execution_count": 24,
   "metadata": {
    "ExecuteTime": {
     "end_time": "2020-11-24T13:48:20.773716Z",
     "start_time": "2020-11-24T13:47:59.983420Z"
    }
   },
   "outputs": [
    {
     "data": {
      "application/vnd.jupyter.widget-view+json": {
       "model_id": "",
       "version_major": 2,
       "version_minor": 0
      },
      "text/plain": [
       "HBox(children=(HTML(value=''), FloatProgress(value=0.0, max=30655.0), HTML(value='')))"
      ]
     },
     "metadata": {},
     "output_type": "display_data"
    },
    {
     "name": "stdout",
     "output_type": "stream",
     "text": [
      "\n"
     ]
    },
    {
     "data": {
      "text/plain": [
       "30655"
      ]
     },
     "execution_count": 24,
     "metadata": {},
     "output_type": "execute_result"
    }
   ],
   "source": [
    "# chembl_np_std_tauto = pd.read_csv(\"../tmp/chembl_np_deglyco_std_tauto.tsv\", sep=\"\\t\")\n",
    "chembl_np_std_tauto_np = u.apply_to_smiles(chembl_np_std_tauto, \"Smiles\", {\"NP_Score\": score_np})\n",
    "len(chembl_np_std_tauto_np)"
   ]
  },
  {
   "cell_type": "code",
   "execution_count": 25,
   "metadata": {
    "ExecuteTime": {
     "end_time": "2020-11-24T13:48:33.464479Z",
     "start_time": "2020-11-24T13:48:33.316749Z"
    }
   },
   "outputs": [
    {
     "data": {
      "text/plain": [
       "30655"
      ]
     },
     "execution_count": 25,
     "metadata": {},
     "output_type": "execute_result"
    }
   ],
   "source": [
    "chembl_np_std_tauto_np = chembl_np_std_tauto_np[~chembl_np_std_tauto_np[\"NP_Score\"].isnull()]\n",
    "chembl_np_std_tauto_np.to_csv(\"../tmp/chembl_np_deglyco_std_tauto_np.tsv\", sep=\"\\t\", index=False)\n",
    "len(chembl_np_std_tauto_np)"
   ]
  },
  {
   "cell_type": "markdown",
   "metadata": {},
   "source": [
    "#### Plot Distribution"
   ]
  },
  {
   "cell_type": "code",
   "execution_count": 26,
   "metadata": {
    "ExecuteTime": {
     "end_time": "2020-11-24T13:48:35.983841Z",
     "start_time": "2020-11-24T13:48:35.334331Z"
    },
    "scrolled": false
   },
   "outputs": [
    {
     "data": {
      "image/png": "[encoded data removed]",
      "text/plain": [
       "<Figure size 921.6x633.6 with 1 Axes>"
      ]
     },
     "metadata": {},
     "output_type": "display_data"
    }
   ],
   "source": [
    "chembl_np_std_tauto_np = pd.read_csv(\"../tmp/chembl_np_std_tauto_np.tsv\", sep=\"\\t\")\n",
    "chembl_np_std_tauto_np[\"NP_Score\"].plot.density()\n",
    "plt.xlim(-5.0, 5.0);"
   ]
  },
  {
   "cell_type": "code",
   "execution_count": 29,
   "metadata": {
    "ExecuteTime": {
     "end_time": "2020-11-24T15:28:59.560188Z",
     "start_time": "2020-11-24T15:28:59.479018Z"
    }
   },
   "outputs": [
    {
     "data": {
      "text/plain": [
       "30655"
      ]
     },
     "execution_count": 29,
     "metadata": {},
     "output_type": "execute_result"
    }
   ],
   "source": [
    "chembl_np_std_tauto_np = pd.read_csv(\"../tmp/chembl_np_deglyco_std_tauto_np.tsv\", sep=\"\\t\")\n",
    "len(chembl_np_std_tauto_np)"
   ]
  },
  {
   "cell_type": "markdown",
   "metadata": {},
   "source": [
    "#### Representative Subset"
   ]
  },
  {
   "cell_type": "code",
   "execution_count": 33,
   "metadata": {
    "ExecuteTime": {
     "end_time": "2020-11-24T15:46:53.171554Z",
     "start_time": "2020-11-24T15:46:52.985661Z"
    }
   },
   "outputs": [
    {
     "data": {
      "image/png": "[encoded data removed]",
      "text/plain": [
       "<Figure size 921.6x633.6 with 1 Axes>"
      ]
     },
     "metadata": {},
     "output_type": "display_data"
    }
   ],
   "source": [
    "chembl_np_sub = chembl_np_std_tauto_np.sample(n=5000)\n",
    "chembl_np_sub[\"NP_Score\"].plot.density()\n",
    "plt.xlim(-5.0, 5.0);"
   ]
  },
  {
   "cell_type": "code",
   "execution_count": 36,
   "metadata": {
    "ExecuteTime": {
     "end_time": "2020-11-24T15:52:59.107219Z",
     "start_time": "2020-11-24T15:52:59.056439Z"
    }
   },
   "outputs": [],
   "source": [
    "chembl_np_sub = chembl_np_sub[[\"Smiles\", \"Chembl_Id\"]]\n",
    "chembl_np_sub.to_csv(\"../tmp/chembl_np_sub.tsv\", sep=\"\\t\", index=False)"
   ]
  },
  {
   "cell_type": "code",
   "execution_count": null,
   "metadata": {},
   "outputs": [],
   "source": []
  },
  {
   "cell_type": "markdown",
   "metadata": {},
   "source": [
    "## Analyticon\n",
    "\n",
    "`acdiscnp-substances.tsv`  \n",
    "Analyticon data set, downloaded as CSV file from ZINC15 on 19-Nov-2020,\n",
    "converted to tab-separated file.\n",
    "\n",
    "* 14600 cpds.\n",
    "* xxx cpds. after deglycosylation, standardization and deduplication"
   ]
  },
  {
   "cell_type": "markdown",
   "metadata": {},
   "source": [
    "### Deglycosylation, then Standardization\n",
    "\n",
    "#### Loading and Initial Standardization"
   ]
  },
  {
   "cell_type": "code",
   "execution_count": 5,
   "metadata": {
    "ExecuteTime": {
     "end_time": "2020-11-24T14:04:49.806731Z",
     "start_time": "2020-11-24T14:04:49.644019Z"
    }
   },
   "outputs": [
    {
     "name": "stdout",
     "output_type": "stream",
     "text": [
      "<class 'pandas.core.frame.DataFrame'>\n",
      "RangeIndex: 14600 entries, 0 to 14599\n",
      "Data columns (total 2 columns):\n",
      " #   Column   Non-Null Count  Dtype \n",
      "---  ------   --------------  ----- \n",
      " 0   Zinc_id  14600 non-null  object\n",
      " 1   Smiles   14600 non-null  object\n",
      "dtypes: object(2)\n",
      "memory usage: 228.2+ KB\n"
     ]
    }
   ],
   "source": [
    "analyt = pd.read_csv(\"file:///home/pahl/comas/notebooks/sdf/analyticon/acdiscnp-substances.tsv\", sep=\"\\t\")\n",
    "analyt.info()"
   ]
  },
  {
   "cell_type": "code",
   "execution_count": 6,
   "metadata": {
    "ExecuteTime": {
     "end_time": "2020-11-24T14:05:17.960750Z",
     "start_time": "2020-11-24T14:05:17.932998Z"
    }
   },
   "outputs": [
    {
     "data": {
      "text/html": [
       "<div>\n",
       "<style scoped>\n",
       "    .dataframe tbody tr th:only-of-type {\n",
       "        vertical-align: middle;\n",
       "    }\n",
       "\n",
       "    .dataframe tbody tr th {\n",
       "        vertical-align: top;\n",
       "    }\n",
       "\n",
       "    .dataframe thead th {\n",
       "        text-align: right;\n",
       "    }\n",
       "</style>\n",
       "<table border=\"1\" class=\"dataframe\">\n",
       "  <thead>\n",
       "    <tr style=\"text-align: right;\">\n",
       "      <th></th>\n",
       "      <th>Zinc_id</th>\n",
       "      <th>Smiles</th>\n",
       "    </tr>\n",
       "  </thead>\n",
       "  <tbody>\n",
       "    <tr>\n",
       "      <th>0</th>\n",
       "      <td>ZINC000000000566</td>\n",
       "      <td>COc1ccc2ccc(=O)oc2c1CC=C(C)C</td>\n",
       "    </tr>\n",
       "    <tr>\n",
       "      <th>1</th>\n",
       "      <td>ZINC000000001021</td>\n",
       "      <td>O=C(OCc1ccccc1)c1ccccc1</td>\n",
       "    </tr>\n",
       "    <tr>\n",
       "      <th>2</th>\n",
       "      <td>ZINC000000001084</td>\n",
       "      <td>Cn1c(=O)c2c(ncn2C)n(C)c1=O</td>\n",
       "    </tr>\n",
       "    <tr>\n",
       "      <th>3</th>\n",
       "      <td>ZINC000000001419</td>\n",
       "      <td>Cc1c(O)c(C)c2c(c1O)C(=O)C[C@H](c1ccc(O)cc1)O2</td>\n",
       "    </tr>\n",
       "    <tr>\n",
       "      <th>4</th>\n",
       "      <td>ZINC000000001669</td>\n",
       "      <td>CC(O)(CC(=O)O)CC(=O)O</td>\n",
       "    </tr>\n",
       "  </tbody>\n",
       "</table>\n",
       "</div>"
      ],
      "text/plain": [
       "            Zinc_id                                         Smiles\n",
       "0  ZINC000000000566                   COc1ccc2ccc(=O)oc2c1CC=C(C)C\n",
       "1  ZINC000000001021                        O=C(OCc1ccccc1)c1ccccc1\n",
       "2  ZINC000000001084                     Cn1c(=O)c2c(ncn2C)n(C)c1=O\n",
       "3  ZINC000000001419  Cc1c(O)c(C)c2c(c1O)C(=O)C[C@H](c1ccc(O)cc1)O2\n",
       "4  ZINC000000001669                          CC(O)(CC(=O)O)CC(=O)O"
      ]
     },
     "execution_count": 6,
     "metadata": {},
     "output_type": "execute_result"
    }
   ],
   "source": [
    "analyt.head()"
   ]
  },
  {
   "cell_type": "code",
   "execution_count": 7,
   "metadata": {
    "ExecuteTime": {
     "end_time": "2020-11-24T14:06:33.123198Z",
     "start_time": "2020-11-24T14:05:31.111476Z"
    }
   },
   "outputs": [
    {
     "data": {
      "application/vnd.jupyter.widget-view+json": {
       "model_id": "6c27958f681d4b4aaf66ce141caadcfc",
       "version_major": 2,
       "version_minor": 0
      },
      "text/plain": [
       "HBox(children=(HTML(value=''), FloatProgress(value=0.0, max=14600.0), HTML(value='')))"
      ]
     },
     "metadata": {},
     "output_type": "display_data"
    },
    {
     "name": "stdout",
     "output_type": "stream",
     "text": [
      "\n"
     ]
    }
   ],
   "source": [
    "# Initial standardization, before deglycosylation\n",
    "# Takes 1min\n",
    "analyt = u.apply_to_smiles(analyt, \"Smiles\", {\"Smiles_Std\": lambda x: u.standardize_mol(x, remove_stereo=True)})\n",
    "analyt.drop(\"Smiles\", axis=1, inplace=True)\n",
    "analyt = analyt.rename(columns={\"Smiles_Std\": \"Smiles\"})"
   ]
  },
  {
   "cell_type": "code",
   "execution_count": 8,
   "metadata": {
    "ExecuteTime": {
     "end_time": "2020-11-24T14:06:33.162874Z",
     "start_time": "2020-11-24T14:06:33.125342Z"
    }
   },
   "outputs": [
    {
     "name": "stdout",
     "output_type": "stream",
     "text": [
      "<class 'pandas.core.frame.DataFrame'>\n",
      "RangeIndex: 14600 entries, 0 to 14599\n",
      "Data columns (total 2 columns):\n",
      " #   Column   Non-Null Count  Dtype \n",
      "---  ------   --------------  ----- \n",
      " 0   Zinc_id  14600 non-null  object\n",
      " 1   Smiles   14600 non-null  object\n",
      "dtypes: object(2)\n",
      "memory usage: 228.2+ KB\n"
     ]
    }
   ],
   "source": [
    "analyt.info()"
   ]
  },
  {
   "cell_type": "code",
   "execution_count": 9,
   "metadata": {
    "ExecuteTime": {
     "end_time": "2020-11-24T14:08:54.261400Z",
     "start_time": "2020-11-24T14:08:17.293868Z"
    }
   },
   "outputs": [
    {
     "name": "stdout",
     "output_type": "stream",
     "text": [
      "Applying filters (4)...\n"
     ]
    },
    {
     "data": {
      "application/vnd.jupyter.widget-view+json": {
       "model_id": "5ee5e5320d604488a1aa54651410e488",
       "version_major": 2,
       "version_minor": 0
      },
      "text/plain": [
       "HBox(children=(HTML(value=''), FloatProgress(value=0.0, max=14600.0), HTML(value='')))"
      ]
     },
     "metadata": {},
     "output_type": "display_data"
    },
    {
     "name": "stdout",
     "output_type": "stream",
     "text": [
      "\n",
      "Applied filter Isotopes: 14600\n"
     ]
    },
    {
     "data": {
      "application/vnd.jupyter.widget-view+json": {
       "model_id": "f2e3b362ab9b4ec5b988ea4604921b23",
       "version_major": 2,
       "version_minor": 0
      },
      "text/plain": [
       "HBox(children=(HTML(value=''), FloatProgress(value=0.0, max=14600.0), HTML(value='')))"
      ]
     },
     "metadata": {},
     "output_type": "display_data"
    },
    {
     "name": "stdout",
     "output_type": "stream",
     "text": [
      "\n",
      "Applied filter MedChemAtoms: 14600\n"
     ]
    },
    {
     "data": {
      "application/vnd.jupyter.widget-view+json": {
       "model_id": "b753f6f6effe46df954dc8fe7a47b80d",
       "version_major": 2,
       "version_minor": 0
      },
      "text/plain": [
       "HBox(children=(HTML(value=''), FloatProgress(value=0.0, max=14600.0), HTML(value='')))"
      ]
     },
     "metadata": {},
     "output_type": "display_data"
    },
    {
     "name": "stdout",
     "output_type": "stream",
     "text": [
      "\n",
      "Applied filter MinHeavyAtoms: 14600\n"
     ]
    },
    {
     "data": {
      "application/vnd.jupyter.widget-view+json": {
       "model_id": "6ec9bbded3c54c8aa4cd3a9f64d36bda",
       "version_major": 2,
       "version_minor": 0
      },
      "text/plain": [
       "HBox(children=(HTML(value=''), FloatProgress(value=0.0, max=14600.0), HTML(value='')))"
      ]
     },
     "metadata": {},
     "output_type": "display_data"
    },
    {
     "name": "stdout",
     "output_type": "stream",
     "text": [
      "\n",
      "Applied filter Duplicates: 5051\n",
      "<class 'pandas.core.frame.DataFrame'>\n",
      "Int64Index: 5051 entries, 0 to 14599\n",
      "Data columns (total 2 columns):\n",
      " #   Column   Non-Null Count  Dtype \n",
      "---  ------   --------------  ----- \n",
      " 0   Zinc_id  5051 non-null   object\n",
      " 1   Smiles   5051 non-null   object\n",
      "dtypes: object(2)\n",
      "memory usage: 118.4+ KB\n"
     ]
    }
   ],
   "source": [
    "# Takes xxxmin\n",
    "analyt = u.filter_mols(analyt, \"Smiles\", [\"Isotopes\", \"MedChemAtoms\", \"MinHeavyAtoms\", \"Duplicates\"])\n",
    "analyt.info()"
   ]
  },
  {
   "cell_type": "code",
   "execution_count": 10,
   "metadata": {
    "ExecuteTime": {
     "end_time": "2020-11-24T14:12:01.435436Z",
     "start_time": "2020-11-24T14:12:01.396461Z"
    }
   },
   "outputs": [
    {
     "data": {
      "text/html": [
       "<div>\n",
       "<style scoped>\n",
       "    .dataframe tbody tr th:only-of-type {\n",
       "        vertical-align: middle;\n",
       "    }\n",
       "\n",
       "    .dataframe tbody tr th {\n",
       "        vertical-align: top;\n",
       "    }\n",
       "\n",
       "    .dataframe thead th {\n",
       "        text-align: right;\n",
       "    }\n",
       "</style>\n",
       "<table border=\"1\" class=\"dataframe\">\n",
       "  <thead>\n",
       "    <tr style=\"text-align: right;\">\n",
       "      <th></th>\n",
       "      <th>Zinc_id</th>\n",
       "      <th>Smiles</th>\n",
       "    </tr>\n",
       "  </thead>\n",
       "  <tbody>\n",
       "    <tr>\n",
       "      <th>0</th>\n",
       "      <td>ZINC000000000566</td>\n",
       "      <td>COc1ccc2ccc(=O)oc2c1CC=C(C)C</td>\n",
       "    </tr>\n",
       "    <tr>\n",
       "      <th>1</th>\n",
       "      <td>ZINC000000001021</td>\n",
       "      <td>O=C(OCc1ccccc1)c1ccccc1</td>\n",
       "    </tr>\n",
       "    <tr>\n",
       "      <th>2</th>\n",
       "      <td>ZINC000000001084</td>\n",
       "      <td>Cn1c(=O)c2c(ncn2C)n(C)c1=O</td>\n",
       "    </tr>\n",
       "    <tr>\n",
       "      <th>3</th>\n",
       "      <td>ZINC000000001419</td>\n",
       "      <td>Cc1c(O)c(C)c2c(c1O)C(=O)CC(c1ccc(O)cc1)O2</td>\n",
       "    </tr>\n",
       "    <tr>\n",
       "      <th>4</th>\n",
       "      <td>ZINC000000001669</td>\n",
       "      <td>CC(O)(CC(=O)O)CC(=O)O</td>\n",
       "    </tr>\n",
       "    <tr>\n",
       "      <th>5</th>\n",
       "      <td>ZINC000000001712</td>\n",
       "      <td>COC(=O)c1ccc(O)cc1</td>\n",
       "    </tr>\n",
       "    <tr>\n",
       "      <th>6</th>\n",
       "      <td>ZINC000000001758</td>\n",
       "      <td>COc1c(C)c2c(c(O)c1CC=C(C)CCC(=O)O)C(=O)OC2</td>\n",
       "    </tr>\n",
       "    <tr>\n",
       "      <th>7</th>\n",
       "      <td>ZINC000000001785</td>\n",
       "      <td>O=C1CC(c2ccc(O)cc2)Oc2cc(O)cc(O)c21</td>\n",
       "    </tr>\n",
       "    <tr>\n",
       "      <th>8</th>\n",
       "      <td>ZINC000000001795</td>\n",
       "      <td>O=C(O)c1cccnc1</td>\n",
       "    </tr>\n",
       "    <tr>\n",
       "      <th>9</th>\n",
       "      <td>ZINC000000001904</td>\n",
       "      <td>CC(C)=CCOc1c2occc2cc2ccc(=O)oc12</td>\n",
       "    </tr>\n",
       "  </tbody>\n",
       "</table>\n",
       "</div>"
      ],
      "text/plain": [
       "            Zinc_id                                      Smiles\n",
       "0  ZINC000000000566                COc1ccc2ccc(=O)oc2c1CC=C(C)C\n",
       "1  ZINC000000001021                     O=C(OCc1ccccc1)c1ccccc1\n",
       "2  ZINC000000001084                  Cn1c(=O)c2c(ncn2C)n(C)c1=O\n",
       "3  ZINC000000001419   Cc1c(O)c(C)c2c(c1O)C(=O)CC(c1ccc(O)cc1)O2\n",
       "4  ZINC000000001669                       CC(O)(CC(=O)O)CC(=O)O\n",
       "5  ZINC000000001712                          COC(=O)c1ccc(O)cc1\n",
       "6  ZINC000000001758  COc1c(C)c2c(c(O)c1CC=C(C)CCC(=O)O)C(=O)OC2\n",
       "7  ZINC000000001785         O=C1CC(c2ccc(O)cc2)Oc2cc(O)cc(O)c21\n",
       "8  ZINC000000001795                              O=C(O)c1cccnc1\n",
       "9  ZINC000000001904            CC(C)=CCOc1c2occc2cc2ccc(=O)oc12"
      ]
     },
     "execution_count": 10,
     "metadata": {},
     "output_type": "execute_result"
    }
   ],
   "source": [
    "analyt.head(10)"
   ]
  },
  {
   "cell_type": "code",
   "execution_count": 11,
   "metadata": {
    "ExecuteTime": {
     "end_time": "2020-11-24T14:12:07.913207Z",
     "start_time": "2020-11-24T14:12:07.853829Z"
    }
   },
   "outputs": [],
   "source": [
    "analyt.to_csv(\"../tmp/analyt.tsv\", sep=\"\\t\", index=False)"
   ]
  },
  {
   "cell_type": "code",
   "execution_count": null,
   "metadata": {},
   "outputs": [],
   "source": []
  },
  {
   "cell_type": "markdown",
   "metadata": {},
   "source": [
    "#### Deglycosylation\n",
    "\n",
    "Deglycosylation is performed using the KNIME Sugar Remover node (CDK).  \n",
    "Here, the result of the deglycosylation is loaded again."
   ]
  },
  {
   "cell_type": "code",
   "execution_count": 12,
   "metadata": {
    "ExecuteTime": {
     "end_time": "2020-11-24T14:13:37.662518Z",
     "start_time": "2020-11-24T14:13:37.619409Z"
    },
    "scrolled": true
   },
   "outputs": [
    {
     "name": "stdout",
     "output_type": "stream",
     "text": [
      "<class 'pandas.core.frame.DataFrame'>\n",
      "RangeIndex: 4936 entries, 0 to 4935\n",
      "Data columns (total 2 columns):\n",
      " #   Column   Non-Null Count  Dtype \n",
      "---  ------   --------------  ----- \n",
      " 0   Zinc_id  4936 non-null   object\n",
      " 1   Smiles   4936 non-null   object\n",
      "dtypes: object(2)\n",
      "memory usage: 77.2+ KB\n"
     ]
    }
   ],
   "source": [
    "# Reading in the output of the KNIME workflow:\n",
    "analyt = pd.read_csv(\"../tmp/analyt_deglyco.tsv\", sep=\"\\t\")\n",
    "analyt.info()"
   ]
  },
  {
   "cell_type": "code",
   "execution_count": 13,
   "metadata": {
    "ExecuteTime": {
     "end_time": "2020-11-24T14:14:10.240960Z",
     "start_time": "2020-11-24T14:13:59.049796Z"
    }
   },
   "outputs": [
    {
     "data": {
      "application/vnd.jupyter.widget-view+json": {
       "model_id": "eb8601bc300243e3a47ff9f78df6bf45",
       "version_major": 2,
       "version_minor": 0
      },
      "text/plain": [
       "HBox(children=(HTML(value=''), FloatProgress(value=0.0, max=4936.0), HTML(value='')))"
      ]
     },
     "metadata": {},
     "output_type": "display_data"
    },
    {
     "name": "stdout",
     "output_type": "stream",
     "text": [
      "\n",
      "<class 'pandas.core.frame.DataFrame'>\n",
      "RangeIndex: 4936 entries, 0 to 4935\n",
      "Data columns (total 2 columns):\n",
      " #   Column   Non-Null Count  Dtype \n",
      "---  ------   --------------  ----- \n",
      " 0   Zinc_id  4936 non-null   object\n",
      " 1   Smiles   4936 non-null   object\n",
      "dtypes: object(2)\n",
      "memory usage: 77.2+ KB\n"
     ]
    }
   ],
   "source": [
    "# 2nd standardization and cleanup after deglycosylation\n",
    "analyt_std = u.apply_to_smiles(analyt, \"Smiles\", {\"Smiles_Std\": u.standardize_mol})\n",
    "analyt_std.drop(\"Smiles\", axis=1, inplace=True)\n",
    "analyt_std = analyt_std.rename(columns={\"Smiles_Std\": \"Smiles\"})\n",
    "analyt_std.info()"
   ]
  },
  {
   "cell_type": "code",
   "execution_count": 14,
   "metadata": {
    "ExecuteTime": {
     "end_time": "2020-11-24T14:14:33.265493Z",
     "start_time": "2020-11-24T14:14:24.871367Z"
    }
   },
   "outputs": [
    {
     "name": "stdout",
     "output_type": "stream",
     "text": [
      "Applying filters (3)...\n"
     ]
    },
    {
     "data": {
      "application/vnd.jupyter.widget-view+json": {
       "model_id": "31c5a967f3b54d278c245140e3aada60",
       "version_major": 2,
       "version_minor": 0
      },
      "text/plain": [
       "HBox(children=(HTML(value=''), FloatProgress(value=0.0, max=4936.0), HTML(value='')))"
      ]
     },
     "metadata": {},
     "output_type": "display_data"
    },
    {
     "name": "stdout",
     "output_type": "stream",
     "text": [
      "\n",
      "Applied filter MinHeavyAtoms: 4922\n",
      "Applied filter MaxHeavyAtoms: 4922\n"
     ]
    },
    {
     "data": {
      "application/vnd.jupyter.widget-view+json": {
       "model_id": "0f7e1fe8d1aa469baa7755ae50dfedba",
       "version_major": 2,
       "version_minor": 0
      },
      "text/plain": [
       "HBox(children=(HTML(value=''), FloatProgress(value=0.0, max=4922.0), HTML(value='')))"
      ]
     },
     "metadata": {},
     "output_type": "display_data"
    },
    {
     "name": "stdout",
     "output_type": "stream",
     "text": [
      "\n",
      "Applied filter Duplicates: 4300\n"
     ]
    }
   ],
   "source": [
    "analyt = u.filter_mols(analyt, \"Smiles\", [\"MinHeavyAtoms\", \"MaxHeavyAtoms\", \"Duplicates\"])"
   ]
  },
  {
   "cell_type": "code",
   "execution_count": null,
   "metadata": {},
   "outputs": [],
   "source": []
  },
  {
   "cell_type": "markdown",
   "metadata": {},
   "source": [
    "#### Final Standardization\n",
    "\n",
    "Including tautomerization."
   ]
  },
  {
   "cell_type": "code",
   "execution_count": 15,
   "metadata": {
    "ExecuteTime": {
     "end_time": "2020-11-24T14:19:51.974670Z",
     "start_time": "2020-11-24T14:14:50.790941Z"
    },
    "scrolled": true
   },
   "outputs": [
    {
     "data": {
      "application/vnd.jupyter.widget-view+json": {
       "model_id": "a31e0a2a65d54d40967f0d12e122d975",
       "version_major": 2,
       "version_minor": 0
      },
      "text/plain": [
       "HBox(children=(HTML(value=''), FloatProgress(value=0.0, max=4936.0), HTML(value='')))"
      ]
     },
     "metadata": {},
     "output_type": "display_data"
    },
    {
     "name": "stdout",
     "output_type": "stream",
     "text": [
      "\n"
     ]
    }
   ],
   "source": [
    "# Takes 5min\n",
    "analyt_std_tauto = u.apply_to_smiles(analyt_std, \"Smiles\", {\"Smiles_Std\": lambda x: u.standardize_mol(x, canonicalize_tautomer=True)})"
   ]
  },
  {
   "cell_type": "code",
   "execution_count": 16,
   "metadata": {
    "ExecuteTime": {
     "end_time": "2020-11-24T14:19:52.004299Z",
     "start_time": "2020-11-24T14:19:51.976180Z"
    }
   },
   "outputs": [],
   "source": [
    "analyt_std_tauto.drop(\"Smiles\", axis=1, inplace=True)\n",
    "analyt_std_tauto = analyt_std_tauto.rename(columns={\"Smiles_Std\": \"Smiles\"})"
   ]
  },
  {
   "cell_type": "code",
   "execution_count": 17,
   "metadata": {
    "ExecuteTime": {
     "end_time": "2020-11-24T14:19:55.782779Z",
     "start_time": "2020-11-24T14:19:52.005946Z"
    }
   },
   "outputs": [
    {
     "name": "stdout",
     "output_type": "stream",
     "text": [
      "Applying filters (1)...\n"
     ]
    },
    {
     "data": {
      "application/vnd.jupyter.widget-view+json": {
       "model_id": "7815521c4662485ba48ea76b28460694",
       "version_major": 2,
       "version_minor": 0
      },
      "text/plain": [
       "HBox(children=(HTML(value=''), FloatProgress(value=0.0, max=4936.0), HTML(value='')))"
      ]
     },
     "metadata": {},
     "output_type": "display_data"
    },
    {
     "name": "stdout",
     "output_type": "stream",
     "text": [
      "\n",
      "Applied filter Duplicates: 4171\n"
     ]
    }
   ],
   "source": [
    "analyt_std_tauto = u.filter_mols(analyt_std_tauto, \"Smiles\", \"Duplicates\")"
   ]
  },
  {
   "cell_type": "code",
   "execution_count": 20,
   "metadata": {
    "ExecuteTime": {
     "end_time": "2020-11-24T14:20:17.001612Z",
     "start_time": "2020-11-24T14:20:16.952919Z"
    }
   },
   "outputs": [
    {
     "name": "stdout",
     "output_type": "stream",
     "text": [
      "<class 'pandas.core.frame.DataFrame'>\n",
      "Int64Index: 4171 entries, 0 to 4935\n",
      "Data columns (total 2 columns):\n",
      " #   Column   Non-Null Count  Dtype \n",
      "---  ------   --------------  ----- \n",
      " 0   Zinc_id  4171 non-null   object\n",
      " 1   Smiles   4171 non-null   object\n",
      "dtypes: object(2)\n",
      "memory usage: 97.8+ KB\n"
     ]
    }
   ],
   "source": [
    "analyt_std_tauto.to_csv(\"../tmp/analyt_deglyco_std_tauto.tsv\", sep=\"\\t\", index=False)\n",
    "analyt_std_tauto.info()"
   ]
  },
  {
   "cell_type": "code",
   "execution_count": 21,
   "metadata": {
    "ExecuteTime": {
     "end_time": "2020-11-24T14:20:18.911304Z",
     "start_time": "2020-11-24T14:20:18.875004Z"
    },
    "scrolled": true
   },
   "outputs": [
    {
     "data": {
      "text/html": [
       "<div>\n",
       "<style scoped>\n",
       "    .dataframe tbody tr th:only-of-type {\n",
       "        vertical-align: middle;\n",
       "    }\n",
       "\n",
       "    .dataframe tbody tr th {\n",
       "        vertical-align: top;\n",
       "    }\n",
       "\n",
       "    .dataframe thead th {\n",
       "        text-align: right;\n",
       "    }\n",
       "</style>\n",
       "<table border=\"1\" class=\"dataframe\">\n",
       "  <thead>\n",
       "    <tr style=\"text-align: right;\">\n",
       "      <th></th>\n",
       "      <th>Zinc_id</th>\n",
       "      <th>Smiles</th>\n",
       "    </tr>\n",
       "  </thead>\n",
       "  <tbody>\n",
       "    <tr>\n",
       "      <th>0</th>\n",
       "      <td>ZINC000000000566</td>\n",
       "      <td>COc1ccc2ccc(=O)oc2c1CC=C(C)C</td>\n",
       "    </tr>\n",
       "    <tr>\n",
       "      <th>1</th>\n",
       "      <td>ZINC000000001021</td>\n",
       "      <td>O=C(OCc1ccccc1)c1ccccc1</td>\n",
       "    </tr>\n",
       "    <tr>\n",
       "      <th>2</th>\n",
       "      <td>ZINC000000001084</td>\n",
       "      <td>Cn1c(=O)c2c(ncn2C)n(C)c1=O</td>\n",
       "    </tr>\n",
       "    <tr>\n",
       "      <th>3</th>\n",
       "      <td>ZINC000000001419</td>\n",
       "      <td>Cc1c(O)c(C)c2c(c1O)C(=O)CC(c1ccc(O)cc1)O2</td>\n",
       "    </tr>\n",
       "    <tr>\n",
       "      <th>4</th>\n",
       "      <td>ZINC000000001669</td>\n",
       "      <td>CC(O)(CC(=O)O)CC(=O)O</td>\n",
       "    </tr>\n",
       "  </tbody>\n",
       "</table>\n",
       "</div>"
      ],
      "text/plain": [
       "            Zinc_id                                     Smiles\n",
       "0  ZINC000000000566               COc1ccc2ccc(=O)oc2c1CC=C(C)C\n",
       "1  ZINC000000001021                    O=C(OCc1ccccc1)c1ccccc1\n",
       "2  ZINC000000001084                 Cn1c(=O)c2c(ncn2C)n(C)c1=O\n",
       "3  ZINC000000001419  Cc1c(O)c(C)c2c(c1O)C(=O)CC(c1ccc(O)cc1)O2\n",
       "4  ZINC000000001669                      CC(O)(CC(=O)O)CC(=O)O"
      ]
     },
     "execution_count": 21,
     "metadata": {},
     "output_type": "execute_result"
    }
   ],
   "source": [
    "analyt_std_tauto.head()"
   ]
  },
  {
   "cell_type": "markdown",
   "metadata": {},
   "source": [
    "#### Add NP Likeness Score"
   ]
  },
  {
   "cell_type": "code",
   "execution_count": 22,
   "metadata": {
    "ExecuteTime": {
     "end_time": "2020-11-24T14:20:29.100812Z",
     "start_time": "2020-11-24T14:20:26.274510Z"
    }
   },
   "outputs": [
    {
     "data": {
      "application/vnd.jupyter.widget-view+json": {
       "model_id": "1c0ffcd7153f447ca1e55ba4be90305c",
       "version_major": 2,
       "version_minor": 0
      },
      "text/plain": [
       "HBox(children=(HTML(value=''), FloatProgress(value=0.0, max=4171.0), HTML(value='')))"
      ]
     },
     "metadata": {},
     "output_type": "display_data"
    },
    {
     "name": "stdout",
     "output_type": "stream",
     "text": [
      "\n"
     ]
    },
    {
     "data": {
      "text/plain": [
       "4171"
      ]
     },
     "execution_count": 22,
     "metadata": {},
     "output_type": "execute_result"
    }
   ],
   "source": [
    "# chembl_np_std_tauto = pd.read_csv(\"../tmp/analyt_deglyco_std_tauto.tsv\", sep=\"\\t\")\n",
    "analyt_std_tauto_np = u.apply_to_smiles(analyt_std_tauto, \"Smiles\", {\"NP_Score\": score_np})\n",
    "len(analyt_std_tauto_np)"
   ]
  },
  {
   "cell_type": "code",
   "execution_count": 23,
   "metadata": {
    "ExecuteTime": {
     "end_time": "2020-11-24T14:23:29.722627Z",
     "start_time": "2020-11-24T14:23:29.669557Z"
    }
   },
   "outputs": [
    {
     "data": {
      "text/plain": [
       "4171"
      ]
     },
     "execution_count": 23,
     "metadata": {},
     "output_type": "execute_result"
    }
   ],
   "source": [
    "analyt_std_tauto_np = analyt_std_tauto_np[~analyt_std_tauto_np[\"NP_Score\"].isnull()]\n",
    "analyt_std_tauto_np.to_csv(\"../tmp/analyt_deglyco_std_tauto_np.tsv\", sep=\"\\t\", index=False)\n",
    "len(analyt_std_tauto_np)"
   ]
  },
  {
   "cell_type": "markdown",
   "metadata": {},
   "source": [
    "#### Plot Distribution"
   ]
  },
  {
   "cell_type": "code",
   "execution_count": 24,
   "metadata": {
    "ExecuteTime": {
     "end_time": "2020-11-24T14:23:32.051698Z",
     "start_time": "2020-11-24T14:23:31.724690Z"
    },
    "scrolled": false
   },
   "outputs": [
    {
     "data": {
      "image/png": "[encoded data removed]",
      "text/plain": [
       "<Figure size 921.6x633.6 with 1 Axes>"
      ]
     },
     "metadata": {},
     "output_type": "display_data"
    }
   ],
   "source": [
    "# analyt_std_tauto_np = pd.read_csv(\"../tmp/analyt_deglyco_std_tauto_np.tsv\", sep=\"\\t\")\n",
    "analyt_std_tauto_np[\"NP_Score\"].plot.density()\n",
    "plt.xlim(-5.0, 5.0);"
   ]
  },
  {
   "cell_type": "code",
   "execution_count": 30,
   "metadata": {
    "ExecuteTime": {
     "end_time": "2020-11-24T15:29:05.836590Z",
     "start_time": "2020-11-24T15:29:05.793555Z"
    }
   },
   "outputs": [
    {
     "data": {
      "text/plain": [
       "34826"
      ]
     },
     "execution_count": 30,
     "metadata": {},
     "output_type": "execute_result"
    }
   ],
   "source": [
    "comb = pd.concat([chembl_np_std_tauto_np, analyt_std_tauto_np])\n",
    "len(comb)"
   ]
  },
  {
   "cell_type": "code",
   "execution_count": 31,
   "metadata": {
    "ExecuteTime": {
     "end_time": "2020-11-24T15:30:11.783238Z",
     "start_time": "2020-11-24T15:29:44.802840Z"
    }
   },
   "outputs": [
    {
     "name": "stdout",
     "output_type": "stream",
     "text": [
      "Applying filters (1)...\n"
     ]
    },
    {
     "data": {
      "application/vnd.jupyter.widget-view+json": {
       "model_id": "29d0bb51a4b44f04a1693b1266c97d24",
       "version_major": 2,
       "version_minor": 0
      },
      "text/plain": [
       "HBox(children=(HTML(value=''), FloatProgress(value=0.0, max=34826.0), HTML(value='')))"
      ]
     },
     "metadata": {},
     "output_type": "display_data"
    },
    {
     "name": "stdout",
     "output_type": "stream",
     "text": [
      "\n",
      "Applied filter Duplicates: 33481\n"
     ]
    },
    {
     "data": {
      "text/plain": [
       "33481"
      ]
     },
     "execution_count": 31,
     "metadata": {},
     "output_type": "execute_result"
    }
   ],
   "source": [
    "comb = u.filter_mols(comb, \"Smiles\", \"Duplicates\")\n",
    "len(comb)"
   ]
  },
  {
   "cell_type": "code",
   "execution_count": null,
   "metadata": {},
   "outputs": [],
   "source": []
  }
 ],
 "metadata": {
  "hide_input": false,
  "kernelspec": {
   "display_name": "Python 3",
   "language": "python",
   "name": "python3"
  },
  "language_info": {
   "codemirror_mode": {
    "name": "ipython",
    "version": 3
   },
   "file_extension": ".py",
   "mimetype": "text/x-python",
   "name": "python",
   "nbconvert_exporter": "python",
   "pygments_lexer": "ipython3",
   "version": "3.8.6"
  },
  "notify_time": "5",
  "toc": {
   "base_numbering": 1,
   "nav_menu": {},
   "number_sections": true,
   "sideBar": true,
   "skip_h1_title": true,
   "title_cell": "Table of Contents",
   "title_sidebar": "Contents",
   "toc_cell": false,
   "toc_position": {
    "height": "calc(100% - 180px)",
    "left": "10px",
    "top": "150px",
    "width": "317px"
   },
   "toc_section_display": true,
   "toc_window_display": true
  }
 },
 "nbformat": 4,
 "nbformat_minor": 4
}
