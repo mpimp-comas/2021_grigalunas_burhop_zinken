{
 "cells": [
  {
   "cell_type": "markdown",
   "metadata": {},
   "source": [
    "## Initialization"
   ]
  },
  {
   "cell_type": "code",
   "execution_count": 1,
   "metadata": {
    "ExecuteTime": {
     "end_time": "2020-12-04T14:01:15.263345Z",
     "start_time": "2020-12-04T14:01:13.889287Z"
    },
    "execution": {
     "iopub.execute_input": "2020-12-14T12:08:30.102637Z",
     "iopub.status.busy": "2020-12-14T12:08:30.102420Z",
     "iopub.status.idle": "2020-12-14T12:08:32.562347Z",
     "shell.execute_reply": "2020-12-14T12:08:32.561881Z",
     "shell.execute_reply.started": "2020-12-14T12:08:30.102590Z"
    }
   },
   "outputs": [
    {
     "name": "stdout",
     "output_type": "stream",
     "text": [
      "* Cell Painting v3\n",
      "cellpainting3.processing                      ((master      )  commit: c9269f5 ( 2020-09-08 13:21:42 ))\n"
     ]
    }
   ],
   "source": [
    "%reload_ext autoreload\n",
    "%autoreload 2\n",
    "def warn(*args, **kwargs):\n",
    "    pass  # to silence scikit-learn warnings\n",
    "\n",
    "import warnings\n",
    "warnings.filterwarnings('ignore')\n",
    "warnings.warn = warn\n",
    "\n",
    "# Global Imports\n",
    "# from collections import Counter\n",
    "# import glob\n",
    "from pathlib import Path\n",
    "import sys\n",
    "\n",
    "import pandas as pd\n",
    "import numpy as np\n",
    "\n",
    "from cellpainting3 import processing as cpp\n",
    "\n",
    "\n",
    "from IPython.core.interactiveshell import InteractiveShell\n",
    "InteractiveShell.ast_node_interactivity = \"all\"\n",
    "\n",
    "# Project-local Imports\n",
    "PROJECT_DIR = list(Path(\"..\").absolute().parents)[1]\n",
    "sys.path.append(str(PROJECT_DIR))\n",
    "import plt_style\n",
    "import cpa\n",
    "import utils as u\n",
    "from utils import lp"
   ]
  },
  {
   "cell_type": "code",
   "execution_count": 2,
   "metadata": {
    "ExecuteTime": {
     "end_time": "2020-12-04T14:01:17.567424Z",
     "start_time": "2020-12-04T14:01:15.264723Z"
    },
    "execution": {
     "iopub.execute_input": "2020-12-14T12:08:39.077836Z",
     "iopub.status.busy": "2020-12-14T12:08:39.077632Z",
     "iopub.status.idle": "2020-12-14T12:08:41.497238Z",
     "shell.execute_reply": "2020-12-14T12:08:41.496501Z",
     "shell.execute_reply.started": "2020-12-14T12:08:39.077818Z"
    }
   },
   "outputs": [
    {
     "name": "stdout",
     "output_type": "stream",
     "text": [
      "  - loading resource:                      (DATASTORE)\n",
      "    This is the dataset that was generated on 01-Dec-2020 and went public on datavis on 03-Dec-2020.\n",
      "New plate: C2020-05 (10, 30, 50µM)\n",
      "\n"
     ]
    }
   ],
   "source": [
    "cpp.load_resource(\"DATASTORE\")\n",
    "ds = cpp.DATASTORE.compute()"
   ]
  },
  {
   "cell_type": "markdown",
   "metadata": {},
   "source": [
    "## General Data Set"
   ]
  },
  {
   "cell_type": "code",
   "execution_count": 3,
   "metadata": {
    "ExecuteTime": {
     "end_time": "2020-12-04T14:01:17.592833Z",
     "start_time": "2020-12-04T14:01:17.569621Z"
    }
   },
   "outputs": [
    {
     "name": "stdout",
     "output_type": "stream",
     "text": [
      "len(Shape Shape)                                  :        244\n"
     ]
    }
   ],
   "source": [
    "cpds = u.read_tsv(\"../Input Data/internal_cpds.tsv\")\n",
    "cpd_ids = cpds[\"Compound_Id\"].values\n",
    "lp(cpd_ids)"
   ]
  },
  {
   "cell_type": "code",
   "execution_count": 4,
   "metadata": {
    "ExecuteTime": {
     "end_time": "2020-12-04T14:01:18.010006Z",
     "start_time": "2020-12-04T14:01:17.596094Z"
    }
   },
   "outputs": [
    {
     "name": "stdout",
     "output_type": "stream",
     "text": [
      "Shape Cell Painting Data                          :        863 /  593  \n",
      "Shape unique Cpd Ids                              :        244 /  593  \n"
     ]
    }
   ],
   "source": [
    "df = ds[ds[\"Compound_Id\"].isin(cpd_ids)]\n",
    "lp(df, \"Cell Painting Data\")\n",
    "lp(df.drop_duplicates(subset=\"Compound_Id\"), \"unique Cpd Ids\")"
   ]
  },
  {
   "cell_type": "code",
   "execution_count": 5,
   "metadata": {
    "ExecuteTime": {
     "end_time": "2020-12-04T14:01:18.051339Z",
     "start_time": "2020-12-04T14:01:18.016056Z"
    }
   },
   "outputs": [],
   "source": [
    "df = df.rename(columns={\"Activity\": \"Induction\"})"
   ]
  },
  {
   "cell_type": "code",
   "execution_count": 6,
   "metadata": {
    "ExecuteTime": {
     "end_time": "2020-12-04T14:01:18.502446Z",
     "start_time": "2020-12-04T14:01:18.054503Z"
    }
   },
   "outputs": [],
   "source": [
    "df.to_csv(\"../Input Data/cell_painting_data.tsv\", sep=\"\\t\", index=False)"
   ]
  },
  {
   "cell_type": "code",
   "execution_count": null,
   "metadata": {},
   "outputs": [],
   "source": []
  },
  {
   "cell_type": "markdown",
   "metadata": {},
   "source": [
    "## Data Set for NP Parent Comparison and Predictions\n",
    "\n",
    "Figures 4a and 6."
   ]
  },
  {
   "cell_type": "code",
   "execution_count": 16,
   "metadata": {
    "ExecuteTime": {
     "end_time": "2020-12-04T14:01:17.592833Z",
     "start_time": "2020-12-04T14:01:17.569621Z"
    },
    "execution": {
     "iopub.execute_input": "2020-12-14T12:25:25.505532Z",
     "iopub.status.busy": "2020-12-14T12:25:25.504721Z",
     "iopub.status.idle": "2020-12-14T12:25:25.539495Z",
     "shell.execute_reply": "2020-12-14T12:25:25.538852Z",
     "shell.execute_reply.started": "2020-12-14T12:25:25.505438Z"
    }
   },
   "outputs": [
    {
     "name": "stdout",
     "output_type": "stream",
     "text": [
      "Shape                                             :        282 /    2  [ Well_Id, CpdClass ]  \n",
      "Length                                            :        149\n",
      "Shape                                             :        149 /    2  [ Well_Id, CpdClass ]  \n"
     ]
    }
   ],
   "source": [
    "w_ids = u.read_tsv(\"../tmp/well_ids_np_predict.tsv\")\n",
    "lp(w_ids)\n",
    "w_ids_uniq = list(w_ids[\"Well_Id\"].unique())\n",
    "lp(w_ids_uniq)\n",
    "w_ids = w_ids.drop_duplicates(subset=[\"Well_Id\", \"CpdClass\"])\n",
    "lp(w_ids)"
   ]
  },
  {
   "cell_type": "code",
   "execution_count": 18,
   "metadata": {
    "execution": {
     "iopub.execute_input": "2020-12-14T13:33:57.319638Z",
     "iopub.status.busy": "2020-12-14T13:33:57.319420Z",
     "iopub.status.idle": "2020-12-14T13:33:57.476761Z",
     "shell.execute_reply": "2020-12-14T13:33:57.476051Z",
     "shell.execute_reply.started": "2020-12-14T13:33:57.319614Z"
    }
   },
   "outputs": [
    {
     "name": "stdout",
     "output_type": "stream",
     "text": [
      "Shape Cell Painting Data                          :        149 /  594  \n",
      "Shape unique Cpd Ids                              :        141 /  594  \n"
     ]
    }
   ],
   "source": [
    "df = pd.merge(ds, w_ids, on=\"Well_Id\", how=\"inner\")\n",
    "lp(df, \"Cell Painting Data\")\n",
    "lp(df.drop_duplicates(subset=\"Compound_Id\"), \"unique Cpd Ids\")"
   ]
  },
  {
   "cell_type": "code",
   "execution_count": 19,
   "metadata": {
    "ExecuteTime": {
     "end_time": "2020-12-04T14:01:18.051339Z",
     "start_time": "2020-12-04T14:01:18.016056Z"
    },
    "execution": {
     "iopub.execute_input": "2020-12-14T13:34:12.298723Z",
     "iopub.status.busy": "2020-12-14T13:34:12.297937Z",
     "iopub.status.idle": "2020-12-14T13:34:12.333601Z",
     "shell.execute_reply": "2020-12-14T13:34:12.332758Z",
     "shell.execute_reply.started": "2020-12-14T13:34:12.298615Z"
    }
   },
   "outputs": [],
   "source": [
    "df = df.rename(columns={\"Activity\": \"Induction\"})"
   ]
  },
  {
   "cell_type": "code",
   "execution_count": 20,
   "metadata": {
    "ExecuteTime": {
     "end_time": "2020-12-04T14:01:18.502446Z",
     "start_time": "2020-12-04T14:01:18.054503Z"
    },
    "execution": {
     "iopub.execute_input": "2020-12-14T13:34:13.236569Z",
     "iopub.status.busy": "2020-12-14T13:34:13.236319Z",
     "iopub.status.idle": "2020-12-14T13:34:13.355849Z",
     "shell.execute_reply": "2020-12-14T13:34:13.355339Z",
     "shell.execute_reply.started": "2020-12-14T13:34:13.236543Z"
    }
   },
   "outputs": [],
   "source": [
    "df.to_csv(\"../Input Data/cell_painting_data_np_and_predictions.tsv\", sep=\"\\t\", index=False)"
   ]
  },
  {
   "cell_type": "code",
   "execution_count": null,
   "metadata": {},
   "outputs": [],
   "source": []
  },
  {
   "cell_type": "code",
   "execution_count": null,
   "metadata": {},
   "outputs": [],
   "source": []
  }
 ],
 "metadata": {
  "hide_input": false,
  "kernelspec": {
   "display_name": "Python 3",
   "language": "python",
   "name": "python3"
  },
  "language_info": {
   "codemirror_mode": {
    "name": "ipython",
    "version": 3
   },
   "file_extension": ".py",
   "mimetype": "text/x-python",
   "name": "python",
   "nbconvert_exporter": "python",
   "pygments_lexer": "ipython3",
   "version": "3.8.6"
  },
  "toc": {
   "base_numbering": 1,
   "nav_menu": {},
   "number_sections": true,
   "sideBar": true,
   "skip_h1_title": true,
   "title_cell": "Table of Contents",
   "title_sidebar": "Contents",
   "toc_cell": false,
   "toc_position": {},
   "toc_section_display": true,
   "toc_window_display": false
  }
 },
 "nbformat": 4,
 "nbformat_minor": 4
}
