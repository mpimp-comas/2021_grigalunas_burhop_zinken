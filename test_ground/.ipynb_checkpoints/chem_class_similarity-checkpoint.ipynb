{
 "cells": [
  {
   "cell_type": "markdown",
   "metadata": {},
   "source": [
    "# Class-Based Chemical Similarities\n",
    "\n",
    "Calculate the inter- and intra-class chemical similarities, using two different fingerprints:\n",
    "\n",
    "* Morgan Fingerprint, xxx Bit, radius 2\n",
    "* xxx\n",
    "\n",
    "For reference, a random set of 100 compounds from the processed DrugBank data set is used."
   ]
  },
  {
   "cell_type": "code",
   "execution_count": 14,
   "metadata": {
    "ExecuteTime": {
     "end_time": "2020-12-02T16:57:14.497302Z",
     "start_time": "2020-12-02T16:57:14.439709Z"
    },
    "init_cell": true
   },
   "outputs": [],
   "source": [
    "%reload_ext autoreload\n",
    "%autoreload 2\n",
    "def warn(*args, **kwargs):\n",
    "    pass  # to silence scikit-learn warnings\n",
    "\n",
    "import warnings\n",
    "warnings.filterwarnings('ignore')\n",
    "warnings.warn = warn\n",
    "\n",
    "# Stdlib Imports\n",
    "from pathlib import Path\n",
    "import sys\n",
    "import functools\n",
    "\n",
    "# Global package Imports\n",
    "import pandas as pd\n",
    "import numpy as np\n",
    "from scipy.stats import median_absolute_deviation as mad\n",
    "\n",
    "from rdkit import DataStructs\n",
    "from rdkit.Chem import AllChem as Chem\n",
    "from rdkit.Chem import Descriptors as Desc\n",
    "# from rdkit.Chem import Draw\n",
    "# from rdkit.Chem.Draw import IPythonConsole\n",
    "\n",
    "from Contrib.NP_Score import npscorer\n",
    "\n",
    "import matplotlib.pyplot as plt\n",
    "import seaborn as sns\n",
    "\n",
    "\n",
    "from IPython.core.interactiveshell import InteractiveShell\n",
    "InteractiveShell.ast_node_interactivity = \"all\"\n",
    "\n",
    "# Project-local Imports\n",
    "PROJECT_DIR = list(Path(\"..\").absolute().parents)[1]\n",
    "sys.path.append(str(PROJECT_DIR))\n",
    "import plt_style\n",
    "import utils as u\n",
    "from utils import lp"
   ]
  },
  {
   "cell_type": "code",
   "execution_count": 3,
   "metadata": {
    "ExecuteTime": {
     "end_time": "2020-12-02T16:57:11.284424Z",
     "start_time": "2020-12-02T16:57:11.263901Z"
    }
   },
   "outputs": [],
   "source": [
    "# For a comparison of fingerprints in the RDKit, see also https://doi.org/10.1186/1758-2946-5-26\n",
    "# ecfc4 (default)\n",
    "@functools.lru_cache\n",
    "def fp_ecfc4_from_smiles(smi):\n",
    "    mol = Chem.MolFromSmiles(smi)\n",
    "    fp = Chem.GetMorganFingerprint(mol, 2)\n",
    "    return fp\n",
    "\n",
    "# ecfp6\n",
    "@functools.lru_cache\n",
    "def fp_ecfp6_from_smiles(smi):\n",
    "    mol = Chem.MolFromSmiles(smi)\n",
    "    fp = Chem.GetMorganFingerprintAsBitVect(mol, 3, nBits=1024)\n",
    "    return fp\n",
    "\n",
    "def class_sim(list1, list2=None, fp=\"ecfc4\"):\n",
    "    if fp.lower() == \"ecfc4\":\n",
    "        print(\"  using ECFC4 fingerprint.\")\n",
    "        fp_from_smiles = fp_ecfc4_from_smiles\n",
    "    else:\n",
    "        print(\"  using ECFP6 fingerprint.\")\n",
    "        fp_from_smiles = fp_ecfp6_from_smiles\n",
    "        \n",
    "    result = []\n",
    "    if list2 is None: # comparison within one class\n",
    "        last_index = len(list1) - 1\n",
    "    else:\n",
    "        last_index = len(list1)\n",
    "    for idx1, smi1 in enumerate(list1[:last_index]):\n",
    "        if list2 is None:\n",
    "            for smi2 in list1[idx1+1:]:\n",
    "                if smi1 == smi2: continue\n",
    "                fp1 = fp_from_smiles(smi1)\n",
    "                fp2 = fp_from_smiles(smi2)\n",
    "                result.append(DataStructs.TanimotoSimilarity(fp1, fp2))\n",
    "        else:\n",
    "            for smi2 in list2:\n",
    "                if smi1 == smi2: continue\n",
    "                fp1 = fp_from_smiles(smi1)\n",
    "                fp2 = fp_from_smiles(smi2)\n",
    "                result.append(DataStructs.TanimotoSimilarity(fp1, fp2))\n",
    "    return result"
   ]
  },
  {
   "cell_type": "code",
   "execution_count": 4,
   "metadata": {
    "ExecuteTime": {
     "end_time": "2020-12-02T16:57:11.451790Z",
     "start_time": "2020-12-02T16:57:11.286390Z"
    }
   },
   "outputs": [
    {
     "name": "stdout",
     "output_type": "stream",
     "text": [
      "chembl_26_natprot_ids_only.tsv\r\n",
      "chembl_np_std_np_scout_values_only.tsv\r\n",
      "drugbank_std_np_scout_values_only.tsv\r\n",
      "drugbank_std_subset_np_scout_values_only.tsv\r\n",
      "internal_cpds_std_np_scout.tsv\r\n",
      "internal_cpds_std_np_scout_values_only.tsv\r\n",
      "internal_cpds_std.tsv\r\n",
      "internal_cpds.tsv\r\n",
      "README.md\r\n"
     ]
    }
   ],
   "source": [
    "fingerprint = \"ecfp6\"  # ecfc4 (default), ecfp6\n",
    "\n",
    "input_dir = \"../Input Data/\"\n",
    "tmp_dir = \"../tmp\"\n",
    "!ls \"$input_dir\""
   ]
  },
  {
   "cell_type": "markdown",
   "metadata": {},
   "source": [
    "## Load Compounds"
   ]
  },
  {
   "cell_type": "code",
   "execution_count": 5,
   "metadata": {
    "ExecuteTime": {
     "end_time": "2020-12-02T16:57:11.512408Z",
     "start_time": "2020-12-02T16:57:11.455334Z"
    }
   },
   "outputs": [
    {
     "name": "stdout",
     "output_type": "stream",
     "text": [
      "Shape                                             :        168 /    3  [ Compound_Id, CpdClass, Smiles ]  \n"
     ]
    },
    {
     "data": {
      "text/html": [
       "<div>\n",
       "<style scoped>\n",
       "    .dataframe tbody tr th:only-of-type {\n",
       "        vertical-align: middle;\n",
       "    }\n",
       "\n",
       "    .dataframe tbody tr th {\n",
       "        vertical-align: top;\n",
       "    }\n",
       "\n",
       "    .dataframe thead th {\n",
       "        text-align: right;\n",
       "    }\n",
       "</style>\n",
       "<table border=\"1\" class=\"dataframe\">\n",
       "  <thead>\n",
       "    <tr style=\"text-align: right;\">\n",
       "      <th></th>\n",
       "      <th>Compound_Id</th>\n",
       "      <th>CpdClass</th>\n",
       "      <th>Smiles</th>\n",
       "    </tr>\n",
       "  </thead>\n",
       "  <tbody>\n",
       "    <tr>\n",
       "      <th>0</th>\n",
       "      <td>408580</td>\n",
       "      <td>QN-C-S</td>\n",
       "      <td>COc1ccc2nccc(C(O)C3CC4CCN3CC43CC(=O)c4ccccc4O3...</td>\n",
       "    </tr>\n",
       "    <tr>\n",
       "      <th>1</th>\n",
       "      <td>408614</td>\n",
       "      <td>QN-C-S</td>\n",
       "      <td>COc1ccc2nccc(C(O)C3CC4CCN3CC43CC(=O)c4cc(Br)cc...</td>\n",
       "    </tr>\n",
       "    <tr>\n",
       "      <th>2</th>\n",
       "      <td>409679</td>\n",
       "      <td>QN-C-S</td>\n",
       "      <td>COc1ccc2nccc(C(O)C3CC4CCN3CC43CC(=O)c4cc(Cl)cc...</td>\n",
       "    </tr>\n",
       "    <tr>\n",
       "      <th>3</th>\n",
       "      <td>408605</td>\n",
       "      <td>QN-C-S</td>\n",
       "      <td>COc1ccc2nccc(C(O)C3CC4CCN3CC43CC(=O)c4cc(F)ccc...</td>\n",
       "    </tr>\n",
       "    <tr>\n",
       "      <th>4</th>\n",
       "      <td>408610</td>\n",
       "      <td>QN-C-S</td>\n",
       "      <td>COc1ccc2c(c1)OC1(CC2=O)CN2CCC1CC2C(O)c1ccnc2cc...</td>\n",
       "    </tr>\n",
       "  </tbody>\n",
       "</table>\n",
       "</div>"
      ],
      "text/plain": [
       "   Compound_Id CpdClass                                             Smiles\n",
       "0       408580   QN-C-S  COc1ccc2nccc(C(O)C3CC4CCN3CC43CC(=O)c4ccccc4O3...\n",
       "1       408614   QN-C-S  COc1ccc2nccc(C(O)C3CC4CCN3CC43CC(=O)c4cc(Br)cc...\n",
       "2       409679   QN-C-S  COc1ccc2nccc(C(O)C3CC4CCN3CC43CC(=O)c4cc(Cl)cc...\n",
       "3       408605   QN-C-S  COc1ccc2nccc(C(O)C3CC4CCN3CC43CC(=O)c4cc(F)ccc...\n",
       "4       408610   QN-C-S  COc1ccc2c(c1)OC1(CC2=O)CN2CCC1CC2C(O)c1ccnc2cc..."
      ]
     },
     "execution_count": 5,
     "metadata": {},
     "output_type": "execute_result"
    }
   ],
   "source": [
    "cpds = pd.read_csv(f\"{input_dir}/internal_cpds_std.tsv\", sep=\"\\t\")\n",
    "lp(cpds)\n",
    "\n",
    "cpds.head()"
   ]
  },
  {
   "cell_type": "markdown",
   "metadata": {},
   "source": [
    "## Add Reference Data\n",
    "\n",
    "A random subgroup of 100 compounds from the processed DrugBank data set is added for reference."
   ]
  },
  {
   "cell_type": "code",
   "execution_count": 6,
   "metadata": {
    "ExecuteTime": {
     "end_time": "2020-12-02T16:57:11.568752Z",
     "start_time": "2020-12-02T16:57:11.513891Z"
    }
   },
   "outputs": [
    {
     "name": "stdout",
     "output_type": "stream",
     "text": [
      "Shape                                             :        100 /    3  [ Compound_Id, Smiles, CpdClass ]  \n"
     ]
    }
   ],
   "source": [
    "refs = pd.read_csv(f\"{tmp_dir}/drugbank_std.tsv\", sep=\"\\t\")\n",
    "refs = refs.sample(n=100, random_state=0xc0ffee).reset_index(drop=True).reset_index()\n",
    "refs = refs.rename(columns={\"index\": \"Compound_Id\"})\n",
    "refs = refs.drop(\"DATABASE_ID\", axis=1)\n",
    "refs[\"CpdClass\"] = \"_Ref\"\n",
    "lp(refs)"
   ]
  },
  {
   "cell_type": "code",
   "execution_count": 7,
   "metadata": {
    "ExecuteTime": {
     "end_time": "2020-12-02T16:57:11.605676Z",
     "start_time": "2020-12-02T16:57:11.572040Z"
    }
   },
   "outputs": [
    {
     "name": "stdout",
     "output_type": "stream",
     "text": [
      "Shape                                             :        268 /    3  [ Compound_Id, CpdClass, Smiles ]  \n"
     ]
    }
   ],
   "source": [
    "cpds = pd.concat([cpds, refs])\n",
    "lp(cpds)"
   ]
  },
  {
   "cell_type": "markdown",
   "metadata": {},
   "source": [
    "## Intra- / Inter-Class Similarity"
   ]
  },
  {
   "cell_type": "code",
   "execution_count": 8,
   "metadata": {
    "ExecuteTime": {
     "end_time": "2020-12-02T16:57:11.658316Z",
     "start_time": "2020-12-02T16:57:11.610151Z"
    }
   },
   "outputs": [
    {
     "data": {
      "text/plain": [
       "['G-I-1',\n",
       " 'G-I-2',\n",
       " 'G-THPI',\n",
       " 'QD-C-S',\n",
       " 'QD-I',\n",
       " 'QN-C-R',\n",
       " 'QN-C-S',\n",
       " 'QN-I',\n",
       " 'S-C-R',\n",
       " 'S-C-S',\n",
       " 'S-I-closed',\n",
       " 'S-I-opened',\n",
       " '_Ref']"
      ]
     },
     "execution_count": 8,
     "metadata": {},
     "output_type": "execute_result"
    }
   ],
   "source": [
    "cpd_classes = sorted(list(cpds[\"CpdClass\"].unique()))\n",
    "cpd_classes"
   ]
  },
  {
   "cell_type": "code",
   "execution_count": 9,
   "metadata": {
    "ExecuteTime": {
     "end_time": "2020-12-02T16:57:12.923100Z",
     "start_time": "2020-12-02T16:57:11.664019Z"
    },
    "scrolled": true
   },
   "outputs": [
    {
     "name": "stdout",
     "output_type": "stream",
     "text": [
      "  using ECFP6 fingerprint.\n",
      "  using ECFP6 fingerprint.\n",
      "  using ECFP6 fingerprint.\n",
      "  using ECFP6 fingerprint.\n",
      "  using ECFP6 fingerprint.\n",
      "  using ECFP6 fingerprint.\n",
      "  using ECFP6 fingerprint.\n",
      "  using ECFP6 fingerprint.\n",
      "  using ECFP6 fingerprint.\n",
      "  using ECFP6 fingerprint.\n",
      "  using ECFP6 fingerprint.\n",
      "  using ECFP6 fingerprint.\n",
      "  using ECFP6 fingerprint.\n",
      "  using ECFP6 fingerprint.\n",
      "  using ECFP6 fingerprint.\n",
      "  using ECFP6 fingerprint.\n",
      "  using ECFP6 fingerprint.\n",
      "  using ECFP6 fingerprint.\n",
      "  using ECFP6 fingerprint.\n",
      "  using ECFP6 fingerprint.\n",
      "  using ECFP6 fingerprint.\n",
      "  using ECFP6 fingerprint.\n",
      "  using ECFP6 fingerprint.\n",
      "  using ECFP6 fingerprint.\n",
      "  using ECFP6 fingerprint.\n",
      "  using ECFP6 fingerprint.\n",
      "  using ECFP6 fingerprint.\n",
      "  using ECFP6 fingerprint.\n",
      "  using ECFP6 fingerprint.\n",
      "  using ECFP6 fingerprint.\n",
      "  using ECFP6 fingerprint.\n",
      "  using ECFP6 fingerprint.\n",
      "  using ECFP6 fingerprint.\n",
      "  using ECFP6 fingerprint.\n",
      "  using ECFP6 fingerprint.\n",
      "  using ECFP6 fingerprint.\n",
      "  using ECFP6 fingerprint.\n",
      "  using ECFP6 fingerprint.\n",
      "  using ECFP6 fingerprint.\n",
      "  using ECFP6 fingerprint.\n",
      "  using ECFP6 fingerprint.\n",
      "  using ECFP6 fingerprint.\n",
      "  using ECFP6 fingerprint.\n",
      "  using ECFP6 fingerprint.\n",
      "  using ECFP6 fingerprint.\n",
      "  using ECFP6 fingerprint.\n",
      "  using ECFP6 fingerprint.\n",
      "  using ECFP6 fingerprint.\n",
      "  using ECFP6 fingerprint.\n",
      "  using ECFP6 fingerprint.\n",
      "  using ECFP6 fingerprint.\n",
      "  using ECFP6 fingerprint.\n",
      "  using ECFP6 fingerprint.\n",
      "  using ECFP6 fingerprint.\n",
      "  using ECFP6 fingerprint.\n",
      "  using ECFP6 fingerprint.\n",
      "  using ECFP6 fingerprint.\n",
      "  using ECFP6 fingerprint.\n",
      "  using ECFP6 fingerprint.\n",
      "  using ECFP6 fingerprint.\n",
      "  using ECFP6 fingerprint.\n",
      "  using ECFP6 fingerprint.\n",
      "  using ECFP6 fingerprint.\n",
      "  using ECFP6 fingerprint.\n",
      "  using ECFP6 fingerprint.\n",
      "  using ECFP6 fingerprint.\n",
      "  using ECFP6 fingerprint.\n",
      "  using ECFP6 fingerprint.\n",
      "  using ECFP6 fingerprint.\n",
      "  using ECFP6 fingerprint.\n",
      "  using ECFP6 fingerprint.\n",
      "  using ECFP6 fingerprint.\n",
      "  using ECFP6 fingerprint.\n",
      "  using ECFP6 fingerprint.\n",
      "  using ECFP6 fingerprint.\n",
      "  using ECFP6 fingerprint.\n",
      "  using ECFP6 fingerprint.\n",
      "  using ECFP6 fingerprint.\n",
      "  using ECFP6 fingerprint.\n",
      "  using ECFP6 fingerprint.\n",
      "  using ECFP6 fingerprint.\n",
      "  using ECFP6 fingerprint.\n",
      "  using ECFP6 fingerprint.\n",
      "  using ECFP6 fingerprint.\n",
      "  using ECFP6 fingerprint.\n",
      "  using ECFP6 fingerprint.\n",
      "  using ECFP6 fingerprint.\n",
      "  using ECFP6 fingerprint.\n",
      "  using ECFP6 fingerprint.\n",
      "  using ECFP6 fingerprint.\n",
      "  using ECFP6 fingerprint.\n"
     ]
    }
   ],
   "source": [
    "series_cpd_class1 = []\n",
    "series_cpd_class2 = []\n",
    "series_sim = []\n",
    "for idx1, cpd_class1 in enumerate(cpd_classes):\n",
    "    for cpd_class2 in cpd_classes[idx1:]:\n",
    "        list1 = list(cpds[cpds[\"CpdClass\"] == cpd_class1][\"Smiles\"].values)\n",
    "        list2 = list(cpds[cpds[\"CpdClass\"] == cpd_class2][\"Smiles\"].values)\n",
    "        sims = class_sim(list1, list2, fp=fingerprint)\n",
    "        series_cpd_class1.extend([cpd_class1] * len(sims))\n",
    "        series_cpd_class2.extend([cpd_class2] * len(sims))\n",
    "        series_sim.extend(sims)"
   ]
  },
  {
   "cell_type": "code",
   "execution_count": 10,
   "metadata": {
    "ExecuteTime": {
     "end_time": "2020-12-02T16:57:13.198721Z",
     "start_time": "2020-12-02T16:57:12.924553Z"
    }
   },
   "outputs": [
    {
     "name": "stdout",
     "output_type": "stream",
     "text": [
      "Shape                                             :      42252 /    3  [ CpdClass1, CpdClass2, ChemSim ]  \n"
     ]
    }
   ],
   "source": [
    "df_sim_inter = pd.DataFrame({\"CpdClass1\": series_cpd_class1, \"CpdClass2\": series_cpd_class2, \"ChemSim\": series_sim})\n",
    "df_sim_inter.to_csv(f\"results/chemsim_inter_{fingerprint}.tsv\", sep=\"\\t\", index=False)\n",
    "lp(df_sim_inter)"
   ]
  },
  {
   "cell_type": "code",
   "execution_count": 11,
   "metadata": {
    "ExecuteTime": {
     "end_time": "2020-12-02T16:57:13.258702Z",
     "start_time": "2020-12-02T16:57:13.201939Z"
    },
    "scrolled": true
   },
   "outputs": [
    {
     "data": {
      "text/html": [
       "<div>\n",
       "<style scoped>\n",
       "    .dataframe tbody tr th:only-of-type {\n",
       "        vertical-align: middle;\n",
       "    }\n",
       "\n",
       "    .dataframe tbody tr th {\n",
       "        vertical-align: top;\n",
       "    }\n",
       "\n",
       "    .dataframe thead th {\n",
       "        text-align: right;\n",
       "    }\n",
       "</style>\n",
       "<table border=\"1\" class=\"dataframe\">\n",
       "  <thead>\n",
       "    <tr style=\"text-align: right;\">\n",
       "      <th></th>\n",
       "      <th>CpdClass1</th>\n",
       "      <th>CpdClass2</th>\n",
       "      <th>ChemSim</th>\n",
       "    </tr>\n",
       "  </thead>\n",
       "  <tbody>\n",
       "    <tr>\n",
       "      <th>0</th>\n",
       "      <td>G-I-1</td>\n",
       "      <td>G-I-1</td>\n",
       "      <td>0.727273</td>\n",
       "    </tr>\n",
       "    <tr>\n",
       "      <th>1</th>\n",
       "      <td>G-I-1</td>\n",
       "      <td>G-I-1</td>\n",
       "      <td>0.703297</td>\n",
       "    </tr>\n",
       "    <tr>\n",
       "      <th>2</th>\n",
       "      <td>G-I-1</td>\n",
       "      <td>G-I-1</td>\n",
       "      <td>0.719101</td>\n",
       "    </tr>\n",
       "    <tr>\n",
       "      <th>3</th>\n",
       "      <td>G-I-1</td>\n",
       "      <td>G-I-1</td>\n",
       "      <td>0.673469</td>\n",
       "    </tr>\n",
       "    <tr>\n",
       "      <th>4</th>\n",
       "      <td>G-I-1</td>\n",
       "      <td>G-I-1</td>\n",
       "      <td>0.680851</td>\n",
       "    </tr>\n",
       "  </tbody>\n",
       "</table>\n",
       "</div>"
      ],
      "text/plain": [
       "  CpdClass1 CpdClass2   ChemSim\n",
       "0     G-I-1     G-I-1  0.727273\n",
       "1     G-I-1     G-I-1  0.703297\n",
       "2     G-I-1     G-I-1  0.719101\n",
       "3     G-I-1     G-I-1  0.673469\n",
       "4     G-I-1     G-I-1  0.680851"
      ]
     },
     "execution_count": 11,
     "metadata": {},
     "output_type": "execute_result"
    }
   ],
   "source": [
    "df_sim_inter.head()"
   ]
  },
  {
   "cell_type": "code",
   "execution_count": 12,
   "metadata": {
    "ExecuteTime": {
     "end_time": "2020-12-02T16:57:13.403183Z",
     "start_time": "2020-12-02T16:57:13.263370Z"
    },
    "scrolled": true
   },
   "outputs": [
    {
     "data": {
      "text/html": [
       "<div>\n",
       "<style scoped>\n",
       "    .dataframe tbody tr th:only-of-type {\n",
       "        vertical-align: middle;\n",
       "    }\n",
       "\n",
       "    .dataframe tbody tr th {\n",
       "        vertical-align: top;\n",
       "    }\n",
       "\n",
       "    .dataframe thead th {\n",
       "        text-align: right;\n",
       "    }\n",
       "</style>\n",
       "<table border=\"1\" class=\"dataframe\">\n",
       "  <thead>\n",
       "    <tr style=\"text-align: right;\">\n",
       "      <th></th>\n",
       "      <th>CpdClass1</th>\n",
       "      <th>CpdClass2</th>\n",
       "      <th>ChemSim_median</th>\n",
       "      <th>ChemSim_median_absolute_deviation</th>\n",
       "    </tr>\n",
       "  </thead>\n",
       "  <tbody>\n",
       "    <tr>\n",
       "      <th>0</th>\n",
       "      <td>G-I-1</td>\n",
       "      <td>G-I-1</td>\n",
       "      <td>0.583333</td>\n",
       "      <td>0.066527</td>\n",
       "    </tr>\n",
       "    <tr>\n",
       "      <th>1</th>\n",
       "      <td>G-I-1</td>\n",
       "      <td>G-I-2</td>\n",
       "      <td>0.393162</td>\n",
       "      <td>0.034847</td>\n",
       "    </tr>\n",
       "    <tr>\n",
       "      <th>2</th>\n",
       "      <td>G-I-1</td>\n",
       "      <td>G-THPI</td>\n",
       "      <td>0.363636</td>\n",
       "      <td>0.021394</td>\n",
       "    </tr>\n",
       "    <tr>\n",
       "      <th>3</th>\n",
       "      <td>G-I-1</td>\n",
       "      <td>QD-C-S</td>\n",
       "      <td>0.134187</td>\n",
       "      <td>0.011488</td>\n",
       "    </tr>\n",
       "    <tr>\n",
       "      <th>4</th>\n",
       "      <td>G-I-1</td>\n",
       "      <td>QD-I</td>\n",
       "      <td>0.136054</td>\n",
       "      <td>0.016389</td>\n",
       "    </tr>\n",
       "  </tbody>\n",
       "</table>\n",
       "</div>"
      ],
      "text/plain": [
       "  CpdClass1 CpdClass2  ChemSim_median  ChemSim_median_absolute_deviation\n",
       "0     G-I-1     G-I-1        0.583333                           0.066527\n",
       "1     G-I-1     G-I-2        0.393162                           0.034847\n",
       "2     G-I-1    G-THPI        0.363636                           0.021394\n",
       "3     G-I-1    QD-C-S        0.134187                           0.011488\n",
       "4     G-I-1      QD-I        0.136054                           0.016389"
      ]
     },
     "execution_count": 12,
     "metadata": {},
     "output_type": "execute_result"
    }
   ],
   "source": [
    "df_sim_inter_grp = df_sim_inter.groupby(by=[\"CpdClass1\", \"CpdClass2\"]).agg([np.median, mad]).reset_index()\n",
    "df_sim_inter_grp.columns = df_sim_inter_grp.columns.map('_'.join)\n",
    "df_sim_inter_grp = df_sim_inter_grp.rename(columns={\"CpdClass1_\": \"CpdClass1\", \"CpdClass2_\": \"CpdClass2\"})\n",
    "\n",
    "df_sim_inter_grp.to_csv(f\"results/chemsim_inter_{fingerprint}_agg.tsv\", sep=\"\\t\", index=False)\n",
    "df_sim_inter_grp.head()"
   ]
  },
  {
   "cell_type": "code",
   "execution_count": 13,
   "metadata": {
    "ExecuteTime": {
     "end_time": "2020-12-02T16:57:14.438782Z",
     "start_time": "2020-12-02T16:57:13.407526Z"
    },
    "scrolled": false
   },
   "outputs": [
    {
     "data": {
      "image/png": "[encoded data removed]",
      "text/plain": [
       "<Figure size 864x648 with 2 Axes>"
      ]
     },
     "metadata": {},
     "output_type": "display_data"
    }
   ],
   "source": [
    "tmp = df_sim_inter_grp.copy()\n",
    "tmp[\"ChemSim_median\"] = tmp[\"ChemSim_median\"] * 100\n",
    "tmp = tmp.pivot(\"CpdClass1\", \"CpdClass2\", \"ChemSim_median\")\n",
    "f, ax = plt.subplots(figsize=(12, 9))\n",
    "hm = sns.heatmap(tmp, annot=True, fmt=\".0f\", linewidths=.5, annot_kws={\"size\": 16}, cmap=\"YlGnBu\", ax=ax);\n",
    "hm.invert_yaxis()\n",
    "hm.set_title(\"Inter-Class Chemical Similarity [%]\")\n",
    "fig = hm.get_figure()\n",
    "fig.savefig(f\"plots/chem_sim_inter_{fingerprint}.png\", bbox_inches='tight');"
   ]
  },
  {
   "cell_type": "code",
   "execution_count": 16,
   "metadata": {
    "ExecuteTime": {
     "end_time": "2020-12-02T17:00:27.374829Z",
     "start_time": "2020-12-02T17:00:27.334194Z"
    }
   },
   "outputs": [
    {
     "data": {
      "text/html": [
       "<div>\n",
       "<style scoped>\n",
       "    .dataframe tbody tr th:only-of-type {\n",
       "        vertical-align: middle;\n",
       "    }\n",
       "\n",
       "    .dataframe tbody tr th {\n",
       "        vertical-align: top;\n",
       "    }\n",
       "\n",
       "    .dataframe thead th {\n",
       "        text-align: right;\n",
       "    }\n",
       "</style>\n",
       "<table border=\"1\" class=\"dataframe\">\n",
       "  <thead>\n",
       "    <tr style=\"text-align: right;\">\n",
       "      <th></th>\n",
       "      <th>Compound_Id</th>\n",
       "      <th>CpdClass</th>\n",
       "      <th>Smiles</th>\n",
       "    </tr>\n",
       "  </thead>\n",
       "  <tbody>\n",
       "    <tr>\n",
       "      <th>75</th>\n",
       "      <td>409728</td>\n",
       "      <td>S-C-R</td>\n",
       "      <td>COc1ccc2c(c1O)C13CCN(C)C(C2)C1CCC1(CC(=O)c2ccc...</td>\n",
       "    </tr>\n",
       "  </tbody>\n",
       "</table>\n",
       "</div>"
      ],
      "text/plain": [
       "    Compound_Id CpdClass                                             Smiles\n",
       "75       409728    S-C-R  COc1ccc2c(c1O)C13CCN(C)C(C2)C1CCC1(CC(=O)c2ccc..."
      ]
     },
     "execution_count": 16,
     "metadata": {},
     "output_type": "execute_result"
    }
   ],
   "source": [
    "cpds[cpds[\"CpdClass\"] == \"S-C-R\"]"
   ]
  },
  {
   "cell_type": "code",
   "execution_count": null,
   "metadata": {},
   "outputs": [],
   "source": []
  },
  {
   "cell_type": "code",
   "execution_count": 17,
   "metadata": {
    "ExecuteTime": {
     "end_time": "2020-12-02T17:09:32.810675Z",
     "start_time": "2020-12-02T17:09:32.748066Z"
    }
   },
   "outputs": [
    {
     "data": {
      "text/html": [
       "<div>\n",
       "<style scoped>\n",
       "    .dataframe tbody tr th:only-of-type {\n",
       "        vertical-align: middle;\n",
       "    }\n",
       "\n",
       "    .dataframe tbody tr th {\n",
       "        vertical-align: top;\n",
       "    }\n",
       "\n",
       "    .dataframe thead th {\n",
       "        text-align: right;\n",
       "    }\n",
       "</style>\n",
       "<table border=\"1\" class=\"dataframe\">\n",
       "  <thead>\n",
       "    <tr style=\"text-align: right;\">\n",
       "      <th></th>\n",
       "      <th>Compound_Id</th>\n",
       "      <th>CpdClass</th>\n",
       "      <th>Smiles</th>\n",
       "    </tr>\n",
       "  </thead>\n",
       "  <tbody>\n",
       "    <tr>\n",
       "      <th>141</th>\n",
       "      <td>409051</td>\n",
       "      <td>S-C-R</td>\n",
       "      <td>COc1ccc2c(c1O)[C@@]13CCN(C)[C@@H](C2)[C@H]1CC[...</td>\n",
       "    </tr>\n",
       "    <tr>\n",
       "      <th>142</th>\n",
       "      <td>409055</td>\n",
       "      <td>S-C-R</td>\n",
       "      <td>COc1ccc2c(c1)C(=O)C[C@]1(CC[C@@H]3[C@@H]4Cc5cc...</td>\n",
       "    </tr>\n",
       "    <tr>\n",
       "      <th>143</th>\n",
       "      <td>409721</td>\n",
       "      <td>S-C-R</td>\n",
       "      <td>COc1ccc2c(c1O)[C@@]13CCN(C)[C@@H](C2)[C@H]1CC[...</td>\n",
       "    </tr>\n",
       "    <tr>\n",
       "      <th>144</th>\n",
       "      <td>409722</td>\n",
       "      <td>S-C-R</td>\n",
       "      <td>COc1ccc2c(c1O)[C@@]13CCN(C)[C@@H](C2)[C@H]1CC[...</td>\n",
       "    </tr>\n",
       "    <tr>\n",
       "      <th>145</th>\n",
       "      <td>409049</td>\n",
       "      <td>S-C-R</td>\n",
       "      <td>COc1ccc2c(c1O)[C@@]13CCN(C)[C@@H](C2)[C@H]1CC[...</td>\n",
       "    </tr>\n",
       "    <tr>\n",
       "      <th>146</th>\n",
       "      <td>409723</td>\n",
       "      <td>S-C-R</td>\n",
       "      <td>COc1ccc2c(c1O)[C@@]13CCN(C)[C@@H](C2)[C@H]1CC[...</td>\n",
       "    </tr>\n",
       "    <tr>\n",
       "      <th>147</th>\n",
       "      <td>409725</td>\n",
       "      <td>S-C-R</td>\n",
       "      <td>COc1ccc2c(c1O)[C@@]13CCN(C)[C@@H](C2)[C@H]1CC[...</td>\n",
       "    </tr>\n",
       "    <tr>\n",
       "      <th>148</th>\n",
       "      <td>409727</td>\n",
       "      <td>S-C-R</td>\n",
       "      <td>COc1ccc2c(c1O)[C@@]13CCN(C)[C@@H](C2)[C@H]1CC[...</td>\n",
       "    </tr>\n",
       "    <tr>\n",
       "      <th>149</th>\n",
       "      <td>409728</td>\n",
       "      <td>S-C-R</td>\n",
       "      <td>COc1ccc2c(c1O)[C@@]13CCN(C)[C@@H](C2)[C@H]1CC[...</td>\n",
       "    </tr>\n",
       "    <tr>\n",
       "      <th>150</th>\n",
       "      <td>409730</td>\n",
       "      <td>S-C-R</td>\n",
       "      <td>COc1ccc2c(c1O)[C@@]13CCN(C)[C@@H](C2)[C@H]1CC[...</td>\n",
       "    </tr>\n",
       "    <tr>\n",
       "      <th>151</th>\n",
       "      <td>409732</td>\n",
       "      <td>S-C-R</td>\n",
       "      <td>COc1ccc2c(c1O)[C@@]13CCN(C)[C@@H](C2)[C@H]1CC[...</td>\n",
       "    </tr>\n",
       "  </tbody>\n",
       "</table>\n",
       "</div>"
      ],
      "text/plain": [
       "     Compound_Id CpdClass                                             Smiles\n",
       "141       409051    S-C-R  COc1ccc2c(c1O)[C@@]13CCN(C)[C@@H](C2)[C@H]1CC[...\n",
       "142       409055    S-C-R  COc1ccc2c(c1)C(=O)C[C@]1(CC[C@@H]3[C@@H]4Cc5cc...\n",
       "143       409721    S-C-R  COc1ccc2c(c1O)[C@@]13CCN(C)[C@@H](C2)[C@H]1CC[...\n",
       "144       409722    S-C-R  COc1ccc2c(c1O)[C@@]13CCN(C)[C@@H](C2)[C@H]1CC[...\n",
       "145       409049    S-C-R  COc1ccc2c(c1O)[C@@]13CCN(C)[C@@H](C2)[C@H]1CC[...\n",
       "146       409723    S-C-R  COc1ccc2c(c1O)[C@@]13CCN(C)[C@@H](C2)[C@H]1CC[...\n",
       "147       409725    S-C-R  COc1ccc2c(c1O)[C@@]13CCN(C)[C@@H](C2)[C@H]1CC[...\n",
       "148       409727    S-C-R  COc1ccc2c(c1O)[C@@]13CCN(C)[C@@H](C2)[C@H]1CC[...\n",
       "149       409728    S-C-R  COc1ccc2c(c1O)[C@@]13CCN(C)[C@@H](C2)[C@H]1CC[...\n",
       "150       409730    S-C-R  COc1ccc2c(c1O)[C@@]13CCN(C)[C@@H](C2)[C@H]1CC[...\n",
       "151       409732    S-C-R  COc1ccc2c(c1O)[C@@]13CCN(C)[C@@H](C2)[C@H]1CC[..."
      ]
     },
     "execution_count": 17,
     "metadata": {},
     "output_type": "execute_result"
    }
   ],
   "source": [
    "df = pd.read_csv(\"../Input Data/internal_cpds.tsv\", sep=\"\\t\")\n",
    "df = df[df[\"CpdClass\"] == \"S-C-R\"]\n",
    "df"
   ]
  },
  {
   "cell_type": "code",
   "execution_count": 19,
   "metadata": {
    "ExecuteTime": {
     "end_time": "2020-12-02T17:12:15.678583Z",
     "start_time": "2020-12-02T17:12:15.448012Z"
    }
   },
   "outputs": [
    {
     "data": {
      "application/vnd.jupyter.widget-view+json": {
       "model_id": "bfac40c7bf6046f7b2570f8775fce30f",
       "version_major": 2,
       "version_minor": 0
      },
      "text/plain": [
       "HBox(children=(HTML(value=''), FloatProgress(value=0.0, max=11.0), HTML(value='')))"
      ]
     },
     "metadata": {},
     "output_type": "display_data"
    },
    {
     "name": "stdout",
     "output_type": "stream",
     "text": [
      "\n"
     ]
    }
   ],
   "source": [
    "df = u.apply_to_smiles(df, \"Smiles\", {\"Smiles_Std\": lambda x: u.standardize_mol(x, remove_stereo=True, canonicalize_tautomer=True)})\n",
    "df.drop(\"Smiles\", axis=1, inplace=True)\n",
    "df = df.rename(columns={\"Smiles_Std\": \"Smiles\"})"
   ]
  },
  {
   "cell_type": "code",
   "execution_count": 20,
   "metadata": {
    "ExecuteTime": {
     "end_time": "2020-12-02T17:12:21.101203Z",
     "start_time": "2020-12-02T17:12:21.052922Z"
    }
   },
   "outputs": [
    {
     "data": {
      "text/html": [
       "<div>\n",
       "<style scoped>\n",
       "    .dataframe tbody tr th:only-of-type {\n",
       "        vertical-align: middle;\n",
       "    }\n",
       "\n",
       "    .dataframe tbody tr th {\n",
       "        vertical-align: top;\n",
       "    }\n",
       "\n",
       "    .dataframe thead th {\n",
       "        text-align: right;\n",
       "    }\n",
       "</style>\n",
       "<table border=\"1\" class=\"dataframe\">\n",
       "  <thead>\n",
       "    <tr style=\"text-align: right;\">\n",
       "      <th></th>\n",
       "      <th>Compound_Id</th>\n",
       "      <th>CpdClass</th>\n",
       "      <th>Smiles</th>\n",
       "    </tr>\n",
       "  </thead>\n",
       "  <tbody>\n",
       "    <tr>\n",
       "      <th>141</th>\n",
       "      <td>409051</td>\n",
       "      <td>S-C-R</td>\n",
       "      <td>COc1ccc2c(c1O)C13CCN(C)C(C2)C1CCC1(CC(=O)c2ccc...</td>\n",
       "    </tr>\n",
       "    <tr>\n",
       "      <th>142</th>\n",
       "      <td>409055</td>\n",
       "      <td>S-C-R</td>\n",
       "      <td>COc1ccc2c(c1)C(=O)CC1(CCC3C4Cc5ccc(OC)c(O)c5C3...</td>\n",
       "    </tr>\n",
       "    <tr>\n",
       "      <th>143</th>\n",
       "      <td>409721</td>\n",
       "      <td>S-C-R</td>\n",
       "      <td>COc1ccc2c(c1O)C13CCN(C)C(C2)C1CCC1(CC(=O)c2cc(...</td>\n",
       "    </tr>\n",
       "    <tr>\n",
       "      <th>144</th>\n",
       "      <td>409722</td>\n",
       "      <td>S-C-R</td>\n",
       "      <td>COc1ccc2c(c1O)C13CCN(C)C(C2)C1CCC1(CC(=O)c2ccc...</td>\n",
       "    </tr>\n",
       "    <tr>\n",
       "      <th>145</th>\n",
       "      <td>409049</td>\n",
       "      <td>S-C-R</td>\n",
       "      <td>COc1ccc2c(c1O)C13CCN(C)C(C2)C1CCC1(CC(=O)c2cc(...</td>\n",
       "    </tr>\n",
       "    <tr>\n",
       "      <th>146</th>\n",
       "      <td>409723</td>\n",
       "      <td>S-C-R</td>\n",
       "      <td>COc1ccc2c(c1O)C13CCN(C)C(C2)C1CCC1(CC(=O)c2cc(...</td>\n",
       "    </tr>\n",
       "    <tr>\n",
       "      <th>147</th>\n",
       "      <td>409725</td>\n",
       "      <td>S-C-R</td>\n",
       "      <td>COc1ccc2c(c1O)C13CCN(C)C(C2)C1CCC1(CC(=O)c2cc(...</td>\n",
       "    </tr>\n",
       "    <tr>\n",
       "      <th>148</th>\n",
       "      <td>409727</td>\n",
       "      <td>S-C-R</td>\n",
       "      <td>COc1ccc2c(c1O)C13CCN(C)C(C2)C1CCC1(CC(=O)c2c(c...</td>\n",
       "    </tr>\n",
       "    <tr>\n",
       "      <th>149</th>\n",
       "      <td>409728</td>\n",
       "      <td>S-C-R</td>\n",
       "      <td>COc1ccc2c(c1O)C13CCN(C)C(C2)C1CCC1(CC(=O)c2ccc...</td>\n",
       "    </tr>\n",
       "    <tr>\n",
       "      <th>150</th>\n",
       "      <td>409730</td>\n",
       "      <td>S-C-R</td>\n",
       "      <td>COc1ccc2c(c1O)C13CCN(C)C(C2)C1CCC1(CC(=O)c2cc(...</td>\n",
       "    </tr>\n",
       "    <tr>\n",
       "      <th>151</th>\n",
       "      <td>409732</td>\n",
       "      <td>S-C-R</td>\n",
       "      <td>COc1ccc2c(c1O)C13CCN(C)C(C2)C1CCC1(CC(=O)c2cc(...</td>\n",
       "    </tr>\n",
       "  </tbody>\n",
       "</table>\n",
       "</div>"
      ],
      "text/plain": [
       "     Compound_Id CpdClass                                             Smiles\n",
       "141       409051    S-C-R  COc1ccc2c(c1O)C13CCN(C)C(C2)C1CCC1(CC(=O)c2ccc...\n",
       "142       409055    S-C-R  COc1ccc2c(c1)C(=O)CC1(CCC3C4Cc5ccc(OC)c(O)c5C3...\n",
       "143       409721    S-C-R  COc1ccc2c(c1O)C13CCN(C)C(C2)C1CCC1(CC(=O)c2cc(...\n",
       "144       409722    S-C-R  COc1ccc2c(c1O)C13CCN(C)C(C2)C1CCC1(CC(=O)c2ccc...\n",
       "145       409049    S-C-R  COc1ccc2c(c1O)C13CCN(C)C(C2)C1CCC1(CC(=O)c2cc(...\n",
       "146       409723    S-C-R  COc1ccc2c(c1O)C13CCN(C)C(C2)C1CCC1(CC(=O)c2cc(...\n",
       "147       409725    S-C-R  COc1ccc2c(c1O)C13CCN(C)C(C2)C1CCC1(CC(=O)c2cc(...\n",
       "148       409727    S-C-R  COc1ccc2c(c1O)C13CCN(C)C(C2)C1CCC1(CC(=O)c2c(c...\n",
       "149       409728    S-C-R  COc1ccc2c(c1O)C13CCN(C)C(C2)C1CCC1(CC(=O)c2ccc...\n",
       "150       409730    S-C-R  COc1ccc2c(c1O)C13CCN(C)C(C2)C1CCC1(CC(=O)c2cc(...\n",
       "151       409732    S-C-R  COc1ccc2c(c1O)C13CCN(C)C(C2)C1CCC1(CC(=O)c2cc(..."
      ]
     },
     "execution_count": 20,
     "metadata": {},
     "output_type": "execute_result"
    }
   ],
   "source": [
    "df"
   ]
  },
  {
   "cell_type": "code",
   "execution_count": 21,
   "metadata": {
    "ExecuteTime": {
     "end_time": "2020-12-02T17:13:09.726451Z",
     "start_time": "2020-12-02T17:13:09.666729Z"
    }
   },
   "outputs": [
    {
     "data": {
      "text/html": [
       "<div>\n",
       "<style scoped>\n",
       "    .dataframe tbody tr th:only-of-type {\n",
       "        vertical-align: middle;\n",
       "    }\n",
       "\n",
       "    .dataframe tbody tr th {\n",
       "        vertical-align: top;\n",
       "    }\n",
       "\n",
       "    .dataframe thead th {\n",
       "        text-align: right;\n",
       "    }\n",
       "</style>\n",
       "<table border=\"1\" class=\"dataframe\">\n",
       "  <thead>\n",
       "    <tr style=\"text-align: right;\">\n",
       "      <th></th>\n",
       "      <th>Compound_Id</th>\n",
       "      <th>CpdClass</th>\n",
       "      <th>Smiles</th>\n",
       "    </tr>\n",
       "  </thead>\n",
       "  <tbody>\n",
       "    <tr>\n",
       "      <th>141</th>\n",
       "      <td>409051</td>\n",
       "      <td>S-C-R</td>\n",
       "      <td>COc1ccc2c(c1O)C13CCN(C)C(C2)C1CCC1(CC(=O)c2ccc...</td>\n",
       "    </tr>\n",
       "    <tr>\n",
       "      <th>142</th>\n",
       "      <td>409055</td>\n",
       "      <td>S-C-R</td>\n",
       "      <td>COc1ccc2c(c1)C(=O)CC1(CCC3C4Cc5ccc(OC)c(O)c5C3...</td>\n",
       "    </tr>\n",
       "    <tr>\n",
       "      <th>143</th>\n",
       "      <td>409721</td>\n",
       "      <td>S-C-R</td>\n",
       "      <td>COc1ccc2c(c1O)C13CCN(C)C(C2)C1CCC1(CC(=O)c2cc(...</td>\n",
       "    </tr>\n",
       "    <tr>\n",
       "      <th>144</th>\n",
       "      <td>409722</td>\n",
       "      <td>S-C-R</td>\n",
       "      <td>COc1ccc2c(c1O)C13CCN(C)C(C2)C1CCC1(CC(=O)c2ccc...</td>\n",
       "    </tr>\n",
       "    <tr>\n",
       "      <th>145</th>\n",
       "      <td>409049</td>\n",
       "      <td>S-C-R</td>\n",
       "      <td>COc1ccc2c(c1O)C13CCN(C)C(C2)C1CCC1(CC(=O)c2cc(...</td>\n",
       "    </tr>\n",
       "    <tr>\n",
       "      <th>146</th>\n",
       "      <td>409723</td>\n",
       "      <td>S-C-R</td>\n",
       "      <td>COc1ccc2c(c1O)C13CCN(C)C(C2)C1CCC1(CC(=O)c2cc(...</td>\n",
       "    </tr>\n",
       "    <tr>\n",
       "      <th>147</th>\n",
       "      <td>409725</td>\n",
       "      <td>S-C-R</td>\n",
       "      <td>COc1ccc2c(c1O)C13CCN(C)C(C2)C1CCC1(CC(=O)c2cc(...</td>\n",
       "    </tr>\n",
       "    <tr>\n",
       "      <th>148</th>\n",
       "      <td>409727</td>\n",
       "      <td>S-C-R</td>\n",
       "      <td>COc1ccc2c(c1O)C13CCN(C)C(C2)C1CCC1(CC(=O)c2c(c...</td>\n",
       "    </tr>\n",
       "    <tr>\n",
       "      <th>149</th>\n",
       "      <td>409728</td>\n",
       "      <td>S-C-R</td>\n",
       "      <td>COc1ccc2c(c1O)C13CCN(C)C(C2)C1CCC1(CC(=O)c2ccc...</td>\n",
       "    </tr>\n",
       "    <tr>\n",
       "      <th>150</th>\n",
       "      <td>409730</td>\n",
       "      <td>S-C-R</td>\n",
       "      <td>COc1ccc2c(c1O)C13CCN(C)C(C2)C1CCC1(CC(=O)c2cc(...</td>\n",
       "    </tr>\n",
       "    <tr>\n",
       "      <th>151</th>\n",
       "      <td>409732</td>\n",
       "      <td>S-C-R</td>\n",
       "      <td>COc1ccc2c(c1O)C13CCN(C)C(C2)C1CCC1(CC(=O)c2cc(...</td>\n",
       "    </tr>\n",
       "  </tbody>\n",
       "</table>\n",
       "</div>"
      ],
      "text/plain": [
       "     Compound_Id CpdClass                                             Smiles\n",
       "141       409051    S-C-R  COc1ccc2c(c1O)C13CCN(C)C(C2)C1CCC1(CC(=O)c2ccc...\n",
       "142       409055    S-C-R  COc1ccc2c(c1)C(=O)CC1(CCC3C4Cc5ccc(OC)c(O)c5C3...\n",
       "143       409721    S-C-R  COc1ccc2c(c1O)C13CCN(C)C(C2)C1CCC1(CC(=O)c2cc(...\n",
       "144       409722    S-C-R  COc1ccc2c(c1O)C13CCN(C)C(C2)C1CCC1(CC(=O)c2ccc...\n",
       "145       409049    S-C-R  COc1ccc2c(c1O)C13CCN(C)C(C2)C1CCC1(CC(=O)c2cc(...\n",
       "146       409723    S-C-R  COc1ccc2c(c1O)C13CCN(C)C(C2)C1CCC1(CC(=O)c2cc(...\n",
       "147       409725    S-C-R  COc1ccc2c(c1O)C13CCN(C)C(C2)C1CCC1(CC(=O)c2cc(...\n",
       "148       409727    S-C-R  COc1ccc2c(c1O)C13CCN(C)C(C2)C1CCC1(CC(=O)c2c(c...\n",
       "149       409728    S-C-R  COc1ccc2c(c1O)C13CCN(C)C(C2)C1CCC1(CC(=O)c2ccc...\n",
       "150       409730    S-C-R  COc1ccc2c(c1O)C13CCN(C)C(C2)C1CCC1(CC(=O)c2cc(...\n",
       "151       409732    S-C-R  COc1ccc2c(c1O)C13CCN(C)C(C2)C1CCC1(CC(=O)c2cc(..."
      ]
     },
     "execution_count": 21,
     "metadata": {},
     "output_type": "execute_result"
    }
   ],
   "source": [
    "df2 = df.drop_duplicates(subset=\"Smiles\")\n",
    "df2"
   ]
  },
  {
   "cell_type": "code",
   "execution_count": 22,
   "metadata": {
    "ExecuteTime": {
     "end_time": "2020-12-02T17:14:09.824403Z",
     "start_time": "2020-12-02T17:14:09.529817Z"
    }
   },
   "outputs": [
    {
     "name": "stdout",
     "output_type": "stream",
     "text": [
      "Applying filters (5)...\n"
     ]
    },
    {
     "data": {
      "application/vnd.jupyter.widget-view+json": {
       "model_id": "80ca2ba49e8249288eb4c330ff3888e3",
       "version_major": 2,
       "version_minor": 0
      },
      "text/plain": [
       "HBox(children=(HTML(value=''), FloatProgress(value=0.0, max=11.0), HTML(value='')))"
      ]
     },
     "metadata": {},
     "output_type": "display_data"
    },
    {
     "name": "stdout",
     "output_type": "stream",
     "text": [
      "\n",
      "Applied filter Isotopes: 11\n"
     ]
    },
    {
     "data": {
      "application/vnd.jupyter.widget-view+json": {
       "model_id": "e3b36768d094454c910dd791b2be618b",
       "version_major": 2,
       "version_minor": 0
      },
      "text/plain": [
       "HBox(children=(HTML(value=''), FloatProgress(value=0.0, max=11.0), HTML(value='')))"
      ]
     },
     "metadata": {},
     "output_type": "display_data"
    },
    {
     "name": "stdout",
     "output_type": "stream",
     "text": [
      "\n",
      "Applied filter MedChemAtoms: 11\n"
     ]
    },
    {
     "data": {
      "application/vnd.jupyter.widget-view+json": {
       "model_id": "b325d301ec62473d92150ad04e82d9f7",
       "version_major": 2,
       "version_minor": 0
      },
      "text/plain": [
       "HBox(children=(HTML(value=''), FloatProgress(value=0.0, max=11.0), HTML(value='')))"
      ]
     },
     "metadata": {},
     "output_type": "display_data"
    },
    {
     "name": "stdout",
     "output_type": "stream",
     "text": [
      "\n",
      "Applied filter MinHeavyAtoms: 11\n",
      "Applied filter MaxHeavyAtoms: 11\n"
     ]
    },
    {
     "data": {
      "application/vnd.jupyter.widget-view+json": {
       "model_id": "719c29b7ae754d74bcd2709613cba715",
       "version_major": 2,
       "version_minor": 0
      },
      "text/plain": [
       "HBox(children=(HTML(value=''), FloatProgress(value=0.0, max=11.0), HTML(value='')))"
      ]
     },
     "metadata": {},
     "output_type": "display_data"
    },
    {
     "name": "stdout",
     "output_type": "stream",
     "text": [
      "\n",
      "Applied filter Duplicates: 11\n"
     ]
    },
    {
     "data": {
      "text/html": [
       "<div>\n",
       "<style scoped>\n",
       "    .dataframe tbody tr th:only-of-type {\n",
       "        vertical-align: middle;\n",
       "    }\n",
       "\n",
       "    .dataframe tbody tr th {\n",
       "        vertical-align: top;\n",
       "    }\n",
       "\n",
       "    .dataframe thead th {\n",
       "        text-align: right;\n",
       "    }\n",
       "</style>\n",
       "<table border=\"1\" class=\"dataframe\">\n",
       "  <thead>\n",
       "    <tr style=\"text-align: right;\">\n",
       "      <th></th>\n",
       "      <th>Compound_Id</th>\n",
       "      <th>CpdClass</th>\n",
       "      <th>Smiles</th>\n",
       "    </tr>\n",
       "  </thead>\n",
       "  <tbody>\n",
       "    <tr>\n",
       "      <th>141</th>\n",
       "      <td>409051</td>\n",
       "      <td>S-C-R</td>\n",
       "      <td>COc1ccc2c(c1O)C13CCN(C)C(C2)C1CCC1(CC(=O)c2ccc...</td>\n",
       "    </tr>\n",
       "    <tr>\n",
       "      <th>142</th>\n",
       "      <td>409055</td>\n",
       "      <td>S-C-R</td>\n",
       "      <td>COc1ccc2c(c1)C(=O)CC1(CCC3C4Cc5ccc(OC)c(O)c5C3...</td>\n",
       "    </tr>\n",
       "    <tr>\n",
       "      <th>143</th>\n",
       "      <td>409721</td>\n",
       "      <td>S-C-R</td>\n",
       "      <td>COc1ccc2c(c1O)C13CCN(C)C(C2)C1CCC1(CC(=O)c2cc(...</td>\n",
       "    </tr>\n",
       "    <tr>\n",
       "      <th>144</th>\n",
       "      <td>409722</td>\n",
       "      <td>S-C-R</td>\n",
       "      <td>COc1ccc2c(c1O)C13CCN(C)C(C2)C1CCC1(CC(=O)c2ccc...</td>\n",
       "    </tr>\n",
       "    <tr>\n",
       "      <th>145</th>\n",
       "      <td>409049</td>\n",
       "      <td>S-C-R</td>\n",
       "      <td>COc1ccc2c(c1O)C13CCN(C)C(C2)C1CCC1(CC(=O)c2cc(...</td>\n",
       "    </tr>\n",
       "    <tr>\n",
       "      <th>146</th>\n",
       "      <td>409723</td>\n",
       "      <td>S-C-R</td>\n",
       "      <td>COc1ccc2c(c1O)C13CCN(C)C(C2)C1CCC1(CC(=O)c2cc(...</td>\n",
       "    </tr>\n",
       "    <tr>\n",
       "      <th>147</th>\n",
       "      <td>409725</td>\n",
       "      <td>S-C-R</td>\n",
       "      <td>COc1ccc2c(c1O)C13CCN(C)C(C2)C1CCC1(CC(=O)c2cc(...</td>\n",
       "    </tr>\n",
       "    <tr>\n",
       "      <th>148</th>\n",
       "      <td>409727</td>\n",
       "      <td>S-C-R</td>\n",
       "      <td>COc1ccc2c(c1O)C13CCN(C)C(C2)C1CCC1(CC(=O)c2c(c...</td>\n",
       "    </tr>\n",
       "    <tr>\n",
       "      <th>149</th>\n",
       "      <td>409728</td>\n",
       "      <td>S-C-R</td>\n",
       "      <td>COc1ccc2c(c1O)C13CCN(C)C(C2)C1CCC1(CC(=O)c2ccc...</td>\n",
       "    </tr>\n",
       "    <tr>\n",
       "      <th>150</th>\n",
       "      <td>409730</td>\n",
       "      <td>S-C-R</td>\n",
       "      <td>COc1ccc2c(c1O)C13CCN(C)C(C2)C1CCC1(CC(=O)c2cc(...</td>\n",
       "    </tr>\n",
       "    <tr>\n",
       "      <th>151</th>\n",
       "      <td>409732</td>\n",
       "      <td>S-C-R</td>\n",
       "      <td>COc1ccc2c(c1O)C13CCN(C)C(C2)C1CCC1(CC(=O)c2cc(...</td>\n",
       "    </tr>\n",
       "  </tbody>\n",
       "</table>\n",
       "</div>"
      ],
      "text/plain": [
       "     Compound_Id CpdClass                                             Smiles\n",
       "141       409051    S-C-R  COc1ccc2c(c1O)C13CCN(C)C(C2)C1CCC1(CC(=O)c2ccc...\n",
       "142       409055    S-C-R  COc1ccc2c(c1)C(=O)CC1(CCC3C4Cc5ccc(OC)c(O)c5C3...\n",
       "143       409721    S-C-R  COc1ccc2c(c1O)C13CCN(C)C(C2)C1CCC1(CC(=O)c2cc(...\n",
       "144       409722    S-C-R  COc1ccc2c(c1O)C13CCN(C)C(C2)C1CCC1(CC(=O)c2ccc...\n",
       "145       409049    S-C-R  COc1ccc2c(c1O)C13CCN(C)C(C2)C1CCC1(CC(=O)c2cc(...\n",
       "146       409723    S-C-R  COc1ccc2c(c1O)C13CCN(C)C(C2)C1CCC1(CC(=O)c2cc(...\n",
       "147       409725    S-C-R  COc1ccc2c(c1O)C13CCN(C)C(C2)C1CCC1(CC(=O)c2cc(...\n",
       "148       409727    S-C-R  COc1ccc2c(c1O)C13CCN(C)C(C2)C1CCC1(CC(=O)c2c(c...\n",
       "149       409728    S-C-R  COc1ccc2c(c1O)C13CCN(C)C(C2)C1CCC1(CC(=O)c2ccc...\n",
       "150       409730    S-C-R  COc1ccc2c(c1O)C13CCN(C)C(C2)C1CCC1(CC(=O)c2cc(...\n",
       "151       409732    S-C-R  COc1ccc2c(c1O)C13CCN(C)C(C2)C1CCC1(CC(=O)c2cc(..."
      ]
     },
     "execution_count": 22,
     "metadata": {},
     "output_type": "execute_result"
    }
   ],
   "source": [
    "df3 = u.filter_mols(df, \"Smiles\", [\"Isotopes\", \"MedChemAtoms\", \"MinHeavyAtoms\", \"MaxHeavyAtoms\", \"Duplicates\"])\n",
    "df3"
   ]
  },
  {
   "cell_type": "code",
   "execution_count": null,
   "metadata": {},
   "outputs": [],
   "source": []
  }
 ],
 "metadata": {
  "hide_input": false,
  "kernelspec": {
   "display_name": "Python 3",
   "language": "python",
   "name": "python3"
  },
  "language_info": {
   "codemirror_mode": {
    "name": "ipython",
    "version": 3
   },
   "file_extension": ".py",
   "mimetype": "text/x-python",
   "name": "python",
   "nbconvert_exporter": "python",
   "pygments_lexer": "ipython3",
   "version": "3.8.6"
  },
  "toc": {
   "base_numbering": 1,
   "nav_menu": {},
   "number_sections": true,
   "sideBar": true,
   "skip_h1_title": true,
   "title_cell": "Table of Contents",
   "title_sidebar": "Contents",
   "toc_cell": false,
   "toc_position": {},
   "toc_section_display": true,
   "toc_window_display": false
  }
 },
 "nbformat": 4,
 "nbformat_minor": 2
}
