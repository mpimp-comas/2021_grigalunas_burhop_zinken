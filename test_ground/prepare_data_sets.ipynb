{
 "cells": [
  {
   "cell_type": "markdown",
   "metadata": {},
   "source": [
    "# Prepare Data Sets\n",
    "\n",
    "Prepare the necessary reference data set.\n",
    "\n",
    "1. Natural products from ChEMBL (ChEMBL NPs)\n",
    "2. Approved and experimental drugs from DrugBank (DrugBank)"
   ]
  },
  {
   "cell_type": "code",
   "execution_count": 1,
   "metadata": {
    "ExecuteTime": {
     "end_time": "2020-11-26T13:57:04.182389Z",
     "start_time": "2020-11-26T13:57:03.386649Z"
    },
    "init_cell": true
   },
   "outputs": [],
   "source": [
    "%reload_ext autoreload\n",
    "%autoreload 2\n",
    "# def warn(*args, **kwargs):\n",
    "# warn    pass  # to silence scikit-learn warnings\n",
    "\n",
    "import warnings\n",
    "warnings.filterwarnings('ignore')\n",
    "# warnings.warn = warn\n",
    "\n",
    "# Global Imports\n",
    "# from collections import Counter\n",
    "# import glob\n",
    "from pathlib import Path\n",
    "import sys\n",
    "\n",
    "import pandas as pd\n",
    "import numpy as np\n",
    "# from pandarallel import pandarallel\n",
    "# pandarallel.initialize()\n",
    "\n",
    "# from scipy.stats import median_absolute_deviation as mad\n",
    "\n",
    "from rdkit import DataStructs\n",
    "from rdkit.Chem import AllChem as Chem\n",
    "# from rdkit.Chem import Draw\n",
    "from rdkit.Chem.Draw import IPythonConsole\n",
    "\n",
    "from Contrib.NP_Score import npscorer\n",
    "\n",
    "import matplotlib.pyplot as plt\n",
    "import seaborn as sns\n",
    "\n",
    "from IPython.core.interactiveshell import InteractiveShell\n",
    "InteractiveShell.ast_node_interactivity = \"all\"\n",
    "\n",
    "# Project-local Imports\n",
    "PROJECT_DIR = list(Path(\"..\").absolute().parents)[1]\n",
    "sys.path.append(str(PROJECT_DIR))\n",
    "import plt_style\n",
    "import utils as u\n",
    "from utils import lp\n",
    "\n",
    "Path(\"../tmp\").mkdir(exist_ok=True)"
   ]
  },
  {
   "cell_type": "markdown",
   "metadata": {},
   "source": [
    "## ChEMBL NP\n",
    "\n",
    "TODO: Describe the process of obtaining the records from ChEMBL.\n",
    "\n",
    "* 40525 cpds.\n",
    "* 35026 cpds. after deglycosylation, standardization and deduplication"
   ]
  },
  {
   "cell_type": "markdown",
   "metadata": {},
   "source": [
    "### Loading\n",
    "\n",
    "Load the result of the SQL query, the ChEMBL IDs that have \"J. Nat. Prod.\" or \"J Nat Prod\" listed as journal:"
   ]
  },
  {
   "cell_type": "code",
   "execution_count": 2,
   "metadata": {
    "ExecuteTime": {
     "end_time": "2020-11-26T13:53:45.545469Z",
     "start_time": "2020-11-26T13:53:45.495622Z"
    }
   },
   "outputs": [
    {
     "name": "stdout",
     "output_type": "stream",
     "text": [
      "Length                                            :      40547\n"
     ]
    }
   ],
   "source": [
    "chembl_np_ids = set(pd.read_csv(\"../Input Data/chembl_26_natprot_ids_only.tsv\", sep=\"\\t\")[\"Chembl_Id\"].values)\n",
    "lp(chembl_np_ids)"
   ]
  },
  {
   "cell_type": "markdown",
   "metadata": {},
   "source": [
    "Load the downloaded ChEMBL 26 SD file (gzipped) and keep only the natural product IDs:"
   ]
  },
  {
   "cell_type": "code",
   "execution_count": 4,
   "metadata": {
    "ExecuteTime": {
     "end_time": "2020-11-26T13:56:56.740757Z",
     "start_time": "2020-11-26T13:54:41.704927Z"
    },
    "scrolled": true
   },
   "outputs": [
    {
     "name": "stderr",
     "output_type": "stream",
     "text": [
      "RDKit ERROR: [14:56:56] Unexpected error hit on line 39551099\n"
     ]
    },
    {
     "ename": "SystemError",
     "evalue": "<Boost.Python.function object at 0x55f99114b270> returned a result with an error set",
     "output_type": "error",
     "traceback": [
      "\u001b[0;31m---------------------------------------------------------------------------\u001b[0m",
      "\u001b[0;31mKeyboardInterrupt\u001b[0m                         Traceback (most recent call last)",
      "\u001b[0;32m~/anaconda3/envs/chem/lib/python3.8/gzip.py\u001b[0m in \u001b[0;36mread\u001b[0;34m(self, size)\u001b[0m\n\u001b[1;32m    286\u001b[0m \u001b[0;34m\u001b[0m\u001b[0m\n\u001b[0;32m--> 287\u001b[0;31m     \u001b[0;32mdef\u001b[0m \u001b[0mread\u001b[0m\u001b[0;34m(\u001b[0m\u001b[0mself\u001b[0m\u001b[0;34m,\u001b[0m \u001b[0msize\u001b[0m\u001b[0;34m=\u001b[0m\u001b[0;34m-\u001b[0m\u001b[0;36m1\u001b[0m\u001b[0;34m)\u001b[0m\u001b[0;34m:\u001b[0m\u001b[0;34m\u001b[0m\u001b[0;34m\u001b[0m\u001b[0m\n\u001b[0m\u001b[1;32m    288\u001b[0m         \u001b[0mself\u001b[0m\u001b[0;34m.\u001b[0m\u001b[0m_check_not_closed\u001b[0m\u001b[0;34m(\u001b[0m\u001b[0;34m)\u001b[0m\u001b[0;34m\u001b[0m\u001b[0;34m\u001b[0m\u001b[0m\n",
      "\u001b[0;31mKeyboardInterrupt\u001b[0m: ",
      "\nThe above exception was the direct cause of the following exception:\n",
      "\u001b[0;31mSystemError\u001b[0m                               Traceback (most recent call last)",
      "\u001b[0;32m<ipython-input-4-7c5c8d84324d>\u001b[0m in \u001b[0;36m<module>\u001b[0;34m\u001b[0m\n\u001b[1;32m      1\u001b[0m \u001b[0;31m# Takes 10min\u001b[0m\u001b[0;34m\u001b[0m\u001b[0;34m\u001b[0m\u001b[0;34m\u001b[0m\u001b[0m\n\u001b[0;32m----> 2\u001b[0;31m \u001b[0mchembl_np\u001b[0m \u001b[0;34m=\u001b[0m \u001b[0mu\u001b[0m\u001b[0;34m.\u001b[0m\u001b[0mread_sdf\u001b[0m\u001b[0;34m(\u001b[0m\u001b[0;34m\"/home/pahl/comas/notebooks/sdf/cpd_libs_2003/chembl_26.sdf.gz\"\u001b[0m\u001b[0;34m,\u001b[0m \u001b[0mmerge_prop\u001b[0m\u001b[0;34m=\u001b[0m\u001b[0;34m\"chembl_id\"\u001b[0m\u001b[0;34m,\u001b[0m \u001b[0mmerge_list\u001b[0m\u001b[0;34m=\u001b[0m\u001b[0mchembl_np_ids\u001b[0m\u001b[0;34m)\u001b[0m\u001b[0;34m\u001b[0m\u001b[0;34m\u001b[0m\u001b[0m\n\u001b[0m",
      "\u001b[0;32m~/comas/notebooks/projects/michael/code_manuscript/utils.py\u001b[0m in \u001b[0;36mread_sdf\u001b[0;34m(fn, merge_prop, merge_list)\u001b[0m\n\u001b[1;32m    107\u001b[0m             \u001b[0mdo_close\u001b[0m \u001b[0;34m=\u001b[0m \u001b[0;32mFalse\u001b[0m\u001b[0;34m\u001b[0m\u001b[0;34m\u001b[0m\u001b[0m\n\u001b[1;32m    108\u001b[0m         \u001b[0mreader\u001b[0m \u001b[0;34m=\u001b[0m \u001b[0mChem\u001b[0m\u001b[0;34m.\u001b[0m\u001b[0mForwardSDMolSupplier\u001b[0m\u001b[0;34m(\u001b[0m\u001b[0mfile_obj\u001b[0m\u001b[0;34m)\u001b[0m\u001b[0;34m\u001b[0m\u001b[0;34m\u001b[0m\u001b[0m\n\u001b[0;32m--> 109\u001b[0;31m         \u001b[0;32mfor\u001b[0m \u001b[0mmol\u001b[0m \u001b[0;32min\u001b[0m \u001b[0mreader\u001b[0m\u001b[0;34m:\u001b[0m\u001b[0;34m\u001b[0m\u001b[0;34m\u001b[0m\u001b[0m\n\u001b[0m\u001b[1;32m    110\u001b[0m             \u001b[0mctr\u001b[0m\u001b[0;34m[\u001b[0m\u001b[0;34m\"In\"\u001b[0m\u001b[0;34m]\u001b[0m \u001b[0;34m+=\u001b[0m \u001b[0;36m1\u001b[0m\u001b[0;34m\u001b[0m\u001b[0;34m\u001b[0m\u001b[0m\n\u001b[1;32m    111\u001b[0m             \u001b[0;32mif\u001b[0m \u001b[0;32mnot\u001b[0m \u001b[0mmol\u001b[0m\u001b[0;34m:\u001b[0m\u001b[0;34m\u001b[0m\u001b[0;34m\u001b[0m\u001b[0m\n",
      "\u001b[0;31mSystemError\u001b[0m: <Boost.Python.function object at 0x55f99114b270> returned a result with an error set"
     ]
    }
   ],
   "source": [
    "# Takes 10min\n",
    "chembl_np = u.read_sdf(\"/home/pahl/comas/notebooks/sdf/cpd_libs_2003/chembl_26.sdf.gz\", merge_prop=\"chembl_id\", merge_list=chembl_np_ids)"
   ]
  },
  {
   "cell_type": "code",
   "execution_count": 16,
   "metadata": {
    "ExecuteTime": {
     "end_time": "2020-11-25T17:16:46.416647Z",
     "start_time": "2020-11-25T17:16:46.391074Z"
    }
   },
   "outputs": [
    {
     "name": "stdout",
     "output_type": "stream",
     "text": [
      "Shape ChEMBL NP                                   :      40525 /    3  [ Smiles, Name, chembl_id ]  \n"
     ]
    },
    {
     "data": {
      "text/html": [
       "<div>\n",
       "<style scoped>\n",
       "    .dataframe tbody tr th:only-of-type {\n",
       "        vertical-align: middle;\n",
       "    }\n",
       "\n",
       "    .dataframe tbody tr th {\n",
       "        vertical-align: top;\n",
       "    }\n",
       "\n",
       "    .dataframe thead th {\n",
       "        text-align: right;\n",
       "    }\n",
       "</style>\n",
       "<table border=\"1\" class=\"dataframe\">\n",
       "  <thead>\n",
       "    <tr style=\"text-align: right;\">\n",
       "      <th></th>\n",
       "      <th>Smiles</th>\n",
       "      <th>Name</th>\n",
       "      <th>chembl_id</th>\n",
       "    </tr>\n",
       "  </thead>\n",
       "  <tbody>\n",
       "    <tr>\n",
       "      <th>0</th>\n",
       "      <td>CC(=O)O[C@H]1/C(C)=C\\[C@@H]2OC(=O)[C@]3(C)O[C@...</td>\n",
       "      <td>CHEMBL503865</td>\n",
       "      <td>CHEMBL503865</td>\n",
       "    </tr>\n",
       "    <tr>\n",
       "      <th>1</th>\n",
       "      <td>CO[C@H]1C[C@H](COC[C@H]2[C@@H](OC)C[C@H](O[C@H...</td>\n",
       "      <td>CHEMBL503873</td>\n",
       "      <td>CHEMBL503873</td>\n",
       "    </tr>\n",
       "    <tr>\n",
       "      <th>2</th>\n",
       "      <td>COc1ccc2c(c1OC)C(CC1(C)C=Cc3c(c4cccc(OC)c4n(C)...</td>\n",
       "      <td>CHEMBL504077</td>\n",
       "      <td>CHEMBL504077</td>\n",
       "    </tr>\n",
       "    <tr>\n",
       "      <th>3</th>\n",
       "      <td>CC(C)=C[C@H]1C[C@](C)(O)[C@@H]2[C@H]3CC[C@@H]4...</td>\n",
       "      <td>CHEMBL501665</td>\n",
       "      <td>CHEMBL501665</td>\n",
       "    </tr>\n",
       "    <tr>\n",
       "      <th>4</th>\n",
       "      <td>CCCCC[C@H]1CCCCCCCCCC(=O)O[C@@H]2[C@@H](O[C@@H...</td>\n",
       "      <td>CHEMBL501672</td>\n",
       "      <td>CHEMBL501672</td>\n",
       "    </tr>\n",
       "  </tbody>\n",
       "</table>\n",
       "</div>"
      ],
      "text/plain": [
       "                                              Smiles          Name  \\\n",
       "0  CC(=O)O[C@H]1/C(C)=C\\[C@@H]2OC(=O)[C@]3(C)O[C@...  CHEMBL503865   \n",
       "1  CO[C@H]1C[C@H](COC[C@H]2[C@@H](OC)C[C@H](O[C@H...  CHEMBL503873   \n",
       "2  COc1ccc2c(c1OC)C(CC1(C)C=Cc3c(c4cccc(OC)c4n(C)...  CHEMBL504077   \n",
       "3  CC(C)=C[C@H]1C[C@](C)(O)[C@@H]2[C@H]3CC[C@@H]4...  CHEMBL501665   \n",
       "4  CCCCC[C@H]1CCCCCCCCCC(=O)O[C@@H]2[C@@H](O[C@@H...  CHEMBL501672   \n",
       "\n",
       "      chembl_id  \n",
       "0  CHEMBL503865  \n",
       "1  CHEMBL503873  \n",
       "2  CHEMBL504077  \n",
       "3  CHEMBL501665  \n",
       "4  CHEMBL501672  "
      ]
     },
     "execution_count": 16,
     "metadata": {},
     "output_type": "execute_result"
    }
   ],
   "source": [
    "lp(chembl_np, \"ChEMBL NP\")\n",
    "chembl_np.head()"
   ]
  },
  {
   "cell_type": "markdown",
   "metadata": {},
   "source": [
    "### Initial Standardization\n",
    "\n",
    "Standardization implemented in MolVS:\n",
    "* standardization\n",
    "* remove stereo information\n",
    "* choose largest fragment"
   ]
  },
  {
   "cell_type": "code",
   "execution_count": 17,
   "metadata": {
    "ExecuteTime": {
     "end_time": "2020-11-25T17:20:37.354928Z",
     "start_time": "2020-11-25T17:17:18.953506Z"
    }
   },
   "outputs": [
    {
     "data": {
      "application/vnd.jupyter.widget-view+json": {
       "model_id": "f3483a27ae0640a293fd47c0706e775b",
       "version_major": 2,
       "version_minor": 0
      },
      "text/plain": [
       "HBox(children=(HTML(value=''), FloatProgress(value=0.0, max=40525.0), HTML(value='')))"
      ]
     },
     "metadata": {},
     "output_type": "display_data"
    },
    {
     "name": "stderr",
     "output_type": "stream",
     "text": [
      "RDKit ERROR: [17:31:36] ERROR: Explicit valence for atom # 0 N, 4, is greater than permitted\n",
      "RDKit ERROR: [18:19:29] Explicit valence for atom # 26 B, 5, is greater than permitted\n"
     ]
    },
    {
     "name": "stdout",
     "output_type": "stream",
     "text": [
      "\n"
     ]
    }
   ],
   "source": [
    "# Takes 3min\n",
    "chembl_np = u.apply_to_smiles(chembl_np, \"Smiles\", {\"Smiles_Std\": lambda x: u.standardize_mol(x, remove_stereo=True)})\n",
    "chembl_np.drop(\"Smiles\", axis=1, inplace=True)\n",
    "chembl_np = chembl_np.rename(columns={\"Smiles_Std\": \"Smiles\"})"
   ]
  },
  {
   "cell_type": "code",
   "execution_count": 18,
   "metadata": {
    "ExecuteTime": {
     "end_time": "2020-11-25T17:20:37.386599Z",
     "start_time": "2020-11-25T17:20:37.357092Z"
    }
   },
   "outputs": [
    {
     "name": "stdout",
     "output_type": "stream",
     "text": [
      "Shape ChEMBL NP                                   :      40525 /    3  [ Name, chembl_id, Smiles ]  ( NAN values in 1 col(s) )\n"
     ]
    }
   ],
   "source": [
    "lp(chembl_np, \"ChEMBL NP\")"
   ]
  },
  {
   "cell_type": "markdown",
   "metadata": {},
   "source": [
    "### Filters (MedChem, Duplicates)\n",
    "\n",
    "The data set is filtered for Isotopes, MedChemAtoms, MinHeavyAtoms and Duplicates.  \n",
    "The deduplication is performed here as well to remove as many compounds as possible at early stages of the processing.  \n",
    "The filter for MaxHeavyAtoms is deferred until after the deglycosylation."
   ]
  },
  {
   "cell_type": "code",
   "execution_count": 19,
   "metadata": {
    "ExecuteTime": {
     "end_time": "2020-11-25T17:22:36.983231Z",
     "start_time": "2020-11-25T17:20:37.389274Z"
    },
    "scrolled": true
   },
   "outputs": [
    {
     "name": "stdout",
     "output_type": "stream",
     "text": [
      "Applying filters (4)...\n"
     ]
    },
    {
     "data": {
      "application/vnd.jupyter.widget-view+json": {
       "model_id": "6ce6b25b3a1d436086931ffcfb697aa0",
       "version_major": 2,
       "version_minor": 0
      },
      "text/plain": [
       "HBox(children=(HTML(value=''), FloatProgress(value=0.0, max=40525.0), HTML(value='')))"
      ]
     },
     "metadata": {},
     "output_type": "display_data"
    },
    {
     "name": "stdout",
     "output_type": "stream",
     "text": [
      "\n",
      "Applied filter Isotopes: 40518\n"
     ]
    },
    {
     "data": {
      "application/vnd.jupyter.widget-view+json": {
       "model_id": "d07f7be0138246bebfb44b201b7f89fe",
       "version_major": 2,
       "version_minor": 0
      },
      "text/plain": [
       "HBox(children=(HTML(value=''), FloatProgress(value=0.0, max=40518.0), HTML(value='')))"
      ]
     },
     "metadata": {},
     "output_type": "display_data"
    },
    {
     "name": "stdout",
     "output_type": "stream",
     "text": [
      "\n",
      "Applied filter MedChemAtoms: 40481\n"
     ]
    },
    {
     "data": {
      "application/vnd.jupyter.widget-view+json": {
       "model_id": "80b9bc26f6384e979144ba59d72313fe",
       "version_major": 2,
       "version_minor": 0
      },
      "text/plain": [
       "HBox(children=(HTML(value=''), FloatProgress(value=0.0, max=40481.0), HTML(value='')))"
      ]
     },
     "metadata": {},
     "output_type": "display_data"
    },
    {
     "name": "stdout",
     "output_type": "stream",
     "text": [
      "\n",
      "Applied filter MinHeavyAtoms: 40478\n"
     ]
    },
    {
     "data": {
      "application/vnd.jupyter.widget-view+json": {
       "model_id": "68a6492d958b4d04a2f1309d5e6ff631",
       "version_major": 2,
       "version_minor": 0
      },
      "text/plain": [
       "HBox(children=(HTML(value=''), FloatProgress(value=0.0, max=40478.0), HTML(value='')))"
      ]
     },
     "metadata": {},
     "output_type": "display_data"
    },
    {
     "name": "stdout",
     "output_type": "stream",
     "text": [
      "\n",
      "Applied filter Duplicates: 36489\n",
      "Shape ChEMBL NP (MedChem filters)                 :      36489 /    3  [ Name, chembl_id, Smiles ]  \n"
     ]
    },
    {
     "data": {
      "text/html": [
       "<div>\n",
       "<style scoped>\n",
       "    .dataframe tbody tr th:only-of-type {\n",
       "        vertical-align: middle;\n",
       "    }\n",
       "\n",
       "    .dataframe tbody tr th {\n",
       "        vertical-align: top;\n",
       "    }\n",
       "\n",
       "    .dataframe thead th {\n",
       "        text-align: right;\n",
       "    }\n",
       "</style>\n",
       "<table border=\"1\" class=\"dataframe\">\n",
       "  <thead>\n",
       "    <tr style=\"text-align: right;\">\n",
       "      <th></th>\n",
       "      <th>Name</th>\n",
       "      <th>chembl_id</th>\n",
       "      <th>Smiles</th>\n",
       "    </tr>\n",
       "  </thead>\n",
       "  <tbody>\n",
       "    <tr>\n",
       "      <th>0</th>\n",
       "      <td>CHEMBL503865</td>\n",
       "      <td>CHEMBL503865</td>\n",
       "      <td>CC(=O)OC1C(C)=CC2OC(=O)C3(C)OC23C(OC(C)=O)C2C(...</td>\n",
       "    </tr>\n",
       "    <tr>\n",
       "      <th>1</th>\n",
       "      <td>CHEMBL503873</td>\n",
       "      <td>CHEMBL503873</td>\n",
       "      <td>COC1CC(COCC2C(C)OC(OC3CCC4(C)C(=CCC5(O)C4CC(OC...</td>\n",
       "    </tr>\n",
       "    <tr>\n",
       "      <th>2</th>\n",
       "      <td>CHEMBL504077</td>\n",
       "      <td>CHEMBL504077</td>\n",
       "      <td>COc1ccc2c(c1OC)C(CC1(C)C=Cc3c(c4cccc(OC)c4n(C)...</td>\n",
       "    </tr>\n",
       "    <tr>\n",
       "      <th>3</th>\n",
       "      <td>CHEMBL501665</td>\n",
       "      <td>CHEMBL501665</td>\n",
       "      <td>CC(C)=CC1CC(C)(O)C2C3CCC4C5(C)CCC(OC6OCC(O)C(O...</td>\n",
       "    </tr>\n",
       "    <tr>\n",
       "      <th>4</th>\n",
       "      <td>CHEMBL501672</td>\n",
       "      <td>CHEMBL501672</td>\n",
       "      <td>CCCCCC1CCCCCCCCCC(=O)OC2C(OC3OC(C)C(OC(=O)C(C)...</td>\n",
       "    </tr>\n",
       "    <tr>\n",
       "      <th>5</th>\n",
       "      <td>CHEMBL501674</td>\n",
       "      <td>CHEMBL501674</td>\n",
       "      <td>COC1C(OCC2C(C)OC(=O)C=CC(C)C(OC3OC(C)CC(O)C3O)...</td>\n",
       "    </tr>\n",
       "    <tr>\n",
       "      <th>6</th>\n",
       "      <td>CHEMBL501943</td>\n",
       "      <td>CHEMBL501943</td>\n",
       "      <td>COc1cc(C(O)C(COC(=O)C=Cc2ccc(O)cc2)Oc2c(OC)cc(...</td>\n",
       "    </tr>\n",
       "    <tr>\n",
       "      <th>7</th>\n",
       "      <td>CHEMBL501944</td>\n",
       "      <td>CHEMBL501944</td>\n",
       "      <td>COc1cc(O)c(-c2cc(-c3cc(-c4c(O)cc(O)c5c4CC(C)NC...</td>\n",
       "    </tr>\n",
       "    <tr>\n",
       "      <th>8</th>\n",
       "      <td>CHEMBL501918</td>\n",
       "      <td>CHEMBL501918</td>\n",
       "      <td>CC1COC2(CC1O)OC1CC3C4CC=C5CC(O)CC(OC6OCC(O)C(O...</td>\n",
       "    </tr>\n",
       "    <tr>\n",
       "      <th>9</th>\n",
       "      <td>CHEMBL501922</td>\n",
       "      <td>CHEMBL501922</td>\n",
       "      <td>COC(=O)CC1C(C)(C)C(OC(C)=O)C2C(=O)C1(C)C1CCC3(...</td>\n",
       "    </tr>\n",
       "  </tbody>\n",
       "</table>\n",
       "</div>"
      ],
      "text/plain": [
       "           Name     chembl_id  \\\n",
       "0  CHEMBL503865  CHEMBL503865   \n",
       "1  CHEMBL503873  CHEMBL503873   \n",
       "2  CHEMBL504077  CHEMBL504077   \n",
       "3  CHEMBL501665  CHEMBL501665   \n",
       "4  CHEMBL501672  CHEMBL501672   \n",
       "5  CHEMBL501674  CHEMBL501674   \n",
       "6  CHEMBL501943  CHEMBL501943   \n",
       "7  CHEMBL501944  CHEMBL501944   \n",
       "8  CHEMBL501918  CHEMBL501918   \n",
       "9  CHEMBL501922  CHEMBL501922   \n",
       "\n",
       "                                              Smiles  \n",
       "0  CC(=O)OC1C(C)=CC2OC(=O)C3(C)OC23C(OC(C)=O)C2C(...  \n",
       "1  COC1CC(COCC2C(C)OC(OC3CCC4(C)C(=CCC5(O)C4CC(OC...  \n",
       "2  COc1ccc2c(c1OC)C(CC1(C)C=Cc3c(c4cccc(OC)c4n(C)...  \n",
       "3  CC(C)=CC1CC(C)(O)C2C3CCC4C5(C)CCC(OC6OCC(O)C(O...  \n",
       "4  CCCCCC1CCCCCCCCCC(=O)OC2C(OC3OC(C)C(OC(=O)C(C)...  \n",
       "5  COC1C(OCC2C(C)OC(=O)C=CC(C)C(OC3OC(C)CC(O)C3O)...  \n",
       "6  COc1cc(C(O)C(COC(=O)C=Cc2ccc(O)cc2)Oc2c(OC)cc(...  \n",
       "7  COc1cc(O)c(-c2cc(-c3cc(-c4c(O)cc(O)c5c4CC(C)NC...  \n",
       "8  CC1COC2(CC1O)OC1CC3C4CC=C5CC(O)CC(OC6OCC(O)C(O...  \n",
       "9  COC(=O)CC1C(C)(C)C(OC(C)=O)C2C(=O)C1(C)C1CCC3(...  "
      ]
     },
     "execution_count": 19,
     "metadata": {},
     "output_type": "execute_result"
    }
   ],
   "source": [
    "# Takes 2min\n",
    "chembl_np = u.filter_mols(chembl_np, \"Smiles\", [\"Isotopes\", \"MedChemAtoms\", \"MinHeavyAtoms\", \"Duplicates\"])\n",
    "lp(chembl_np, \"ChEMBL NP (MedChem filters)\")\n",
    "\n",
    "chembl_np.head(10)"
   ]
  },
  {
   "cell_type": "code",
   "execution_count": 20,
   "metadata": {
    "ExecuteTime": {
     "end_time": "2020-11-25T17:22:37.129683Z",
     "start_time": "2020-11-25T17:22:36.984995Z"
    }
   },
   "outputs": [],
   "source": [
    "chembl_np.to_csv(\"../tmp/chembl_np.tsv\", sep=\"\\t\", index=False)"
   ]
  },
  {
   "cell_type": "code",
   "execution_count": null,
   "metadata": {},
   "outputs": [],
   "source": []
  },
  {
   "cell_type": "markdown",
   "metadata": {},
   "source": [
    "### Deglycosylation\n",
    "\n",
    "Deglycosylation is performed using the KNIME Sugar Remover node (CDK). KNIME v 4.2.3.  \n",
    "Here, the result of the deglycosylation is loaded again."
   ]
  },
  {
   "cell_type": "code",
   "execution_count": null,
   "metadata": {
    "ExecuteTime": {
     "end_time": "2020-11-25T15:31:25.430186Z",
     "start_time": "2020-11-25T15:31:25.369108Z"
    },
    "scrolled": true
   },
   "outputs": [],
   "source": [
    "chembl_np = pd.read_csv(\"../tmp/chembl_np_deglyco.tsv\", sep=\"\\t\")\n",
    "lp(chembl_np, \"ChEMBL NP (Deglyco)\")"
   ]
  },
  {
   "cell_type": "markdown",
   "metadata": {},
   "source": [
    "### Standardization\n",
    "\n",
    "Cleanup after deglycosylation:\n",
    "\n",
    "* standardization\n",
    "* choose largest fragment\n"
   ]
  },
  {
   "cell_type": "code",
   "execution_count": 21,
   "metadata": {
    "ExecuteTime": {
     "end_time": "2020-11-25T19:40:34.679464Z",
     "start_time": "2020-11-25T19:38:18.115008Z"
    }
   },
   "outputs": [
    {
     "data": {
      "application/vnd.jupyter.widget-view+json": {
       "model_id": "2d0c37fe23684bf6a09a9331e1ec0952",
       "version_major": 2,
       "version_minor": 0
      },
      "text/plain": [
       "HBox(children=(HTML(value=''), FloatProgress(value=0.0, max=36489.0), HTML(value='')))"
      ]
     },
     "metadata": {},
     "output_type": "display_data"
    },
    {
     "name": "stdout",
     "output_type": "stream",
     "text": [
      "\n",
      "Shape ChEMBL NP (Deglyco)                         :      36489 /    3  [ Name, chembl_id, Smiles ]  \n"
     ]
    }
   ],
   "source": [
    "# Takes 1:20min\n",
    "chembl_np_std = u.apply_to_smiles(chembl_np, \"Smiles\", {\"Smiles_Std\": u.standardize_mol})\n",
    "chembl_np_std.drop(\"Smiles\", axis=1, inplace=True)\n",
    "chembl_np_std = chembl_np_std.rename(columns={\"Smiles_Std\": \"Smiles\"})\n",
    "lp(chembl_np_std, \"ChEMBL NP (Deglyco)\")"
   ]
  },
  {
   "cell_type": "code",
   "execution_count": 22,
   "metadata": {
    "ExecuteTime": {
     "end_time": "2020-11-25T19:41:48.559243Z",
     "start_time": "2020-11-25T19:40:34.682411Z"
    }
   },
   "outputs": [
    {
     "name": "stdout",
     "output_type": "stream",
     "text": [
      "Applying filters (3)...\n"
     ]
    },
    {
     "data": {
      "application/vnd.jupyter.widget-view+json": {
       "model_id": "942a558ee3384e7f968c4dd60e73b13a",
       "version_major": 2,
       "version_minor": 0
      },
      "text/plain": [
       "HBox(children=(HTML(value=''), FloatProgress(value=0.0, max=36489.0), HTML(value='')))"
      ]
     },
     "metadata": {},
     "output_type": "display_data"
    },
    {
     "name": "stdout",
     "output_type": "stream",
     "text": [
      "\n",
      "Applied filter MinHeavyAtoms: 36489\n",
      "Applied filter MaxHeavyAtoms: 35172\n"
     ]
    },
    {
     "data": {
      "application/vnd.jupyter.widget-view+json": {
       "model_id": "9be2230d18654731956bd7e5eba798d4",
       "version_major": 2,
       "version_minor": 0
      },
      "text/plain": [
       "HBox(children=(HTML(value=''), FloatProgress(value=0.0, max=35172.0), HTML(value='')))"
      ]
     },
     "metadata": {},
     "output_type": "display_data"
    },
    {
     "name": "stdout",
     "output_type": "stream",
     "text": [
      "\n",
      "Applied filter Duplicates: 35168\n",
      "Shape ChEMBL NP (Filters)                         :      35168 /    3  [ Name, chembl_id, Smiles ]  \n"
     ]
    }
   ],
   "source": [
    "chembl_np_std = u.filter_mols(chembl_np_std, \"Smiles\", [\"MinHeavyAtoms\", \"MaxHeavyAtoms\", \"Duplicates\"])\n",
    "lp(chembl_np_std, \"ChEMBL NP (Filters)\")"
   ]
  },
  {
   "cell_type": "code",
   "execution_count": null,
   "metadata": {},
   "outputs": [],
   "source": []
  },
  {
   "cell_type": "markdown",
   "metadata": {},
   "source": [
    "### Canonical Tautomer"
   ]
  },
  {
   "cell_type": "code",
   "execution_count": 23,
   "metadata": {
    "ExecuteTime": {
     "end_time": "2020-11-25T20:10:30.945411Z",
     "start_time": "2020-11-25T19:41:48.563073Z"
    },
    "scrolled": true
   },
   "outputs": [
    {
     "name": "stdout",
     "output_type": "stream",
     "text": [
      "INFO: Pandarallel will run on 6 workers.\n",
      "INFO: Pandarallel will use Memory file system to transfer data between the main process and workers.\n"
     ]
    },
    {
     "data": {
      "application/vnd.jupyter.widget-view+json": {
       "model_id": "9130f7ac5c4c4bddbb65dd36eb000998",
       "version_major": 2,
       "version_minor": 0
      },
      "text/plain": [
       "VBox(children=(HBox(children=(IntProgress(value=0, description='0.00%', max=5862), Label(value='0 / 5862'))), …"
      ]
     },
     "metadata": {},
     "output_type": "display_data"
    }
   ],
   "source": [
    "# Takes 28min\n",
    "chembl_np_std_tauto = u.apply_to_smiles(chembl_np_std, \"Smiles\", {\"Smiles_Std\": lambda x: u.standardize_mol(x, canonicalize_tautomer=True)}, parallel=True)"
   ]
  },
  {
   "cell_type": "code",
   "execution_count": 24,
   "metadata": {
    "ExecuteTime": {
     "end_time": "2020-11-25T20:10:31.023749Z",
     "start_time": "2020-11-25T20:10:30.947551Z"
    }
   },
   "outputs": [],
   "source": [
    "chembl_np_std_tauto.drop(\"Smiles\", axis=1, inplace=True)\n",
    "chembl_np_std_tauto = chembl_np_std_tauto.rename(columns={\"Smiles_Std\": \"Smiles\"})"
   ]
  },
  {
   "cell_type": "markdown",
   "metadata": {},
   "source": [
    "### Filter Duplicates\n",
    "\n",
    "Remove duplicates that might have been formed by canonicalization."
   ]
  },
  {
   "cell_type": "code",
   "execution_count": 25,
   "metadata": {
    "ExecuteTime": {
     "end_time": "2020-11-25T20:11:28.902480Z",
     "start_time": "2020-11-25T20:10:31.028012Z"
    }
   },
   "outputs": [
    {
     "name": "stdout",
     "output_type": "stream",
     "text": [
      "Applying filters (1)...\n"
     ]
    },
    {
     "data": {
      "application/vnd.jupyter.widget-view+json": {
       "model_id": "fe5b3de5c435493bb0fb87075a8fd2cf",
       "version_major": 2,
       "version_minor": 0
      },
      "text/plain": [
       "HBox(children=(HTML(value=''), FloatProgress(value=0.0, max=35168.0), HTML(value='')))"
      ]
     },
     "metadata": {},
     "output_type": "display_data"
    },
    {
     "name": "stdout",
     "output_type": "stream",
     "text": [
      "\n",
      "Applied filter Duplicates: 35026\n",
      "Shape ChEMBL NP (Filter duplicates)               :      35026 /    3  [ Name, chembl_id, Smiles ]  \n"
     ]
    },
    {
     "data": {
      "text/html": [
       "<div>\n",
       "<style scoped>\n",
       "    .dataframe tbody tr th:only-of-type {\n",
       "        vertical-align: middle;\n",
       "    }\n",
       "\n",
       "    .dataframe tbody tr th {\n",
       "        vertical-align: top;\n",
       "    }\n",
       "\n",
       "    .dataframe thead th {\n",
       "        text-align: right;\n",
       "    }\n",
       "</style>\n",
       "<table border=\"1\" class=\"dataframe\">\n",
       "  <thead>\n",
       "    <tr style=\"text-align: right;\">\n",
       "      <th></th>\n",
       "      <th>Name</th>\n",
       "      <th>chembl_id</th>\n",
       "      <th>Smiles</th>\n",
       "    </tr>\n",
       "  </thead>\n",
       "  <tbody>\n",
       "    <tr>\n",
       "      <th>0</th>\n",
       "      <td>CHEMBL503865</td>\n",
       "      <td>CHEMBL503865</td>\n",
       "      <td>CC(=O)OC1C(C)=CC2OC(=O)C3(C)OC23C(OC(C)=O)C2C(...</td>\n",
       "    </tr>\n",
       "    <tr>\n",
       "      <th>2</th>\n",
       "      <td>CHEMBL504077</td>\n",
       "      <td>CHEMBL504077</td>\n",
       "      <td>COc1ccc2c(c1OC)C(CC1(C)C=Cc3c(c4cccc(OC)c4n(C)...</td>\n",
       "    </tr>\n",
       "    <tr>\n",
       "      <th>3</th>\n",
       "      <td>CHEMBL501665</td>\n",
       "      <td>CHEMBL501665</td>\n",
       "      <td>CC(C)=CC1CC(C)(O)C2C3CCC4C5(C)CCC(OC6OCC(O)C(O...</td>\n",
       "    </tr>\n",
       "    <tr>\n",
       "      <th>4</th>\n",
       "      <td>CHEMBL501672</td>\n",
       "      <td>CHEMBL501672</td>\n",
       "      <td>CCCCCC1CCCCCCCCCC(=O)OC2C(OC3OC(C)C(OC(=O)C(C)...</td>\n",
       "    </tr>\n",
       "    <tr>\n",
       "      <th>5</th>\n",
       "      <td>CHEMBL501674</td>\n",
       "      <td>CHEMBL501674</td>\n",
       "      <td>COC1C(OCC2C(C)OC(=O)C=CC(C)C(OC3OC(C)CC(O)C3O)...</td>\n",
       "    </tr>\n",
       "  </tbody>\n",
       "</table>\n",
       "</div>"
      ],
      "text/plain": [
       "           Name     chembl_id  \\\n",
       "0  CHEMBL503865  CHEMBL503865   \n",
       "2  CHEMBL504077  CHEMBL504077   \n",
       "3  CHEMBL501665  CHEMBL501665   \n",
       "4  CHEMBL501672  CHEMBL501672   \n",
       "5  CHEMBL501674  CHEMBL501674   \n",
       "\n",
       "                                              Smiles  \n",
       "0  CC(=O)OC1C(C)=CC2OC(=O)C3(C)OC23C(OC(C)=O)C2C(...  \n",
       "2  COc1ccc2c(c1OC)C(CC1(C)C=Cc3c(c4cccc(OC)c4n(C)...  \n",
       "3  CC(C)=CC1CC(C)(O)C2C3CCC4C5(C)CCC(OC6OCC(O)C(O...  \n",
       "4  CCCCCC1CCCCCCCCCC(=O)OC2C(OC3OC(C)C(OC(=O)C(C)...  \n",
       "5  COC1C(OCC2C(C)OC(=O)C=CC(C)C(OC3OC(C)CC(O)C3O)...  "
      ]
     },
     "execution_count": 25,
     "metadata": {},
     "output_type": "execute_result"
    }
   ],
   "source": [
    "chembl_np_std_tauto = u.filter_mols(chembl_np_std_tauto, \"Smiles\", \"Duplicates\")\n",
    "lp(chembl_np_std_tauto, \"ChEMBL NP (Filter duplicates)\")\n",
    "\n",
    "chembl_np_std_tauto.head()"
   ]
  },
  {
   "cell_type": "markdown",
   "metadata": {},
   "source": [
    "### Write Data Set"
   ]
  },
  {
   "cell_type": "code",
   "execution_count": 26,
   "metadata": {
    "ExecuteTime": {
     "end_time": "2020-11-25T20:11:29.160250Z",
     "start_time": "2020-11-25T20:11:28.904785Z"
    }
   },
   "outputs": [],
   "source": [
    "chembl_np_std_tauto.to_csv(\"../tmp/chembl_np_std.tsv\", sep=\"\\t\", index=False)"
   ]
  },
  {
   "cell_type": "markdown",
   "metadata": {},
   "source": [
    "### Create Subset"
   ]
  },
  {
   "cell_type": "code",
   "execution_count": 12,
   "metadata": {
    "ExecuteTime": {
     "end_time": "2020-11-26T11:33:42.885543Z",
     "start_time": "2020-11-26T11:33:42.773278Z"
    }
   },
   "outputs": [
    {
     "name": "stdout",
     "output_type": "stream",
     "text": [
      "Shape ChEMBL NP subset                            :       5000 /    3  [ Name, chembl_id, Smiles ]  \n"
     ]
    }
   ],
   "source": [
    "chembl_np = pd.read_csv(\"../tmp/chembl_np_std.tsv\", sep=\"\\t\")\n",
    "chembl_np_subset = chembl_np.sample(n=5000, random_state=0xc0ffee)\n",
    "chembl_np_subset.to_csv(\"../tmp/chembl_np_std_subset.tsv\", sep=\"\\t\", index=False)\n",
    "lp(chembl_np_subset, \"ChEMBL NP subset\")"
   ]
  },
  {
   "cell_type": "code",
   "execution_count": null,
   "metadata": {},
   "outputs": [],
   "source": []
  },
  {
   "cell_type": "code",
   "execution_count": null,
   "metadata": {},
   "outputs": [],
   "source": []
  },
  {
   "cell_type": "markdown",
   "metadata": {},
   "source": [
    "## DrugBank\n",
    "\n",
    "Approved and experimental drugs, downloaded from DrugBank on 25-Mar-2020, v 5.1.5.\n",
    "\n",
    "* 8479 cpds.\n",
    "* 7472 cpds. after standardization and deduplication"
   ]
  },
  {
   "cell_type": "markdown",
   "metadata": {},
   "source": [
    "### Loading\n",
    "\n",
    "Load both SD files of approved and experimental drugs."
   ]
  },
  {
   "cell_type": "code",
   "execution_count": 3,
   "metadata": {
    "ExecuteTime": {
     "end_time": "2020-11-25T20:17:30.506143Z",
     "start_time": "2020-11-25T20:17:24.551496Z"
    },
    "scrolled": true
   },
   "outputs": [
    {
     "name": "stderr",
     "output_type": "stream",
     "text": [
      "RDKit ERROR: [21:16:13] ERROR: Explicit valence for atom # 6 K, 2, is greater than permitted\n",
      "RDKit ERROR: [21:17:24] Explicit valence for atom # 7 N, 4, is greater than permitted\n",
      "RDKit ERROR: [21:17:24] ERROR: Could not sanitize molecule ending on line 19217\n",
      "RDKit ERROR: [21:17:24] ERROR: Explicit valence for atom # 7 N, 4, is greater than permitted\n",
      "RDKit ERROR: [21:17:25] Explicit valence for atom # 10 N, 4, is greater than permitted\n",
      "RDKit ERROR: [21:17:25] ERROR: Could not sanitize molecule ending on line 318021\n",
      "RDKit WARNING: [21:17:26] MRV_IMPLICIT_H SGroup on atom without aromatic bonds, 6, ignored.\n",
      "RDKit WARNING: [21:17:26] MRV_IMPLICIT_H SGroup on atom without aromatic bonds, 11, ignored.\n",
      "RDKit WARNING: [21:17:26] MRV_IMPLICIT_H SGroup on atom without aromatic bonds, 10, ignored.\n",
      "RDKit WARNING: [21:17:26] MRV_IMPLICIT_H SGroup on atom without aromatic bonds, 14, ignored.\n",
      "RDKit ERROR: [21:17:25] ERROR: Explicit valence for atom # 10 N, 4, is greater than permitted\n",
      "RDKit ERROR: [21:17:26] Explicit valence for atom # 14 Cl, 2, is greater than permitted\n",
      "RDKit ERROR: [21:17:26] ERROR: Could not sanitize molecule ending on line 405070\n",
      "RDKit ERROR: [21:17:26] ERROR: Explicit valence for atom # 14 Cl, 2, is greater than permitted\n",
      "RDKit ERROR: [21:17:26] Explicit valence for atom # 13 Cl, 5, is greater than permitted\n",
      "RDKit ERROR: [21:17:26] ERROR: Could not sanitize molecule ending on line 65139\n",
      "RDKit ERROR: [21:17:26] ERROR: Explicit valence for atom # 13 Cl, 5, is greater than permitted\n",
      "RDKit ERROR: [21:17:26] Explicit valence for atom # 39 N, 5, is greater than permitted\n",
      "RDKit ERROR: [21:17:26] ERROR: Could not sanitize molecule ending on line 103352\n",
      "RDKit ERROR: [21:17:26] ERROR: Explicit valence for atom # 39 N, 5, is greater than permitted\n",
      "RDKit ERROR: [21:17:27] Explicit valence for atom # 70 O, 3, is greater than permitted\n",
      "RDKit ERROR: [21:17:27] ERROR: Could not sanitize molecule ending on line 172093\n",
      "RDKit ERROR: [21:17:27] ERROR: Explicit valence for atom # 70 O, 3, is greater than permitted\n",
      "RDKit ERROR: [21:17:27] Explicit valence for atom # 2 O, 3, is greater than permitted\n",
      "RDKit ERROR: [21:17:27] ERROR: Could not sanitize molecule ending on line 283181\n",
      "RDKit ERROR: [21:17:27] ERROR: Explicit valence for atom # 2 O, 3, is greater than permitted\n",
      "RDKit ERROR: [21:17:27] Explicit valence for atom # 1 N, 4, is greater than permitted\n",
      "RDKit ERROR: [21:17:27] ERROR: Could not sanitize molecule ending on line 292250\n",
      "RDKit ERROR: [21:17:27] ERROR: Explicit valence for atom # 1 N, 4, is greater than permitted\n",
      "RDKit ERROR: [21:17:27] Explicit valence for atom # 1 N, 4, is greater than permitted\n",
      "RDKit ERROR: [21:17:27] ERROR: Could not sanitize molecule ending on line 344873\n",
      "RDKit ERROR: [21:17:27] ERROR: Explicit valence for atom # 1 N, 4, is greater than permitted\n",
      "RDKit ERROR: [21:17:27] Explicit valence for atom # 12 N, 4, is greater than permitted\n",
      "RDKit ERROR: [21:17:27] ERROR: Could not sanitize molecule ending on line 354611\n",
      "RDKit ERROR: [21:17:27] ERROR: Explicit valence for atom # 12 N, 4, is greater than permitted\n",
      "RDKit ERROR: [21:17:27] Explicit valence for atom # 12 N, 4, is greater than permitted\n",
      "RDKit ERROR: [21:17:27] ERROR: Could not sanitize molecule ending on line 380007\n",
      "RDKit ERROR: [21:17:27] ERROR: Explicit valence for atom # 12 N, 4, is greater than permitted\n",
      "RDKit ERROR: [21:17:27] Explicit valence for atom # 6 Be, 4, is greater than permitted\n",
      "RDKit ERROR: [21:17:27] ERROR: Could not sanitize molecule ending on line 388492\n",
      "RDKit ERROR: [21:17:27] ERROR: Explicit valence for atom # 6 Be, 4, is greater than permitted\n",
      "RDKit ERROR: [21:17:28] Explicit valence for atom # 20 N, 4, is greater than permitted\n",
      "RDKit ERROR: [21:17:28] ERROR: Could not sanitize molecule ending on line 399699\n",
      "RDKit ERROR: [21:17:28] ERROR: Explicit valence for atom # 20 N, 4, is greater than permitted\n",
      "RDKit ERROR: [21:17:29] Explicit valence for atom # 0 Be, 3, is greater than permitted\n",
      "RDKit ERROR: [21:17:29] ERROR: Could not sanitize molecule ending on line 704390\n",
      "RDKit ERROR: [21:17:29] ERROR: Explicit valence for atom # 0 Be, 3, is greater than permitted\n",
      "RDKit ERROR: [21:17:29] Explicit valence for atom # 10 N, 4, is greater than permitted\n",
      "RDKit ERROR: [21:17:29] ERROR: Could not sanitize molecule ending on line 797706\n"
     ]
    },
    {
     "name": "stdout",
     "output_type": "stream",
     "text": [
      "{'In': 8479, 'Out': 8462, 'Fail_NoMol': 17}\n",
      "Shape DrugBank                                    :       8462 /    2  [ DATABASE_ID, Smiles ]  \n"
     ]
    },
    {
     "name": "stderr",
     "output_type": "stream",
     "text": [
      "RDKit WARNING: [21:17:30] MRV_IMPLICIT_H SGroup on atom without aromatic bonds, 6, ignored.\n",
      "RDKit WARNING: [21:17:30] MRV_IMPLICIT_H SGroup on atom without aromatic bonds, 11, ignored.\n",
      "RDKit WARNING: [21:17:30] MRV_IMPLICIT_H SGroup on atom without aromatic bonds, 10, ignored.\n",
      "RDKit WARNING: [21:17:30] MRV_IMPLICIT_H SGroup on atom without aromatic bonds, 14, ignored.\n",
      "RDKit ERROR: [21:17:29] ERROR: Explicit valence for atom # 10 N, 4, is greater than permitted\n",
      "RDKit ERROR: [21:17:30] Explicit valence for atom # 14 Cl, 2, is greater than permitted\n",
      "RDKit ERROR: [21:17:30] ERROR: Could not sanitize molecule ending on line 925357\n",
      "RDKit ERROR: [21:17:30] ERROR: Explicit valence for atom # 14 Cl, 2, is greater than permitted\n",
      "RDKit ERROR: [21:17:30] Explicit valence for atom # 6 K, 2, is greater than permitted\n",
      "RDKit ERROR: [21:17:30] ERROR: Could not sanitize molecule ending on line 930170\n"
     ]
    },
    {
     "data": {
      "text/html": [
       "<div>\n",
       "<style scoped>\n",
       "    .dataframe tbody tr th:only-of-type {\n",
       "        vertical-align: middle;\n",
       "    }\n",
       "\n",
       "    .dataframe tbody tr th {\n",
       "        vertical-align: top;\n",
       "    }\n",
       "\n",
       "    .dataframe thead th {\n",
       "        text-align: right;\n",
       "    }\n",
       "</style>\n",
       "<table border=\"1\" class=\"dataframe\">\n",
       "  <thead>\n",
       "    <tr style=\"text-align: right;\">\n",
       "      <th></th>\n",
       "      <th>DATABASE_ID</th>\n",
       "      <th>Smiles</th>\n",
       "    </tr>\n",
       "  </thead>\n",
       "  <tbody>\n",
       "    <tr>\n",
       "      <th>0</th>\n",
       "      <td>DB00006</td>\n",
       "      <td>CC[C@H](C)[C@H](NC(=O)[C@H](CCC(=O)O)NC(=O)[C@...</td>\n",
       "    </tr>\n",
       "    <tr>\n",
       "      <th>1</th>\n",
       "      <td>DB00007</td>\n",
       "      <td>CCNC(=O)[C@@H]1CCCN1C(=O)[C@H](CCCNC(=N)N)NC(=...</td>\n",
       "    </tr>\n",
       "    <tr>\n",
       "      <th>2</th>\n",
       "      <td>DB00014</td>\n",
       "      <td>CC(C)C[C@H](NC(=O)[C@@H](COC(C)(C)C)NC(=O)[C@H...</td>\n",
       "    </tr>\n",
       "    <tr>\n",
       "      <th>3</th>\n",
       "      <td>DB00027</td>\n",
       "      <td>CC(C)C[C@@H](NC(=O)CNC(=O)[C@@H](NC=O)C(C)C)C(...</td>\n",
       "    </tr>\n",
       "    <tr>\n",
       "      <th>4</th>\n",
       "      <td>DB00035</td>\n",
       "      <td>N=C(N)NCCC[C@@H](NC(=O)[C@@H]1CCCN1C(=O)[C@@H]...</td>\n",
       "    </tr>\n",
       "  </tbody>\n",
       "</table>\n",
       "</div>"
      ],
      "text/plain": [
       "  DATABASE_ID                                             Smiles\n",
       "0     DB00006  CC[C@H](C)[C@H](NC(=O)[C@H](CCC(=O)O)NC(=O)[C@...\n",
       "1     DB00007  CCNC(=O)[C@@H]1CCCN1C(=O)[C@H](CCCNC(=N)N)NC(=...\n",
       "2     DB00014  CC(C)C[C@H](NC(=O)[C@@H](COC(C)(C)C)NC(=O)[C@H...\n",
       "3     DB00027  CC(C)C[C@@H](NC(=O)CNC(=O)[C@@H](NC=O)C(C)C)C(...\n",
       "4     DB00035  N=C(N)NCCC[C@@H](NC(=O)[C@@H]1CCCN1C(=O)[C@@H]..."
      ]
     },
     "execution_count": 3,
     "metadata": {},
     "output_type": "execute_result"
    }
   ],
   "source": [
    "drugbank = u.read_sdf([\"/home/pahl/comas/notebooks/sdf/drugbank/drugbank_5.1.5_appr.sdf\", \"/home/pahl/comas/notebooks/sdf/drugbank/drugbank_5.1.5_exp.sdf\"])\n",
    "drugbank =drugbank[[\"DATABASE_ID\", \"Smiles\"]]\n",
    "lp(drugbank, \"DrugBank\")\n",
    "\n",
    "drugbank.head()"
   ]
  },
  {
   "cell_type": "markdown",
   "metadata": {},
   "source": [
    "### Standardization\n",
    "\n",
    "Standardization implemented in MolVS:\n",
    "* standardization\n",
    "* remove stereo information\n",
    "* choose largest fragment\n",
    "* canonicalize tautomer"
   ]
  },
  {
   "cell_type": "code",
   "execution_count": 4,
   "metadata": {
    "ExecuteTime": {
     "end_time": "2020-11-25T20:35:12.765254Z",
     "start_time": "2020-11-25T20:18:24.461326Z"
    }
   },
   "outputs": [
    {
     "data": {
      "application/vnd.jupyter.widget-view+json": {
       "model_id": "12976fcd36734be5ab06fb89eb21f20c",
       "version_major": 2,
       "version_minor": 0
      },
      "text/plain": [
       "HBox(children=(HTML(value=''), FloatProgress(value=0.0, max=8462.0), HTML(value='')))"
      ]
     },
     "metadata": {},
     "output_type": "display_data"
    },
    {
     "name": "stderr",
     "output_type": "stream",
     "text": [
      "RDKit ERROR: [21:17:30] ERROR: Explicit valence for atom # 6 K, 2, is greater than permitted\n",
      "RDKit ERROR: [21:26:09] Can't kekulize mol.  Unkekulized atoms: 3 10\n",
      "RDKit ERROR: \n",
      "RDKit ERROR: [21:26:09] Can't kekulize mol.  Unkekulized atoms: 3 10\n",
      "RDKit ERROR: \n",
      "RDKit ERROR: [21:28:07] Explicit valence for atom # 6 B, 5, is greater than permitted\n",
      "RDKit ERROR: [21:28:56] Explicit valence for atom # 13 B, 5, is greater than permitted\n",
      "RDKit ERROR: [21:29:07] Explicit valence for atom # 16 B, 5, is greater than permitted\n",
      "RDKit ERROR: [21:30:01] Explicit valence for atom # 16 B, 5, is greater than permitted\n",
      "RDKit ERROR: [21:30:27] Explicit valence for atom # 13 B, 5, is greater than permitted\n",
      "RDKit ERROR: [21:30:39] Explicit valence for atom # 6 B, 5, is greater than permitted\n",
      "RDKit ERROR: [21:31:56] Explicit valence for atom # 6 B, 5, is greater than permitted\n",
      "RDKit ERROR: [21:34:05] Explicit valence for atom # 16 B, 5, is greater than permitted\n",
      "RDKit ERROR: [21:34:05] Explicit valence for atom # 16 B, 5, is greater than permitted\n",
      "RDKit ERROR: [21:34:10] Explicit valence for atom # 13 B, 5, is greater than permitted\n",
      "RDKit ERROR: [21:34:10] Explicit valence for atom # 13 B, 5, is greater than permitted\n",
      "RDKit ERROR: [21:34:28] Can't kekulize mol.  Unkekulized atoms: 3 5\n",
      "RDKit ERROR: \n",
      "RDKit ERROR: [21:34:28] Can't kekulize mol.  Unkekulized atoms: 3 5\n",
      "RDKit ERROR: \n"
     ]
    },
    {
     "name": "stdout",
     "output_type": "stream",
     "text": [
      "\n",
      "Shape DrugBank                                    :       8462 /    2  [ DATABASE_ID, Smiles ]  ( NAN values in 1 col(s) )\n"
     ]
    }
   ],
   "source": [
    "drugbank = u.apply_to_smiles(drugbank, \"Smiles\", {\"Smiles_Std\": lambda x: u.standardize_mol(x, remove_stereo=True, canonicalize_tautomer=True)})\n",
    "drugbank.drop(\"Smiles\", axis=1, inplace=True)\n",
    "drugbank = drugbank.rename(columns={\"Smiles_Std\": \"Smiles\"})\n",
    "lp(drugbank, \"DrugBank\")"
   ]
  },
  {
   "cell_type": "markdown",
   "metadata": {},
   "source": [
    "### Filters (MedChem, Duplicates)\n",
    "\n",
    "The data set is filtered for Isotopes, MedChemAtoms, MinHeavyAtoms, MaxHeavyAtoms and Duplicates.  "
   ]
  },
  {
   "cell_type": "code",
   "execution_count": 5,
   "metadata": {
    "ExecuteTime": {
     "end_time": "2020-11-25T20:35:33.760472Z",
     "start_time": "2020-11-25T20:35:12.767741Z"
    }
   },
   "outputs": [
    {
     "name": "stdout",
     "output_type": "stream",
     "text": [
      "Applying filters (5)...\n"
     ]
    },
    {
     "data": {
      "application/vnd.jupyter.widget-view+json": {
       "model_id": "9f183c3ebc694a1bac43f60cf8631ba3",
       "version_major": 2,
       "version_minor": 0
      },
      "text/plain": [
       "HBox(children=(HTML(value=''), FloatProgress(value=0.0, max=8462.0), HTML(value='')))"
      ]
     },
     "metadata": {},
     "output_type": "display_data"
    },
    {
     "name": "stdout",
     "output_type": "stream",
     "text": [
      "\n",
      "Applied filter Isotopes: 8404\n"
     ]
    },
    {
     "data": {
      "application/vnd.jupyter.widget-view+json": {
       "model_id": "85837b7f2393400781a64fca461545c0",
       "version_major": 2,
       "version_minor": 0
      },
      "text/plain": [
       "HBox(children=(HTML(value=''), FloatProgress(value=0.0, max=8404.0), HTML(value='')))"
      ]
     },
     "metadata": {},
     "output_type": "display_data"
    },
    {
     "name": "stdout",
     "output_type": "stream",
     "text": [
      "\n",
      "Applied filter MedChemAtoms: 8187\n"
     ]
    },
    {
     "data": {
      "application/vnd.jupyter.widget-view+json": {
       "model_id": "4b50cce9007f41c1a77d842a836bceb5",
       "version_major": 2,
       "version_minor": 0
      },
      "text/plain": [
       "HBox(children=(HTML(value=''), FloatProgress(value=0.0, max=8187.0), HTML(value='')))"
      ]
     },
     "metadata": {},
     "output_type": "display_data"
    },
    {
     "name": "stdout",
     "output_type": "stream",
     "text": [
      "\n",
      "Applied filter MinHeavyAtoms: 8142\n",
      "Applied filter MaxHeavyAtoms: 8058\n"
     ]
    },
    {
     "data": {
      "application/vnd.jupyter.widget-view+json": {
       "model_id": "7eef602554bd4e15b8f1d40cf2ac4f68",
       "version_major": 2,
       "version_minor": 0
      },
      "text/plain": [
       "HBox(children=(HTML(value=''), FloatProgress(value=0.0, max=8058.0), HTML(value='')))"
      ]
     },
     "metadata": {},
     "output_type": "display_data"
    },
    {
     "name": "stdout",
     "output_type": "stream",
     "text": [
      "\n",
      "Applied filter Duplicates: 7472\n",
      "Shape DrugBank (MedChem filters)                  :       7472 /    2  [ DATABASE_ID, Smiles ]  \n"
     ]
    },
    {
     "data": {
      "text/html": [
       "<div>\n",
       "<style scoped>\n",
       "    .dataframe tbody tr th:only-of-type {\n",
       "        vertical-align: middle;\n",
       "    }\n",
       "\n",
       "    .dataframe tbody tr th {\n",
       "        vertical-align: top;\n",
       "    }\n",
       "\n",
       "    .dataframe thead th {\n",
       "        text-align: right;\n",
       "    }\n",
       "</style>\n",
       "<table border=\"1\" class=\"dataframe\">\n",
       "  <thead>\n",
       "    <tr style=\"text-align: right;\">\n",
       "      <th></th>\n",
       "      <th>DATABASE_ID</th>\n",
       "      <th>Smiles</th>\n",
       "    </tr>\n",
       "  </thead>\n",
       "  <tbody>\n",
       "    <tr>\n",
       "      <th>4</th>\n",
       "      <td>DB00035</td>\n",
       "      <td>N=C(N)NCCCC(NC(=O)C1CCCN1C(=O)C1CSSCCC(=O)NC(C...</td>\n",
       "    </tr>\n",
       "    <tr>\n",
       "      <th>8</th>\n",
       "      <td>DB00104</td>\n",
       "      <td>CC(O)C(CO)NC(=O)C1CSSCC(NC(=O)C(N)Cc2ccccc2)C(...</td>\n",
       "    </tr>\n",
       "    <tr>\n",
       "      <th>10</th>\n",
       "      <td>DB00114</td>\n",
       "      <td>Cc1ncc(CO[PH](=O)(=O)O)c(C=O)c1O</td>\n",
       "    </tr>\n",
       "    <tr>\n",
       "      <th>12</th>\n",
       "      <td>DB00118</td>\n",
       "      <td>C[S+](CCC(N)C(=O)[O-])CC1OC(n2cnc3c(=N)[nH]cnc...</td>\n",
       "    </tr>\n",
       "    <tr>\n",
       "      <th>13</th>\n",
       "      <td>DB00119</td>\n",
       "      <td>CC(=O)C(=O)O</td>\n",
       "    </tr>\n",
       "    <tr>\n",
       "      <th>14</th>\n",
       "      <td>DB00120</td>\n",
       "      <td>NC(Cc1ccccc1)C(=O)O</td>\n",
       "    </tr>\n",
       "    <tr>\n",
       "      <th>15</th>\n",
       "      <td>DB00121</td>\n",
       "      <td>O=C(O)CCCCC1SCC2NC(=O)NC21</td>\n",
       "    </tr>\n",
       "    <tr>\n",
       "      <th>16</th>\n",
       "      <td>DB00122</td>\n",
       "      <td>C[N+](C)(C)CCO</td>\n",
       "    </tr>\n",
       "    <tr>\n",
       "      <th>17</th>\n",
       "      <td>DB00123</td>\n",
       "      <td>NCCCCC(N)C(=O)O</td>\n",
       "    </tr>\n",
       "    <tr>\n",
       "      <th>18</th>\n",
       "      <td>DB00126</td>\n",
       "      <td>OCC(O)c1oc(O)c(O)c1O</td>\n",
       "    </tr>\n",
       "  </tbody>\n",
       "</table>\n",
       "</div>"
      ],
      "text/plain": [
       "   DATABASE_ID                                             Smiles\n",
       "4      DB00035  N=C(N)NCCCC(NC(=O)C1CCCN1C(=O)C1CSSCCC(=O)NC(C...\n",
       "8      DB00104  CC(O)C(CO)NC(=O)C1CSSCC(NC(=O)C(N)Cc2ccccc2)C(...\n",
       "10     DB00114                   Cc1ncc(CO[PH](=O)(=O)O)c(C=O)c1O\n",
       "12     DB00118  C[S+](CCC(N)C(=O)[O-])CC1OC(n2cnc3c(=N)[nH]cnc...\n",
       "13     DB00119                                       CC(=O)C(=O)O\n",
       "14     DB00120                                NC(Cc1ccccc1)C(=O)O\n",
       "15     DB00121                         O=C(O)CCCCC1SCC2NC(=O)NC21\n",
       "16     DB00122                                     C[N+](C)(C)CCO\n",
       "17     DB00123                                    NCCCCC(N)C(=O)O\n",
       "18     DB00126                               OCC(O)c1oc(O)c(O)c1O"
      ]
     },
     "execution_count": 5,
     "metadata": {},
     "output_type": "execute_result"
    }
   ],
   "source": [
    "drugbank = u.filter_mols(drugbank, \"Smiles\", [\"Isotopes\", \"MedChemAtoms\", \"MinHeavyAtoms\", \"MaxHeavyAtoms\", \"Duplicates\"])\n",
    "lp(drugbank, \"DrugBank (MedChem filters)\")\n",
    "\n",
    "drugbank.head(10)"
   ]
  },
  {
   "cell_type": "code",
   "execution_count": null,
   "metadata": {},
   "outputs": [],
   "source": []
  },
  {
   "cell_type": "markdown",
   "metadata": {},
   "source": [
    "### Write Data Set"
   ]
  },
  {
   "cell_type": "code",
   "execution_count": 8,
   "metadata": {
    "ExecuteTime": {
     "end_time": "2020-11-25T20:43:35.067583Z",
     "start_time": "2020-11-25T20:43:35.032157Z"
    }
   },
   "outputs": [
    {
     "name": "stdout",
     "output_type": "stream",
     "text": [
      "Shape DrugBank (MedChem filters)                  :       7472 /    2  [ DATABASE_ID, Smiles ]  \n"
     ]
    },
    {
     "data": {
      "text/html": [
       "<div>\n",
       "<style scoped>\n",
       "    .dataframe tbody tr th:only-of-type {\n",
       "        vertical-align: middle;\n",
       "    }\n",
       "\n",
       "    .dataframe tbody tr th {\n",
       "        vertical-align: top;\n",
       "    }\n",
       "\n",
       "    .dataframe thead th {\n",
       "        text-align: right;\n",
       "    }\n",
       "</style>\n",
       "<table border=\"1\" class=\"dataframe\">\n",
       "  <thead>\n",
       "    <tr style=\"text-align: right;\">\n",
       "      <th></th>\n",
       "      <th>DATABASE_ID</th>\n",
       "      <th>Smiles</th>\n",
       "    </tr>\n",
       "  </thead>\n",
       "  <tbody>\n",
       "    <tr>\n",
       "      <th>4</th>\n",
       "      <td>DB00035</td>\n",
       "      <td>N=C(N)NCCCC(NC(=O)C1CCCN1C(=O)C1CSSCCC(=O)NC(C...</td>\n",
       "    </tr>\n",
       "    <tr>\n",
       "      <th>8</th>\n",
       "      <td>DB00104</td>\n",
       "      <td>CC(O)C(CO)NC(=O)C1CSSCC(NC(=O)C(N)Cc2ccccc2)C(...</td>\n",
       "    </tr>\n",
       "    <tr>\n",
       "      <th>10</th>\n",
       "      <td>DB00114</td>\n",
       "      <td>Cc1ncc(CO[PH](=O)(=O)O)c(C=O)c1O</td>\n",
       "    </tr>\n",
       "    <tr>\n",
       "      <th>12</th>\n",
       "      <td>DB00118</td>\n",
       "      <td>C[S+](CCC(N)C(=O)[O-])CC1OC(n2cnc3c(=N)[nH]cnc...</td>\n",
       "    </tr>\n",
       "    <tr>\n",
       "      <th>13</th>\n",
       "      <td>DB00119</td>\n",
       "      <td>CC(=O)C(=O)O</td>\n",
       "    </tr>\n",
       "  </tbody>\n",
       "</table>\n",
       "</div>"
      ],
      "text/plain": [
       "   DATABASE_ID                                             Smiles\n",
       "4      DB00035  N=C(N)NCCCC(NC(=O)C1CCCN1C(=O)C1CSSCCC(=O)NC(C...\n",
       "8      DB00104  CC(O)C(CO)NC(=O)C1CSSCC(NC(=O)C(N)Cc2ccccc2)C(...\n",
       "10     DB00114                   Cc1ncc(CO[PH](=O)(=O)O)c(C=O)c1O\n",
       "12     DB00118  C[S+](CCC(N)C(=O)[O-])CC1OC(n2cnc3c(=N)[nH]cnc...\n",
       "13     DB00119                                       CC(=O)C(=O)O"
      ]
     },
     "execution_count": 8,
     "metadata": {},
     "output_type": "execute_result"
    }
   ],
   "source": [
    "drugbank.to_csv(\"../tmp/drugbank_std.tsv\", sep=\"\\t\", index=False)\n",
    "lp(drugbank, \"DrugBank (MedChem filters)\")\n",
    "\n",
    "drugbank.head()"
   ]
  },
  {
   "cell_type": "code",
   "execution_count": null,
   "metadata": {},
   "outputs": [],
   "source": []
  },
  {
   "cell_type": "markdown",
   "metadata": {},
   "source": [
    "### Create Subset"
   ]
  },
  {
   "cell_type": "code",
   "execution_count": 13,
   "metadata": {
    "ExecuteTime": {
     "end_time": "2020-11-26T11:36:38.889250Z",
     "start_time": "2020-11-26T11:36:38.840955Z"
    }
   },
   "outputs": [
    {
     "name": "stdout",
     "output_type": "stream",
     "text": [
      "Shape Drugbank subset                             :       5000 /    2  [ DATABASE_ID, Smiles ]  \n"
     ]
    }
   ],
   "source": [
    "drugbank = pd.read_csv(\"../tmp/drugbank_std.tsv\", sep=\"\\t\")\n",
    "drugbank_subset = drugbank.sample(n=5000, random_state=0xc0ffee)\n",
    "drugbank_subset.to_csv(\"../tmp/drugbank_std_subset.tsv\", sep=\"\\t\", index=False)\n",
    "lp(drugbank_subset, \"Drugbank subset\")"
   ]
  },
  {
   "cell_type": "code",
   "execution_count": null,
   "metadata": {},
   "outputs": [],
   "source": []
  },
  {
   "cell_type": "markdown",
   "metadata": {},
   "source": [
    "## Internal Compounds\n",
    "\n",
    "Approved and experimental drugs, downloaded from DrugBank on 25-Mar-2020, v 5.1.5.\n",
    "\n",
    "* 244 individual cpds.\n",
    "* 168 cpds. after standardization and deduplication, based on InChIKeys after removal of stereo centers\n",
    "    (for consistency with the preparation of the other data sets)"
   ]
  },
  {
   "cell_type": "markdown",
   "metadata": {},
   "source": [
    "### Loading\n",
    "\n",
    "Load Load list of 244 compounds with their Smiles."
   ]
  },
  {
   "cell_type": "code",
   "execution_count": 6,
   "metadata": {
    "ExecuteTime": {
     "end_time": "2020-11-26T11:28:35.733137Z",
     "start_time": "2020-11-26T11:28:35.694749Z"
    },
    "scrolled": true
   },
   "outputs": [
    {
     "name": "stdout",
     "output_type": "stream",
     "text": [
      "Shape Internal compounds                          :        244 /    3  [ Compound_Id, CpdClass, Smiles ]  \n"
     ]
    },
    {
     "data": {
      "text/html": [
       "<div>\n",
       "<style scoped>\n",
       "    .dataframe tbody tr th:only-of-type {\n",
       "        vertical-align: middle;\n",
       "    }\n",
       "\n",
       "    .dataframe tbody tr th {\n",
       "        vertical-align: top;\n",
       "    }\n",
       "\n",
       "    .dataframe thead th {\n",
       "        text-align: right;\n",
       "    }\n",
       "</style>\n",
       "<table border=\"1\" class=\"dataframe\">\n",
       "  <thead>\n",
       "    <tr style=\"text-align: right;\">\n",
       "      <th></th>\n",
       "      <th>Compound_Id</th>\n",
       "      <th>CpdClass</th>\n",
       "      <th>Smiles</th>\n",
       "    </tr>\n",
       "  </thead>\n",
       "  <tbody>\n",
       "    <tr>\n",
       "      <th>0</th>\n",
       "      <td>408580</td>\n",
       "      <td>QN-C-S</td>\n",
       "      <td>COc1ccc2nccc([C@@H](O)[C@@H]3C[C@@H]4CCN3C[C@]...</td>\n",
       "    </tr>\n",
       "    <tr>\n",
       "      <th>1</th>\n",
       "      <td>408614</td>\n",
       "      <td>QN-C-S</td>\n",
       "      <td>COc1ccc2nccc([C@@H](O)[C@@H]3C[C@@H]4CCN3C[C@]...</td>\n",
       "    </tr>\n",
       "    <tr>\n",
       "      <th>2</th>\n",
       "      <td>409679</td>\n",
       "      <td>QN-C-S</td>\n",
       "      <td>COc1ccc2nccc([C@@H](O)[C@@H]3C[C@@H]4CCN3C[C@]...</td>\n",
       "    </tr>\n",
       "    <tr>\n",
       "      <th>3</th>\n",
       "      <td>408605</td>\n",
       "      <td>QN-C-S</td>\n",
       "      <td>COc1ccc2nccc([C@@H](O)[C@@H]3C[C@@H]4CCN3C[C@]...</td>\n",
       "    </tr>\n",
       "    <tr>\n",
       "      <th>4</th>\n",
       "      <td>408610</td>\n",
       "      <td>QN-C-S</td>\n",
       "      <td>COc1ccc2c(c1)O[C@]1(CC2=O)CN2CC[C@H]1C[C@H]2[C...</td>\n",
       "    </tr>\n",
       "  </tbody>\n",
       "</table>\n",
       "</div>"
      ],
      "text/plain": [
       "   Compound_Id CpdClass                                             Smiles\n",
       "0       408580   QN-C-S  COc1ccc2nccc([C@@H](O)[C@@H]3C[C@@H]4CCN3C[C@]...\n",
       "1       408614   QN-C-S  COc1ccc2nccc([C@@H](O)[C@@H]3C[C@@H]4CCN3C[C@]...\n",
       "2       409679   QN-C-S  COc1ccc2nccc([C@@H](O)[C@@H]3C[C@@H]4CCN3C[C@]...\n",
       "3       408605   QN-C-S  COc1ccc2nccc([C@@H](O)[C@@H]3C[C@@H]4CCN3C[C@]...\n",
       "4       408610   QN-C-S  COc1ccc2c(c1)O[C@]1(CC2=O)CN2CC[C@H]1C[C@H]2[C..."
      ]
     },
     "execution_count": 6,
     "metadata": {},
     "output_type": "execute_result"
    }
   ],
   "source": [
    "cpds = pd.read_csv(\"../Input Data/internal_cpds.tsv\", sep=\"\\t\")\n",
    "lp(cpds, \"Internal compounds\")\n",
    "\n",
    "cpds.head()"
   ]
  },
  {
   "cell_type": "markdown",
   "metadata": {},
   "source": [
    "### Standardization\n",
    "\n",
    "Standardization implemented in MolVS:\n",
    "* standardization\n",
    "* remove stereo information\n",
    "* choose largest fragment\n",
    "* canonicalize tautomer"
   ]
  },
  {
   "cell_type": "code",
   "execution_count": 7,
   "metadata": {
    "ExecuteTime": {
     "end_time": "2020-11-26T11:28:44.134200Z",
     "start_time": "2020-11-26T11:28:40.740283Z"
    }
   },
   "outputs": [
    {
     "data": {
      "application/vnd.jupyter.widget-view+json": {
       "model_id": "8e787e240b0342c39322a92593b818c9",
       "version_major": 2,
       "version_minor": 0
      },
      "text/plain": [
       "HBox(children=(HTML(value=''), FloatProgress(value=0.0, max=244.0), HTML(value='')))"
      ]
     },
     "metadata": {},
     "output_type": "display_data"
    },
    {
     "name": "stdout",
     "output_type": "stream",
     "text": [
      "\n",
      "Shape Internal compounds                          :        244 /    3  [ Compound_Id, CpdClass, Smiles ]  \n"
     ]
    }
   ],
   "source": [
    "cpds = u.apply_to_smiles(cpds, \"Smiles\", {\"Smiles_Std\": lambda x: u.standardize_mol(x, remove_stereo=True, canonicalize_tautomer=True)})\n",
    "cpds.drop(\"Smiles\", axis=1, inplace=True)\n",
    "cpds = cpds.rename(columns={\"Smiles_Std\": \"Smiles\"})\n",
    "lp(cpds, \"Internal compounds\")"
   ]
  },
  {
   "cell_type": "markdown",
   "metadata": {},
   "source": [
    "### Filters (MedChem, Duplicates)\n",
    "\n",
    "The data set is filtered for Isotopes, MedChemAtoms, MinHeavyAtoms, MaxHeavyAtoms and Duplicates.  "
   ]
  },
  {
   "cell_type": "code",
   "execution_count": 8,
   "metadata": {
    "ExecuteTime": {
     "end_time": "2020-11-26T11:28:48.590200Z",
     "start_time": "2020-11-26T11:28:47.495609Z"
    }
   },
   "outputs": [
    {
     "name": "stdout",
     "output_type": "stream",
     "text": [
      "Applying filters (5)...\n"
     ]
    },
    {
     "data": {
      "application/vnd.jupyter.widget-view+json": {
       "model_id": "9769e80491884cbea86670da5381069b",
       "version_major": 2,
       "version_minor": 0
      },
      "text/plain": [
       "HBox(children=(HTML(value=''), FloatProgress(value=0.0, max=244.0), HTML(value='')))"
      ]
     },
     "metadata": {},
     "output_type": "display_data"
    },
    {
     "name": "stdout",
     "output_type": "stream",
     "text": [
      "\n",
      "Applied filter Isotopes: 244\n"
     ]
    },
    {
     "data": {
      "application/vnd.jupyter.widget-view+json": {
       "model_id": "4626126b43034a1592d5b344f5255764",
       "version_major": 2,
       "version_minor": 0
      },
      "text/plain": [
       "HBox(children=(HTML(value=''), FloatProgress(value=0.0, max=244.0), HTML(value='')))"
      ]
     },
     "metadata": {},
     "output_type": "display_data"
    },
    {
     "name": "stdout",
     "output_type": "stream",
     "text": [
      "\n",
      "Applied filter MedChemAtoms: 244\n"
     ]
    },
    {
     "data": {
      "application/vnd.jupyter.widget-view+json": {
       "model_id": "ea99202d85364d7894c511ec9430e732",
       "version_major": 2,
       "version_minor": 0
      },
      "text/plain": [
       "HBox(children=(HTML(value=''), FloatProgress(value=0.0, max=244.0), HTML(value='')))"
      ]
     },
     "metadata": {},
     "output_type": "display_data"
    },
    {
     "name": "stdout",
     "output_type": "stream",
     "text": [
      "\n",
      "Applied filter MinHeavyAtoms: 244\n",
      "Applied filter MaxHeavyAtoms: 244\n"
     ]
    },
    {
     "data": {
      "application/vnd.jupyter.widget-view+json": {
       "model_id": "9c2732ea8ce44dcc90a02dc7cbd378dd",
       "version_major": 2,
       "version_minor": 0
      },
      "text/plain": [
       "HBox(children=(HTML(value=''), FloatProgress(value=0.0, max=244.0), HTML(value='')))"
      ]
     },
     "metadata": {},
     "output_type": "display_data"
    },
    {
     "name": "stdout",
     "output_type": "stream",
     "text": [
      "\n",
      "Applied filter Duplicates: 168\n",
      "Shape Internal compounds (MedChem filters)        :        168 /    3  [ Compound_Id, CpdClass, Smiles ]  \n"
     ]
    },
    {
     "data": {
      "text/html": [
       "<div>\n",
       "<style scoped>\n",
       "    .dataframe tbody tr th:only-of-type {\n",
       "        vertical-align: middle;\n",
       "    }\n",
       "\n",
       "    .dataframe tbody tr th {\n",
       "        vertical-align: top;\n",
       "    }\n",
       "\n",
       "    .dataframe thead th {\n",
       "        text-align: right;\n",
       "    }\n",
       "</style>\n",
       "<table border=\"1\" class=\"dataframe\">\n",
       "  <thead>\n",
       "    <tr style=\"text-align: right;\">\n",
       "      <th></th>\n",
       "      <th>Compound_Id</th>\n",
       "      <th>CpdClass</th>\n",
       "      <th>Smiles</th>\n",
       "    </tr>\n",
       "  </thead>\n",
       "  <tbody>\n",
       "    <tr>\n",
       "      <th>0</th>\n",
       "      <td>408580</td>\n",
       "      <td>QN-C-S</td>\n",
       "      <td>COc1ccc2nccc(C(O)C3CC4CCN3CC43CC(=O)c4ccccc4O3...</td>\n",
       "    </tr>\n",
       "    <tr>\n",
       "      <th>1</th>\n",
       "      <td>408614</td>\n",
       "      <td>QN-C-S</td>\n",
       "      <td>COc1ccc2nccc(C(O)C3CC4CCN3CC43CC(=O)c4cc(Br)cc...</td>\n",
       "    </tr>\n",
       "    <tr>\n",
       "      <th>2</th>\n",
       "      <td>409679</td>\n",
       "      <td>QN-C-S</td>\n",
       "      <td>COc1ccc2nccc(C(O)C3CC4CCN3CC43CC(=O)c4cc(Cl)cc...</td>\n",
       "    </tr>\n",
       "    <tr>\n",
       "      <th>3</th>\n",
       "      <td>408605</td>\n",
       "      <td>QN-C-S</td>\n",
       "      <td>COc1ccc2nccc(C(O)C3CC4CCN3CC43CC(=O)c4cc(F)ccc...</td>\n",
       "    </tr>\n",
       "    <tr>\n",
       "      <th>4</th>\n",
       "      <td>408610</td>\n",
       "      <td>QN-C-S</td>\n",
       "      <td>COc1ccc2c(c1)OC1(CC2=O)CN2CCC1CC2C(O)c1ccnc2cc...</td>\n",
       "    </tr>\n",
       "    <tr>\n",
       "      <th>5</th>\n",
       "      <td>408643</td>\n",
       "      <td>QN-C-S</td>\n",
       "      <td>COc1cc(OC)c2c(c1)OC1(CC2=O)CN2CCC1CC2C(O)c1ccn...</td>\n",
       "    </tr>\n",
       "    <tr>\n",
       "      <th>6</th>\n",
       "      <td>408636</td>\n",
       "      <td>QN-C-S</td>\n",
       "      <td>COc1ccc2nccc(C(O)C3CC4CCN3CC43CC(=O)c4ccc(OC)c...</td>\n",
       "    </tr>\n",
       "    <tr>\n",
       "      <th>7</th>\n",
       "      <td>408584</td>\n",
       "      <td>QN-C-S</td>\n",
       "      <td>COc1ccc2nccc(C(O)C3CC4CCN3CC43CC(=O)c4c(O)cccc...</td>\n",
       "    </tr>\n",
       "    <tr>\n",
       "      <th>8</th>\n",
       "      <td>408586</td>\n",
       "      <td>QN-C-S</td>\n",
       "      <td>COc1ccc2nccc(C(O)C3CC4CCN3CC43CC(=O)c4ccc(O)cc...</td>\n",
       "    </tr>\n",
       "    <tr>\n",
       "      <th>9</th>\n",
       "      <td>408612</td>\n",
       "      <td>QN-C-S</td>\n",
       "      <td>COc1ccc2nccc(C(O)C3CC4CCN3CC43CC(=O)c4cc(C)ccc...</td>\n",
       "    </tr>\n",
       "  </tbody>\n",
       "</table>\n",
       "</div>"
      ],
      "text/plain": [
       "   Compound_Id CpdClass                                             Smiles\n",
       "0       408580   QN-C-S  COc1ccc2nccc(C(O)C3CC4CCN3CC43CC(=O)c4ccccc4O3...\n",
       "1       408614   QN-C-S  COc1ccc2nccc(C(O)C3CC4CCN3CC43CC(=O)c4cc(Br)cc...\n",
       "2       409679   QN-C-S  COc1ccc2nccc(C(O)C3CC4CCN3CC43CC(=O)c4cc(Cl)cc...\n",
       "3       408605   QN-C-S  COc1ccc2nccc(C(O)C3CC4CCN3CC43CC(=O)c4cc(F)ccc...\n",
       "4       408610   QN-C-S  COc1ccc2c(c1)OC1(CC2=O)CN2CCC1CC2C(O)c1ccnc2cc...\n",
       "5       408643   QN-C-S  COc1cc(OC)c2c(c1)OC1(CC2=O)CN2CCC1CC2C(O)c1ccn...\n",
       "6       408636   QN-C-S  COc1ccc2nccc(C(O)C3CC4CCN3CC43CC(=O)c4ccc(OC)c...\n",
       "7       408584   QN-C-S  COc1ccc2nccc(C(O)C3CC4CCN3CC43CC(=O)c4c(O)cccc...\n",
       "8       408586   QN-C-S  COc1ccc2nccc(C(O)C3CC4CCN3CC43CC(=O)c4ccc(O)cc...\n",
       "9       408612   QN-C-S  COc1ccc2nccc(C(O)C3CC4CCN3CC43CC(=O)c4cc(C)ccc..."
      ]
     },
     "execution_count": 8,
     "metadata": {},
     "output_type": "execute_result"
    }
   ],
   "source": [
    "cpds = u.filter_mols(cpds, \"Smiles\", [\"Isotopes\", \"MedChemAtoms\", \"MinHeavyAtoms\", \"MaxHeavyAtoms\", \"Duplicates\"])\n",
    "lp(cpds, \"Internal compounds (MedChem filters)\")\n",
    "\n",
    "cpds.head(10)"
   ]
  },
  {
   "cell_type": "code",
   "execution_count": null,
   "metadata": {},
   "outputs": [],
   "source": []
  },
  {
   "cell_type": "code",
   "execution_count": 9,
   "metadata": {
    "ExecuteTime": {
     "end_time": "2020-11-26T11:29:08.606213Z",
     "start_time": "2020-11-26T11:29:08.581454Z"
    }
   },
   "outputs": [
    {
     "name": "stdout",
     "output_type": "stream",
     "text": [
      "Shape Internal compounds (MedChem filters)        :        168 /    3  [ Compound_Id, CpdClass, Smiles ]  \n"
     ]
    },
    {
     "data": {
      "text/html": [
       "<div>\n",
       "<style scoped>\n",
       "    .dataframe tbody tr th:only-of-type {\n",
       "        vertical-align: middle;\n",
       "    }\n",
       "\n",
       "    .dataframe tbody tr th {\n",
       "        vertical-align: top;\n",
       "    }\n",
       "\n",
       "    .dataframe thead th {\n",
       "        text-align: right;\n",
       "    }\n",
       "</style>\n",
       "<table border=\"1\" class=\"dataframe\">\n",
       "  <thead>\n",
       "    <tr style=\"text-align: right;\">\n",
       "      <th></th>\n",
       "      <th>Compound_Id</th>\n",
       "      <th>CpdClass</th>\n",
       "      <th>Smiles</th>\n",
       "    </tr>\n",
       "  </thead>\n",
       "  <tbody>\n",
       "    <tr>\n",
       "      <th>0</th>\n",
       "      <td>408580</td>\n",
       "      <td>QN-C-S</td>\n",
       "      <td>COc1ccc2nccc(C(O)C3CC4CCN3CC43CC(=O)c4ccccc4O3...</td>\n",
       "    </tr>\n",
       "    <tr>\n",
       "      <th>1</th>\n",
       "      <td>408614</td>\n",
       "      <td>QN-C-S</td>\n",
       "      <td>COc1ccc2nccc(C(O)C3CC4CCN3CC43CC(=O)c4cc(Br)cc...</td>\n",
       "    </tr>\n",
       "    <tr>\n",
       "      <th>2</th>\n",
       "      <td>409679</td>\n",
       "      <td>QN-C-S</td>\n",
       "      <td>COc1ccc2nccc(C(O)C3CC4CCN3CC43CC(=O)c4cc(Cl)cc...</td>\n",
       "    </tr>\n",
       "    <tr>\n",
       "      <th>3</th>\n",
       "      <td>408605</td>\n",
       "      <td>QN-C-S</td>\n",
       "      <td>COc1ccc2nccc(C(O)C3CC4CCN3CC43CC(=O)c4cc(F)ccc...</td>\n",
       "    </tr>\n",
       "    <tr>\n",
       "      <th>4</th>\n",
       "      <td>408610</td>\n",
       "      <td>QN-C-S</td>\n",
       "      <td>COc1ccc2c(c1)OC1(CC2=O)CN2CCC1CC2C(O)c1ccnc2cc...</td>\n",
       "    </tr>\n",
       "  </tbody>\n",
       "</table>\n",
       "</div>"
      ],
      "text/plain": [
       "   Compound_Id CpdClass                                             Smiles\n",
       "0       408580   QN-C-S  COc1ccc2nccc(C(O)C3CC4CCN3CC43CC(=O)c4ccccc4O3...\n",
       "1       408614   QN-C-S  COc1ccc2nccc(C(O)C3CC4CCN3CC43CC(=O)c4cc(Br)cc...\n",
       "2       409679   QN-C-S  COc1ccc2nccc(C(O)C3CC4CCN3CC43CC(=O)c4cc(Cl)cc...\n",
       "3       408605   QN-C-S  COc1ccc2nccc(C(O)C3CC4CCN3CC43CC(=O)c4cc(F)ccc...\n",
       "4       408610   QN-C-S  COc1ccc2c(c1)OC1(CC2=O)CN2CCC1CC2C(O)c1ccnc2cc..."
      ]
     },
     "execution_count": 9,
     "metadata": {},
     "output_type": "execute_result"
    }
   ],
   "source": [
    "cpds.to_csv(\"../tmp/internal_cpds_std.tsv\", sep=\"\\t\", index=False)\n",
    "lp(cpds, \"Internal compounds (MedChem filters)\")\n",
    "\n",
    "cpds.head()"
   ]
  },
  {
   "cell_type": "code",
   "execution_count": null,
   "metadata": {},
   "outputs": [],
   "source": []
  },
  {
   "cell_type": "code",
   "execution_count": null,
   "metadata": {},
   "outputs": [],
   "source": []
  },
  {
   "cell_type": "code",
   "execution_count": null,
   "metadata": {},
   "outputs": [],
   "source": []
  }
 ],
 "metadata": {
  "hide_input": false,
  "kernelspec": {
   "display_name": "Python 3",
   "language": "python",
   "name": "python3"
  },
  "language_info": {
   "codemirror_mode": {
    "name": "ipython",
    "version": 3
   },
   "file_extension": ".py",
   "mimetype": "text/x-python",
   "name": "python",
   "nbconvert_exporter": "python",
   "pygments_lexer": "ipython3",
   "version": "3.8.6"
  },
  "notify_time": "5",
  "toc": {
   "base_numbering": 1,
   "nav_menu": {},
   "number_sections": true,
   "sideBar": true,
   "skip_h1_title": true,
   "title_cell": "Table of Contents",
   "title_sidebar": "Contents",
   "toc_cell": false,
   "toc_position": {
    "height": "calc(100% - 180px)",
    "left": "10px",
    "top": "150px",
    "width": "317px"
   },
   "toc_section_display": true,
   "toc_window_display": true
  }
 },
 "nbformat": 4,
 "nbformat_minor": 4
}
