{
 "cells": [
  {
   "cell_type": "markdown",
   "metadata": {},
   "source": [
    "# Calculation of Principal Moment of Inertia\n",
    "\n",
    "<hr>\n",
    "Sauer, W. H. B.; Schwarz, M. K. Molecular Shape Diversity of Combinatorial Libraries:  A Prerequisite for Broad Bioactivity. J. Chem. Inf. Comput. Sci. 2003, 43 (3), 987–1003. https://doi.org/10.1021/ci025599w.\n"
   ]
  },
  {
   "cell_type": "code",
   "execution_count": 1,
   "metadata": {
    "ExecuteTime": {
     "end_time": "2020-12-07T16:33:49.480853Z",
     "start_time": "2020-12-07T16:33:49.456734Z"
    },
    "execution": {
     "iopub.execute_input": "2021-01-14T11:59:06.393712Z",
     "iopub.status.busy": "2021-01-14T11:59:06.393285Z",
     "iopub.status.idle": "2021-01-14T11:59:07.666573Z",
     "shell.execute_reply": "2021-01-14T11:59:07.665995Z",
     "shell.execute_reply.started": "2021-01-14T11:59:06.393606Z"
    },
    "init_cell": true
   },
   "outputs": [],
   "source": [
    "%reload_ext autoreload\n",
    "%autoreload 2\n",
    "# def warn(*args, **kwargs):\n",
    "# warn    pass  # to silence scikit-learn warnings\n",
    "\n",
    "import warnings\n",
    "warnings.filterwarnings('ignore')\n",
    "# warnings.warn = warn\n",
    "\n",
    "# Global Imports\n",
    "# from collections import Counter\n",
    "# import glob\n",
    "from pathlib import Path\n",
    "import sys\n",
    "\n",
    "import pandas as pd\n",
    "import numpy as np\n",
    "# import seaborn as sns\n",
    "# from matplotlib import pyplot as plt\n",
    "\n",
    "from rdkit import Chem\n",
    "from rdkit.Chem import AllChem as Chem\n",
    "from rdkit.Chem import Descriptors as Desc\n",
    "from rdkit.Chem import rdMolDescriptors as rdMolDesc\n",
    "\n",
    "from IPython.core.interactiveshell import InteractiveShell\n",
    "InteractiveShell.ast_node_interactivity = \"all\"\n",
    "\n",
    "# Project-local Imports\n",
    "PROJECT_DIR = list(Path(\"..\").absolute().parents)[1]\n",
    "sys.path.append(str(PROJECT_DIR))\n",
    "import plt_style\n",
    "import utils as u\n",
    "from utils import lp"
   ]
  },
  {
   "cell_type": "code",
   "execution_count": 2,
   "metadata": {
    "execution": {
     "iopub.execute_input": "2021-01-14T11:59:12.531118Z",
     "iopub.status.busy": "2021-01-14T11:59:12.530420Z",
     "iopub.status.idle": "2021-01-14T11:59:12.567791Z",
     "shell.execute_reply": "2021-01-14T11:59:12.567110Z",
     "shell.execute_reply.started": "2021-01-14T11:59:12.531036Z"
    }
   },
   "outputs": [],
   "source": [
    "def gen_3d(mol):\n",
    "    mh = Chem.AddHs(mol)\n",
    "    Chem.EmbedMolecule(mh, Chem.ETKDG())\n",
    "    res = 10\n",
    "    ntries = -1\n",
    "    iters = [100, 300, 1000]\n",
    "    while res > 0 and ntries < 3:\n",
    "        ntries += 1\n",
    "        res = Chem.UFFOptimizeMolecule(mh, maxIters=iters[ntries])\n",
    "    return mh, res\n",
    "\n",
    "def calc_pmi(inp, source, avg=3):\n",
    "    source = source.lower()\n",
    "    did_not_converge = 0\n",
    "    pmi1 = []\n",
    "    pmi2 = []\n",
    "    if isinstance(inp, str):\n",
    "        inp = [inp]\n",
    "    for i in inp:\n",
    "        mol = Chem.MolFromSmiles(i)\n",
    "        pmi1_avg = []\n",
    "        pmi2_avg = []\n",
    "        for _ in range(avg):\n",
    "            mol, res = gen_3d(mol)\n",
    "            did_not_converge += res\n",
    "            pmis = sorted([rdMolDesc.CalcPMI1(mol), rdMolDesc.CalcPMI2(mol), rdMolDesc.CalcPMI3(mol)])\n",
    "            pmi1_avg.append(pmis[0] / pmis[2])\n",
    "            pmi2_avg.append(pmis[1] / pmis[2])\n",
    "        pmi1.append(np.median(pmi1_avg))\n",
    "        pmi2.append(np.median(pmi2_avg))\n",
    "    print(\"* {} minimizations did not converge.\".format(did_not_converge))\n",
    "    return pmi1, pmi2 # pmi1, pmi2 are lists"
   ]
  },
  {
   "cell_type": "code",
   "execution_count": null,
   "metadata": {},
   "outputs": [],
   "source": []
  },
  {
   "cell_type": "code",
   "execution_count": 3,
   "metadata": {
    "execution": {
     "iopub.execute_input": "2021-01-14T12:03:00.263104Z",
     "iopub.status.busy": "2021-01-14T12:03:00.262907Z",
     "iopub.status.idle": "2021-01-14T12:06:15.189690Z",
     "shell.execute_reply": "2021-01-14T12:06:15.189250Z",
     "shell.execute_reply.started": "2021-01-14T12:03:00.263087Z"
    }
   },
   "outputs": [
    {
     "name": "stdout",
     "output_type": "stream",
     "text": [
      "* 0 minimizations did not converge.\n",
      "Index(['Class', 'SMILES', 'PMIx', 'PMIy'], dtype='object')\n"
     ]
    }
   ],
   "source": [
    "df = u.read_tsv(\"../Input Data/pmi_input.tsv\")\n",
    "\n",
    "smiles = list(df['SMILES'])\n",
    "PMIk, PMIl = calc_pmi(smiles, 'smiles')\n",
    "\n",
    "df['PMIx'] = PMIk\n",
    "df['PMIy'] = PMIl\n",
    "\n",
    "print(df.keys())"
   ]
  },
  {
   "cell_type": "code",
   "execution_count": 5,
   "metadata": {
    "execution": {
     "iopub.execute_input": "2021-01-14T12:23:51.095117Z",
     "iopub.status.busy": "2021-01-14T12:23:51.094248Z",
     "iopub.status.idle": "2021-01-14T12:23:51.135377Z",
     "shell.execute_reply": "2021-01-14T12:23:51.134219Z",
     "shell.execute_reply.started": "2021-01-14T12:23:51.094974Z"
    }
   },
   "outputs": [],
   "source": [
    "u.write_tsv(df, \"results/pmi_results.tsv\")"
   ]
  },
  {
   "cell_type": "code",
   "execution_count": null,
   "metadata": {},
   "outputs": [],
   "source": []
  }
 ],
 "metadata": {
  "hide_input": false,
  "kernelspec": {
   "display_name": "Python 3",
   "language": "python",
   "name": "python3"
  },
  "language_info": {
   "codemirror_mode": {
    "name": "ipython",
    "version": 3
   },
   "file_extension": ".py",
   "mimetype": "text/x-python",
   "name": "python",
   "nbconvert_exporter": "python",
   "pygments_lexer": "ipython3",
   "version": "3.8.6"
  },
  "notify_time": "5",
  "toc": {
   "base_numbering": 1,
   "nav_menu": {},
   "number_sections": true,
   "sideBar": true,
   "skip_h1_title": true,
   "title_cell": "Table of Contents",
   "title_sidebar": "Contents",
   "toc_cell": false,
   "toc_position": {
    "height": "calc(100% - 180px)",
    "left": "10px",
    "top": "150px",
    "width": "317px"
   },
   "toc_section_display": true,
   "toc_window_display": true
  },
  "toc-autonumbering": true
 },
 "nbformat": 4,
 "nbformat_minor": 4
}
